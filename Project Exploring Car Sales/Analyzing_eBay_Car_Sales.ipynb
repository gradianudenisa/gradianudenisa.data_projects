{
 "cells": [
  {
   "cell_type": "markdown",
   "id": "c1f017ac",
   "metadata": {},
   "source": [
    "# Project 3 -  Exploring eBay Car Sales Data\n",
    "We will work with a dataset of used cars from _eBay Kleinanzeigen_, a section of the German eBay website.<br>\n",
    "The original dataset can be found [here](https://data.world/data-society/used-cars-data).<br>\n",
    "We are analyzing a sample of 50,000 data points from the full dataset.<br>\n",
    "The __goal__ of this project is to use and apply various data cleaning techniques and to analyze and explore the included used car listings. "
     "![Image](https://images.unsplash.com/photo-1526726538690-5cbf956ae2fd?ixlib=rb-4.0.3&ixid=MnwxMjA3fDB8MHxwaG90by1wYWdlfHx8fGVufDB8fHx8&auto=format&fit=crop&w=2070&q=80)"
   ]
  },
  {
   "cell_type": "markdown",
   "id": "1895c2c0",
   "metadata": {},
   "source": [
    "Column name | Description  \n",
    "---|---\n",
    "dateCrawled|When this ad was first crawled\n",
    "name | Name of the car\n",
    "seller | Whether the seller is private or a dealer\n",
    "offerType | The type of listing\n",
    "price | The price on the ad to sell the car\n",
    "abtest | Whether the listing is included in an A/B test\n",
    "vehicleType | The vehicle Type\n",
    "yearOfRegistration | The year in which the car was first registered\n",
    "gearbox | The transmission type\n",
    "powerPS | The power of the car in PS\n",
    "model | The car model name\n",
    "odometer | How many kilometers the car has driven\n",
    "monthOfRegistration | The month in which the car was first registered\n",
    "fuelType | What type of fuel the car uses\n",
    "brand | The brand of the car\n",
    "notRepairedDamage | If the car has a damage which is not yet repaired\n",
    "dateCreated | The date on which the eBay listing was created\n",
    "nrOfPictures | The number of pictures in the ad\n",
    "postalCode | The postal code for the location of the vehicle\n",
    "lastSeenOnline | When the crawler saw this ad last online"
   ]
  },
  {
   "cell_type": "markdown",
   "id": "e7de6aa9",
   "metadata": {},
   "source": [
    "Reading the __autos.csv__ CSV file into pandas library"
   ]
  },
  {
   "cell_type": "code",
   "execution_count": 1,
   "id": "dbb90294",
   "metadata": {},
   "outputs": [],
   "source": [
    "import pandas as pd\n",
    "import numpy as np\n",
    "autos=pd.read_csv(\"C:/Users/Denisa/Desktop/Project Apps/project 3/autos.csv\",encoding='Latin-1')"
   ]
  },
  {
   "cell_type": "code",
   "execution_count": 2,
   "id": "d179a826",
   "metadata": {
    "scrolled": true
   },
   "outputs": [
    {
     "data": {
      "text/html": [
       "<div>\n",
       "<style scoped>\n",
       "    .dataframe tbody tr th:only-of-type {\n",
       "        vertical-align: middle;\n",
       "    }\n",
       "\n",
       "    .dataframe tbody tr th {\n",
       "        vertical-align: top;\n",
       "    }\n",
       "\n",
       "    .dataframe thead th {\n",
       "        text-align: right;\n",
       "    }\n",
       "</style>\n",
       "<table border=\"1\" class=\"dataframe\">\n",
       "  <thead>\n",
       "    <tr style=\"text-align: right;\">\n",
       "      <th></th>\n",
       "      <th>dateCrawled</th>\n",
       "      <th>name</th>\n",
       "      <th>seller</th>\n",
       "      <th>offerType</th>\n",
       "      <th>price</th>\n",
       "      <th>abtest</th>\n",
       "      <th>vehicleType</th>\n",
       "      <th>yearOfRegistration</th>\n",
       "      <th>gearbox</th>\n",
       "      <th>powerPS</th>\n",
       "      <th>model</th>\n",
       "      <th>odometer</th>\n",
       "      <th>monthOfRegistration</th>\n",
       "      <th>fuelType</th>\n",
       "      <th>brand</th>\n",
       "      <th>notRepairedDamage</th>\n",
       "      <th>dateCreated</th>\n",
       "      <th>nrOfPictures</th>\n",
       "      <th>postalCode</th>\n",
       "      <th>lastSeen</th>\n",
       "    </tr>\n",
       "  </thead>\n",
       "  <tbody>\n",
       "    <tr>\n",
       "      <th>0</th>\n",
       "      <td>2016-03-26 17:47:46</td>\n",
       "      <td>Peugeot_807_160_NAVTECH_ON_BOARD</td>\n",
       "      <td>privat</td>\n",
       "      <td>Angebot</td>\n",
       "      <td>$5,000</td>\n",
       "      <td>control</td>\n",
       "      <td>bus</td>\n",
       "      <td>2004</td>\n",
       "      <td>manuell</td>\n",
       "      <td>158</td>\n",
       "      <td>andere</td>\n",
       "      <td>150,000km</td>\n",
       "      <td>3</td>\n",
       "      <td>lpg</td>\n",
       "      <td>peugeot</td>\n",
       "      <td>nein</td>\n",
       "      <td>2016-03-26 00:00:00</td>\n",
       "      <td>0</td>\n",
       "      <td>79588</td>\n",
       "      <td>2016-04-06 06:45:54</td>\n",
       "    </tr>\n",
       "    <tr>\n",
       "      <th>1</th>\n",
       "      <td>2016-04-04 13:38:56</td>\n",
       "      <td>BMW_740i_4_4_Liter_HAMANN_UMBAU_Mega_Optik</td>\n",
       "      <td>privat</td>\n",
       "      <td>Angebot</td>\n",
       "      <td>$8,500</td>\n",
       "      <td>control</td>\n",
       "      <td>limousine</td>\n",
       "      <td>1997</td>\n",
       "      <td>automatik</td>\n",
       "      <td>286</td>\n",
       "      <td>7er</td>\n",
       "      <td>150,000km</td>\n",
       "      <td>6</td>\n",
       "      <td>benzin</td>\n",
       "      <td>bmw</td>\n",
       "      <td>nein</td>\n",
       "      <td>2016-04-04 00:00:00</td>\n",
       "      <td>0</td>\n",
       "      <td>71034</td>\n",
       "      <td>2016-04-06 14:45:08</td>\n",
       "    </tr>\n",
       "    <tr>\n",
       "      <th>2</th>\n",
       "      <td>2016-03-26 18:57:24</td>\n",
       "      <td>Volkswagen_Golf_1.6_United</td>\n",
       "      <td>privat</td>\n",
       "      <td>Angebot</td>\n",
       "      <td>$8,990</td>\n",
       "      <td>test</td>\n",
       "      <td>limousine</td>\n",
       "      <td>2009</td>\n",
       "      <td>manuell</td>\n",
       "      <td>102</td>\n",
       "      <td>golf</td>\n",
       "      <td>70,000km</td>\n",
       "      <td>7</td>\n",
       "      <td>benzin</td>\n",
       "      <td>volkswagen</td>\n",
       "      <td>nein</td>\n",
       "      <td>2016-03-26 00:00:00</td>\n",
       "      <td>0</td>\n",
       "      <td>35394</td>\n",
       "      <td>2016-04-06 20:15:37</td>\n",
       "    </tr>\n",
       "    <tr>\n",
       "      <th>3</th>\n",
       "      <td>2016-03-12 16:58:10</td>\n",
       "      <td>Smart_smart_fortwo_coupe_softouch/F1/Klima/Pan...</td>\n",
       "      <td>privat</td>\n",
       "      <td>Angebot</td>\n",
       "      <td>$4,350</td>\n",
       "      <td>control</td>\n",
       "      <td>kleinwagen</td>\n",
       "      <td>2007</td>\n",
       "      <td>automatik</td>\n",
       "      <td>71</td>\n",
       "      <td>fortwo</td>\n",
       "      <td>70,000km</td>\n",
       "      <td>6</td>\n",
       "      <td>benzin</td>\n",
       "      <td>smart</td>\n",
       "      <td>nein</td>\n",
       "      <td>2016-03-12 00:00:00</td>\n",
       "      <td>0</td>\n",
       "      <td>33729</td>\n",
       "      <td>2016-03-15 03:16:28</td>\n",
       "    </tr>\n",
       "    <tr>\n",
       "      <th>4</th>\n",
       "      <td>2016-04-01 14:38:50</td>\n",
       "      <td>Ford_Focus_1_6_Benzin_TÜV_neu_ist_sehr_gepfleg...</td>\n",
       "      <td>privat</td>\n",
       "      <td>Angebot</td>\n",
       "      <td>$1,350</td>\n",
       "      <td>test</td>\n",
       "      <td>kombi</td>\n",
       "      <td>2003</td>\n",
       "      <td>manuell</td>\n",
       "      <td>0</td>\n",
       "      <td>focus</td>\n",
       "      <td>150,000km</td>\n",
       "      <td>7</td>\n",
       "      <td>benzin</td>\n",
       "      <td>ford</td>\n",
       "      <td>nein</td>\n",
       "      <td>2016-04-01 00:00:00</td>\n",
       "      <td>0</td>\n",
       "      <td>39218</td>\n",
       "      <td>2016-04-01 14:38:50</td>\n",
       "    </tr>\n",
       "    <tr>\n",
       "      <th>...</th>\n",
       "      <td>...</td>\n",
       "      <td>...</td>\n",
       "      <td>...</td>\n",
       "      <td>...</td>\n",
       "      <td>...</td>\n",
       "      <td>...</td>\n",
       "      <td>...</td>\n",
       "      <td>...</td>\n",
       "      <td>...</td>\n",
       "      <td>...</td>\n",
       "      <td>...</td>\n",
       "      <td>...</td>\n",
       "      <td>...</td>\n",
       "      <td>...</td>\n",
       "      <td>...</td>\n",
       "      <td>...</td>\n",
       "      <td>...</td>\n",
       "      <td>...</td>\n",
       "      <td>...</td>\n",
       "      <td>...</td>\n",
       "    </tr>\n",
       "    <tr>\n",
       "      <th>49995</th>\n",
       "      <td>2016-03-27 14:38:19</td>\n",
       "      <td>Audi_Q5_3.0_TDI_qu._S_tr.__Navi__Panorama__Xenon</td>\n",
       "      <td>privat</td>\n",
       "      <td>Angebot</td>\n",
       "      <td>$24,900</td>\n",
       "      <td>control</td>\n",
       "      <td>limousine</td>\n",
       "      <td>2011</td>\n",
       "      <td>automatik</td>\n",
       "      <td>239</td>\n",
       "      <td>q5</td>\n",
       "      <td>100,000km</td>\n",
       "      <td>1</td>\n",
       "      <td>diesel</td>\n",
       "      <td>audi</td>\n",
       "      <td>nein</td>\n",
       "      <td>2016-03-27 00:00:00</td>\n",
       "      <td>0</td>\n",
       "      <td>82131</td>\n",
       "      <td>2016-04-01 13:47:40</td>\n",
       "    </tr>\n",
       "    <tr>\n",
       "      <th>49996</th>\n",
       "      <td>2016-03-28 10:50:25</td>\n",
       "      <td>Opel_Astra_F_Cabrio_Bertone_Edition___TÜV_neu+...</td>\n",
       "      <td>privat</td>\n",
       "      <td>Angebot</td>\n",
       "      <td>$1,980</td>\n",
       "      <td>control</td>\n",
       "      <td>cabrio</td>\n",
       "      <td>1996</td>\n",
       "      <td>manuell</td>\n",
       "      <td>75</td>\n",
       "      <td>astra</td>\n",
       "      <td>150,000km</td>\n",
       "      <td>5</td>\n",
       "      <td>benzin</td>\n",
       "      <td>opel</td>\n",
       "      <td>nein</td>\n",
       "      <td>2016-03-28 00:00:00</td>\n",
       "      <td>0</td>\n",
       "      <td>44807</td>\n",
       "      <td>2016-04-02 14:18:02</td>\n",
       "    </tr>\n",
       "    <tr>\n",
       "      <th>49997</th>\n",
       "      <td>2016-04-02 14:44:48</td>\n",
       "      <td>Fiat_500_C_1.2_Dualogic_Lounge</td>\n",
       "      <td>privat</td>\n",
       "      <td>Angebot</td>\n",
       "      <td>$13,200</td>\n",
       "      <td>test</td>\n",
       "      <td>cabrio</td>\n",
       "      <td>2014</td>\n",
       "      <td>automatik</td>\n",
       "      <td>69</td>\n",
       "      <td>500</td>\n",
       "      <td>5,000km</td>\n",
       "      <td>11</td>\n",
       "      <td>benzin</td>\n",
       "      <td>fiat</td>\n",
       "      <td>nein</td>\n",
       "      <td>2016-04-02 00:00:00</td>\n",
       "      <td>0</td>\n",
       "      <td>73430</td>\n",
       "      <td>2016-04-04 11:47:27</td>\n",
       "    </tr>\n",
       "    <tr>\n",
       "      <th>49998</th>\n",
       "      <td>2016-03-08 19:25:42</td>\n",
       "      <td>Audi_A3_2.0_TDI_Sportback_Ambition</td>\n",
       "      <td>privat</td>\n",
       "      <td>Angebot</td>\n",
       "      <td>$22,900</td>\n",
       "      <td>control</td>\n",
       "      <td>kombi</td>\n",
       "      <td>2013</td>\n",
       "      <td>manuell</td>\n",
       "      <td>150</td>\n",
       "      <td>a3</td>\n",
       "      <td>40,000km</td>\n",
       "      <td>11</td>\n",
       "      <td>diesel</td>\n",
       "      <td>audi</td>\n",
       "      <td>nein</td>\n",
       "      <td>2016-03-08 00:00:00</td>\n",
       "      <td>0</td>\n",
       "      <td>35683</td>\n",
       "      <td>2016-04-05 16:45:07</td>\n",
       "    </tr>\n",
       "    <tr>\n",
       "      <th>49999</th>\n",
       "      <td>2016-03-14 00:42:12</td>\n",
       "      <td>Opel_Vectra_1.6_16V</td>\n",
       "      <td>privat</td>\n",
       "      <td>Angebot</td>\n",
       "      <td>$1,250</td>\n",
       "      <td>control</td>\n",
       "      <td>limousine</td>\n",
       "      <td>1996</td>\n",
       "      <td>manuell</td>\n",
       "      <td>101</td>\n",
       "      <td>vectra</td>\n",
       "      <td>150,000km</td>\n",
       "      <td>1</td>\n",
       "      <td>benzin</td>\n",
       "      <td>opel</td>\n",
       "      <td>nein</td>\n",
       "      <td>2016-03-13 00:00:00</td>\n",
       "      <td>0</td>\n",
       "      <td>45897</td>\n",
       "      <td>2016-04-06 21:18:48</td>\n",
       "    </tr>\n",
       "  </tbody>\n",
       "</table>\n",
       "<p>50000 rows × 20 columns</p>\n",
       "</div>"
      ],
      "text/plain": [
       "               dateCrawled                                               name  \\\n",
       "0      2016-03-26 17:47:46                   Peugeot_807_160_NAVTECH_ON_BOARD   \n",
       "1      2016-04-04 13:38:56         BMW_740i_4_4_Liter_HAMANN_UMBAU_Mega_Optik   \n",
       "2      2016-03-26 18:57:24                         Volkswagen_Golf_1.6_United   \n",
       "3      2016-03-12 16:58:10  Smart_smart_fortwo_coupe_softouch/F1/Klima/Pan...   \n",
       "4      2016-04-01 14:38:50  Ford_Focus_1_6_Benzin_TÜV_neu_ist_sehr_gepfleg...   \n",
       "...                    ...                                                ...   \n",
       "49995  2016-03-27 14:38:19   Audi_Q5_3.0_TDI_qu._S_tr.__Navi__Panorama__Xenon   \n",
       "49996  2016-03-28 10:50:25  Opel_Astra_F_Cabrio_Bertone_Edition___TÜV_neu+...   \n",
       "49997  2016-04-02 14:44:48                     Fiat_500_C_1.2_Dualogic_Lounge   \n",
       "49998  2016-03-08 19:25:42                 Audi_A3_2.0_TDI_Sportback_Ambition   \n",
       "49999  2016-03-14 00:42:12                                Opel_Vectra_1.6_16V   \n",
       "\n",
       "       seller offerType    price   abtest vehicleType  yearOfRegistration  \\\n",
       "0      privat   Angebot   $5,000  control         bus                2004   \n",
       "1      privat   Angebot   $8,500  control   limousine                1997   \n",
       "2      privat   Angebot   $8,990     test   limousine                2009   \n",
       "3      privat   Angebot   $4,350  control  kleinwagen                2007   \n",
       "4      privat   Angebot   $1,350     test       kombi                2003   \n",
       "...       ...       ...      ...      ...         ...                 ...   \n",
       "49995  privat   Angebot  $24,900  control   limousine                2011   \n",
       "49996  privat   Angebot   $1,980  control      cabrio                1996   \n",
       "49997  privat   Angebot  $13,200     test      cabrio                2014   \n",
       "49998  privat   Angebot  $22,900  control       kombi                2013   \n",
       "49999  privat   Angebot   $1,250  control   limousine                1996   \n",
       "\n",
       "         gearbox  powerPS   model   odometer  monthOfRegistration fuelType  \\\n",
       "0        manuell      158  andere  150,000km                    3      lpg   \n",
       "1      automatik      286     7er  150,000km                    6   benzin   \n",
       "2        manuell      102    golf   70,000km                    7   benzin   \n",
       "3      automatik       71  fortwo   70,000km                    6   benzin   \n",
       "4        manuell        0   focus  150,000km                    7   benzin   \n",
       "...          ...      ...     ...        ...                  ...      ...   \n",
       "49995  automatik      239      q5  100,000km                    1   diesel   \n",
       "49996    manuell       75   astra  150,000km                    5   benzin   \n",
       "49997  automatik       69     500    5,000km                   11   benzin   \n",
       "49998    manuell      150      a3   40,000km                   11   diesel   \n",
       "49999    manuell      101  vectra  150,000km                    1   benzin   \n",
       "\n",
       "            brand notRepairedDamage          dateCreated  nrOfPictures  \\\n",
       "0         peugeot              nein  2016-03-26 00:00:00             0   \n",
       "1             bmw              nein  2016-04-04 00:00:00             0   \n",
       "2      volkswagen              nein  2016-03-26 00:00:00             0   \n",
       "3           smart              nein  2016-03-12 00:00:00             0   \n",
       "4            ford              nein  2016-04-01 00:00:00             0   \n",
       "...           ...               ...                  ...           ...   \n",
       "49995        audi              nein  2016-03-27 00:00:00             0   \n",
       "49996        opel              nein  2016-03-28 00:00:00             0   \n",
       "49997        fiat              nein  2016-04-02 00:00:00             0   \n",
       "49998        audi              nein  2016-03-08 00:00:00             0   \n",
       "49999        opel              nein  2016-03-13 00:00:00             0   \n",
       "\n",
       "       postalCode             lastSeen  \n",
       "0           79588  2016-04-06 06:45:54  \n",
       "1           71034  2016-04-06 14:45:08  \n",
       "2           35394  2016-04-06 20:15:37  \n",
       "3           33729  2016-03-15 03:16:28  \n",
       "4           39218  2016-04-01 14:38:50  \n",
       "...           ...                  ...  \n",
       "49995       82131  2016-04-01 13:47:40  \n",
       "49996       44807  2016-04-02 14:18:02  \n",
       "49997       73430  2016-04-04 11:47:27  \n",
       "49998       35683  2016-04-05 16:45:07  \n",
       "49999       45897  2016-04-06 21:18:48  \n",
       "\n",
       "[50000 rows x 20 columns]"
      ]
     },
     "execution_count": 2,
     "metadata": {},
     "output_type": "execute_result"
    }
   ],
   "source": [
    "autos"
   ]
  },
  {
   "cell_type": "markdown",
   "id": "02f1aa9f",
   "metadata": {},
   "source": [
    "Information about the autos dataframe"
   ]
  },
  {
   "cell_type": "code",
   "execution_count": 3,
   "id": "cf3b8b19",
   "metadata": {},
   "outputs": [
    {
     "name": "stdout",
     "output_type": "stream",
     "text": [
      "<class 'pandas.core.frame.DataFrame'>\n",
      "RangeIndex: 50000 entries, 0 to 49999\n",
      "Data columns (total 20 columns):\n",
      " #   Column               Non-Null Count  Dtype \n",
      "---  ------               --------------  ----- \n",
      " 0   dateCrawled          50000 non-null  object\n",
      " 1   name                 50000 non-null  object\n",
      " 2   seller               50000 non-null  object\n",
      " 3   offerType            50000 non-null  object\n",
      " 4   price                50000 non-null  object\n",
      " 5   abtest               50000 non-null  object\n",
      " 6   vehicleType          44905 non-null  object\n",
      " 7   yearOfRegistration   50000 non-null  int64 \n",
      " 8   gearbox              47320 non-null  object\n",
      " 9   powerPS              50000 non-null  int64 \n",
      " 10  model                47242 non-null  object\n",
      " 11  odometer             50000 non-null  object\n",
      " 12  monthOfRegistration  50000 non-null  int64 \n",
      " 13  fuelType             45518 non-null  object\n",
      " 14  brand                50000 non-null  object\n",
      " 15  notRepairedDamage    40171 non-null  object\n",
      " 16  dateCreated          50000 non-null  object\n",
      " 17  nrOfPictures         50000 non-null  int64 \n",
      " 18  postalCode           50000 non-null  int64 \n",
      " 19  lastSeen             50000 non-null  object\n",
      "dtypes: int64(5), object(15)\n",
      "memory usage: 7.6+ MB\n"
     ]
    }
   ],
   "source": [
    "autos.info()"
   ]
  },
  {
   "cell_type": "markdown",
   "id": "35a01953",
   "metadata": {},
   "source": [
    "The dataframe contains 20 columns and 50,000 data entries."
   ]
  },
  {
   "cell_type": "markdown",
   "id": "dfac61ce",
   "metadata": {},
   "source": [
    "## Cleaning column names"
   ]
  },
  {
   "cell_type": "code",
   "execution_count": 4,
   "id": "dfdd7796",
   "metadata": {},
   "outputs": [
    {
     "name": "stdout",
     "output_type": "stream",
     "text": [
      "Index(['dateCrawled', 'name', 'seller', 'offerType', 'price', 'abtest',\n",
      "       'vehicleType', 'yearOfRegistration', 'gearbox', 'powerPS', 'model',\n",
      "       'odometer', 'monthOfRegistration', 'fuelType', 'brand',\n",
      "       'notRepairedDamage', 'dateCreated', 'nrOfPictures', 'postalCode',\n",
      "       'lastSeen'],\n",
      "      dtype='object')\n"
     ]
    }
   ],
   "source": [
    "print(autos.columns)"
   ]
  },
  {
   "cell_type": "markdown",
   "id": "cdda5f88",
   "metadata": {},
   "source": [
    "\n",
    "We observe that the column names use camelcase instead of the preferred snakecase for Python.<br>\n",
    "Next we will convert the column names from camelcase to snakecase and reword some of the column names"
   ]
  },
  {
   "cell_type": "code",
   "execution_count": 5,
   "id": "4d102653",
   "metadata": {},
   "outputs": [],
   "source": [
    "autos.columns = ['date_crawled', 'name', 'seller', 'offer_type', 'price', 'ab_test',\n",
    "       'vehicle_type', 'registration_year', 'gearbox', 'power_ps', 'model',\n",
    "       'odometer', 'registration_month', 'fuel_type', 'brand',\n",
    "       'unrepaired_damage', 'ad_created', 'num_photos', 'postal_code',\n",
    "       'last_seen']"
   ]
  },
  {
   "cell_type": "code",
   "execution_count": 6,
   "id": "c56d1eda",
   "metadata": {},
   "outputs": [
    {
     "name": "stdout",
     "output_type": "stream",
     "text": [
      "Index(['date_crawled', 'name', 'seller', 'offer_type', 'price', 'ab_test',\n",
      "       'vehicle_type', 'registration_year', 'gearbox', 'power_ps', 'model',\n",
      "       'odometer', 'registration_month', 'fuel_type', 'brand',\n",
      "       'unrepaired_damage', 'ad_created', 'num_photos', 'postal_code',\n",
      "       'last_seen'],\n",
      "      dtype='object')\n"
     ]
    }
   ],
   "source": [
    "print(autos.columns)"
   ]
  },
  {
   "cell_type": "code",
   "execution_count": 7,
   "id": "7c29fb81",
   "metadata": {},
   "outputs": [
    {
     "data": {
      "text/html": [
       "<div>\n",
       "<style scoped>\n",
       "    .dataframe tbody tr th:only-of-type {\n",
       "        vertical-align: middle;\n",
       "    }\n",
       "\n",
       "    .dataframe tbody tr th {\n",
       "        vertical-align: top;\n",
       "    }\n",
       "\n",
       "    .dataframe thead th {\n",
       "        text-align: right;\n",
       "    }\n",
       "</style>\n",
       "<table border=\"1\" class=\"dataframe\">\n",
       "  <thead>\n",
       "    <tr style=\"text-align: right;\">\n",
       "      <th></th>\n",
       "      <th>date_crawled</th>\n",
       "      <th>name</th>\n",
       "      <th>seller</th>\n",
       "      <th>offer_type</th>\n",
       "      <th>price</th>\n",
       "      <th>ab_test</th>\n",
       "      <th>vehicle_type</th>\n",
       "      <th>registration_year</th>\n",
       "      <th>gearbox</th>\n",
       "      <th>power_ps</th>\n",
       "      <th>model</th>\n",
       "      <th>odometer</th>\n",
       "      <th>registration_month</th>\n",
       "      <th>fuel_type</th>\n",
       "      <th>brand</th>\n",
       "      <th>unrepaired_damage</th>\n",
       "      <th>ad_created</th>\n",
       "      <th>num_photos</th>\n",
       "      <th>postal_code</th>\n",
       "      <th>last_seen</th>\n",
       "    </tr>\n",
       "  </thead>\n",
       "  <tbody>\n",
       "    <tr>\n",
       "      <th>0</th>\n",
       "      <td>2016-03-26 17:47:46</td>\n",
       "      <td>Peugeot_807_160_NAVTECH_ON_BOARD</td>\n",
       "      <td>privat</td>\n",
       "      <td>Angebot</td>\n",
       "      <td>$5,000</td>\n",
       "      <td>control</td>\n",
       "      <td>bus</td>\n",
       "      <td>2004</td>\n",
       "      <td>manuell</td>\n",
       "      <td>158</td>\n",
       "      <td>andere</td>\n",
       "      <td>150,000km</td>\n",
       "      <td>3</td>\n",
       "      <td>lpg</td>\n",
       "      <td>peugeot</td>\n",
       "      <td>nein</td>\n",
       "      <td>2016-03-26 00:00:00</td>\n",
       "      <td>0</td>\n",
       "      <td>79588</td>\n",
       "      <td>2016-04-06 06:45:54</td>\n",
       "    </tr>\n",
       "    <tr>\n",
       "      <th>1</th>\n",
       "      <td>2016-04-04 13:38:56</td>\n",
       "      <td>BMW_740i_4_4_Liter_HAMANN_UMBAU_Mega_Optik</td>\n",
       "      <td>privat</td>\n",
       "      <td>Angebot</td>\n",
       "      <td>$8,500</td>\n",
       "      <td>control</td>\n",
       "      <td>limousine</td>\n",
       "      <td>1997</td>\n",
       "      <td>automatik</td>\n",
       "      <td>286</td>\n",
       "      <td>7er</td>\n",
       "      <td>150,000km</td>\n",
       "      <td>6</td>\n",
       "      <td>benzin</td>\n",
       "      <td>bmw</td>\n",
       "      <td>nein</td>\n",
       "      <td>2016-04-04 00:00:00</td>\n",
       "      <td>0</td>\n",
       "      <td>71034</td>\n",
       "      <td>2016-04-06 14:45:08</td>\n",
       "    </tr>\n",
       "    <tr>\n",
       "      <th>2</th>\n",
       "      <td>2016-03-26 18:57:24</td>\n",
       "      <td>Volkswagen_Golf_1.6_United</td>\n",
       "      <td>privat</td>\n",
       "      <td>Angebot</td>\n",
       "      <td>$8,990</td>\n",
       "      <td>test</td>\n",
       "      <td>limousine</td>\n",
       "      <td>2009</td>\n",
       "      <td>manuell</td>\n",
       "      <td>102</td>\n",
       "      <td>golf</td>\n",
       "      <td>70,000km</td>\n",
       "      <td>7</td>\n",
       "      <td>benzin</td>\n",
       "      <td>volkswagen</td>\n",
       "      <td>nein</td>\n",
       "      <td>2016-03-26 00:00:00</td>\n",
       "      <td>0</td>\n",
       "      <td>35394</td>\n",
       "      <td>2016-04-06 20:15:37</td>\n",
       "    </tr>\n",
       "    <tr>\n",
       "      <th>3</th>\n",
       "      <td>2016-03-12 16:58:10</td>\n",
       "      <td>Smart_smart_fortwo_coupe_softouch/F1/Klima/Pan...</td>\n",
       "      <td>privat</td>\n",
       "      <td>Angebot</td>\n",
       "      <td>$4,350</td>\n",
       "      <td>control</td>\n",
       "      <td>kleinwagen</td>\n",
       "      <td>2007</td>\n",
       "      <td>automatik</td>\n",
       "      <td>71</td>\n",
       "      <td>fortwo</td>\n",
       "      <td>70,000km</td>\n",
       "      <td>6</td>\n",
       "      <td>benzin</td>\n",
       "      <td>smart</td>\n",
       "      <td>nein</td>\n",
       "      <td>2016-03-12 00:00:00</td>\n",
       "      <td>0</td>\n",
       "      <td>33729</td>\n",
       "      <td>2016-03-15 03:16:28</td>\n",
       "    </tr>\n",
       "    <tr>\n",
       "      <th>4</th>\n",
       "      <td>2016-04-01 14:38:50</td>\n",
       "      <td>Ford_Focus_1_6_Benzin_TÜV_neu_ist_sehr_gepfleg...</td>\n",
       "      <td>privat</td>\n",
       "      <td>Angebot</td>\n",
       "      <td>$1,350</td>\n",
       "      <td>test</td>\n",
       "      <td>kombi</td>\n",
       "      <td>2003</td>\n",
       "      <td>manuell</td>\n",
       "      <td>0</td>\n",
       "      <td>focus</td>\n",
       "      <td>150,000km</td>\n",
       "      <td>7</td>\n",
       "      <td>benzin</td>\n",
       "      <td>ford</td>\n",
       "      <td>nein</td>\n",
       "      <td>2016-04-01 00:00:00</td>\n",
       "      <td>0</td>\n",
       "      <td>39218</td>\n",
       "      <td>2016-04-01 14:38:50</td>\n",
       "    </tr>\n",
       "  </tbody>\n",
       "</table>\n",
       "</div>"
      ],
      "text/plain": [
       "          date_crawled                                               name  \\\n",
       "0  2016-03-26 17:47:46                   Peugeot_807_160_NAVTECH_ON_BOARD   \n",
       "1  2016-04-04 13:38:56         BMW_740i_4_4_Liter_HAMANN_UMBAU_Mega_Optik   \n",
       "2  2016-03-26 18:57:24                         Volkswagen_Golf_1.6_United   \n",
       "3  2016-03-12 16:58:10  Smart_smart_fortwo_coupe_softouch/F1/Klima/Pan...   \n",
       "4  2016-04-01 14:38:50  Ford_Focus_1_6_Benzin_TÜV_neu_ist_sehr_gepfleg...   \n",
       "\n",
       "   seller offer_type   price  ab_test vehicle_type  registration_year  \\\n",
       "0  privat    Angebot  $5,000  control          bus               2004   \n",
       "1  privat    Angebot  $8,500  control    limousine               1997   \n",
       "2  privat    Angebot  $8,990     test    limousine               2009   \n",
       "3  privat    Angebot  $4,350  control   kleinwagen               2007   \n",
       "4  privat    Angebot  $1,350     test        kombi               2003   \n",
       "\n",
       "     gearbox  power_ps   model   odometer  registration_month fuel_type  \\\n",
       "0    manuell       158  andere  150,000km                   3       lpg   \n",
       "1  automatik       286     7er  150,000km                   6    benzin   \n",
       "2    manuell       102    golf   70,000km                   7    benzin   \n",
       "3  automatik        71  fortwo   70,000km                   6    benzin   \n",
       "4    manuell         0   focus  150,000km                   7    benzin   \n",
       "\n",
       "        brand unrepaired_damage           ad_created  num_photos  postal_code  \\\n",
       "0     peugeot              nein  2016-03-26 00:00:00           0        79588   \n",
       "1         bmw              nein  2016-04-04 00:00:00           0        71034   \n",
       "2  volkswagen              nein  2016-03-26 00:00:00           0        35394   \n",
       "3       smart              nein  2016-03-12 00:00:00           0        33729   \n",
       "4        ford              nein  2016-04-01 00:00:00           0        39218   \n",
       "\n",
       "             last_seen  \n",
       "0  2016-04-06 06:45:54  \n",
       "1  2016-04-06 14:45:08  \n",
       "2  2016-04-06 20:15:37  \n",
       "3  2016-03-15 03:16:28  \n",
       "4  2016-04-01 14:38:50  "
      ]
     },
     "execution_count": 7,
     "metadata": {},
     "output_type": "execute_result"
    }
   ],
   "source": [
    "autos.head()"
   ]
  },
  {
   "cell_type": "markdown",
   "id": "9c6a0240",
   "metadata": {},
   "source": [
    "## Initial Exploration and Cleaning\n",
    "We will look for:\n",
    "\n",
    "* Text columns where all or almost all values are the same. These can often be dropped as they don't have useful information for analysis.\n",
    "* Examples of numeric data stored as text which can be cleaned and converted."
   ]
  },
  {
   "cell_type": "code",
   "execution_count": 8,
   "id": "4fef0ead",
   "metadata": {},
   "outputs": [
    {
     "data": {
      "text/html": [
       "<div>\n",
       "<style scoped>\n",
       "    .dataframe tbody tr th:only-of-type {\n",
       "        vertical-align: middle;\n",
       "    }\n",
       "\n",
       "    .dataframe tbody tr th {\n",
       "        vertical-align: top;\n",
       "    }\n",
       "\n",
       "    .dataframe thead th {\n",
       "        text-align: right;\n",
       "    }\n",
       "</style>\n",
       "<table border=\"1\" class=\"dataframe\">\n",
       "  <thead>\n",
       "    <tr style=\"text-align: right;\">\n",
       "      <th></th>\n",
       "      <th>date_crawled</th>\n",
       "      <th>name</th>\n",
       "      <th>seller</th>\n",
       "      <th>offer_type</th>\n",
       "      <th>price</th>\n",
       "      <th>ab_test</th>\n",
       "      <th>vehicle_type</th>\n",
       "      <th>registration_year</th>\n",
       "      <th>gearbox</th>\n",
       "      <th>power_ps</th>\n",
       "      <th>model</th>\n",
       "      <th>odometer</th>\n",
       "      <th>registration_month</th>\n",
       "      <th>fuel_type</th>\n",
       "      <th>brand</th>\n",
       "      <th>unrepaired_damage</th>\n",
       "      <th>ad_created</th>\n",
       "      <th>num_photos</th>\n",
       "      <th>postal_code</th>\n",
       "      <th>last_seen</th>\n",
       "    </tr>\n",
       "  </thead>\n",
       "  <tbody>\n",
       "    <tr>\n",
       "      <th>count</th>\n",
       "      <td>50000</td>\n",
       "      <td>50000</td>\n",
       "      <td>50000</td>\n",
       "      <td>50000</td>\n",
       "      <td>50000</td>\n",
       "      <td>50000</td>\n",
       "      <td>44905</td>\n",
       "      <td>50000.000000</td>\n",
       "      <td>47320</td>\n",
       "      <td>50000.000000</td>\n",
       "      <td>47242</td>\n",
       "      <td>50000</td>\n",
       "      <td>50000.000000</td>\n",
       "      <td>45518</td>\n",
       "      <td>50000</td>\n",
       "      <td>40171</td>\n",
       "      <td>50000</td>\n",
       "      <td>50000.0</td>\n",
       "      <td>50000.000000</td>\n",
       "      <td>50000</td>\n",
       "    </tr>\n",
       "    <tr>\n",
       "      <th>unique</th>\n",
       "      <td>48213</td>\n",
       "      <td>38754</td>\n",
       "      <td>2</td>\n",
       "      <td>2</td>\n",
       "      <td>2357</td>\n",
       "      <td>2</td>\n",
       "      <td>8</td>\n",
       "      <td>NaN</td>\n",
       "      <td>2</td>\n",
       "      <td>NaN</td>\n",
       "      <td>245</td>\n",
       "      <td>13</td>\n",
       "      <td>NaN</td>\n",
       "      <td>7</td>\n",
       "      <td>40</td>\n",
       "      <td>2</td>\n",
       "      <td>76</td>\n",
       "      <td>NaN</td>\n",
       "      <td>NaN</td>\n",
       "      <td>39481</td>\n",
       "    </tr>\n",
       "    <tr>\n",
       "      <th>top</th>\n",
       "      <td>2016-04-02 11:37:04</td>\n",
       "      <td>Ford_Fiesta</td>\n",
       "      <td>privat</td>\n",
       "      <td>Angebot</td>\n",
       "      <td>$0</td>\n",
       "      <td>test</td>\n",
       "      <td>limousine</td>\n",
       "      <td>NaN</td>\n",
       "      <td>manuell</td>\n",
       "      <td>NaN</td>\n",
       "      <td>golf</td>\n",
       "      <td>150,000km</td>\n",
       "      <td>NaN</td>\n",
       "      <td>benzin</td>\n",
       "      <td>volkswagen</td>\n",
       "      <td>nein</td>\n",
       "      <td>2016-04-03 00:00:00</td>\n",
       "      <td>NaN</td>\n",
       "      <td>NaN</td>\n",
       "      <td>2016-04-07 06:17:27</td>\n",
       "    </tr>\n",
       "    <tr>\n",
       "      <th>freq</th>\n",
       "      <td>3</td>\n",
       "      <td>78</td>\n",
       "      <td>49999</td>\n",
       "      <td>49999</td>\n",
       "      <td>1421</td>\n",
       "      <td>25756</td>\n",
       "      <td>12859</td>\n",
       "      <td>NaN</td>\n",
       "      <td>36993</td>\n",
       "      <td>NaN</td>\n",
       "      <td>4024</td>\n",
       "      <td>32424</td>\n",
       "      <td>NaN</td>\n",
       "      <td>30107</td>\n",
       "      <td>10687</td>\n",
       "      <td>35232</td>\n",
       "      <td>1946</td>\n",
       "      <td>NaN</td>\n",
       "      <td>NaN</td>\n",
       "      <td>8</td>\n",
       "    </tr>\n",
       "    <tr>\n",
       "      <th>mean</th>\n",
       "      <td>NaN</td>\n",
       "      <td>NaN</td>\n",
       "      <td>NaN</td>\n",
       "      <td>NaN</td>\n",
       "      <td>NaN</td>\n",
       "      <td>NaN</td>\n",
       "      <td>NaN</td>\n",
       "      <td>2005.073280</td>\n",
       "      <td>NaN</td>\n",
       "      <td>116.355920</td>\n",
       "      <td>NaN</td>\n",
       "      <td>NaN</td>\n",
       "      <td>5.723360</td>\n",
       "      <td>NaN</td>\n",
       "      <td>NaN</td>\n",
       "      <td>NaN</td>\n",
       "      <td>NaN</td>\n",
       "      <td>0.0</td>\n",
       "      <td>50813.627300</td>\n",
       "      <td>NaN</td>\n",
       "    </tr>\n",
       "    <tr>\n",
       "      <th>std</th>\n",
       "      <td>NaN</td>\n",
       "      <td>NaN</td>\n",
       "      <td>NaN</td>\n",
       "      <td>NaN</td>\n",
       "      <td>NaN</td>\n",
       "      <td>NaN</td>\n",
       "      <td>NaN</td>\n",
       "      <td>105.712813</td>\n",
       "      <td>NaN</td>\n",
       "      <td>209.216627</td>\n",
       "      <td>NaN</td>\n",
       "      <td>NaN</td>\n",
       "      <td>3.711984</td>\n",
       "      <td>NaN</td>\n",
       "      <td>NaN</td>\n",
       "      <td>NaN</td>\n",
       "      <td>NaN</td>\n",
       "      <td>0.0</td>\n",
       "      <td>25779.747957</td>\n",
       "      <td>NaN</td>\n",
       "    </tr>\n",
       "    <tr>\n",
       "      <th>min</th>\n",
       "      <td>NaN</td>\n",
       "      <td>NaN</td>\n",
       "      <td>NaN</td>\n",
       "      <td>NaN</td>\n",
       "      <td>NaN</td>\n",
       "      <td>NaN</td>\n",
       "      <td>NaN</td>\n",
       "      <td>1000.000000</td>\n",
       "      <td>NaN</td>\n",
       "      <td>0.000000</td>\n",
       "      <td>NaN</td>\n",
       "      <td>NaN</td>\n",
       "      <td>0.000000</td>\n",
       "      <td>NaN</td>\n",
       "      <td>NaN</td>\n",
       "      <td>NaN</td>\n",
       "      <td>NaN</td>\n",
       "      <td>0.0</td>\n",
       "      <td>1067.000000</td>\n",
       "      <td>NaN</td>\n",
       "    </tr>\n",
       "    <tr>\n",
       "      <th>25%</th>\n",
       "      <td>NaN</td>\n",
       "      <td>NaN</td>\n",
       "      <td>NaN</td>\n",
       "      <td>NaN</td>\n",
       "      <td>NaN</td>\n",
       "      <td>NaN</td>\n",
       "      <td>NaN</td>\n",
       "      <td>1999.000000</td>\n",
       "      <td>NaN</td>\n",
       "      <td>70.000000</td>\n",
       "      <td>NaN</td>\n",
       "      <td>NaN</td>\n",
       "      <td>3.000000</td>\n",
       "      <td>NaN</td>\n",
       "      <td>NaN</td>\n",
       "      <td>NaN</td>\n",
       "      <td>NaN</td>\n",
       "      <td>0.0</td>\n",
       "      <td>30451.000000</td>\n",
       "      <td>NaN</td>\n",
       "    </tr>\n",
       "    <tr>\n",
       "      <th>50%</th>\n",
       "      <td>NaN</td>\n",
       "      <td>NaN</td>\n",
       "      <td>NaN</td>\n",
       "      <td>NaN</td>\n",
       "      <td>NaN</td>\n",
       "      <td>NaN</td>\n",
       "      <td>NaN</td>\n",
       "      <td>2003.000000</td>\n",
       "      <td>NaN</td>\n",
       "      <td>105.000000</td>\n",
       "      <td>NaN</td>\n",
       "      <td>NaN</td>\n",
       "      <td>6.000000</td>\n",
       "      <td>NaN</td>\n",
       "      <td>NaN</td>\n",
       "      <td>NaN</td>\n",
       "      <td>NaN</td>\n",
       "      <td>0.0</td>\n",
       "      <td>49577.000000</td>\n",
       "      <td>NaN</td>\n",
       "    </tr>\n",
       "    <tr>\n",
       "      <th>75%</th>\n",
       "      <td>NaN</td>\n",
       "      <td>NaN</td>\n",
       "      <td>NaN</td>\n",
       "      <td>NaN</td>\n",
       "      <td>NaN</td>\n",
       "      <td>NaN</td>\n",
       "      <td>NaN</td>\n",
       "      <td>2008.000000</td>\n",
       "      <td>NaN</td>\n",
       "      <td>150.000000</td>\n",
       "      <td>NaN</td>\n",
       "      <td>NaN</td>\n",
       "      <td>9.000000</td>\n",
       "      <td>NaN</td>\n",
       "      <td>NaN</td>\n",
       "      <td>NaN</td>\n",
       "      <td>NaN</td>\n",
       "      <td>0.0</td>\n",
       "      <td>71540.000000</td>\n",
       "      <td>NaN</td>\n",
       "    </tr>\n",
       "    <tr>\n",
       "      <th>max</th>\n",
       "      <td>NaN</td>\n",
       "      <td>NaN</td>\n",
       "      <td>NaN</td>\n",
       "      <td>NaN</td>\n",
       "      <td>NaN</td>\n",
       "      <td>NaN</td>\n",
       "      <td>NaN</td>\n",
       "      <td>9999.000000</td>\n",
       "      <td>NaN</td>\n",
       "      <td>17700.000000</td>\n",
       "      <td>NaN</td>\n",
       "      <td>NaN</td>\n",
       "      <td>12.000000</td>\n",
       "      <td>NaN</td>\n",
       "      <td>NaN</td>\n",
       "      <td>NaN</td>\n",
       "      <td>NaN</td>\n",
       "      <td>0.0</td>\n",
       "      <td>99998.000000</td>\n",
       "      <td>NaN</td>\n",
       "    </tr>\n",
       "  </tbody>\n",
       "</table>\n",
       "</div>"
      ],
      "text/plain": [
       "               date_crawled         name  seller offer_type  price ab_test  \\\n",
       "count                 50000        50000   50000      50000  50000   50000   \n",
       "unique                48213        38754       2          2   2357       2   \n",
       "top     2016-04-02 11:37:04  Ford_Fiesta  privat    Angebot     $0    test   \n",
       "freq                      3           78   49999      49999   1421   25756   \n",
       "mean                    NaN          NaN     NaN        NaN    NaN     NaN   \n",
       "std                     NaN          NaN     NaN        NaN    NaN     NaN   \n",
       "min                     NaN          NaN     NaN        NaN    NaN     NaN   \n",
       "25%                     NaN          NaN     NaN        NaN    NaN     NaN   \n",
       "50%                     NaN          NaN     NaN        NaN    NaN     NaN   \n",
       "75%                     NaN          NaN     NaN        NaN    NaN     NaN   \n",
       "max                     NaN          NaN     NaN        NaN    NaN     NaN   \n",
       "\n",
       "       vehicle_type  registration_year  gearbox      power_ps  model  \\\n",
       "count         44905       50000.000000    47320  50000.000000  47242   \n",
       "unique            8                NaN        2           NaN    245   \n",
       "top       limousine                NaN  manuell           NaN   golf   \n",
       "freq          12859                NaN    36993           NaN   4024   \n",
       "mean            NaN        2005.073280      NaN    116.355920    NaN   \n",
       "std             NaN         105.712813      NaN    209.216627    NaN   \n",
       "min             NaN        1000.000000      NaN      0.000000    NaN   \n",
       "25%             NaN        1999.000000      NaN     70.000000    NaN   \n",
       "50%             NaN        2003.000000      NaN    105.000000    NaN   \n",
       "75%             NaN        2008.000000      NaN    150.000000    NaN   \n",
       "max             NaN        9999.000000      NaN  17700.000000    NaN   \n",
       "\n",
       "         odometer  registration_month fuel_type       brand unrepaired_damage  \\\n",
       "count       50000        50000.000000     45518       50000             40171   \n",
       "unique         13                 NaN         7          40                 2   \n",
       "top     150,000km                 NaN    benzin  volkswagen              nein   \n",
       "freq        32424                 NaN     30107       10687             35232   \n",
       "mean          NaN            5.723360       NaN         NaN               NaN   \n",
       "std           NaN            3.711984       NaN         NaN               NaN   \n",
       "min           NaN            0.000000       NaN         NaN               NaN   \n",
       "25%           NaN            3.000000       NaN         NaN               NaN   \n",
       "50%           NaN            6.000000       NaN         NaN               NaN   \n",
       "75%           NaN            9.000000       NaN         NaN               NaN   \n",
       "max           NaN           12.000000       NaN         NaN               NaN   \n",
       "\n",
       "                 ad_created  num_photos   postal_code            last_seen  \n",
       "count                 50000     50000.0  50000.000000                50000  \n",
       "unique                   76         NaN           NaN                39481  \n",
       "top     2016-04-03 00:00:00         NaN           NaN  2016-04-07 06:17:27  \n",
       "freq                   1946         NaN           NaN                    8  \n",
       "mean                    NaN         0.0  50813.627300                  NaN  \n",
       "std                     NaN         0.0  25779.747957                  NaN  \n",
       "min                     NaN         0.0   1067.000000                  NaN  \n",
       "25%                     NaN         0.0  30451.000000                  NaN  \n",
       "50%                     NaN         0.0  49577.000000                  NaN  \n",
       "75%                     NaN         0.0  71540.000000                  NaN  \n",
       "max                     NaN         0.0  99998.000000                  NaN  "
      ]
     },
     "execution_count": 8,
     "metadata": {},
     "output_type": "execute_result"
    }
   ],
   "source": [
    "autos.describe(include=\"all\")"
   ]
  },
  {
   "cell_type": "markdown",
   "id": "433f6e80",
   "metadata": {},
   "source": [
    "We can see that there are a number of text columns where almost all of the values are the same (seller and offer_type).\n",
    "It can be observed from above that __price__ and __odometer__ columns are numeric values stored as text.<br>For each of these 2 columns we will:\n",
    "* Remove any non-numeric characters;\n",
    "* Convert the column to a numeric dtype."
   ]
  },
  {
   "cell_type": "code",
   "execution_count": 9,
   "id": "acd1dd09",
   "metadata": {},
   "outputs": [
    {
     "name": "stderr",
     "output_type": "stream",
     "text": [
      "C:\\Users\\Denisa\\AppData\\Local\\Temp/ipykernel_32000/1706822883.py:1: FutureWarning: The default value of regex will change from True to False in a future version. In addition, single character regular expressions will *not* be treated as literal strings when regex=True.\n",
      "  autos[\"price\"]=autos[\"price\"].str.replace(\"$\", \"\")\n"
     ]
    }
   ],
   "source": [
    "autos[\"price\"]=autos[\"price\"].str.replace(\"$\", \"\")\n",
    "autos[\"price\"]=autos[\"price\"].str.replace(\",\", \"\")\n",
    "autos[\"price\"]=autos[\"price\"].astype(float)\n",
    "autos[\"odometer\"]=autos[\"odometer\"].str.replace(\"km\", \"\")\n",
    "autos[\"odometer\"]=autos[\"odometer\"].str.replace(\",\", \"\")\n",
    "autos[\"odometer\"]=autos[\"odometer\"].astype(float)\n",
    "autos.rename({\"odometer\":\"odometer_km\"},axis=1, inplace=True)"
   ]
  },
  {
   "cell_type": "markdown",
   "id": "6930f601",
   "metadata": {},
   "source": [
    "We will continue exploring the data, specifically looking for data that doesn't look right. We'll start by analyzing the __odometer_km__ and __price__ columns. We will analyze the columns looking for outliers that we might want to remove."
   ]
  },
  {
   "cell_type": "markdown",
   "id": "1b136c34",
   "metadata": {},
   "source": [
    "For the __price__ column to see how many unique values:"
   ]
  },
  {
   "cell_type": "code",
   "execution_count": 10,
   "id": "fbfd1e8c",
   "metadata": {},
   "outputs": [
    {
     "data": {
      "text/plain": [
       "(2357,)"
      ]
     },
     "execution_count": 10,
     "metadata": {},
     "output_type": "execute_result"
    }
   ],
   "source": [
    "autos[\"price\"].unique().shape"
   ]
  },
  {
   "cell_type": "markdown",
   "id": "0d9aa6bd",
   "metadata": {},
   "source": [
    "For the __price__ column to view min/max/median/mean etc:"
   ]
  },
  {
   "cell_type": "code",
   "execution_count": 11,
   "id": "d406f465",
   "metadata": {},
   "outputs": [
    {
     "data": {
      "text/plain": [
       "count    5.000000e+04\n",
       "mean     9.840044e+03\n",
       "std      4.811044e+05\n",
       "min      0.000000e+00\n",
       "25%      1.100000e+03\n",
       "50%      2.950000e+03\n",
       "75%      7.200000e+03\n",
       "max      1.000000e+08\n",
       "Name: price, dtype: float64"
      ]
     },
     "execution_count": 11,
     "metadata": {},
     "output_type": "execute_result"
    }
   ],
   "source": [
    "autos[\"price\"].describe()"
   ]
  },
  {
   "cell_type": "markdown",
   "id": "234ab194",
   "metadata": {},
   "source": [
    "For the __price__ column to view the highest and lowest values with their counts:"
   ]
  },
  {
   "cell_type": "code",
   "execution_count": 12,
   "id": "80a597ab",
   "metadata": {},
   "outputs": [],
   "source": [
    "price_value_count=autos[\"price\"].value_counts()"
   ]
  },
  {
   "cell_type": "code",
   "execution_count": 13,
   "id": "7838071f",
   "metadata": {
    "scrolled": true
   },
   "outputs": [
    {
     "name": "stdout",
     "output_type": "stream",
     "text": [
      "197000.0      1\n",
      "198000.0      1\n",
      "220000.0      1\n",
      "250000.0      1\n",
      "259000.0      1\n",
      "265000.0      1\n",
      "295000.0      1\n",
      "299000.0      1\n",
      "345000.0      1\n",
      "350000.0      1\n",
      "999990.0      1\n",
      "999999.0      2\n",
      "1234566.0     1\n",
      "1300000.0     1\n",
      "3890000.0     1\n",
      "10000000.0    1\n",
      "11111111.0    2\n",
      "12345678.0    3\n",
      "27322222.0    1\n",
      "99999999.0    1\n",
      "Name: price, dtype: int64\n"
     ]
    }
   ],
   "source": [
    "print(price_value_count.sort_index().tail(20))\n"
   ]
  },
  {
   "cell_type": "code",
   "execution_count": 14,
   "id": "4dd192f8",
   "metadata": {},
   "outputs": [
    {
     "name": "stdout",
     "output_type": "stream",
     "text": [
      "0.0     1421\n",
      "1.0      156\n",
      "2.0        3\n",
      "3.0        1\n",
      "5.0        2\n",
      "8.0        1\n",
      "9.0        1\n",
      "10.0       7\n",
      "11.0       2\n",
      "12.0       3\n",
      "Name: price, dtype: int64\n"
     ]
    }
   ],
   "source": [
    "print(price_value_count.sort_index().head(10))"
   ]
  },
  {
   "cell_type": "markdown",
   "id": "c199d3d1",
   "metadata": {},
   "source": [
    "We can see that there are 1421 cars priced as 0 or with very low price (less than \\\\$100). We will keep data above\\\\$5,000 since most people with expertise in automobiles say the lowest price for a reliable used car is now about \\\\$5,000. Also there are a number of prices that seem unrealistically high (\\\\$99,999,999, \\\\$27,322,222 etc). We will keep the values that are less than \\\\$350,000 because it seems that prices increase in a regular manner to that number and then jump to data points that differs significantly from the other prices."
   ]
  },
  {
   "cell_type": "code",
   "execution_count": 15,
   "id": "6c2e385b",
   "metadata": {},
   "outputs": [],
   "source": [
    "autos=autos[(autos[\"price\"] >= 5000 ) & (autos[\"price\"] <= 350000 )]"
   ]
  },
  {
   "cell_type": "markdown",
   "id": "a2da42fa",
   "metadata": {},
   "source": [
    "We will explore the __odometer_km__ column in the same way"
   ]
  },
  {
   "cell_type": "code",
   "execution_count": 16,
   "id": "689ae9b6",
   "metadata": {},
   "outputs": [
    {
     "data": {
      "text/plain": [
       "(13,)"
      ]
     },
     "execution_count": 16,
     "metadata": {},
     "output_type": "execute_result"
    }
   ],
   "source": [
    "autos[\"odometer_km\"].unique().shape\n"
   ]
  },
  {
   "cell_type": "code",
   "execution_count": 17,
   "id": "e7b73681",
   "metadata": {},
   "outputs": [
    {
     "data": {
      "text/plain": [
       "count     17233.000000\n",
       "mean     106363.082458\n",
       "std       46240.215905\n",
       "min        5000.000000\n",
       "25%       70000.000000\n",
       "50%      125000.000000\n",
       "75%      150000.000000\n",
       "max      150000.000000\n",
       "Name: odometer_km, dtype: float64"
      ]
     },
     "execution_count": 17,
     "metadata": {},
     "output_type": "execute_result"
    }
   ],
   "source": [
    "autos[\"odometer_km\"].describe()"
   ]
  },
  {
   "cell_type": "code",
   "execution_count": 18,
   "id": "d3d11d78",
   "metadata": {},
   "outputs": [],
   "source": [
    "odometer_value_count=autos[\"odometer_km\"].value_counts()"
   ]
  },
  {
   "cell_type": "code",
   "execution_count": 19,
   "id": "722bbcb3",
   "metadata": {},
   "outputs": [
    {
     "data": {
      "text/plain": [
       "5000.0       252\n",
       "10000.0      209\n",
       "20000.0      597\n",
       "30000.0      654\n",
       "40000.0      696\n",
       "50000.0      817\n",
       "60000.0      842\n",
       "70000.0      844\n",
       "80000.0      892\n",
       "90000.0      963\n",
       "100000.0    1119\n",
       "125000.0    2095\n",
       "150000.0    7253\n",
       "Name: odometer_km, dtype: int64"
      ]
     },
     "execution_count": 19,
     "metadata": {},
     "output_type": "execute_result"
    }
   ],
   "source": [
    "odometer_value_count.sort_index()"
   ]
  },
  {
   "cell_type": "markdown",
   "id": "a6490c73",
   "metadata": {},
   "source": [
    "We can see that there are more automobiles with high mileage that are posted."
   ]
  },
  {
   "cell_type": "markdown",
   "id": "fe13b0ba",
   "metadata": {},
   "source": [
    "## Exploring the date columns\n",
    "The columns containing date information are:\n",
    "* date_crawled : added by the crawler\n",
    "* registration_month: from the website\n",
    "* registration_year : from the website\n",
    "* ad_created : from the website\n",
    "* last_seen: added by the crawler <br>\n",
    "\n",
    "Right now, the date_crawled, last_seen, and ad_created columns are all identified as string values by pandas. "
   ]
  },
  {
   "cell_type": "code",
   "execution_count": 20,
   "id": "b6a2acfc",
   "metadata": {},
   "outputs": [
    {
     "name": "stdout",
     "output_type": "stream",
     "text": [
      "For date_crawled column: object\n",
      "For last_seen column: object\n",
      "For ad_created column: object\n",
      "For registration_year column: int64\n",
      "For registration_month column: int64\n"
     ]
    }
   ],
   "source": [
    "print(\"For date_crawled column:\", autos[\"date_crawled\"].dtype)\n",
    "print(\"For last_seen column:\",autos[\"last_seen\"].dtype)\n",
    "print(\"For ad_created column:\", autos[\"ad_created\"].dtype)\n",
    "print(\"For registration_year column:\",autos[\"registration_year\"].dtype)\n",
    "print(\"For registration_month column:\", autos[\"registration_month\"].dtype)"
   ]
  },
  {
   "cell_type": "code",
   "execution_count": 21,
   "id": "c16ce67d",
   "metadata": {},
   "outputs": [
    {
     "data": {
      "text/html": [
       "<div>\n",
       "<style scoped>\n",
       "    .dataframe tbody tr th:only-of-type {\n",
       "        vertical-align: middle;\n",
       "    }\n",
       "\n",
       "    .dataframe tbody tr th {\n",
       "        vertical-align: top;\n",
       "    }\n",
       "\n",
       "    .dataframe thead th {\n",
       "        text-align: right;\n",
       "    }\n",
       "</style>\n",
       "<table border=\"1\" class=\"dataframe\">\n",
       "  <thead>\n",
       "    <tr style=\"text-align: right;\">\n",
       "      <th></th>\n",
       "      <th>date_crawled</th>\n",
       "      <th>ad_created</th>\n",
       "      <th>last_seen</th>\n",
       "    </tr>\n",
       "  </thead>\n",
       "  <tbody>\n",
       "    <tr>\n",
       "      <th>0</th>\n",
       "      <td>2016-03-26 17:47:46</td>\n",
       "      <td>2016-03-26 00:00:00</td>\n",
       "      <td>2016-04-06 06:45:54</td>\n",
       "    </tr>\n",
       "    <tr>\n",
       "      <th>1</th>\n",
       "      <td>2016-04-04 13:38:56</td>\n",
       "      <td>2016-04-04 00:00:00</td>\n",
       "      <td>2016-04-06 14:45:08</td>\n",
       "    </tr>\n",
       "    <tr>\n",
       "      <th>2</th>\n",
       "      <td>2016-03-26 18:57:24</td>\n",
       "      <td>2016-03-26 00:00:00</td>\n",
       "      <td>2016-04-06 20:15:37</td>\n",
       "    </tr>\n",
       "    <tr>\n",
       "      <th>5</th>\n",
       "      <td>2016-03-21 13:47:45</td>\n",
       "      <td>2016-03-21 00:00:00</td>\n",
       "      <td>2016-04-06 09:45:21</td>\n",
       "    </tr>\n",
       "    <tr>\n",
       "      <th>12</th>\n",
       "      <td>2016-03-31 19:48:22</td>\n",
       "      <td>2016-03-31 00:00:00</td>\n",
       "      <td>2016-04-06 14:17:52</td>\n",
       "    </tr>\n",
       "  </tbody>\n",
       "</table>\n",
       "</div>"
      ],
      "text/plain": [
       "           date_crawled           ad_created            last_seen\n",
       "0   2016-03-26 17:47:46  2016-03-26 00:00:00  2016-04-06 06:45:54\n",
       "1   2016-04-04 13:38:56  2016-04-04 00:00:00  2016-04-06 14:45:08\n",
       "2   2016-03-26 18:57:24  2016-03-26 00:00:00  2016-04-06 20:15:37\n",
       "5   2016-03-21 13:47:45  2016-03-21 00:00:00  2016-04-06 09:45:21\n",
       "12  2016-03-31 19:48:22  2016-03-31 00:00:00  2016-04-06 14:17:52"
      ]
     },
     "execution_count": 21,
     "metadata": {},
     "output_type": "execute_result"
    }
   ],
   "source": [
    "autos[['date_crawled','ad_created','last_seen']][0:5]"
   ]
  },
  {
   "cell_type": "markdown",
   "id": "cfd37a10",
   "metadata": {},
   "source": [
    "We will calculate the distribution of values in the date_crawled, ad_created, and last_seen columns as percentages."
   ]
  },
  {
   "cell_type": "code",
   "execution_count": 22,
   "id": "33f4be90",
   "metadata": {},
   "outputs": [
    {
     "name": "stdout",
     "output_type": "stream",
     "text": [
      "25599    2016-03-05 14:07:26\n",
      "47236    2016-03-05 14:07:40\n",
      "4022     2016-03-05 14:08:05\n",
      "10947    2016-03-05 14:08:42\n",
      "20014    2016-03-05 14:09:02\n",
      "                ...         \n",
      "8576     2016-04-07 12:25:35\n",
      "20941    2016-04-07 14:30:26\n",
      "4752     2016-04-07 14:36:44\n",
      "4378     2016-04-07 14:36:55\n",
      "16947    2016-04-07 14:36:56\n",
      "Name: date_crawled, Length: 17233, dtype: object\n"
     ]
    }
   ],
   "source": [
    "print(autos[\"date_crawled\"].sort_values())"
   ]
  },
  {
   "cell_type": "markdown",
   "id": "888c79fe",
   "metadata": {},
   "source": [
    "Rank by date in ascending order "
   ]
  },
  {
   "cell_type": "code",
   "execution_count": 23,
   "id": "261c5fdf",
   "metadata": {},
   "outputs": [
    {
     "data": {
      "text/plain": [
       "2016-03-05    2.570649\n",
       "2016-03-06    1.381071\n",
       "2016-03-07    3.325016\n",
       "2016-03-08    3.023269\n",
       "2016-03-09    3.156734\n",
       "2016-03-10    3.185748\n",
       "2016-03-11    3.272791\n",
       "2016-03-12    3.597749\n",
       "2016-03-13    1.793071\n",
       "2016-03-14    3.678988\n",
       "2016-03-15    3.354030\n",
       "2016-03-16    2.854988\n",
       "2016-03-17    2.913016\n",
       "2016-03-18    1.323043\n",
       "2016-03-19    3.522312\n",
       "2016-03-20    4.003946\n",
       "2016-03-21    3.626763\n",
       "2016-03-22    3.133523\n",
       "2016-03-23    3.319213\n",
       "2016-03-24    2.854988\n",
       "2016-03-25    3.092903\n",
       "2016-03-26    3.348227\n",
       "2016-03-27    3.185748\n",
       "2016-03-28    3.557129\n",
       "2016-03-29    3.441072\n",
       "2016-03-30    3.301805\n",
       "2016-03-31    3.098706\n",
       "2016-04-01    3.742819\n",
       "2016-04-02    3.766030\n",
       "2016-04-03    4.125805\n",
       "2016-04-04    3.713805\n",
       "2016-04-05    1.317240\n",
       "2016-04-06    0.255324\n",
       "2016-04-07    0.162479\n",
       "Name: date_crawled, dtype: float64"
      ]
     },
     "execution_count": 23,
     "metadata": {},
     "output_type": "execute_result"
    }
   ],
   "source": [
    "(autos[\"date_crawled\"]\n",
    "        .str[:10]\n",
    "        .value_counts(normalize=True, dropna=False)\n",
    "        .sort_index()*100\n",
    "        )"
   ]
  },
  {
   "cell_type": "markdown",
   "id": "e21505a1",
   "metadata": {},
   "source": [
    "From the exploration above we can see that the data was collected between 2016-03-05 and 2016-04-07 and in most of these days about 3 percent of the total info was collected."
   ]
  },
  {
   "cell_type": "markdown",
   "id": "0d9b44bf",
   "metadata": {},
   "source": [
    "Next we are analyzing the ad_created column in the same way"
   ]
  },
  {
   "cell_type": "code",
   "execution_count": 24,
   "id": "7d1d80df",
   "metadata": {},
   "outputs": [
    {
     "name": "stdout",
     "output_type": "stream",
     "text": [
      "22781    2015-06-11 00:00:00\n",
      "20649    2015-08-10 00:00:00\n",
      "34883    2015-09-09 00:00:00\n",
      "2243     2015-11-10 00:00:00\n",
      "2232     2016-01-03 00:00:00\n",
      "                ...         \n",
      "3654     2016-04-07 00:00:00\n",
      "30532    2016-04-07 00:00:00\n",
      "47588    2016-04-07 00:00:00\n",
      "39445    2016-04-07 00:00:00\n",
      "37112    2016-04-07 00:00:00\n",
      "Name: ad_created, Length: 17233, dtype: object\n"
     ]
    }
   ],
   "source": [
    "print(autos[\"ad_created\"].sort_values())"
   ]
  },
  {
   "cell_type": "code",
   "execution_count": 25,
   "id": "c695c388",
   "metadata": {},
   "outputs": [
    {
     "data": {
      "text/plain": [
       "2015-06-11    0.005803\n",
       "2015-08-10    0.005803\n",
       "2015-09-09    0.005803\n",
       "2015-11-10    0.005803\n",
       "2016-01-03    0.005803\n",
       "                ...   \n",
       "2016-04-03    4.149016\n",
       "2016-04-04    3.696396\n",
       "2016-04-05    1.189578\n",
       "2016-04-06    0.278535\n",
       "2016-04-07    0.133465\n",
       "Name: ad_created, Length: 67, dtype: float64"
      ]
     },
     "execution_count": 25,
     "metadata": {},
     "output_type": "execute_result"
    }
   ],
   "source": [
    "(autos[\"ad_created\"]\n",
    "        .str[:10]\n",
    "        .value_counts(normalize=True, dropna=False)\n",
    "        .sort_index()*100\n",
    "        )"
   ]
  },
  {
   "cell_type": "code",
   "execution_count": 26,
   "id": "e64419e0",
   "metadata": {},
   "outputs": [
    {
     "data": {
      "text/plain": [
       "2016-02-09    0.000058\n",
       "2016-02-12    0.000058\n",
       "2016-02-21    0.000058\n",
       "2016-02-18    0.000058\n",
       "2016-02-07    0.000058\n",
       "                ...   \n",
       "2016-04-01    0.036964\n",
       "2016-04-04    0.036964\n",
       "2016-04-02    0.037950\n",
       "2016-03-20    0.039923\n",
       "2016-04-03    0.041490\n",
       "Name: ad_created, Length: 67, dtype: float64"
      ]
     },
     "execution_count": 26,
     "metadata": {},
     "output_type": "execute_result"
    }
   ],
   "source": [
    "(autos[\"ad_created\"]\n",
    "        .str[:10]\n",
    "        .value_counts(normalize=True, dropna=False)\n",
    "        .sort_values()\n",
    "        )"
   ]
  },
  {
   "cell_type": "markdown",
   "id": "659043b0",
   "metadata": {},
   "source": [
    "The ad_created column contains 65 rows, from 2015-06-11 to 2016-04-07, so approximately 10 months when 65 new eBay listings were created."
   ]
  },
  {
   "cell_type": "markdown",
   "id": "0b5bf3ca",
   "metadata": {},
   "source": [
    "Next we are analyzing the last_seen column in the same way"
   ]
  },
  {
   "cell_type": "code",
   "execution_count": 27,
   "id": "510ac842",
   "metadata": {},
   "outputs": [
    {
     "name": "stdout",
     "output_type": "stream",
     "text": [
      "26924    2016-03-05 14:46:02\n",
      "39178    2016-03-05 15:41:30\n",
      "2770     2016-03-05 15:47:38\n",
      "24801    2016-03-05 15:47:44\n",
      "669      2016-03-05 17:16:14\n",
      "                ...         \n",
      "37578    2016-04-07 14:58:48\n",
      "28       2016-04-07 14:58:48\n",
      "36236    2016-04-07 14:58:50\n",
      "25429    2016-04-07 14:58:50\n",
      "24225    2016-04-07 14:58:50\n",
      "Name: last_seen, Length: 17233, dtype: object\n"
     ]
    }
   ],
   "source": [
    "print(autos[\"last_seen\"].sort_values())"
   ]
  },
  {
   "cell_type": "code",
   "execution_count": 28,
   "id": "cb5b6451",
   "metadata": {},
   "outputs": [
    {
     "data": {
      "text/plain": [
       "2016-03-05     0.069634\n",
       "2016-03-06     0.179887\n",
       "2016-03-07     0.272733\n",
       "2016-03-08     0.348169\n",
       "2016-03-09     0.644113\n",
       "2016-03-10     0.777578\n",
       "2016-03-11     0.794986\n",
       "2016-03-12     1.584170\n",
       "2016-03-13     0.522254\n",
       "2016-03-14     1.067719\n",
       "2016-03-15     1.230198\n",
       "2016-03-16     1.102536\n",
       "2016-03-17     2.013579\n",
       "2016-03-18     0.638310\n",
       "2016-03-19     1.160564\n",
       "2016-03-20     1.729240\n",
       "2016-03-21     1.630592\n",
       "2016-03-22     1.740846\n",
       "2016-03-23     1.618987\n",
       "2016-03-24     1.450705\n",
       "2016-03-25     1.526142\n",
       "2016-03-26     1.305635\n",
       "2016-03-27     1.119944\n",
       "2016-03-28     1.671212\n",
       "2016-03-29     1.833691\n",
       "2016-03-30     2.118029\n",
       "2016-03-31     1.932339\n",
       "2016-04-01     2.205072\n",
       "2016-04-02     2.216677\n",
       "2016-04-03     2.373353\n",
       "2016-04-04     2.030987\n",
       "2016-04-05    14.791389\n",
       "2016-04-06    27.435734\n",
       "2016-04-07    16.862995\n",
       "Name: last_seen, dtype: float64"
      ]
     },
     "execution_count": 28,
     "metadata": {},
     "output_type": "execute_result"
    }
   ],
   "source": [
    "(autos[\"last_seen\"]\n",
    "        .str[:10]\n",
    "        .value_counts(normalize=True, dropna=False)\n",
    "        .sort_index()*100\n",
    "        )"
   ]
  },
  {
   "cell_type": "code",
   "execution_count": 29,
   "id": "9a58b995",
   "metadata": {},
   "outputs": [
    {
     "data": {
      "text/plain": [
       "2016-03-05    0.000696\n",
       "2016-03-06    0.001799\n",
       "2016-03-07    0.002727\n",
       "2016-03-08    0.003482\n",
       "2016-03-13    0.005223\n",
       "2016-03-18    0.006383\n",
       "2016-03-09    0.006441\n",
       "2016-03-10    0.007776\n",
       "2016-03-11    0.007950\n",
       "2016-03-14    0.010677\n",
       "2016-03-16    0.011025\n",
       "2016-03-27    0.011199\n",
       "2016-03-19    0.011606\n",
       "2016-03-15    0.012302\n",
       "2016-03-26    0.013056\n",
       "2016-03-24    0.014507\n",
       "2016-03-25    0.015261\n",
       "2016-03-12    0.015842\n",
       "2016-03-23    0.016190\n",
       "2016-03-21    0.016306\n",
       "2016-03-28    0.016712\n",
       "2016-03-20    0.017292\n",
       "2016-03-22    0.017408\n",
       "2016-03-29    0.018337\n",
       "2016-03-31    0.019323\n",
       "2016-03-17    0.020136\n",
       "2016-04-04    0.020310\n",
       "2016-03-30    0.021180\n",
       "2016-04-01    0.022051\n",
       "2016-04-02    0.022167\n",
       "2016-04-03    0.023734\n",
       "2016-04-05    0.147914\n",
       "2016-04-07    0.168630\n",
       "2016-04-06    0.274357\n",
       "Name: last_seen, dtype: float64"
      ]
     },
     "execution_count": 29,
     "metadata": {},
     "output_type": "execute_result"
    }
   ],
   "source": [
    "(autos[\"last_seen\"]\n",
    "        .str[:10]\n",
    "        .value_counts(normalize=True, dropna=False)\n",
    "        .sort_values()\n",
    "        )"
   ]
  },
  {
   "cell_type": "markdown",
   "id": "49c77217",
   "metadata": {},
   "source": [
    "The data in the last_seen column was collected between 2016-03-05 and 2016-04-06. In most days there was a percent varying between 0.5%-2.5%, but what is noticeable is that in the last 3 days the numbers were significantly higher."
   ]
  },
  {
   "cell_type": "markdown",
   "id": "697494ec",
   "metadata": {},
   "source": [
    "## Dealing with Incorrect Registration Year Data"
   ]
  },
  {
   "cell_type": "code",
   "execution_count": 30,
   "id": "fa0eebf8",
   "metadata": {},
   "outputs": [
    {
     "data": {
      "text/plain": [
       "count    17233.000000\n",
       "mean      2009.628329\n",
       "std        126.064682\n",
       "min       1001.000000\n",
       "25%       2005.000000\n",
       "50%       2008.000000\n",
       "75%       2011.000000\n",
       "max       9999.000000\n",
       "Name: registration_year, dtype: float64"
      ]
     },
     "execution_count": 30,
     "metadata": {},
     "output_type": "execute_result"
    }
   ],
   "source": [
    "autos[\"registration_year\"].describe()"
   ]
  },
  {
   "cell_type": "markdown",
   "id": "e5e64153",
   "metadata": {},
   "source": [
    "The minimum value in the registration_year column is 1000 and the maximum value the registration_year column is 9999.They are not accurate. Also, a car can't be first registered after the listing was seen, so any vehicle with a registration year above 2016 is  inaccurate. For the earliest valid year we can't be precise but we will choose 1900."
   ]
  },
  {
   "cell_type": "code",
   "execution_count": 31,
   "id": "3732a67d",
   "metadata": {},
   "outputs": [],
   "source": [
    "autos = autos[autos[\"registration_year\"].between(1900, 2016)] "
   ]
  },
  {
   "cell_type": "code",
   "execution_count": 32,
   "id": "a40c0bed",
   "metadata": {},
   "outputs": [],
   "source": [
    "describe_reg=autos[\"registration_year\"].value_counts(normalize = True).sort_index() "
   ]
  },
  {
   "cell_type": "code",
   "execution_count": 33,
   "id": "a8a58dd1",
   "metadata": {},
   "outputs": [],
   "source": [
    "over_1999 = describe_reg[describe_reg.index > 1999].sum()"
   ]
  },
  {
   "cell_type": "code",
   "execution_count": 34,
   "id": "7151746a",
   "metadata": {},
   "outputs": [
    {
     "name": "stdout",
     "output_type": "stream",
     "text": [
      "0.9323424494649227\n"
     ]
    }
   ],
   "source": [
    "print(over_1999)"
   ]
  },
  {
   "cell_type": "markdown",
   "id": "9b7aa0dd",
   "metadata": {},
   "source": [
    "We deduce that most of the cars that were posted were registered after 2000."
   ]
  },
  {
   "cell_type": "markdown",
   "id": "0f4b0423",
   "metadata": {},
   "source": [
    "## Exploring Price by Brand"
   ]
  },
  {
   "cell_type": "code",
   "execution_count": 35,
   "id": "e24c39cb",
   "metadata": {},
   "outputs": [
    {
     "name": "stdout",
     "output_type": "stream",
     "text": [
      "['peugeot' 'bmw' 'volkswagen' 'chrysler' 'smart' 'sonstige_autos'\n",
      " 'porsche' 'mini' 'ford' 'seat' 'audi' 'mercedes_benz' 'dacia' 'toyota'\n",
      " 'mazda' 'jaguar' 'opel' 'skoda' 'chevrolet' 'nissan' 'volvo' 'hyundai'\n",
      " 'kia' 'citroen' 'suzuki' 'honda' 'renault' 'mitsubishi' 'jeep' 'fiat'\n",
      " 'alfa_romeo' 'trabant' 'land_rover' 'daihatsu' 'lancia' 'saab' 'subaru'\n",
      " 'lada' 'rover']\n"
     ]
    }
   ],
   "source": [
    "brand_price={}\n",
    "unique_brand=autos[\"brand\"].unique()\n",
    "print(unique_brand)"
   ]
  },
  {
   "cell_type": "markdown",
   "id": "14c43f5b",
   "metadata": {},
   "source": [
    "We will select the top 20 brands to aggregate by."
   ]
  },
  {
   "cell_type": "code",
   "execution_count": 36,
   "id": "5cdf8e4c",
   "metadata": {},
   "outputs": [
    {
     "name": "stdout",
     "output_type": "stream",
     "text": [
      "Top 20 brands:\n",
      "volkswagen        20.713436\n",
      "bmw               16.516052\n",
      "mercedes_benz     13.573127\n",
      "audi              13.347206\n",
      "opel               5.071344\n",
      "ford               4.203329\n",
      "skoda              2.253270\n",
      "mini               1.997622\n",
      "seat               1.617122\n",
      "porsche            1.611177\n",
      "renault            1.569560\n",
      "sonstige_autos     1.551724\n",
      "toyota             1.426873\n",
      "peugeot            1.420927\n",
      "nissan             1.337693\n",
      "fiat               1.224732\n",
      "hyundai            1.147444\n",
      "mazda              1.052319\n",
      "smart              0.969084\n",
      "citroen            0.921522\n",
      "Name: brand, dtype: float64\n"
     ]
    }
   ],
   "source": [
    "top_20_brands = (autos[\"brand\"].value_counts(normalize = True) * 100) [:20]\n",
    "print(\"Top 20 brands:\")\n",
    "print(top_20_brands)\n",
    "for brand in top_20_brands.index:\n",
    "    selected_rows=autos[autos[\"brand\"]==brand]\n",
    "    average=selected_rows[\"price\"].mean()\n",
    "    brand_price[brand]=average\n",
    "    \n"
   ]
  },
  {
   "cell_type": "code",
   "execution_count": 37,
   "id": "9d785c28",
   "metadata": {},
   "outputs": [
    {
     "name": "stdout",
     "output_type": "stream",
     "text": [
      "{'volkswagen': 11742.878874856488, 'bmw': 13478.585313174946, 'mercedes_benz': 14677.603153745073, 'audi': 15037.087750556793, 'opel': 9303.135990621337, 'ford': 11385.077793493636, 'skoda': 10200.910290237467, 'mini': 12118.122023809523, 'seat': 9827.680147058823, 'porsche': 48105.28413284133, 'renault': 9368.314393939394, 'sonstige_autos': 20150.547892720308, 'toyota': 9030.2625, 'peugeot': 8539.665271966527, 'nissan': 11359.608888888888, 'fiat': 8239.058252427185, 'hyundai': 9822.492227979275, 'mazda': 10476.09604519774, 'smart': 6885.19018404908, 'citroen': 9237.116129032258}\n"
     ]
    }
   ],
   "source": [
    "print(brand_price)"
   ]
  },
  {
   "cell_type": "code",
   "execution_count": 38,
   "id": "53baab1b",
   "metadata": {},
   "outputs": [
    {
     "name": "stdout",
     "output_type": "stream",
     "text": [
      "porsche           48105.284133\n",
      "sonstige_autos    20150.547893\n",
      "audi              15037.087751\n",
      "mercedes_benz     14677.603154\n",
      "bmw               13478.585313\n",
      "mini              12118.122024\n",
      "volkswagen        11742.878875\n",
      "ford              11385.077793\n",
      "nissan            11359.608889\n",
      "mazda             10476.096045\n",
      "skoda             10200.910290\n",
      "seat               9827.680147\n",
      "hyundai            9822.492228\n",
      "renault            9368.314394\n",
      "opel               9303.135991\n",
      "citroen            9237.116129\n",
      "toyota             9030.262500\n",
      "peugeot            8539.665272\n",
      "fiat               8239.058252\n",
      "smart              6885.190184\n",
      "dtype: float64\n"
     ]
    }
   ],
   "source": [
    "series_brand_price=pd.Series(brand_price)\n",
    "sorted_series_brand_price=series_brand_price.sort_values(ascending=False)\n",
    "print(sorted_series_brand_price)\n"
   ]
  },
  {
   "cell_type": "markdown",
   "id": "f05d7ece",
   "metadata": {},
   "source": [
    "We observed that in the top 6 brands, there's a distinct price gap."
   ]
  },
  {
   "cell_type": "markdown",
   "id": "133fd206",
   "metadata": {},
   "source": [
    "For the top 6 brands, let's use aggregation to understand the average mileage for those cars and if there's any visible link with mean price.  "
   ]
  },
  {
   "cell_type": "code",
   "execution_count": 39,
   "id": "ff5787c9",
   "metadata": {},
   "outputs": [
    {
     "name": "stdout",
     "output_type": "stream",
     "text": [
      "{'porsche': 99132.84132841328, 'sonstige_autos': 85249.04214559386, 'audi': 116020.04454342985, 'mercedes_benz': 119060.44678055191, 'bmw': 123288.33693304536, 'mini': 79419.64285714286}\n"
     ]
    }
   ],
   "source": [
    "brand_mileage={}\n",
    "for brand in sorted_series_brand_price.index[:6]:\n",
    "    selected_rows=autos[autos[\"brand\"]==brand]\n",
    "    average=selected_rows[\"odometer_km\"].mean()\n",
    "    brand_mileage[brand]=average\n",
    "    \n",
    "print(brand_mileage)"
   ]
  },
  {
   "cell_type": "markdown",
   "id": "31a0406e",
   "metadata": {},
   "source": [
    "Storing Aggregate Data in a DataFrame"
   ]
  },
  {
   "cell_type": "code",
   "execution_count": 40,
   "id": "1b49eb68",
   "metadata": {},
   "outputs": [
    {
     "name": "stdout",
     "output_type": "stream",
     "text": [
      "                  mean_price   mean_mileage\n",
      "porsche         48105.284133   99132.841328\n",
      "sonstige_autos  20150.547893   85249.042146\n",
      "audi            15037.087751  116020.044543\n",
      "mercedes_benz   14677.603154  119060.446781\n",
      "bmw             13478.585313  123288.336933\n",
      "mini            12118.122024   79419.642857\n"
     ]
    }
   ],
   "source": [
    "\n",
    "mileage_series = pd.Series(brand_mileage)\n",
    "df = pd.DataFrame(series_brand_price.sort_values(ascending=False)[:6], columns=['mean_price'])\n",
    "\n",
    "df[\"mean_mileage\"]=mileage_series\n",
    "print(df)"
   ]
  },
  {
   "cell_type": "markdown",
   "id": "fb6b24dd",
   "metadata": {},
   "source": [
    "We would expect car prices to fall as mileage increases. However this is not the case here as we notice the more expensive vehicles having higher mileage, and the cheaper ones recording lower mileage."
   ]
  },
  {
   "cell_type": "markdown",
   "id": "419c1716",
   "metadata": {},
   "source": [
    "## Find the most common brand model combination"
   ]
  },
  {
   "cell_type": "code",
   "execution_count": 41,
   "id": "71de8618",
   "metadata": {},
   "outputs": [
    {
     "name": "stdout",
     "output_type": "stream",
     "text": [
      "volkswagen->golf           1230\n",
      "bmw->3er                   1029\n",
      "bmw->5er                    636\n",
      "audi->a4                    620\n",
      "mercedes_benz->c_klasse     498\n",
      "                           ... \n",
      "daihatsu->materia             1\n",
      "alfa_romeo->156               1\n",
      "ford->escort                  1\n",
      "saab->900                     1\n",
      "mazda->1_reihe                1\n",
      "Length: 255, dtype: int64\n"
     ]
    }
   ],
   "source": [
    "brand_model = autos[\"brand\"] + \"->\" + autos[\"model\"]\n",
    "print(brand_model.value_counts())\n"
   ]
  },
  {
   "cell_type": "markdown",
   "id": "4addc9b9",
   "metadata": {},
   "source": [
    "We conclude that volkswagen golf is the most common brand model combination, followed on the 2nd and 3rd place by bmw cars (3er and 5er)"
   ]
  },
  {
   "cell_type": "markdown",
   "id": "1f1fe6b2",
   "metadata": {},
   "source": [
    "## How much cheaper are cars with damage than their non-damaged counterparts?\n"
   ]
  },
  {
   "cell_type": "code",
   "execution_count": 42,
   "id": "b2cdfd8e",
   "metadata": {},
   "outputs": [
    {
     "name": "stdout",
     "output_type": "stream",
     "text": [
      "{'peugeot': 8462.75, 'bmw': 9691.343434343435, 'volkswagen': 9505.34065934066, 'chrysler': 8333.333333333334, 'smart': 6850.0, 'sonstige_autos': 14808.166666666666, 'porsche': 20185.714285714286, 'mini': 6158.333333333333, 'ford': 9556.78947368421, 'seat': 9100.0, 'audi': 9713.577464788732, 'mercedes_benz': 11587.849315068494, 'dacia': 7469.25, 'toyota': 6998.777777777777, 'mazda': 5500.0, 'jaguar': 14750.0, 'opel': 6733.692307692308, 'skoda': 10009.2, 'chevrolet': 16350.0, 'nissan': 8513.9, 'volvo': 11450.0, 'hyundai': 9178.57142857143, 'kia': 7600.0, 'citroen': 8816.166666666666, 'suzuki': 7083.0, 'honda': 5500.0, 'renault': 8193.111111111111, 'mitsubishi': 6800.0, 'jeep': nan, 'fiat': 6631.666666666667, 'alfa_romeo': 9316.666666666666, 'trabant': nan, 'land_rover': 10563.333333333334, 'daihatsu': nan, 'lancia': 8750.0, 'saab': nan, 'subaru': 18500.0, 'lada': nan, 'rover': nan}\n",
      "{'peugeot': 8529.857142857143, 'bmw': 13802.983436853003, 'volkswagen': 11997.931515741642, 'chrysler': 10875.521739130434, 'smart': 6914.591549295775, 'sonstige_autos': 21906.548076923078, 'porsche': 51017.528455284555, 'mini': 12375.534810126583, 'ford': 11231.176935229068, 'seat': 9933.260162601626, 'audi': 15412.389584376564, 'mercedes_benz': 15216.13164556962, 'dacia': 9022.793103448275, 'toyota': 9281.398104265403, 'mazda': 10644.079268292682, 'jaguar': 18935.30769230769, 'opel': 9483.83046357616, 'skoda': 10273.06725146199, 'chevrolet': 11625.64423076923, 'nissan': 11741.558375634519, 'volvo': 11619.8031496063, 'hyundai': 9911.448275862069, 'kia': 11034.312977099236, 'citroen': 9285.110236220473, 'suzuki': 8580.1875, 'honda': 9605.67, 'renault': 9565.728033472804, 'mitsubishi': 10981.734375, 'jeep': 15041.378787878788, 'fiat': 8281.408839779006, 'alfa_romeo': 10231.638888888889, 'trabant': 5679.833333333333, 'land_rover': 28099.431034482757, 'daihatsu': 6528.0, 'lancia': 16587.5, 'saab': 11222.454545454546, 'subaru': 11518.545454545454, 'lada': 5787.5, 'rover': 23500.0}\n"
     ]
    }
   ],
   "source": [
    "brand_repaired={}\n",
    "for brand in autos[\"brand\"].unique():\n",
    "    selected_rows=autos[(autos[\"brand\"]==brand) & (autos[\"unrepaired_damage\"]=='ja')]\n",
    "    average=selected_rows[\"price\"].mean()\n",
    "    brand_repaired[brand]=average\n",
    "    \n",
    "print(brand_repaired)\n",
    "brand_unrepaired={}\n",
    "for brand in autos[\"brand\"].unique():\n",
    "    selected_rows=autos[(autos[\"brand\"]==brand) & (autos[\"unrepaired_damage\"]=='nein')]\n",
    "    average=selected_rows[\"price\"].mean()\n",
    "    brand_unrepaired[brand]=average\n",
    "print(brand_unrepaired)"
   ]
  },
  {
   "cell_type": "code",
   "execution_count": 43,
   "id": "c98b6dfe",
   "metadata": {},
   "outputs": [
    {
     "name": "stdout",
     "output_type": "stream",
     "text": [
      "                mean_price_repaired  mean_price_unrepaired\n",
      "peugeot                 8462.750000            8529.857143\n",
      "bmw                     9691.343434           13802.983437\n",
      "volkswagen              9505.340659           11997.931516\n",
      "chrysler                8333.333333           10875.521739\n",
      "smart                   6850.000000            6914.591549\n",
      "sonstige_autos         14808.166667           21906.548077\n",
      "porsche                20185.714286           51017.528455\n",
      "mini                    6158.333333           12375.534810\n",
      "ford                    9556.789474           11231.176935\n",
      "seat                    9100.000000            9933.260163\n",
      "audi                    9713.577465           15412.389584\n",
      "mercedes_benz          11587.849315           15216.131646\n",
      "dacia                   7469.250000            9022.793103\n",
      "toyota                  6998.777778            9281.398104\n",
      "mazda                   5500.000000           10644.079268\n",
      "jaguar                 14750.000000           18935.307692\n",
      "opel                    6733.692308            9483.830464\n",
      "skoda                  10009.200000           10273.067251\n",
      "chevrolet              16350.000000           11625.644231\n",
      "nissan                  8513.900000           11741.558376\n",
      "volvo                  11450.000000           11619.803150\n",
      "hyundai                 9178.571429            9911.448276\n",
      "kia                     7600.000000           11034.312977\n",
      "citroen                 8816.166667            9285.110236\n",
      "suzuki                  7083.000000            8580.187500\n",
      "honda                   5500.000000            9605.670000\n",
      "renault                 8193.111111            9565.728033\n",
      "mitsubishi              6800.000000           10981.734375\n",
      "jeep                            NaN           15041.378788\n",
      "fiat                    6631.666667            8281.408840\n",
      "alfa_romeo              9316.666667           10231.638889\n",
      "trabant                         NaN            5679.833333\n",
      "land_rover             10563.333333           28099.431034\n",
      "daihatsu                        NaN            6528.000000\n",
      "lancia                  8750.000000           16587.500000\n",
      "saab                            NaN           11222.454545\n",
      "subaru                 18500.000000           11518.545455\n",
      "lada                            NaN            5787.500000\n",
      "rover                           NaN           23500.000000\n"
     ]
    }
   ],
   "source": [
    "brand_repaired_series=pd.Series(brand_repaired)\n",
    "brand_unrepaired_series=pd.Series(brand_unrepaired)\n",
    "df=pd.DataFrame(brand_repaired_series,columns=['mean_price_repaired'])\n",
    "df[\"mean_price_unrepaired\"]=brand_unrepaired_series\n",
    "print(df)"
   ]
  },
  {
   "cell_type": "code",
   "execution_count": 45,
   "id": "4f40baa4",
   "metadata": {},
   "outputs": [
    {
     "name": "stdout",
     "output_type": "stream",
     "text": [
      "Average difference between the price of non-damaged and damaged cars :\n",
      "3617.1005327078474\n"
     ]
    }
   ],
   "source": [
    "damaged_cars_price = autos.loc[autos[\"unrepaired_damage\"] == \"ja\",\"price\"].mean()\n",
    "undamaged_cars_price = autos.loc[autos[\"unrepaired_damage\"] == \"nein\",\"price\"].mean()\n",
    "\n",
    "print(\"Average difference between the price of non-damaged and damaged cars :\")\n",
    "print(undamaged_cars_price - damaged_cars_price)"
   ]
  },
  {
   "cell_type": "markdown",
   "id": "7c78da67",
   "metadata": {},
   "source": [
    "Identify categorical data that uses german words, translate them and map the values to their english counterparts"
   ]
  },
  {
   "cell_type": "code",
   "execution_count": 46,
   "id": "53891f95",
   "metadata": {},
   "outputs": [
    {
     "name": "stdout",
     "output_type": "stream",
     "text": [
      "0         no\n",
      "1         no\n",
      "2         no\n",
      "5        NaN\n",
      "12        no\n",
      "        ... \n",
      "49990     no\n",
      "49994     no\n",
      "49995     no\n",
      "49997     no\n",
      "49998     no\n",
      "Name: unrepaired_damage, Length: 16820, dtype: object\n"
     ]
    }
   ],
   "source": [
    "corrections={\"ja\":\"yes\",\n",
    "            \"nein\":\"no\"}\n",
    "autos[\"unrepaired_damage\"]=autos[\"unrepaired_damage\"].map(corrections)\n",
    "print(autos[\"unrepaired_damage\"])"
   ]
  },
  {
   "cell_type": "markdown",
   "id": "6f4e22a9",
   "metadata": {},
   "source": [
    "## Split the odometer_km into groups, and use aggregation to see if average prices follows any patterns based on the mileage"
   ]
  },
  {
   "cell_type": "code",
   "execution_count": 47,
   "id": "5a053cce",
   "metadata": {},
   "outputs": [
    {
     "name": "stdout",
     "output_type": "stream",
     "text": [
      "[150000.  70000.  50000.  80000.  10000.  30000.  90000.  20000.  60000.\n",
      " 125000.   5000.  40000. 100000.]\n",
      "float64\n"
     ]
    }
   ],
   "source": [
    "print(autos[\"odometer_km\"].unique())\n",
    "print(autos[\"odometer_km\"].dtype)"
   ]
  },
  {
   "cell_type": "code",
   "execution_count": 48,
   "id": "aa515635",
   "metadata": {},
   "outputs": [
    {
     "name": "stdout",
     "output_type": "stream",
     "text": [
      "Average price for cars with less than 50,000 km: 20777.77259227832\n",
      "Average price for cars with more than 50,000 mileage and less than 100,000 km : 14274.012114219786\n",
      "Average price for cars with more than 100,000 km and less than 150,000 km: 11669.266437684004\n"
     ]
    }
   ],
   "source": [
    "km_5=autos.loc[autos[\"odometer_km\"]<50000,\"price\"]\n",
    "km_5_10=autos.loc[(autos[\"odometer_km\"]>50000) & (autos[\"odometer_km\"]<100000),\"price\"]\n",
    "km_15=autos.loc[(autos[\"odometer_km\"]>100000) & (autos[\"odometer_km\"]<150000),\"price\"]\n",
    "\n",
    "print(\"Average price for cars with less than 50,000 km:\", km_5.mean())\n",
    "print(\"Average price for cars with more than 50,000 mileage and less than 100,000 km :\",km_5_10.mean())\n",
    "print(\"Average price for cars with more than 100,000 km and less than 150,000 km:\",km_15.mean())"
   ]
  },
  {
   "cell_type": "markdown",
   "id": "60573141",
   "metadata": {},
   "source": [
    "The numbers show a clear trend of higher prices for cars with less mileage recorded."
   ]
  }
 ],
 "metadata": {
  "kernelspec": {
   "display_name": "Python 3 (ipykernel)",
   "language": "python",
   "name": "python3"
  },
  "language_info": {
   "codemirror_mode": {
    "name": "ipython",
    "version": 3
   },
   "file_extension": ".py",
   "mimetype": "text/x-python",
   "name": "python",
   "nbconvert_exporter": "python",
   "pygments_lexer": "ipython3",
   "version": "3.10.4"
  }
 },
 "nbformat": 4,
 "nbformat_minor": 5
}
