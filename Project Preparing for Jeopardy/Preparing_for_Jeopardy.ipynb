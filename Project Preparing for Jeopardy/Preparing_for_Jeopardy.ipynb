{
 "cells": [
  {
   "cell_type": "markdown",
   "id": "92511d73",
   "metadata": {},
   "source": [
    "## Project - Winning Jeopardy"
   ]
  },
  {
   "cell_type": "markdown",
   "id": "0da47a3e",
   "metadata": {},
   "source": [
    "Jeopardy! is a popular American game TV show that debuted in 1964 where contestants receive clues in the form of answers and must phrase their responses in the form of a question.\n",
    "We want to figure out which strategy has the most substantial chance of success, in other words which patterns we can extract from the data that could help a contestant prepare for Jeopardy. \n",
    "\n",
    "In order to figure out whether to study past questions, study general knowledge, or not study it all, it would be helpful to figure out two things:\n",
    "\n",
    "* How often the answer can be used for a question;\n",
    "* How often questions are repeated;\n",
    "* Which terms correspond to high-value questions using a chi-squared test;\n",
    "* Which domain of questions constitutes the majority for the top categories.\n",
    "\n",
    "For this project we are going to use a [dataset](https://www.reddit.com/r/datasets/comments/1uyd0t/200000_jeopardy_questions_in_a_json_file) that contains 20000 rows from the full dataset of Jeopardy questions. Each row in the dataset represents a single question on a single episode of Jeopardy. Here are explanations of each column:\n",
    "\n",
    "* `Show Number` - the Jeopardy episode number\n",
    "* `Air Date` - the date the episode aired\n",
    "* `Round` - the round of Jeopardy\n",
    "* `Category` - the category of the question\n",
    "* `Value` - the number of dollars the correct answer is worth\n",
    "* `Question` - the text of the question\n",
    "* `Answer` - the text of the answer"
   ]
  },
  {
   "cell_type": "markdown",
   "id": "bf3b0e12",
   "metadata": {},
   "source": [
    "![Image](https://images.unsplash.com/photo-1604815887789-c076c46a1110?ixlib=rb-4.0.3&ixid=MnwxMjA3fDB8MHxwaG90by1wYWdlfHx8fGVufDB8fHx8&auto=format&fit=crop&w=1771&q=80)\n",
    "_Photo by justinphoto on Unsplash_"
   ]
  },
  {
   "cell_type": "markdown",
   "id": "e8c767d7",
   "metadata": {},
   "source": [
    "### Exploring the dataset"
   ]
  },
  {
   "cell_type": "code",
   "execution_count": 1,
   "id": "acf4a971",
   "metadata": {},
   "outputs": [],
   "source": [
    "import pandas as pd\n",
    "import re\n",
    "from random import choice\n",
    "from scipy.stats import chisquare\n",
    "import numpy as np"
   ]
  },
  {
   "cell_type": "code",
   "execution_count": 2,
   "id": "9cc01e32",
   "metadata": {},
   "outputs": [
    {
     "data": {
      "text/html": [
       "<div>\n",
       "<style scoped>\n",
       "    .dataframe tbody tr th:only-of-type {\n",
       "        vertical-align: middle;\n",
       "    }\n",
       "\n",
       "    .dataframe tbody tr th {\n",
       "        vertical-align: top;\n",
       "    }\n",
       "\n",
       "    .dataframe thead th {\n",
       "        text-align: right;\n",
       "    }\n",
       "</style>\n",
       "<table border=\"1\" class=\"dataframe\">\n",
       "  <thead>\n",
       "    <tr style=\"text-align: right;\">\n",
       "      <th></th>\n",
       "      <th>Show Number</th>\n",
       "      <th>Air Date</th>\n",
       "      <th>Round</th>\n",
       "      <th>Category</th>\n",
       "      <th>Value</th>\n",
       "      <th>Question</th>\n",
       "      <th>Answer</th>\n",
       "    </tr>\n",
       "  </thead>\n",
       "  <tbody>\n",
       "    <tr>\n",
       "      <th>0</th>\n",
       "      <td>4680</td>\n",
       "      <td>2004-12-31</td>\n",
       "      <td>Jeopardy!</td>\n",
       "      <td>HISTORY</td>\n",
       "      <td>$200</td>\n",
       "      <td>For the last 8 years of his life, Galileo was ...</td>\n",
       "      <td>Copernicus</td>\n",
       "    </tr>\n",
       "    <tr>\n",
       "      <th>1</th>\n",
       "      <td>4680</td>\n",
       "      <td>2004-12-31</td>\n",
       "      <td>Jeopardy!</td>\n",
       "      <td>ESPN's TOP 10 ALL-TIME ATHLETES</td>\n",
       "      <td>$200</td>\n",
       "      <td>No. 2: 1912 Olympian; football star at Carlisl...</td>\n",
       "      <td>Jim Thorpe</td>\n",
       "    </tr>\n",
       "    <tr>\n",
       "      <th>2</th>\n",
       "      <td>4680</td>\n",
       "      <td>2004-12-31</td>\n",
       "      <td>Jeopardy!</td>\n",
       "      <td>EVERYBODY TALKS ABOUT IT...</td>\n",
       "      <td>$200</td>\n",
       "      <td>The city of Yuma in this state has a record av...</td>\n",
       "      <td>Arizona</td>\n",
       "    </tr>\n",
       "    <tr>\n",
       "      <th>3</th>\n",
       "      <td>4680</td>\n",
       "      <td>2004-12-31</td>\n",
       "      <td>Jeopardy!</td>\n",
       "      <td>THE COMPANY LINE</td>\n",
       "      <td>$200</td>\n",
       "      <td>In 1963, live on \"The Art Linkletter Show\", th...</td>\n",
       "      <td>McDonald's</td>\n",
       "    </tr>\n",
       "    <tr>\n",
       "      <th>4</th>\n",
       "      <td>4680</td>\n",
       "      <td>2004-12-31</td>\n",
       "      <td>Jeopardy!</td>\n",
       "      <td>EPITAPHS &amp; TRIBUTES</td>\n",
       "      <td>$200</td>\n",
       "      <td>Signer of the Dec. of Indep., framer of the Co...</td>\n",
       "      <td>John Adams</td>\n",
       "    </tr>\n",
       "  </tbody>\n",
       "</table>\n",
       "</div>"
      ],
      "text/plain": [
       "   Show Number    Air Date      Round                         Category  Value  \\\n",
       "0         4680  2004-12-31  Jeopardy!                          HISTORY   $200   \n",
       "1         4680  2004-12-31  Jeopardy!  ESPN's TOP 10 ALL-TIME ATHLETES   $200   \n",
       "2         4680  2004-12-31  Jeopardy!      EVERYBODY TALKS ABOUT IT...   $200   \n",
       "3         4680  2004-12-31  Jeopardy!                 THE COMPANY LINE   $200   \n",
       "4         4680  2004-12-31  Jeopardy!              EPITAPHS & TRIBUTES   $200   \n",
       "\n",
       "                                            Question      Answer  \n",
       "0  For the last 8 years of his life, Galileo was ...  Copernicus  \n",
       "1  No. 2: 1912 Olympian; football star at Carlisl...  Jim Thorpe  \n",
       "2  The city of Yuma in this state has a record av...     Arizona  \n",
       "3  In 1963, live on \"The Art Linkletter Show\", th...  McDonald's  \n",
       "4  Signer of the Dec. of Indep., framer of the Co...  John Adams  "
      ]
     },
     "execution_count": 2,
     "metadata": {},
     "output_type": "execute_result"
    }
   ],
   "source": [
    "jeopardy=pd.read_csv(\"C:/Users/Denisa/Desktop/Project Apps/project 16/jeopardy.csv\")\n",
    "jeopardy.head()"
   ]
  },
  {
   "cell_type": "code",
   "execution_count": 3,
   "id": "3fcc729b",
   "metadata": {},
   "outputs": [
    {
     "data": {
      "text/plain": [
       "Index(['Show Number', ' Air Date', ' Round', ' Category', ' Value',\n",
       "       ' Question', ' Answer'],\n",
       "      dtype='object')"
      ]
     },
     "execution_count": 3,
     "metadata": {},
     "output_type": "execute_result"
    }
   ],
   "source": [
    "jeopardy.columns"
   ]
  },
  {
   "cell_type": "markdown",
   "id": "1facc6eb",
   "metadata": {},
   "source": [
    "Some of the column names have spaces in front so we will remove the spaces from each item in jeopardy.columns and assign the result back to jeopardy.columns to fix the column names in jeopardy."
   ]
  },
  {
   "cell_type": "code",
   "execution_count": 4,
   "id": "50598326",
   "metadata": {},
   "outputs": [],
   "source": [
    "jeopardy.columns = jeopardy.columns.str.strip()"
   ]
  },
  {
   "cell_type": "code",
   "execution_count": 5,
   "id": "4ce16e83",
   "metadata": {},
   "outputs": [
    {
     "data": {
      "text/plain": [
       "Index(['Show Number', 'Air Date', 'Round', 'Category', 'Value', 'Question',\n",
       "       'Answer'],\n",
       "      dtype='object')"
      ]
     },
     "execution_count": 5,
     "metadata": {},
     "output_type": "execute_result"
    }
   ],
   "source": [
    "jeopardy.columns"
   ]
  },
  {
   "cell_type": "code",
   "execution_count": 6,
   "id": "394717a4",
   "metadata": {},
   "outputs": [
    {
     "name": "stdout",
     "output_type": "stream",
     "text": [
      "<class 'pandas.core.frame.DataFrame'>\n",
      "RangeIndex: 19999 entries, 0 to 19998\n",
      "Data columns (total 7 columns):\n",
      " #   Column       Non-Null Count  Dtype \n",
      "---  ------       --------------  ----- \n",
      " 0   Show Number  19999 non-null  int64 \n",
      " 1   Air Date     19999 non-null  object\n",
      " 2   Round        19999 non-null  object\n",
      " 3   Category     19999 non-null  object\n",
      " 4   Value        19999 non-null  object\n",
      " 5   Question     19999 non-null  object\n",
      " 6   Answer       19999 non-null  object\n",
      "dtypes: int64(1), object(6)\n",
      "memory usage: 1.1+ MB\n"
     ]
    }
   ],
   "source": [
    "jeopardy.info()"
   ]
  },
  {
   "cell_type": "markdown",
   "id": "c32f1406",
   "metadata": {},
   "source": [
    "### Normalizing Columns"
   ]
  },
  {
   "cell_type": "markdown",
   "id": "2bf4e590",
   "metadata": {},
   "source": [
    "Before we start doing analysis on the Jeopardy questions, we need to normalize all of the text columns (the `Question` and `Answer` columns). For this we will write a function that:\n",
    "* Takes in a string.\n",
    "* Converts the string to lowercase.\n",
    "* Removes all punctuation in the string.\n",
    "* Returns the string.<br>\n",
    "\n",
    "The `Value` column should be numeric, so that we can manipulate it easier. The `Air Date` column should also be converted to datetime. "
   ]
  },
  {
   "cell_type": "code",
   "execution_count": 7,
   "id": "47e73250",
   "metadata": {},
   "outputs": [],
   "source": [
    "import re\n",
    "\n",
    "def normalize_text(text):\n",
    "    text = text.lower()\n",
    "    text = re.sub(\"[^A-Za-z0-9\\s]\", \"\", text)\n",
    "    text = re.sub(\"\\s+\", \" \", text)\n",
    "    return text\n",
    "\n",
    "def normalize_values(text):\n",
    "    text = re.sub(\"[^A-Za-z0-9\\s]\", \"\", text)\n",
    "    try:\n",
    "        text = int(text)\n",
    "    except Exception:\n",
    "        text = 0\n",
    "    return text"
   ]
  },
  {
   "cell_type": "code",
   "execution_count": 8,
   "id": "6a25c730",
   "metadata": {},
   "outputs": [],
   "source": [
    "jeopardy[\"clean_question\"] = jeopardy[\"Question\"].apply(normalize_text)\n",
    "jeopardy[\"clean_answer\"] = jeopardy[\"Answer\"].apply(normalize_text)\n",
    "jeopardy[\"clean_value\"] = jeopardy[\"Value\"].apply(normalize_values)"
   ]
  },
  {
   "cell_type": "code",
   "execution_count": 9,
   "id": "aa0a56bb",
   "metadata": {},
   "outputs": [
    {
     "data": {
      "text/html": [
       "<div>\n",
       "<style scoped>\n",
       "    .dataframe tbody tr th:only-of-type {\n",
       "        vertical-align: middle;\n",
       "    }\n",
       "\n",
       "    .dataframe tbody tr th {\n",
       "        vertical-align: top;\n",
       "    }\n",
       "\n",
       "    .dataframe thead th {\n",
       "        text-align: right;\n",
       "    }\n",
       "</style>\n",
       "<table border=\"1\" class=\"dataframe\">\n",
       "  <thead>\n",
       "    <tr style=\"text-align: right;\">\n",
       "      <th></th>\n",
       "      <th>Show Number</th>\n",
       "      <th>Air Date</th>\n",
       "      <th>Round</th>\n",
       "      <th>Category</th>\n",
       "      <th>Value</th>\n",
       "      <th>Question</th>\n",
       "      <th>Answer</th>\n",
       "      <th>clean_question</th>\n",
       "      <th>clean_answer</th>\n",
       "      <th>clean_value</th>\n",
       "    </tr>\n",
       "  </thead>\n",
       "  <tbody>\n",
       "    <tr>\n",
       "      <th>0</th>\n",
       "      <td>4680</td>\n",
       "      <td>2004-12-31</td>\n",
       "      <td>Jeopardy!</td>\n",
       "      <td>HISTORY</td>\n",
       "      <td>$200</td>\n",
       "      <td>For the last 8 years of his life, Galileo was ...</td>\n",
       "      <td>Copernicus</td>\n",
       "      <td>for the last 8 years of his life galileo was u...</td>\n",
       "      <td>copernicus</td>\n",
       "      <td>200</td>\n",
       "    </tr>\n",
       "    <tr>\n",
       "      <th>1</th>\n",
       "      <td>4680</td>\n",
       "      <td>2004-12-31</td>\n",
       "      <td>Jeopardy!</td>\n",
       "      <td>ESPN's TOP 10 ALL-TIME ATHLETES</td>\n",
       "      <td>$200</td>\n",
       "      <td>No. 2: 1912 Olympian; football star at Carlisl...</td>\n",
       "      <td>Jim Thorpe</td>\n",
       "      <td>no 2 1912 olympian football star at carlisle i...</td>\n",
       "      <td>jim thorpe</td>\n",
       "      <td>200</td>\n",
       "    </tr>\n",
       "    <tr>\n",
       "      <th>2</th>\n",
       "      <td>4680</td>\n",
       "      <td>2004-12-31</td>\n",
       "      <td>Jeopardy!</td>\n",
       "      <td>EVERYBODY TALKS ABOUT IT...</td>\n",
       "      <td>$200</td>\n",
       "      <td>The city of Yuma in this state has a record av...</td>\n",
       "      <td>Arizona</td>\n",
       "      <td>the city of yuma in this state has a record av...</td>\n",
       "      <td>arizona</td>\n",
       "      <td>200</td>\n",
       "    </tr>\n",
       "    <tr>\n",
       "      <th>3</th>\n",
       "      <td>4680</td>\n",
       "      <td>2004-12-31</td>\n",
       "      <td>Jeopardy!</td>\n",
       "      <td>THE COMPANY LINE</td>\n",
       "      <td>$200</td>\n",
       "      <td>In 1963, live on \"The Art Linkletter Show\", th...</td>\n",
       "      <td>McDonald's</td>\n",
       "      <td>in 1963 live on the art linkletter show this c...</td>\n",
       "      <td>mcdonalds</td>\n",
       "      <td>200</td>\n",
       "    </tr>\n",
       "    <tr>\n",
       "      <th>4</th>\n",
       "      <td>4680</td>\n",
       "      <td>2004-12-31</td>\n",
       "      <td>Jeopardy!</td>\n",
       "      <td>EPITAPHS &amp; TRIBUTES</td>\n",
       "      <td>$200</td>\n",
       "      <td>Signer of the Dec. of Indep., framer of the Co...</td>\n",
       "      <td>John Adams</td>\n",
       "      <td>signer of the dec of indep framer of the const...</td>\n",
       "      <td>john adams</td>\n",
       "      <td>200</td>\n",
       "    </tr>\n",
       "    <tr>\n",
       "      <th>...</th>\n",
       "      <td>...</td>\n",
       "      <td>...</td>\n",
       "      <td>...</td>\n",
       "      <td>...</td>\n",
       "      <td>...</td>\n",
       "      <td>...</td>\n",
       "      <td>...</td>\n",
       "      <td>...</td>\n",
       "      <td>...</td>\n",
       "      <td>...</td>\n",
       "    </tr>\n",
       "    <tr>\n",
       "      <th>19994</th>\n",
       "      <td>3582</td>\n",
       "      <td>2000-03-14</td>\n",
       "      <td>Jeopardy!</td>\n",
       "      <td>U.S. GEOGRAPHY</td>\n",
       "      <td>$200</td>\n",
       "      <td>Of 8, 12 or 18, the number of U.S. states that...</td>\n",
       "      <td>18</td>\n",
       "      <td>of 8 12 or 18 the number of us states that tou...</td>\n",
       "      <td>18</td>\n",
       "      <td>200</td>\n",
       "    </tr>\n",
       "    <tr>\n",
       "      <th>19995</th>\n",
       "      <td>3582</td>\n",
       "      <td>2000-03-14</td>\n",
       "      <td>Jeopardy!</td>\n",
       "      <td>POP MUSIC PAIRINGS</td>\n",
       "      <td>$200</td>\n",
       "      <td>...&amp; the New Power Generation</td>\n",
       "      <td>Prince</td>\n",
       "      <td>the new power generation</td>\n",
       "      <td>prince</td>\n",
       "      <td>200</td>\n",
       "    </tr>\n",
       "    <tr>\n",
       "      <th>19996</th>\n",
       "      <td>3582</td>\n",
       "      <td>2000-03-14</td>\n",
       "      <td>Jeopardy!</td>\n",
       "      <td>HISTORIC PEOPLE</td>\n",
       "      <td>$200</td>\n",
       "      <td>In 1589 he was appointed professor of mathemat...</td>\n",
       "      <td>Galileo</td>\n",
       "      <td>in 1589 he was appointed professor of mathemat...</td>\n",
       "      <td>galileo</td>\n",
       "      <td>200</td>\n",
       "    </tr>\n",
       "    <tr>\n",
       "      <th>19997</th>\n",
       "      <td>3582</td>\n",
       "      <td>2000-03-14</td>\n",
       "      <td>Jeopardy!</td>\n",
       "      <td>1998 QUOTATIONS</td>\n",
       "      <td>$200</td>\n",
       "      <td>Before the grand jury she said, \"I'm really so...</td>\n",
       "      <td>Monica Lewinsky</td>\n",
       "      <td>before the grand jury she said im really sorry...</td>\n",
       "      <td>monica lewinsky</td>\n",
       "      <td>200</td>\n",
       "    </tr>\n",
       "    <tr>\n",
       "      <th>19998</th>\n",
       "      <td>3582</td>\n",
       "      <td>2000-03-14</td>\n",
       "      <td>Jeopardy!</td>\n",
       "      <td>LLAMA-RAMA</td>\n",
       "      <td>$200</td>\n",
       "      <td>Llamas are the heftiest South American members...</td>\n",
       "      <td>Camels</td>\n",
       "      <td>llamas are the heftiest south american members...</td>\n",
       "      <td>camels</td>\n",
       "      <td>200</td>\n",
       "    </tr>\n",
       "  </tbody>\n",
       "</table>\n",
       "<p>19999 rows × 10 columns</p>\n",
       "</div>"
      ],
      "text/plain": [
       "       Show Number    Air Date      Round                         Category  \\\n",
       "0             4680  2004-12-31  Jeopardy!                          HISTORY   \n",
       "1             4680  2004-12-31  Jeopardy!  ESPN's TOP 10 ALL-TIME ATHLETES   \n",
       "2             4680  2004-12-31  Jeopardy!      EVERYBODY TALKS ABOUT IT...   \n",
       "3             4680  2004-12-31  Jeopardy!                 THE COMPANY LINE   \n",
       "4             4680  2004-12-31  Jeopardy!              EPITAPHS & TRIBUTES   \n",
       "...            ...         ...        ...                              ...   \n",
       "19994         3582  2000-03-14  Jeopardy!                   U.S. GEOGRAPHY   \n",
       "19995         3582  2000-03-14  Jeopardy!               POP MUSIC PAIRINGS   \n",
       "19996         3582  2000-03-14  Jeopardy!                  HISTORIC PEOPLE   \n",
       "19997         3582  2000-03-14  Jeopardy!                  1998 QUOTATIONS   \n",
       "19998         3582  2000-03-14  Jeopardy!                       LLAMA-RAMA   \n",
       "\n",
       "      Value                                           Question  \\\n",
       "0      $200  For the last 8 years of his life, Galileo was ...   \n",
       "1      $200  No. 2: 1912 Olympian; football star at Carlisl...   \n",
       "2      $200  The city of Yuma in this state has a record av...   \n",
       "3      $200  In 1963, live on \"The Art Linkletter Show\", th...   \n",
       "4      $200  Signer of the Dec. of Indep., framer of the Co...   \n",
       "...     ...                                                ...   \n",
       "19994  $200  Of 8, 12 or 18, the number of U.S. states that...   \n",
       "19995  $200                      ...& the New Power Generation   \n",
       "19996  $200  In 1589 he was appointed professor of mathemat...   \n",
       "19997  $200  Before the grand jury she said, \"I'm really so...   \n",
       "19998  $200  Llamas are the heftiest South American members...   \n",
       "\n",
       "                Answer                                     clean_question  \\\n",
       "0           Copernicus  for the last 8 years of his life galileo was u...   \n",
       "1           Jim Thorpe  no 2 1912 olympian football star at carlisle i...   \n",
       "2              Arizona  the city of yuma in this state has a record av...   \n",
       "3           McDonald's  in 1963 live on the art linkletter show this c...   \n",
       "4           John Adams  signer of the dec of indep framer of the const...   \n",
       "...                ...                                                ...   \n",
       "19994               18  of 8 12 or 18 the number of us states that tou...   \n",
       "19995           Prince                           the new power generation   \n",
       "19996          Galileo  in 1589 he was appointed professor of mathemat...   \n",
       "19997  Monica Lewinsky  before the grand jury she said im really sorry...   \n",
       "19998           Camels  llamas are the heftiest south american members...   \n",
       "\n",
       "          clean_answer  clean_value  \n",
       "0           copernicus          200  \n",
       "1           jim thorpe          200  \n",
       "2              arizona          200  \n",
       "3            mcdonalds          200  \n",
       "4           john adams          200  \n",
       "...                ...          ...  \n",
       "19994               18          200  \n",
       "19995           prince          200  \n",
       "19996          galileo          200  \n",
       "19997  monica lewinsky          200  \n",
       "19998           camels          200  \n",
       "\n",
       "[19999 rows x 10 columns]"
      ]
     },
     "execution_count": 9,
     "metadata": {},
     "output_type": "execute_result"
    }
   ],
   "source": [
    "jeopardy"
   ]
  },
  {
   "cell_type": "code",
   "execution_count": 10,
   "id": "d2d74f36",
   "metadata": {},
   "outputs": [],
   "source": [
    "jeopardy[\"Air Date\"] = pd.to_datetime(jeopardy[\"Air Date\"])"
   ]
  },
  {
   "cell_type": "code",
   "execution_count": 11,
   "id": "fb3c3bc2",
   "metadata": {},
   "outputs": [
    {
     "data": {
      "text/plain": [
       "Show Number                int64\n",
       "Air Date          datetime64[ns]\n",
       "Round                     object\n",
       "Category                  object\n",
       "Value                     object\n",
       "Question                  object\n",
       "Answer                    object\n",
       "clean_question            object\n",
       "clean_answer              object\n",
       "clean_value                int64\n",
       "dtype: object"
      ]
     },
     "execution_count": 11,
     "metadata": {},
     "output_type": "execute_result"
    }
   ],
   "source": [
    "jeopardy.dtypes"
   ]
  },
  {
   "cell_type": "markdown",
   "id": "3c559a1a",
   "metadata": {},
   "source": [
    "### Answers in Questions"
   ]
  },
  {
   "cell_type": "markdown",
   "id": "a2bc522e",
   "metadata": {},
   "source": [
    "One strategy would be not to spend time studying at all but using hints from the question to formulate an answer. To see if the strategy is viable we are going to write a function to find out how often the answer can be used for a question"
   ]
  },
  {
   "cell_type": "code",
   "execution_count": 12,
   "id": "641fa507",
   "metadata": {},
   "outputs": [],
   "source": [
    "def count_matches(row):\n",
    "    split_answer = row[\"clean_answer\"].split()\n",
    "    split_question = row[\"clean_question\"].split()\n",
    "    if \"the\" in split_answer:\n",
    "        split_answer.remove(\"the\")\n",
    "    if len(split_answer) == 0:\n",
    "        return 0\n",
    "    match_count = 0\n",
    "    for item in split_answer:\n",
    "        if item in split_question:\n",
    "            match_count += 1\n",
    "    return match_count / len(split_answer)\n",
    "\n",
    "jeopardy[\"answer_in_question\"] = jeopardy.apply(count_matches, axis=1)"
   ]
  },
  {
   "cell_type": "code",
   "execution_count": 13,
   "id": "2c6ebb2b",
   "metadata": {},
   "outputs": [
    {
     "data": {
      "text/plain": [
       "0.05900196524977763"
      ]
     },
     "execution_count": 13,
     "metadata": {},
     "output_type": "execute_result"
    }
   ],
   "source": [
    "jeopardy[\"answer_in_question\"].mean()"
   ]
  },
  {
   "cell_type": "markdown",
   "id": "d878f0c8",
   "metadata": {},
   "source": [
    "An average of 6% means that there are low chances that hearing a question will enable us to determine the answer, so we'll probably have to study."
   ]
  },
  {
   "cell_type": "markdown",
   "id": "8a3b3cbc",
   "metadata": {},
   "source": [
    "### Recycled Questions"
   ]
  },
  {
   "cell_type": "markdown",
   "id": "aa2ebc47",
   "metadata": {},
   "source": [
    "Next we want to find out how often new questions are repeated of older ones to find out if studying older questions is a good strategy. We will not consider any words shorter than 6 characters (to filter out words like the/than/and/or etc, which are commonly used, but don't tell you a lot about a question)."
   ]
  },
  {
   "cell_type": "code",
   "execution_count": 14,
   "id": "d452958c",
   "metadata": {},
   "outputs": [
    {
     "data": {
      "text/plain": [
       "0.6876260592169802"
      ]
     },
     "execution_count": 14,
     "metadata": {},
     "output_type": "execute_result"
    }
   ],
   "source": [
    "question_overlap = []\n",
    "terms_used = set()\n",
    "\n",
    "jeopardy = jeopardy.sort_values(\"Air Date\")\n",
    "\n",
    "for i, row in jeopardy.iterrows():\n",
    "        split_question = row[\"clean_question\"].split(\" \")\n",
    "        split_question = [q for q in split_question if len(q) > 5]\n",
    "        match_count = 0\n",
    "        for word in split_question:\n",
    "            if word in terms_used:\n",
    "                match_count += 1\n",
    "        for word in split_question:\n",
    "            terms_used.add(word)\n",
    "        if len(split_question) > 0:\n",
    "            match_count /= len(split_question)\n",
    "        question_overlap.append(match_count)\n",
    "jeopardy[\"question_overlap\"] = question_overlap\n",
    "\n",
    "jeopardy[\"question_overlap\"].mean()"
   ]
  },
  {
   "cell_type": "markdown",
   "id": "5a5ad7d4",
   "metadata": {},
   "source": [
    "It looks like on average 68% of terms that are used in older questions occur again, so it might be a good strategy to look at questions that were already used to prepare for the show if we want to participate."
   ]
  },
  {
   "cell_type": "markdown",
   "id": "1079d975",
   "metadata": {},
   "source": [
    "### Low Value vs High Value Questions"
   ]
  },
  {
   "cell_type": "markdown",
   "id": "801b5e86",
   "metadata": {},
   "source": [
    "To increase our chances to earn more money when on Jeopardy we want to study questions that pertain to high value questions instead of low value questions. \n",
    "We will figure out which terms correspond to high-value questions using a chi-squared test. First we need to narrow down the questions into two categories:\n",
    "\n",
    "* Low value -- Any row where Value is less than 800.\n",
    "* High value -- Any row where Value is greater than 800.\n",
    "\n",
    "We can find the words with the biggest differences in usage between high and low value questions, by selecting the words with the highest associated chi-squared values. Doing this for all of the words would take a very long time, so we'll just do it for a small sample now."
   ]
  },
  {
   "cell_type": "code",
   "execution_count": 15,
   "id": "e7b07ed7",
   "metadata": {
    "scrolled": true
   },
   "outputs": [],
   "source": [
    "def value_category(row):\n",
    " \n",
    "    \n",
    "    if row['clean_value'] > 800:\n",
    "        return 1\n",
    "    else:\n",
    "        return 0\n",
    "    \n",
    "jeopardy['high_value'] = jeopardy.apply(value_category, axis=1)"
   ]
  },
  {
   "cell_type": "code",
   "execution_count": 16,
   "id": "021c73d6",
   "metadata": {},
   "outputs": [],
   "source": [
    "def count_value(word):\n",
    "    low_count = 0\n",
    "    high_count = 0\n",
    "    for row in jeopardy.iterrows():\n",
    "        row = row[1]\n",
    "        split_question = row['clean_question'].split()\n",
    "        if word in split_question:\n",
    "            if row['high_value'] == 1:\n",
    "                high_count += 1\n",
    "            else:\n",
    "                low_count += 1\n",
    "    return high_count, low_count"
   ]
  },
  {
   "cell_type": "code",
   "execution_count": 17,
   "id": "ff1e4c6d",
   "metadata": {},
   "outputs": [
    {
     "name": "stdout",
     "output_type": "stream",
     "text": [
      "[(0, 1), (2, 4), (0, 1), (0, 1), (0, 1), (2, 0), (0, 3), (1, 0), (2, 2), (0, 1)]\n"
     ]
    }
   ],
   "source": [
    "comparison_terms = []\n",
    "comparison_terms = [choice(list(terms_used)) for i in range(10)] # picks a random smaple of 10 terms with replacement\n",
    "\n",
    "observed_expected = []\n",
    "for i in comparison_terms:\n",
    "    result = count_value(i)\n",
    "    observed_expected.append(result)\n",
    "    \n",
    "print(observed_expected)"
   ]
  },
  {
   "cell_type": "code",
   "execution_count": 18,
   "id": "01ec92a8",
   "metadata": {},
   "outputs": [
    {
     "data": {
      "text/plain": [
       "[Power_divergenceResult(statistic=2.487792117195675, pvalue=0.11473257634454047),\n",
       " Power_divergenceResult(statistic=4.235420876606389, pvalue=0.03958880694352712),\n",
       " Power_divergenceResult(statistic=2.487792117195675, pvalue=0.11473257634454047),\n",
       " Power_divergenceResult(statistic=2.487792117195675, pvalue=0.11473257634454047),\n",
       " Power_divergenceResult(statistic=2.487792117195675, pvalue=0.11473257634454047),\n",
       " Power_divergenceResult(statistic=0.803925692253768, pvalue=0.3699222378079571),\n",
       " Power_divergenceResult(statistic=7.463376351587025, pvalue=0.006296679668748999),\n",
       " Power_divergenceResult(statistic=0.401962846126884, pvalue=0.5260772985705469),\n",
       " Power_divergenceResult(statistic=0.889754963322559, pvalue=0.3455437191483469),\n",
       " Power_divergenceResult(statistic=2.487792117195675, pvalue=0.11473257634454047)]"
      ]
     },
     "execution_count": 18,
     "metadata": {},
     "output_type": "execute_result"
    }
   ],
   "source": [
    "high_value_count = jeopardy[jeopardy['high_value'] == 1].shape[0]\n",
    "low_value_count = jeopardy[jeopardy['high_value'] == 0].shape[0]\n",
    "\n",
    "chi_squared = []\n",
    "for value in observed_expected:\n",
    "    total = sum(value)\n",
    "    total_prop = total / jeopardy.shape[0]\n",
    "    exp_high = high_value_count * total_prop\n",
    "    exp_low = low_value_count * total_prop\n",
    "    \n",
    "    observed = np.array([value[0], value[1]])\n",
    "    expected = np.array([exp_low, exp_high])\n",
    "    chi_squared.append(chisquare(observed, expected))\n",
    "    \n",
    "chi_squared"
   ]
  },
  {
   "cell_type": "code",
   "execution_count": 19,
   "id": "55e8b130",
   "metadata": {},
   "outputs": [
    {
     "data": {
      "text/html": [
       "<div>\n",
       "<style scoped>\n",
       "    .dataframe tbody tr th:only-of-type {\n",
       "        vertical-align: middle;\n",
       "    }\n",
       "\n",
       "    .dataframe tbody tr th {\n",
       "        vertical-align: top;\n",
       "    }\n",
       "\n",
       "    .dataframe thead th {\n",
       "        text-align: right;\n",
       "    }\n",
       "</style>\n",
       "<table border=\"1\" class=\"dataframe\">\n",
       "  <thead>\n",
       "    <tr style=\"text-align: right;\">\n",
       "      <th></th>\n",
       "      <th>Low value count</th>\n",
       "      <th>High value count</th>\n",
       "      <th>Chi Square</th>\n",
       "      <th>p value</th>\n",
       "    </tr>\n",
       "  </thead>\n",
       "  <tbody>\n",
       "    <tr>\n",
       "      <th>saintexupery</th>\n",
       "      <td>0</td>\n",
       "      <td>1</td>\n",
       "      <td>2.487792</td>\n",
       "      <td>0.114733</td>\n",
       "    </tr>\n",
       "    <tr>\n",
       "      <th>garfunkel</th>\n",
       "      <td>2</td>\n",
       "      <td>4</td>\n",
       "      <td>4.235421</td>\n",
       "      <td>0.039589</td>\n",
       "    </tr>\n",
       "    <tr>\n",
       "      <th>chukutien</th>\n",
       "      <td>0</td>\n",
       "      <td>1</td>\n",
       "      <td>2.487792</td>\n",
       "      <td>0.114733</td>\n",
       "    </tr>\n",
       "    <tr>\n",
       "      <th>snells</th>\n",
       "      <td>0</td>\n",
       "      <td>1</td>\n",
       "      <td>2.487792</td>\n",
       "      <td>0.114733</td>\n",
       "    </tr>\n",
       "    <tr>\n",
       "      <th>leylandmanaged</th>\n",
       "      <td>0</td>\n",
       "      <td>1</td>\n",
       "      <td>2.487792</td>\n",
       "      <td>0.114733</td>\n",
       "    </tr>\n",
       "    <tr>\n",
       "      <th>pencils</th>\n",
       "      <td>2</td>\n",
       "      <td>0</td>\n",
       "      <td>0.803926</td>\n",
       "      <td>0.369922</td>\n",
       "    </tr>\n",
       "    <tr>\n",
       "      <th>frontiersman</th>\n",
       "      <td>0</td>\n",
       "      <td>3</td>\n",
       "      <td>7.463376</td>\n",
       "      <td>0.006297</td>\n",
       "    </tr>\n",
       "    <tr>\n",
       "      <th>dispensersa</th>\n",
       "      <td>1</td>\n",
       "      <td>0</td>\n",
       "      <td>0.401963</td>\n",
       "      <td>0.526077</td>\n",
       "    </tr>\n",
       "    <tr>\n",
       "      <th>dividing</th>\n",
       "      <td>2</td>\n",
       "      <td>2</td>\n",
       "      <td>0.889755</td>\n",
       "      <td>0.345544</td>\n",
       "    </tr>\n",
       "    <tr>\n",
       "      <th>kirsch</th>\n",
       "      <td>0</td>\n",
       "      <td>1</td>\n",
       "      <td>2.487792</td>\n",
       "      <td>0.114733</td>\n",
       "    </tr>\n",
       "  </tbody>\n",
       "</table>\n",
       "</div>"
      ],
      "text/plain": [
       "                Low value count  High value count  Chi Square   p value\n",
       "saintexupery                  0                 1    2.487792  0.114733\n",
       "garfunkel                     2                 4    4.235421  0.039589\n",
       "chukutien                     0                 1    2.487792  0.114733\n",
       "snells                        0                 1    2.487792  0.114733\n",
       "leylandmanaged                0                 1    2.487792  0.114733\n",
       "pencils                       2                 0    0.803926  0.369922\n",
       "frontiersman                  0                 3    7.463376  0.006297\n",
       "dispensersa                   1                 0    0.401963  0.526077\n",
       "dividing                      2                 2    0.889755  0.345544\n",
       "kirsch                        0                 1    2.487792  0.114733"
      ]
     },
     "execution_count": 19,
     "metadata": {},
     "output_type": "execute_result"
    }
   ],
   "source": [
    "results = pd.DataFrame(observed_expected, index = comparison_terms, columns = [\"Low value count\", \"High value count\"])\n",
    "results[\"Chi\"] = chi_squared\n",
    "results[[\"Chi Square\", \"p value\"]] = pd.DataFrame(results.Chi.tolist(), index= results.index)\n",
    "results.drop(\"Chi\", axis=1, inplace = True)\n",
    "\n",
    "results"
   ]
  },
  {
   "cell_type": "markdown",
   "id": "b04c1ef7",
   "metadata": {},
   "source": [
    "### Chi-Squared Results"
   ]
  },
  {
   "cell_type": "markdown",
   "id": "a0a77fc7",
   "metadata": {},
   "source": [
    "The pvalues are all less than the 5% threshold. None of the terms was statistically significant in usage between high value and low value rows. Also the chi-squared test is more valid when the freqeuncies are larger"
   ]
  },
  {
   "cell_type": "markdown",
   "id": "4a7538ba",
   "metadata": {},
   "source": [
    "### Popular Categories per Round"
   ]
  },
  {
   "cell_type": "markdown",
   "id": "0d9cf384",
   "metadata": {},
   "source": [
    "The game of Jeopardy has 4 different rounds and we are interested to find out the most frequent category of questions in each of them."
   ]
  },
  {
   "cell_type": "code",
   "execution_count": 20,
   "id": "0c1622ff",
   "metadata": {},
   "outputs": [
    {
     "data": {
      "text/plain": [
       "Jeopardy!           49.507475\n",
       "Double Jeopardy!    48.812441\n",
       "Final Jeopardy!      1.675084\n",
       "Tiebreaker           0.005000\n",
       "Name: Round, dtype: float64"
      ]
     },
     "execution_count": 20,
     "metadata": {},
     "output_type": "execute_result"
    }
   ],
   "source": [
    "jeopardy['Round'].value_counts(normalize=True)*100"
   ]
  },
  {
   "cell_type": "code",
   "execution_count": 21,
   "id": "1811f1f6",
   "metadata": {},
   "outputs": [
    {
     "name": "stdout",
     "output_type": "stream",
     "text": [
      "\n",
      "    WORD ORIGINS category has 2.39% of the questions in Final Jeopardy! round.\n",
      "\n",
      "\n",
      "    LITERATURE category has 0.359% of the questions in Double Jeopardy! round.\n",
      "\n",
      "\n",
      "    TELEVISION category has 0.353% of the questions in Jeopardy! round.\n",
      "\n",
      "\n",
      "    CHILD'S PLAY category has 1e+02% of the questions in Tiebreaker round.\n",
      "\n"
     ]
    }
   ],
   "source": [
    "for i in jeopardy['Round'].unique():\n",
    "    j_round = jeopardy.groupby(['Round']).get_group(i)\n",
    "    top_cat = j_round['Category'].value_counts(normalize=True)[0]*100\n",
    "    top_cat_name = j_round['Category'].value_counts().index[0] \n",
    "    \n",
    "    print(f'''\n",
    "    {top_cat_name} category has {top_cat:.3}% of the questions in {i} round.\n",
    "''')"
   ]
  },
  {
   "cell_type": "markdown",
   "id": "baa8b746",
   "metadata": {},
   "source": [
    "Jeopardy! and Double Jeopardy! rounds comprise 98% of the data. However even that we know the top categories of questions for these rounds they constitute only a small percent, so probably the questions come from numerous fields and focusing on a particular category won't be significant"
   ]
  },
  {
   "cell_type": "markdown",
   "id": "e65a380e",
   "metadata": {},
   "source": [
    "### Conclusion"
   ]
  },
  {
   "cell_type": "markdown",
   "id": "712407de",
   "metadata": {},
   "source": [
    "From the analysis above we concluded that:\n",
    "* An average of 5.8% of the words that form the answer also occur in the question \n",
    "* The mean proportion of terms that occured in past questions and are recycled is 68 %\n",
    "* According to the chi-squared test, we didn't find statistically significant values of frequencies of words that appear more on high value questions.\n",
    "* Focusing on a particular domain of questions is not significant since they constitute only a small percentage of the total questions\n",
    "Therefore, from these strategies the best one would be to study past questions."
   ]
  }
 ],
 "metadata": {
  "kernelspec": {
   "display_name": "Python 3 (ipykernel)",
   "language": "python",
   "name": "python3"
  },
  "language_info": {
   "codemirror_mode": {
    "name": "ipython",
    "version": 3
   },
   "file_extension": ".py",
   "mimetype": "text/x-python",
   "name": "python",
   "nbconvert_exporter": "python",
   "pygments_lexer": "ipython3",
   "version": "3.10.4"
  }
 },
 "nbformat": 4,
 "nbformat_minor": 5
}
