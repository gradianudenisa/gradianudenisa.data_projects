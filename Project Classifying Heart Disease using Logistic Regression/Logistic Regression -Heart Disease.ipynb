{
 "cells": [
  {
   "cell_type": "markdown",
   "id": "f407e879",
   "metadata": {},
   "source": [
    "## Project: Classifying Heart Disease using Logistic Regression"
   ]
  },
  {
   "cell_type": "markdown",
   "id": "907f765f",
   "metadata": {},
   "source": [
    "In this project we are going to use the machine learning pipeline, starting from examining the dataset itself to creating a polished classification model using binary logistic regression.\n",
    "\n",
    "We'll use a real-life dataset: the Heart Disease Data Set from [the UCI Machine Learning Repository](https://archive.ics.uci.edu/dataset/45/heart+disease). The dataset contains data from the  Cleveland Clinic Foundation, which recorded information on various patient characteristics, including age and chest pain, to try to classify the presence of heart disease in an individual. The original dataset contains 76 attributes, but in this analysis we will refer to only a subset of 14 of them"
   ]
  },
  {
   "cell_type": "code",
   "execution_count": 1,
   "id": "8b5e059b",
   "metadata": {},
   "outputs": [],
   "source": [
    "import pandas as pd\n",
    "import numpy as np\n",
    "import matplotlib.pyplot as plt\n",
    "import seaborn as sns\n",
    "from sklearn.model_selection import train_test_split\n",
    "from sklearn.linear_model import LogisticRegression\n",
    "from sklearn.metrics import confusion_matrix\n",
    "from sklearn.metrics import ConfusionMatrixDisplay"
   ]
  },
  {
   "cell_type": "markdown",
   "id": "ea4e125c",
   "metadata": {},
   "source": [
    "![Image](https://images.unsplash.com/photo-1628348070889-cb656235b4eb?ixlib=rb-4.0.3&ixid=M3wxMjA3fDB8MHxwaG90by1wYWdlfHx8fGVufDB8fHx8fA%3D%3D&auto=format&fit=crop&w=1740&q=80\n",
    "    )\n",
    "__Photo by Towfiqu barbhuiya on Unsplash__"
   ]
  },
  {
   "cell_type": "code",
   "execution_count": 2,
   "id": "375eb7cf",
   "metadata": {},
   "outputs": [],
   "source": [
    "heart=pd.read_csv(\"C:/Users/Denisa/Desktop/Project Apps/project 21/heart_disease.csv\")"
   ]
  },
  {
   "cell_type": "markdown",
   "id": "c5bcb594",
   "metadata": {},
   "source": [
    "### Exploring the Dataset"
   ]
  },
  {
   "cell_type": "code",
   "execution_count": 3,
   "id": "478166bd",
   "metadata": {},
   "outputs": [
    {
     "data": {
      "text/html": [
       "<div>\n",
       "<style scoped>\n",
       "    .dataframe tbody tr th:only-of-type {\n",
       "        vertical-align: middle;\n",
       "    }\n",
       "\n",
       "    .dataframe tbody tr th {\n",
       "        vertical-align: top;\n",
       "    }\n",
       "\n",
       "    .dataframe thead th {\n",
       "        text-align: right;\n",
       "    }\n",
       "</style>\n",
       "<table border=\"1\" class=\"dataframe\">\n",
       "  <thead>\n",
       "    <tr style=\"text-align: right;\">\n",
       "      <th></th>\n",
       "      <th>Unnamed: 0</th>\n",
       "      <th>age</th>\n",
       "      <th>sex</th>\n",
       "      <th>cp</th>\n",
       "      <th>trestbps</th>\n",
       "      <th>chol</th>\n",
       "      <th>fbs</th>\n",
       "      <th>restecg</th>\n",
       "      <th>thalach</th>\n",
       "      <th>exang</th>\n",
       "      <th>oldpeak</th>\n",
       "      <th>slope</th>\n",
       "      <th>ca</th>\n",
       "      <th>thal</th>\n",
       "      <th>present</th>\n",
       "    </tr>\n",
       "  </thead>\n",
       "  <tbody>\n",
       "    <tr>\n",
       "      <th>0</th>\n",
       "      <td>1</td>\n",
       "      <td>63</td>\n",
       "      <td>1</td>\n",
       "      <td>1</td>\n",
       "      <td>145</td>\n",
       "      <td>233</td>\n",
       "      <td>1</td>\n",
       "      <td>2</td>\n",
       "      <td>150</td>\n",
       "      <td>0</td>\n",
       "      <td>2.3</td>\n",
       "      <td>3</td>\n",
       "      <td>0.0</td>\n",
       "      <td>6.0</td>\n",
       "      <td>0</td>\n",
       "    </tr>\n",
       "    <tr>\n",
       "      <th>1</th>\n",
       "      <td>2</td>\n",
       "      <td>67</td>\n",
       "      <td>1</td>\n",
       "      <td>4</td>\n",
       "      <td>160</td>\n",
       "      <td>286</td>\n",
       "      <td>0</td>\n",
       "      <td>2</td>\n",
       "      <td>108</td>\n",
       "      <td>1</td>\n",
       "      <td>1.5</td>\n",
       "      <td>2</td>\n",
       "      <td>3.0</td>\n",
       "      <td>3.0</td>\n",
       "      <td>1</td>\n",
       "    </tr>\n",
       "    <tr>\n",
       "      <th>2</th>\n",
       "      <td>3</td>\n",
       "      <td>67</td>\n",
       "      <td>1</td>\n",
       "      <td>4</td>\n",
       "      <td>120</td>\n",
       "      <td>229</td>\n",
       "      <td>0</td>\n",
       "      <td>2</td>\n",
       "      <td>129</td>\n",
       "      <td>1</td>\n",
       "      <td>2.6</td>\n",
       "      <td>2</td>\n",
       "      <td>2.0</td>\n",
       "      <td>7.0</td>\n",
       "      <td>1</td>\n",
       "    </tr>\n",
       "    <tr>\n",
       "      <th>3</th>\n",
       "      <td>4</td>\n",
       "      <td>37</td>\n",
       "      <td>1</td>\n",
       "      <td>3</td>\n",
       "      <td>130</td>\n",
       "      <td>250</td>\n",
       "      <td>0</td>\n",
       "      <td>0</td>\n",
       "      <td>187</td>\n",
       "      <td>0</td>\n",
       "      <td>3.5</td>\n",
       "      <td>3</td>\n",
       "      <td>0.0</td>\n",
       "      <td>3.0</td>\n",
       "      <td>0</td>\n",
       "    </tr>\n",
       "    <tr>\n",
       "      <th>4</th>\n",
       "      <td>5</td>\n",
       "      <td>41</td>\n",
       "      <td>0</td>\n",
       "      <td>2</td>\n",
       "      <td>130</td>\n",
       "      <td>204</td>\n",
       "      <td>0</td>\n",
       "      <td>2</td>\n",
       "      <td>172</td>\n",
       "      <td>0</td>\n",
       "      <td>1.4</td>\n",
       "      <td>1</td>\n",
       "      <td>0.0</td>\n",
       "      <td>3.0</td>\n",
       "      <td>0</td>\n",
       "    </tr>\n",
       "    <tr>\n",
       "      <th>...</th>\n",
       "      <td>...</td>\n",
       "      <td>...</td>\n",
       "      <td>...</td>\n",
       "      <td>...</td>\n",
       "      <td>...</td>\n",
       "      <td>...</td>\n",
       "      <td>...</td>\n",
       "      <td>...</td>\n",
       "      <td>...</td>\n",
       "      <td>...</td>\n",
       "      <td>...</td>\n",
       "      <td>...</td>\n",
       "      <td>...</td>\n",
       "      <td>...</td>\n",
       "      <td>...</td>\n",
       "    </tr>\n",
       "    <tr>\n",
       "      <th>298</th>\n",
       "      <td>299</td>\n",
       "      <td>45</td>\n",
       "      <td>1</td>\n",
       "      <td>1</td>\n",
       "      <td>110</td>\n",
       "      <td>264</td>\n",
       "      <td>0</td>\n",
       "      <td>0</td>\n",
       "      <td>132</td>\n",
       "      <td>0</td>\n",
       "      <td>1.2</td>\n",
       "      <td>2</td>\n",
       "      <td>0.0</td>\n",
       "      <td>7.0</td>\n",
       "      <td>1</td>\n",
       "    </tr>\n",
       "    <tr>\n",
       "      <th>299</th>\n",
       "      <td>300</td>\n",
       "      <td>68</td>\n",
       "      <td>1</td>\n",
       "      <td>4</td>\n",
       "      <td>144</td>\n",
       "      <td>193</td>\n",
       "      <td>1</td>\n",
       "      <td>0</td>\n",
       "      <td>141</td>\n",
       "      <td>0</td>\n",
       "      <td>3.4</td>\n",
       "      <td>2</td>\n",
       "      <td>2.0</td>\n",
       "      <td>7.0</td>\n",
       "      <td>1</td>\n",
       "    </tr>\n",
       "    <tr>\n",
       "      <th>300</th>\n",
       "      <td>301</td>\n",
       "      <td>57</td>\n",
       "      <td>1</td>\n",
       "      <td>4</td>\n",
       "      <td>130</td>\n",
       "      <td>131</td>\n",
       "      <td>0</td>\n",
       "      <td>0</td>\n",
       "      <td>115</td>\n",
       "      <td>1</td>\n",
       "      <td>1.2</td>\n",
       "      <td>2</td>\n",
       "      <td>1.0</td>\n",
       "      <td>7.0</td>\n",
       "      <td>1</td>\n",
       "    </tr>\n",
       "    <tr>\n",
       "      <th>301</th>\n",
       "      <td>302</td>\n",
       "      <td>57</td>\n",
       "      <td>0</td>\n",
       "      <td>2</td>\n",
       "      <td>130</td>\n",
       "      <td>236</td>\n",
       "      <td>0</td>\n",
       "      <td>2</td>\n",
       "      <td>174</td>\n",
       "      <td>0</td>\n",
       "      <td>0.0</td>\n",
       "      <td>2</td>\n",
       "      <td>1.0</td>\n",
       "      <td>3.0</td>\n",
       "      <td>1</td>\n",
       "    </tr>\n",
       "    <tr>\n",
       "      <th>302</th>\n",
       "      <td>303</td>\n",
       "      <td>38</td>\n",
       "      <td>1</td>\n",
       "      <td>3</td>\n",
       "      <td>138</td>\n",
       "      <td>175</td>\n",
       "      <td>0</td>\n",
       "      <td>0</td>\n",
       "      <td>173</td>\n",
       "      <td>0</td>\n",
       "      <td>0.0</td>\n",
       "      <td>1</td>\n",
       "      <td>?</td>\n",
       "      <td>3.0</td>\n",
       "      <td>0</td>\n",
       "    </tr>\n",
       "  </tbody>\n",
       "</table>\n",
       "<p>303 rows × 15 columns</p>\n",
       "</div>"
      ],
      "text/plain": [
       "     Unnamed: 0  age  sex  cp  trestbps  chol  fbs  restecg  thalach  exang  \\\n",
       "0             1   63    1   1       145   233    1        2      150      0   \n",
       "1             2   67    1   4       160   286    0        2      108      1   \n",
       "2             3   67    1   4       120   229    0        2      129      1   \n",
       "3             4   37    1   3       130   250    0        0      187      0   \n",
       "4             5   41    0   2       130   204    0        2      172      0   \n",
       "..          ...  ...  ...  ..       ...   ...  ...      ...      ...    ...   \n",
       "298         299   45    1   1       110   264    0        0      132      0   \n",
       "299         300   68    1   4       144   193    1        0      141      0   \n",
       "300         301   57    1   4       130   131    0        0      115      1   \n",
       "301         302   57    0   2       130   236    0        2      174      0   \n",
       "302         303   38    1   3       138   175    0        0      173      0   \n",
       "\n",
       "     oldpeak  slope   ca thal  present  \n",
       "0        2.3      3  0.0  6.0        0  \n",
       "1        1.5      2  3.0  3.0        1  \n",
       "2        2.6      2  2.0  7.0        1  \n",
       "3        3.5      3  0.0  3.0        0  \n",
       "4        1.4      1  0.0  3.0        0  \n",
       "..       ...    ...  ...  ...      ...  \n",
       "298      1.2      2  0.0  7.0        1  \n",
       "299      3.4      2  2.0  7.0        1  \n",
       "300      1.2      2  1.0  7.0        1  \n",
       "301      0.0      2  1.0  3.0        1  \n",
       "302      0.0      1    ?  3.0        0  \n",
       "\n",
       "[303 rows x 15 columns]"
      ]
     },
     "execution_count": 3,
     "metadata": {},
     "output_type": "execute_result"
    }
   ],
   "source": [
    "heart"
   ]
  },
  {
   "cell_type": "code",
   "execution_count": 4,
   "id": "7ed972f7",
   "metadata": {},
   "outputs": [
    {
     "data": {
      "text/plain": [
       "Index(['Unnamed: 0', 'age', 'sex', 'cp', 'trestbps', 'chol', 'fbs', 'restecg',\n",
       "       'thalach', 'exang', 'oldpeak', 'slope', 'ca', 'thal', 'present'],\n",
       "      dtype='object')"
      ]
     },
     "execution_count": 4,
     "metadata": {},
     "output_type": "execute_result"
    }
   ],
   "source": [
    "heart.columns"
   ]
  },
  {
   "cell_type": "markdown",
   "id": "94644a08",
   "metadata": {},
   "source": [
    "Description of the columns:\n",
    "\n",
    "  * #3  `age` in years  \n",
    "  * #4  `sex` (1 = male; 0 = female)      \n",
    "  * #9  `cp` chest pain type\n",
    "  \n",
    "    -- Value 1: typical angina\n",
    "    \n",
    "    -- Value 2: atypical angina\n",
    "    \n",
    "    -- Value 3: non-anginal pain\n",
    "    \n",
    "    -- Value 4: asymptomatic       \n",
    "  * #10 `trestbps` resting blood pressure (in mm Hg on admission to the hospital) \n",
    "  * #12 `chol` serum cholestoral in mg/dl     \n",
    "  * #16 `fbs` (fasting blood sugar > 120 mg/dl)  (1 = true; 0 = false)      \n",
    "  * #19 `restecg`) resting electrocardiographic results\n",
    "  \n",
    "    -- Value 0: normal\n",
    "    \n",
    "    -- Value 1: having ST-T wave abnormality (T wave inversions and/or ST elevation or depression of > 0.05 mV)\n",
    "    \n",
    "    -- Value 2: showing probable or definite left ventricular hypertrophy by Estes' criteria  \n",
    "  * #32 `thalach` maximum heart rate achieved  \n",
    "  * #38 `exang` exercise induced angina (1 = yes; 0 = no)    \n",
    "  * #40 `oldpeak` ST depression induced by exercise relative to rest  \n",
    "  * #41 `slope`  the slope of the peak exercise ST segment\n",
    "  \n",
    "    -- Value 1: upsloping\n",
    "    \n",
    "    -- Value 2: flat\n",
    "    \n",
    "    -- Value 3: downsloping    \n",
    "  * #44 `ca` number of major vessels (0-3) colored by flourosopy       \n",
    "  * #51 `thal`  3 = normal; 6 = fixed defect; 7 = reversable defect     \n",
    "  * #58 `present` diagnosis of heart disease (angiographic disease status)\n",
    "  \n",
    "    -- Value 0: < 50% diameter narrowing\n",
    "    \n",
    "    -- Value 1: > 50% diameter narrowing\n",
    "    (in any major vessel: attributes 59 through 68 are vessels)      (the predicted attribute)"
   ]
  },
  {
   "cell_type": "code",
   "execution_count": 5,
   "id": "1f5579c5",
   "metadata": {},
   "outputs": [
    {
     "data": {
      "text/plain": [
       "<bound method NDFrame.head of      Unnamed: 0  age  sex  cp  trestbps  chol  fbs  restecg  thalach  exang  \\\n",
       "0             1   63    1   1       145   233    1        2      150      0   \n",
       "1             2   67    1   4       160   286    0        2      108      1   \n",
       "2             3   67    1   4       120   229    0        2      129      1   \n",
       "3             4   37    1   3       130   250    0        0      187      0   \n",
       "4             5   41    0   2       130   204    0        2      172      0   \n",
       "..          ...  ...  ...  ..       ...   ...  ...      ...      ...    ...   \n",
       "298         299   45    1   1       110   264    0        0      132      0   \n",
       "299         300   68    1   4       144   193    1        0      141      0   \n",
       "300         301   57    1   4       130   131    0        0      115      1   \n",
       "301         302   57    0   2       130   236    0        2      174      0   \n",
       "302         303   38    1   3       138   175    0        0      173      0   \n",
       "\n",
       "     oldpeak  slope   ca thal  present  \n",
       "0        2.3      3  0.0  6.0        0  \n",
       "1        1.5      2  3.0  3.0        1  \n",
       "2        2.6      2  2.0  7.0        1  \n",
       "3        3.5      3  0.0  3.0        0  \n",
       "4        1.4      1  0.0  3.0        0  \n",
       "..       ...    ...  ...  ...      ...  \n",
       "298      1.2      2  0.0  7.0        1  \n",
       "299      3.4      2  2.0  7.0        1  \n",
       "300      1.2      2  1.0  7.0        1  \n",
       "301      0.0      2  1.0  3.0        1  \n",
       "302      0.0      1    ?  3.0        0  \n",
       "\n",
       "[303 rows x 15 columns]>"
      ]
     },
     "execution_count": 5,
     "metadata": {},
     "output_type": "execute_result"
    }
   ],
   "source": [
    "heart.head"
   ]
  },
  {
   "cell_type": "markdown",
   "id": "07853c39",
   "metadata": {},
   "source": [
    "The `present` column is our binary outcome of interest. 0 encodes the absence of any heart disease, while 1 encodes the presence."
   ]
  },
  {
   "cell_type": "code",
   "execution_count": 6,
   "id": "803e0a65",
   "metadata": {},
   "outputs": [
    {
     "name": "stdout",
     "output_type": "stream",
     "text": [
      "<class 'pandas.core.frame.DataFrame'>\n",
      "RangeIndex: 303 entries, 0 to 302\n",
      "Data columns (total 15 columns):\n",
      " #   Column      Non-Null Count  Dtype  \n",
      "---  ------      --------------  -----  \n",
      " 0   Unnamed: 0  303 non-null    int64  \n",
      " 1   age         303 non-null    int64  \n",
      " 2   sex         303 non-null    int64  \n",
      " 3   cp          303 non-null    int64  \n",
      " 4   trestbps    303 non-null    int64  \n",
      " 5   chol        303 non-null    int64  \n",
      " 6   fbs         303 non-null    int64  \n",
      " 7   restecg     303 non-null    int64  \n",
      " 8   thalach     303 non-null    int64  \n",
      " 9   exang       303 non-null    int64  \n",
      " 10  oldpeak     303 non-null    float64\n",
      " 11  slope       303 non-null    int64  \n",
      " 12  ca          303 non-null    object \n",
      " 13  thal        303 non-null    object \n",
      " 14  present     303 non-null    int64  \n",
      "dtypes: float64(1), int64(12), object(2)\n",
      "memory usage: 35.6+ KB\n"
     ]
    }
   ],
   "source": [
    "heart.info()"
   ]
  },
  {
   "cell_type": "code",
   "execution_count": 7,
   "id": "87072605",
   "metadata": {},
   "outputs": [
    {
     "data": {
      "text/plain": [
       "0.0    176\n",
       "1.0     65\n",
       "2.0     38\n",
       "3.0     20\n",
       "?        4\n",
       "Name: ca, dtype: int64"
      ]
     },
     "execution_count": 7,
     "metadata": {},
     "output_type": "execute_result"
    }
   ],
   "source": [
    "heart[\"ca\"].value_counts()"
   ]
  },
  {
   "cell_type": "code",
   "execution_count": 8,
   "id": "0eeb356e",
   "metadata": {},
   "outputs": [
    {
     "data": {
      "text/plain": [
       "3.0    166\n",
       "7.0    117\n",
       "6.0     18\n",
       "?        2\n",
       "Name: thal, dtype: int64"
      ]
     },
     "execution_count": 8,
     "metadata": {},
     "output_type": "execute_result"
    }
   ],
   "source": [
    "heart[\"thal\"].value_counts()"
   ]
  },
  {
   "cell_type": "markdown",
   "id": "f949f036",
   "metadata": {},
   "source": [
    "We will drop the rows with '?' and turn the `ca` and `thal` columns into float."
   ]
  },
  {
   "cell_type": "code",
   "execution_count": 9,
   "id": "cb387e3d",
   "metadata": {},
   "outputs": [],
   "source": [
    "heart = heart[heart['ca'] != '?']\n",
    "heart = heart[heart['thal'] != '?']"
   ]
  },
  {
   "cell_type": "code",
   "execution_count": 10,
   "id": "eb4c69fc",
   "metadata": {},
   "outputs": [],
   "source": [
    "heart['ca'] = heart['ca'].astype('float')\n",
    "heart['thal'] = heart['thal'].astype('float')"
   ]
  },
  {
   "cell_type": "code",
   "execution_count": 11,
   "id": "e0396eac",
   "metadata": {},
   "outputs": [
    {
     "data": {
      "text/html": [
       "<div>\n",
       "<style scoped>\n",
       "    .dataframe tbody tr th:only-of-type {\n",
       "        vertical-align: middle;\n",
       "    }\n",
       "\n",
       "    .dataframe tbody tr th {\n",
       "        vertical-align: top;\n",
       "    }\n",
       "\n",
       "    .dataframe thead th {\n",
       "        text-align: right;\n",
       "    }\n",
       "</style>\n",
       "<table border=\"1\" class=\"dataframe\">\n",
       "  <thead>\n",
       "    <tr style=\"text-align: right;\">\n",
       "      <th></th>\n",
       "      <th>Unnamed: 0</th>\n",
       "      <th>age</th>\n",
       "      <th>sex</th>\n",
       "      <th>cp</th>\n",
       "      <th>trestbps</th>\n",
       "      <th>chol</th>\n",
       "      <th>fbs</th>\n",
       "      <th>restecg</th>\n",
       "      <th>thalach</th>\n",
       "      <th>exang</th>\n",
       "      <th>oldpeak</th>\n",
       "      <th>slope</th>\n",
       "      <th>ca</th>\n",
       "      <th>thal</th>\n",
       "      <th>present</th>\n",
       "    </tr>\n",
       "  </thead>\n",
       "  <tbody>\n",
       "    <tr>\n",
       "      <th>count</th>\n",
       "      <td>297.000000</td>\n",
       "      <td>297.000000</td>\n",
       "      <td>297.000000</td>\n",
       "      <td>297.000000</td>\n",
       "      <td>297.000000</td>\n",
       "      <td>297.000000</td>\n",
       "      <td>297.000000</td>\n",
       "      <td>297.000000</td>\n",
       "      <td>297.000000</td>\n",
       "      <td>297.000000</td>\n",
       "      <td>297.000000</td>\n",
       "      <td>297.000000</td>\n",
       "      <td>297.000000</td>\n",
       "      <td>297.000000</td>\n",
       "      <td>297.000000</td>\n",
       "    </tr>\n",
       "    <tr>\n",
       "      <th>mean</th>\n",
       "      <td>150.673401</td>\n",
       "      <td>54.542088</td>\n",
       "      <td>0.676768</td>\n",
       "      <td>3.158249</td>\n",
       "      <td>131.693603</td>\n",
       "      <td>247.350168</td>\n",
       "      <td>0.144781</td>\n",
       "      <td>0.996633</td>\n",
       "      <td>149.599327</td>\n",
       "      <td>0.326599</td>\n",
       "      <td>1.055556</td>\n",
       "      <td>1.602694</td>\n",
       "      <td>0.676768</td>\n",
       "      <td>4.730640</td>\n",
       "      <td>0.461279</td>\n",
       "    </tr>\n",
       "    <tr>\n",
       "      <th>std</th>\n",
       "      <td>87.323283</td>\n",
       "      <td>9.049736</td>\n",
       "      <td>0.468500</td>\n",
       "      <td>0.964859</td>\n",
       "      <td>17.762806</td>\n",
       "      <td>51.997583</td>\n",
       "      <td>0.352474</td>\n",
       "      <td>0.994914</td>\n",
       "      <td>22.941562</td>\n",
       "      <td>0.469761</td>\n",
       "      <td>1.166123</td>\n",
       "      <td>0.618187</td>\n",
       "      <td>0.938965</td>\n",
       "      <td>1.938629</td>\n",
       "      <td>0.499340</td>\n",
       "    </tr>\n",
       "    <tr>\n",
       "      <th>min</th>\n",
       "      <td>1.000000</td>\n",
       "      <td>29.000000</td>\n",
       "      <td>0.000000</td>\n",
       "      <td>1.000000</td>\n",
       "      <td>94.000000</td>\n",
       "      <td>126.000000</td>\n",
       "      <td>0.000000</td>\n",
       "      <td>0.000000</td>\n",
       "      <td>71.000000</td>\n",
       "      <td>0.000000</td>\n",
       "      <td>0.000000</td>\n",
       "      <td>1.000000</td>\n",
       "      <td>0.000000</td>\n",
       "      <td>3.000000</td>\n",
       "      <td>0.000000</td>\n",
       "    </tr>\n",
       "    <tr>\n",
       "      <th>25%</th>\n",
       "      <td>75.000000</td>\n",
       "      <td>48.000000</td>\n",
       "      <td>0.000000</td>\n",
       "      <td>3.000000</td>\n",
       "      <td>120.000000</td>\n",
       "      <td>211.000000</td>\n",
       "      <td>0.000000</td>\n",
       "      <td>0.000000</td>\n",
       "      <td>133.000000</td>\n",
       "      <td>0.000000</td>\n",
       "      <td>0.000000</td>\n",
       "      <td>1.000000</td>\n",
       "      <td>0.000000</td>\n",
       "      <td>3.000000</td>\n",
       "      <td>0.000000</td>\n",
       "    </tr>\n",
       "    <tr>\n",
       "      <th>50%</th>\n",
       "      <td>150.000000</td>\n",
       "      <td>56.000000</td>\n",
       "      <td>1.000000</td>\n",
       "      <td>3.000000</td>\n",
       "      <td>130.000000</td>\n",
       "      <td>243.000000</td>\n",
       "      <td>0.000000</td>\n",
       "      <td>1.000000</td>\n",
       "      <td>153.000000</td>\n",
       "      <td>0.000000</td>\n",
       "      <td>0.800000</td>\n",
       "      <td>2.000000</td>\n",
       "      <td>0.000000</td>\n",
       "      <td>3.000000</td>\n",
       "      <td>0.000000</td>\n",
       "    </tr>\n",
       "    <tr>\n",
       "      <th>75%</th>\n",
       "      <td>226.000000</td>\n",
       "      <td>61.000000</td>\n",
       "      <td>1.000000</td>\n",
       "      <td>4.000000</td>\n",
       "      <td>140.000000</td>\n",
       "      <td>276.000000</td>\n",
       "      <td>0.000000</td>\n",
       "      <td>2.000000</td>\n",
       "      <td>166.000000</td>\n",
       "      <td>1.000000</td>\n",
       "      <td>1.600000</td>\n",
       "      <td>2.000000</td>\n",
       "      <td>1.000000</td>\n",
       "      <td>7.000000</td>\n",
       "      <td>1.000000</td>\n",
       "    </tr>\n",
       "    <tr>\n",
       "      <th>max</th>\n",
       "      <td>302.000000</td>\n",
       "      <td>77.000000</td>\n",
       "      <td>1.000000</td>\n",
       "      <td>4.000000</td>\n",
       "      <td>200.000000</td>\n",
       "      <td>564.000000</td>\n",
       "      <td>1.000000</td>\n",
       "      <td>2.000000</td>\n",
       "      <td>202.000000</td>\n",
       "      <td>1.000000</td>\n",
       "      <td>6.200000</td>\n",
       "      <td>3.000000</td>\n",
       "      <td>3.000000</td>\n",
       "      <td>7.000000</td>\n",
       "      <td>1.000000</td>\n",
       "    </tr>\n",
       "  </tbody>\n",
       "</table>\n",
       "</div>"
      ],
      "text/plain": [
       "       Unnamed: 0         age         sex          cp    trestbps        chol  \\\n",
       "count  297.000000  297.000000  297.000000  297.000000  297.000000  297.000000   \n",
       "mean   150.673401   54.542088    0.676768    3.158249  131.693603  247.350168   \n",
       "std     87.323283    9.049736    0.468500    0.964859   17.762806   51.997583   \n",
       "min      1.000000   29.000000    0.000000    1.000000   94.000000  126.000000   \n",
       "25%     75.000000   48.000000    0.000000    3.000000  120.000000  211.000000   \n",
       "50%    150.000000   56.000000    1.000000    3.000000  130.000000  243.000000   \n",
       "75%    226.000000   61.000000    1.000000    4.000000  140.000000  276.000000   \n",
       "max    302.000000   77.000000    1.000000    4.000000  200.000000  564.000000   \n",
       "\n",
       "              fbs     restecg     thalach       exang     oldpeak       slope  \\\n",
       "count  297.000000  297.000000  297.000000  297.000000  297.000000  297.000000   \n",
       "mean     0.144781    0.996633  149.599327    0.326599    1.055556    1.602694   \n",
       "std      0.352474    0.994914   22.941562    0.469761    1.166123    0.618187   \n",
       "min      0.000000    0.000000   71.000000    0.000000    0.000000    1.000000   \n",
       "25%      0.000000    0.000000  133.000000    0.000000    0.000000    1.000000   \n",
       "50%      0.000000    1.000000  153.000000    0.000000    0.800000    2.000000   \n",
       "75%      0.000000    2.000000  166.000000    1.000000    1.600000    2.000000   \n",
       "max      1.000000    2.000000  202.000000    1.000000    6.200000    3.000000   \n",
       "\n",
       "               ca        thal     present  \n",
       "count  297.000000  297.000000  297.000000  \n",
       "mean     0.676768    4.730640    0.461279  \n",
       "std      0.938965    1.938629    0.499340  \n",
       "min      0.000000    3.000000    0.000000  \n",
       "25%      0.000000    3.000000    0.000000  \n",
       "50%      0.000000    3.000000    0.000000  \n",
       "75%      1.000000    7.000000    1.000000  \n",
       "max      3.000000    7.000000    1.000000  "
      ]
     },
     "execution_count": 11,
     "metadata": {},
     "output_type": "execute_result"
    }
   ],
   "source": [
    "heart.describe()"
   ]
  },
  {
   "cell_type": "markdown",
   "id": "e7d954f6",
   "metadata": {},
   "source": [
    "Checking the target variable"
   ]
  },
  {
   "cell_type": "code",
   "execution_count": 12,
   "id": "0e351671",
   "metadata": {},
   "outputs": [
    {
     "data": {
      "text/plain": [
       "array([[<AxesSubplot:title={'center':'present'}>]], dtype=object)"
      ]
     },
     "execution_count": 12,
     "metadata": {},
     "output_type": "execute_result"
    },
    {
     "data": {
      "image/png": "[encoded data removed]",
      "text/plain": [
       "<Figure size 432x288 with 1 Axes>"
      ]
     },
     "metadata": {
      "needs_background": "light"
     },
     "output_type": "display_data"
    }
   ],
   "source": [
    "heart.hist(\"present\")"
   ]
  },
  {
   "cell_type": "markdown",
   "id": "e89c6b82",
   "metadata": {},
   "source": [
    "### Dividing the Data\n",
    "\n",
    "We'll need the following:\n",
    "\n",
    "A training set that will be used to estimate the regression coefficients.\n",
    "\n",
    "A test set that will be used to assess the predictive ability of the model. \n",
    "\n",
    "We'll use a 70-30 split of the dataset for the training and test sets.\n"
   ]
  },
  {
   "cell_type": "code",
   "execution_count": 13,
   "id": "3241746a",
   "metadata": {},
   "outputs": [],
   "source": [
    "X=heart.drop([\"present\"],axis=1)\n",
    "y=heart[\"present\"]\n",
    "# 70% for training set, 30% for test set\n",
    "X_train, X_test, y_train, y_test = train_test_split(X, y, test_size = 0.3, random_state = 1)"
   ]
  },
  {
   "cell_type": "code",
   "execution_count": 14,
   "id": "7ea701df",
   "metadata": {},
   "outputs": [
    {
     "name": "stdout",
     "output_type": "stream",
     "text": [
      "Y_train:  109\n",
      "Y_train:  98\n",
      "Y_test:  51\n",
      "Y_test:  39\n"
     ]
    }
   ],
   "source": [
    "# Check that both the training and test datasets have cases and non-cases\n",
    "print(\"Y_train: \", sum(y_train == 0))\n",
    "print(\"Y_train: \", sum(y_train == 1))\n",
    "print(\"Y_test: \", sum(y_test == 0))\n",
    "print(\"Y_test: \", sum(y_test == 1))"
   ]
  },
  {
   "cell_type": "markdown",
   "id": "e7ee2c52",
   "metadata": {},
   "source": [
    "We confirm above that there are both cases and non-cases in both the training and test sets"
   ]
  },
  {
   "cell_type": "markdown",
   "id": "a1c423b4",
   "metadata": {},
   "source": [
    "We will scale the data because the dataset contain fetures that are greatly varying in range."
   ]
  },
  {
   "cell_type": "code",
   "execution_count": 15,
   "id": "e749fc63",
   "metadata": {},
   "outputs": [],
   "source": [
    "from sklearn.preprocessing import StandardScaler\n",
    "scaler = StandardScaler()\n",
    "scaler.fit(heart)\n",
    "heart = pd.DataFrame(scaler.transform(heart), columns = heart.columns)"
   ]
  },
  {
   "cell_type": "code",
   "execution_count": 16,
   "id": "3cebcec3",
   "metadata": {},
   "outputs": [
    {
     "data": {
      "image/png": "[encoded data removed]",
      "text/plain": [
       "<Figure size 504x504 with 1 Axes>"
      ]
     },
     "metadata": {
      "needs_background": "light"
     },
     "output_type": "display_data"
    }
   ],
   "source": [
    "# Evaluating the correlation between variables \n",
    "plt.figure(figsize=(7,7))\n",
    "correlations = heart.corr()\n",
    "\n",
    "sns.set(font_scale=1.1)\n",
    "\n",
    "sns.heatmap(correlations,\n",
    "            annot=True,\n",
    "            fmt='.2f',\n",
    "            cmap='Purples',\n",
    "            square=True,\n",
    "            linewidths=1,\n",
    "            cbar=False)\n",
    "\n",
    "plt.show()"
   ]
  },
  {
   "cell_type": "code",
   "execution_count": 17,
   "id": "9cdcbc6c",
   "metadata": {},
   "outputs": [
    {
     "data": {
      "text/plain": [
       "present       1.000000\n",
       "thal          0.526640\n",
       "ca            0.463189\n",
       "oldpeak       0.424052\n",
       "exang         0.421355\n",
       "cp            0.408945\n",
       "slope         0.333049\n",
       "sex           0.278467\n",
       "age           0.227075\n",
       "restecg       0.166343\n",
       "trestbps      0.153490\n",
       "chol          0.080285\n",
       "Unnamed: 0    0.051891\n",
       "fbs           0.003167\n",
       "thalach      -0.423817\n",
       "Name: present, dtype: float64"
      ]
     },
     "execution_count": 17,
     "metadata": {},
     "output_type": "execute_result"
    }
   ],
   "source": [
    "# Gets correlations with present\n",
    "correlations['present'].sort_values(ascending=False)"
   ]
  },
  {
   "cell_type": "code",
   "execution_count": 18,
   "id": "f587959e",
   "metadata": {},
   "outputs": [
    {
     "data": {
      "text/plain": [
       "Index(['exang', 'oldpeak', 'ca', 'thal'], dtype='object')"
      ]
     },
     "execution_count": 18,
     "metadata": {},
     "output_type": "execute_result"
    }
   ],
   "source": [
    "# Drops present\n",
    "correlations = correlations.drop(['present'])\n",
    "\n",
    "predictors = correlations['present'][correlations['present'] > 0.42].index\n",
    "predictors"
   ]
  },
  {
   "cell_type": "markdown",
   "id": "e04e6069",
   "metadata": {},
   "source": [
    "* exang, \n",
    "* oldpeak, \n",
    "* ca, \n",
    "* thal seem like good candidates for predictors\n",
    "Next, we will perform feature selection via the Split-Apply-Combine workflow. We are interested in which predictors are meaningfully different when comparing between the 0 and 1 classes."
   ]
  },
  {
   "cell_type": "code",
   "execution_count": 19,
   "id": "5188797a",
   "metadata": {},
   "outputs": [
    {
     "data": {
      "text/html": [
       "<div>\n",
       "<style scoped>\n",
       "    .dataframe tbody tr th:only-of-type {\n",
       "        vertical-align: middle;\n",
       "    }\n",
       "\n",
       "    .dataframe tbody tr th {\n",
       "        vertical-align: top;\n",
       "    }\n",
       "\n",
       "    .dataframe thead th {\n",
       "        text-align: right;\n",
       "    }\n",
       "</style>\n",
       "<table border=\"1\" class=\"dataframe\">\n",
       "  <thead>\n",
       "    <tr style=\"text-align: right;\">\n",
       "      <th></th>\n",
       "      <th>age</th>\n",
       "      <th>sex</th>\n",
       "      <th>cp</th>\n",
       "      <th>trestbps</th>\n",
       "      <th>chol</th>\n",
       "      <th>fbs</th>\n",
       "      <th>restecg</th>\n",
       "      <th>thalach</th>\n",
       "      <th>exang</th>\n",
       "      <th>oldpeak</th>\n",
       "      <th>slope</th>\n",
       "      <th>ca</th>\n",
       "      <th>thal</th>\n",
       "    </tr>\n",
       "    <tr>\n",
       "      <th>present</th>\n",
       "      <th></th>\n",
       "      <th></th>\n",
       "      <th></th>\n",
       "      <th></th>\n",
       "      <th></th>\n",
       "      <th></th>\n",
       "      <th></th>\n",
       "      <th></th>\n",
       "      <th></th>\n",
       "      <th></th>\n",
       "      <th></th>\n",
       "      <th></th>\n",
       "      <th></th>\n",
       "    </tr>\n",
       "  </thead>\n",
       "  <tbody>\n",
       "    <tr>\n",
       "      <th>-0.925338</th>\n",
       "      <td>-0.210121</td>\n",
       "      <td>-0.257676</td>\n",
       "      <td>-0.378412</td>\n",
       "      <td>-0.142030</td>\n",
       "      <td>-0.074291</td>\n",
       "      <td>-0.002930</td>\n",
       "      <td>-0.153924</td>\n",
       "      <td>0.392174</td>\n",
       "      <td>-0.389896</td>\n",
       "      <td>-0.392391</td>\n",
       "      <td>-0.308183</td>\n",
       "      <td>-0.428606</td>\n",
       "      <td>-0.487319</td>\n",
       "    </tr>\n",
       "    <tr>\n",
       "      <th>1.080686</th>\n",
       "      <td>0.245397</td>\n",
       "      <td>0.300935</td>\n",
       "      <td>0.441941</td>\n",
       "      <td>0.165875</td>\n",
       "      <td>0.086763</td>\n",
       "      <td>0.003422</td>\n",
       "      <td>0.179765</td>\n",
       "      <td>-0.458013</td>\n",
       "      <td>0.455353</td>\n",
       "      <td>0.458267</td>\n",
       "      <td>0.359922</td>\n",
       "      <td>0.500562</td>\n",
       "      <td>0.569132</td>\n",
       "    </tr>\n",
       "  </tbody>\n",
       "</table>\n",
       "</div>"
      ],
      "text/plain": [
       "                age       sex        cp  trestbps      chol       fbs  \\\n",
       "present                                                                 \n",
       "-0.925338 -0.210121 -0.257676 -0.378412 -0.142030 -0.074291 -0.002930   \n",
       " 1.080686  0.245397  0.300935  0.441941  0.165875  0.086763  0.003422   \n",
       "\n",
       "            restecg   thalach     exang   oldpeak     slope        ca  \\\n",
       "present                                                                 \n",
       "-0.925338 -0.153924  0.392174 -0.389896 -0.392391 -0.308183 -0.428606   \n",
       " 1.080686  0.179765 -0.458013  0.455353  0.458267  0.359922  0.500562   \n",
       "\n",
       "               thal  \n",
       "present              \n",
       "-0.925338 -0.487319  \n",
       " 1.080686  0.569132  "
      ]
     },
     "execution_count": 19,
     "metadata": {},
     "output_type": "execute_result"
    }
   ],
   "source": [
    "heart.groupby(\"present\").agg(\n",
    "    {\n",
    "        \"age\": \"mean\",\n",
    "        \"sex\": \"mean\",\n",
    "        \"cp\": \"mean\",\n",
    "        \"trestbps\": \"mean\",\n",
    "        \"chol\": \"mean\",\n",
    "        \"fbs\": \"mean\",\n",
    "        \"restecg\": \"mean\",\n",
    "        \"thalach\": \"mean\",\n",
    "        \"exang\": \"mean\",\n",
    "        \"oldpeak\": \"mean\",\n",
    "        \"slope\": \"mean\",\n",
    "        \"ca\": \"mean\",\n",
    "        \"thal\": \"mean\"\n",
    "    }\n",
    ")"
   ]
  },
  {
   "cell_type": "markdown",
   "id": "11246849",
   "metadata": {},
   "source": [
    "`thal`,`ca`, `oldpeak`,  `thalach`, `exang` seem like the best candidates (in this order)"
   ]
  },
  {
   "cell_type": "markdown",
   "id": "68564c81",
   "metadata": {},
   "source": [
    "We will also use the Recursive Feature Elimination algorithm "
   ]
  },
  {
   "cell_type": "code",
   "execution_count": 20,
   "id": "cd3c8ea8",
   "metadata": {},
   "outputs": [],
   "source": [
    "X = heart.drop(['present'],axis=1)\n",
    "y = heart[\"present\"]\n",
    "\n",
    "from sklearn.preprocessing import LabelEncoder\n",
    "\n",
    "label_encoder = LabelEncoder()\n",
    "y_label = label_encoder.fit_transform(heart[\"present\"])"
   ]
  },
  {
   "cell_type": "code",
   "execution_count": 21,
   "id": "1cc4e01c",
   "metadata": {},
   "outputs": [],
   "source": [
    "from sklearn.feature_selection import RFE\n",
    "model=LogisticRegression(solver='lbfgs', max_iter=500)\n"
   ]
  },
  {
   "cell_type": "code",
   "execution_count": 22,
   "id": "abdedaab",
   "metadata": {},
   "outputs": [
    {
     "name": "stdout",
     "output_type": "stream",
     "text": [
      "[False False False  True False False False False False  True False False\n",
      "  True  True]\n",
      "[ 9 11  3  1  5 10  6  8  4  1  7  2  1  1]\n",
      "Index(['cp', 'exang', 'ca', 'thal'], dtype='object')\n"
     ]
    }
   ],
   "source": [
    "rfe=RFE(model,n_features_to_select=4,step=1)\n",
    "rfe=rfe.fit(X,y_label)\n",
    "print(rfe.support_)\n",
    "print(rfe.ranking_)\n",
    "for feature in rfe.support_.nonzero():\n",
    "    print(X.columns[feature])"
   ]
  },
  {
   "cell_type": "markdown",
   "id": "f2dcde3b",
   "metadata": {},
   "source": [
    "### Building the Model"
   ]
  },
  {
   "cell_type": "code",
   "execution_count": 23,
   "id": "f475f124",
   "metadata": {},
   "outputs": [
    {
     "name": "stdout",
     "output_type": "stream",
     "text": [
      "Training Accuracy:  0.8260869565217391\n",
      "Training Sensitivity:  0.7857142857142857\n",
      "Training Specificity:  0.8623853211009175\n"
     ]
    }
   ],
   "source": [
    "model = LogisticRegression()\n",
    "\n",
    "X_train = X_train[['exang', 'oldpeak', 'ca', 'thal']]\n",
    "\n",
    "X_test = X_test[['exang', 'oldpeak', 'ca', 'thal']]\n",
    "\n",
    "model.fit(X_train, y_train)\n",
    "# Checking the various metrics for the model\n",
    "acc = model.score(X_train, y_train)\n",
    "\n",
    "predictions = model.predict(X_train)\n",
    "tp = sum((predictions == 1) & (y_train == 1))\n",
    "fp = sum((predictions == 1) & (y_train == 0))\n",
    "tn = sum((predictions == 0) & (y_train == 0))\n",
    "fn = sum((predictions == 0) & (y_train == 1))\n",
    "sens = tp / (tp + fn)\n",
    "spec = tn / (tn + fp)\n",
    "\n",
    "print(\"Training Accuracy: \", acc)\n",
    "print(\"Training Sensitivity: \", sens)\n",
    "print(\"Training Specificity: \", spec)"
   ]
  },
  {
   "cell_type": "code",
   "execution_count": 24,
   "id": "6bcf8ca4",
   "metadata": {
    "scrolled": true
   },
   "outputs": [
    {
     "name": "stdout",
     "output_type": "stream",
     "text": [
      "Training Accuracy:  0.8357487922705314\n",
      "Training Sensitivity:  0.8061224489795918\n",
      "Training Specificity:  0.8623853211009175\n"
     ]
    }
   ],
   "source": [
    "from sklearn.preprocessing import LabelEncoder\n",
    "\n",
    "label_encoder = LabelEncoder()\n",
    "y = label_encoder.fit_transform(y)\n",
    "X_train, X_test, y_train, y_test = train_test_split(X, y, test_size = 0.3, random_state = 1)\n",
    "\n",
    "model = LogisticRegression()\n",
    "\n",
    "X_train = X_train[['thal','ca', 'oldpeak', 'thalach']]\n",
    "\n",
    "X_test = X_test[['thal','ca', 'oldpeak', 'thalach']]\n",
    "\n",
    "model.fit(X_train, y_train)\n",
    "# Checking the various metrics for the model\n",
    "acc = model.score(X_train, y_train)\n",
    "\n",
    "predictions = model.predict(X_train)\n",
    "tp = sum((predictions == 1) & (y_train == 1))\n",
    "fp = sum((predictions == 1) & (y_train == 0))\n",
    "tn = sum((predictions == 0) & (y_train == 0))\n",
    "fn = sum((predictions == 0) & (y_train == 1))\n",
    "sens = tp / (tp + fn)\n",
    "spec = tn / (tn + fp)\n",
    "\n",
    "print(\"Training Accuracy: \", acc)\n",
    "print(\"Training Sensitivity: \", sens)\n",
    "print(\"Training Specificity: \", spec)"
   ]
  },
  {
   "cell_type": "code",
   "execution_count": 25,
   "id": "d4384e8b",
   "metadata": {},
   "outputs": [
    {
     "data": {
      "text/html": [
       "<style>#sk-container-id-1 {color: black;background-color: white;}#sk-container-id-1 pre{padding: 0;}#sk-container-id-1 div.sk-toggleable {background-color: white;}#sk-container-id-1 label.sk-toggleable__label {cursor: pointer;display: block;width: 100%;margin-bottom: 0;padding: 0.3em;box-sizing: border-box;text-align: center;}#sk-container-id-1 label.sk-toggleable__label-arrow:before {content: \"▸\";float: left;margin-right: 0.25em;color: #696969;}#sk-container-id-1 label.sk-toggleable__label-arrow:hover:before {color: black;}#sk-container-id-1 div.sk-estimator:hover label.sk-toggleable__label-arrow:before {color: black;}#sk-container-id-1 div.sk-toggleable__content {max-height: 0;max-width: 0;overflow: hidden;text-align: left;background-color: #f0f8ff;}#sk-container-id-1 div.sk-toggleable__content pre {margin: 0.2em;color: black;border-radius: 0.25em;background-color: #f0f8ff;}#sk-container-id-1 input.sk-toggleable__control:checked~div.sk-toggleable__content {max-height: 200px;max-width: 100%;overflow: auto;}#sk-container-id-1 input.sk-toggleable__control:checked~label.sk-toggleable__label-arrow:before {content: \"▾\";}#sk-container-id-1 div.sk-estimator input.sk-toggleable__control:checked~label.sk-toggleable__label {background-color: #d4ebff;}#sk-container-id-1 div.sk-label input.sk-toggleable__control:checked~label.sk-toggleable__label {background-color: #d4ebff;}#sk-container-id-1 input.sk-hidden--visually {border: 0;clip: rect(1px 1px 1px 1px);clip: rect(1px, 1px, 1px, 1px);height: 1px;margin: -1px;overflow: hidden;padding: 0;position: absolute;width: 1px;}#sk-container-id-1 div.sk-estimator {font-family: monospace;background-color: #f0f8ff;border: 1px dotted black;border-radius: 0.25em;box-sizing: border-box;margin-bottom: 0.5em;}#sk-container-id-1 div.sk-estimator:hover {background-color: #d4ebff;}#sk-container-id-1 div.sk-parallel-item::after {content: \"\";width: 100%;border-bottom: 1px solid gray;flex-grow: 1;}#sk-container-id-1 div.sk-label:hover label.sk-toggleable__label {background-color: #d4ebff;}#sk-container-id-1 div.sk-serial::before {content: \"\";position: absolute;border-left: 1px solid gray;box-sizing: border-box;top: 0;bottom: 0;left: 50%;z-index: 0;}#sk-container-id-1 div.sk-serial {display: flex;flex-direction: column;align-items: center;background-color: white;padding-right: 0.2em;padding-left: 0.2em;position: relative;}#sk-container-id-1 div.sk-item {position: relative;z-index: 1;}#sk-container-id-1 div.sk-parallel {display: flex;align-items: stretch;justify-content: center;background-color: white;position: relative;}#sk-container-id-1 div.sk-item::before, #sk-container-id-1 div.sk-parallel-item::before {content: \"\";position: absolute;border-left: 1px solid gray;box-sizing: border-box;top: 0;bottom: 0;left: 50%;z-index: -1;}#sk-container-id-1 div.sk-parallel-item {display: flex;flex-direction: column;z-index: 1;position: relative;background-color: white;}#sk-container-id-1 div.sk-parallel-item:first-child::after {align-self: flex-end;width: 50%;}#sk-container-id-1 div.sk-parallel-item:last-child::after {align-self: flex-start;width: 50%;}#sk-container-id-1 div.sk-parallel-item:only-child::after {width: 0;}#sk-container-id-1 div.sk-dashed-wrapped {border: 1px dashed gray;margin: 0 0.4em 0.5em 0.4em;box-sizing: border-box;padding-bottom: 0.4em;background-color: white;}#sk-container-id-1 div.sk-label label {font-family: monospace;font-weight: bold;display: inline-block;line-height: 1.2em;}#sk-container-id-1 div.sk-label-container {text-align: center;}#sk-container-id-1 div.sk-container {/* jupyter's `normalize.less` sets `[hidden] { display: none; }` but bootstrap.min.css set `[hidden] { display: none !important; }` so we also need the `!important` here to be able to override the default hidden behavior on the sphinx rendered scikit-learn.org. See: https://github.com/scikit-learn/scikit-learn/issues/21755 */display: inline-block !important;position: relative;}#sk-container-id-1 div.sk-text-repr-fallback {display: none;}</style><div id=\"sk-container-id-1\" class=\"sk-top-container\"><div class=\"sk-text-repr-fallback\"><pre>LogisticRegression()</pre><b>In a Jupyter environment, please rerun this cell to show the HTML representation or trust the notebook. <br />On GitHub, the HTML representation is unable to render, please try loading this page with nbviewer.org.</b></div><div class=\"sk-container\" hidden><div class=\"sk-item\"><div class=\"sk-estimator sk-toggleable\"><input class=\"sk-toggleable__control sk-hidden--visually\" id=\"sk-estimator-id-1\" type=\"checkbox\" checked><label for=\"sk-estimator-id-1\" class=\"sk-toggleable__label sk-toggleable__label-arrow\">LogisticRegression</label><div class=\"sk-toggleable__content\"><pre>LogisticRegression()</pre></div></div></div></div></div>"
      ],
      "text/plain": [
       "LogisticRegression()"
      ]
     },
     "execution_count": 25,
     "metadata": {},
     "output_type": "execute_result"
    }
   ],
   "source": [
    "label_encoder = LabelEncoder()\n",
    "y = label_encoder.fit_transform(y)\n",
    "X_train, X_test, y_train, y_test = train_test_split(X, y, test_size = 0.3, random_state = 1)\n",
    "\n",
    "model = LogisticRegression()\n",
    "\n",
    "X_train = X_train[[\"cp\", \"exang\", \"thal\", \"ca\"]]\n",
    "\n",
    "X_test = X_test[[\"cp\", \"exang\", \"thal\", \"ca\"]]\n",
    "\n",
    "model.fit(X_train, y_train)"
   ]
  },
  {
   "cell_type": "code",
   "execution_count": 26,
   "id": "b5f2c031",
   "metadata": {},
   "outputs": [
    {
     "name": "stdout",
     "output_type": "stream",
     "text": [
      "Training Accuracy:  0.8502415458937198\n",
      "Training Sensitivity:  0.8061224489795918\n",
      "Training Specificity:  0.8899082568807339\n"
     ]
    }
   ],
   "source": [
    "# Checking the various metrics for the model\n",
    "acc = model.score(X_train, y_train)\n",
    "\n",
    "predictions = model.predict(X_train)\n",
    "tp = sum((predictions == 1) & (y_train == 1))\n",
    "fp = sum((predictions == 1) & (y_train == 0))\n",
    "tn = sum((predictions == 0) & (y_train == 0))\n",
    "fn = sum((predictions == 0) & (y_train == 1))\n",
    "sens = tp / (tp + fn)\n",
    "spec = tn / (tn + fp)\n",
    "\n",
    "print(\"Training Accuracy: \", acc)\n",
    "print(\"Training Sensitivity: \", sens)\n",
    "print(\"Training Specificity: \", spec)"
   ]
  },
  {
   "cell_type": "markdown",
   "id": "92d8dada",
   "metadata": {},
   "source": [
    "We will choose __\"cp\", \"exang\", \"thal\", \"ca\"__ as our predictors."
   ]
  },
  {
   "cell_type": "code",
   "execution_count": 27,
   "id": "faef68ac",
   "metadata": {},
   "outputs": [
    {
     "data": {
      "image/png": "[encoded data removed]",
      "text/plain": [
       "<Figure size 432x288 with 2 Axes>"
      ]
     },
     "metadata": {},
     "output_type": "display_data"
    }
   ],
   "source": [
    "cm = confusion_matrix(y_train,predictions)\n",
    " \n",
    "#Plot the confusion matrix.\n",
    "sns.heatmap(cm,\n",
    "            annot=True,\n",
    "            fmt='g',\n",
    "            xticklabels=['sick', 'not sick'],\n",
    "            yticklabels=['sick', 'not sick'])\n",
    "plt.ylabel('Prediction',fontsize=13)\n",
    "plt.xlabel('Actual',fontsize=13)\n",
    "plt.title('Confusion Matrix',fontsize=17)\n",
    "plt.show()"
   ]
  },
  {
   "cell_type": "markdown",
   "id": "d0db28b4",
   "metadata": {},
   "source": [
    "Our model does a reasonable job, we can see that there are higher count of false positives than there are false neagtives.\n",
    "From, the sensitivity and specificity classificatoin metrics we can see that our model is ~9% better at predicting negatives than positives."
   ]
  },
  {
   "cell_type": "markdown",
   "id": "aff7a7c8",
   "metadata": {},
   "source": [
    "### Interpreting the Model Coefficients"
   ]
  },
  {
   "cell_type": "markdown",
   "id": "2c06aab9",
   "metadata": {},
   "source": [
    "Examine the coefficients of your logistic regression model on both the log-odds and odds scales"
   ]
  },
  {
   "cell_type": "code",
   "execution_count": 28,
   "id": "0a891852",
   "metadata": {},
   "outputs": [
    {
     "name": "stdout",
     "output_type": "stream",
     "text": [
      "cp : 0.52\n",
      "exang : 0.57\n",
      "thal : 0.92\n",
      "ca : 1.08\n"
     ]
    }
   ],
   "source": [
    "coefs = [\"cp\", \"exang\", \"thal\", \"ca\"]\n",
    "\n",
    "# Checking in terms of log-odds\n",
    "for coef, val  in zip(coefs, model.coef_[0]):\n",
    "    print(coef, \":\", round(val, 2))"
   ]
  },
  {
   "cell_type": "code",
   "execution_count": 29,
   "id": "d384c21d",
   "metadata": {},
   "outputs": [
    {
     "name": "stdout",
     "output_type": "stream",
     "text": [
      "cp : 1.69\n",
      "exang : 1.77\n",
      "thal : 2.51\n",
      "ca : 2.96\n"
     ]
    }
   ],
   "source": [
    "# Checking in terms of odds\n",
    "for coef, val  in zip(coefs, model.coef_[0]):\n",
    "    print(coef, \":\", round(np.exp(val), 2))"
   ]
  },
  {
   "cell_type": "markdown",
   "id": "06db19d4",
   "metadata": {},
   "source": [
    "The odds of someone with an exercise induced angina and having a heart disease are 2.9 the odds of someone who doesnt have a exercise induced angina and has cancer  holding the other predictors constant. We can conclude that the coefficients seem to make sense, having  a high odd ratio, meaning that is they're present, then it is more likely to have a heart disease."
   ]
  },
  {
   "cell_type": "markdown",
   "id": "926a858a",
   "metadata": {},
   "source": [
    "### Final Model Evaluation"
   ]
  },
  {
   "cell_type": "markdown",
   "id": "028061ca",
   "metadata": {},
   "source": [
    "Next, we will assess the predictive ability of our logistic regression model."
   ]
  },
  {
   "cell_type": "code",
   "execution_count": 30,
   "id": "90343527",
   "metadata": {},
   "outputs": [
    {
     "name": "stdout",
     "output_type": "stream",
     "text": [
      "Test Accuracy:  0.8444444444444444\n",
      "Test Sensitivity:  0.7692307692307693\n",
      "Test Specificity:  0.9019607843137255\n"
     ]
    }
   ],
   "source": [
    "# Checking the various metrics for the model (test set)\n",
    "acc = model.score(X_test, y_test)\n",
    "\n",
    "predictions = model.predict(X_test)\n",
    "tp = sum((predictions == 1) & (y_test == 1))\n",
    "fp = sum((predictions == 1) & (y_test == 0))\n",
    "tn = sum((predictions == 0) & (y_test == 0))\n",
    "fn = sum((predictions == 0) & (y_test == 1))\n",
    "sens = tp / (tp + fn)\n",
    "spec = tn / (tn + fp)\n",
    "\n",
    "print(\"Test Accuracy: \", acc)\n",
    "print(\"Test Sensitivity: \", sens)\n",
    "print(\"Test Specificity: \", spec)"
   ]
  },
  {
   "cell_type": "code",
   "execution_count": 31,
   "id": "cac865ac",
   "metadata": {},
   "outputs": [
    {
     "data": {
      "image/png": "[encoded data removed]",
      "text/plain": [
       "<Figure size 432x288 with 2 Axes>"
      ]
     },
     "metadata": {},
     "output_type": "display_data"
    }
   ],
   "source": [
    "cm = confusion_matrix(y_test,predictions)\n",
    " \n",
    "#Plot the confusion matrix.\n",
    "sns.heatmap(cm,\n",
    "            annot=True,\n",
    "            fmt='g',\n",
    "            xticklabels=['sick', 'not sick'],\n",
    "            yticklabels=['sick', 'not sick'])\n",
    "plt.ylabel('Prediction',fontsize=13)\n",
    "plt.xlabel('Actual',fontsize=13)\n",
    "plt.title('Confusion Matrix',fontsize=17)\n",
    "plt.show()"
   ]
  },
  {
   "cell_type": "markdown",
   "id": "0963a916",
   "metadata": {},
   "source": [
    "Our specificity is higher than in training. Accuracy didn't drop too much and the difference between sensitivity and specificity improved."
   ]
  },
  {
   "cell_type": "markdown",
   "id": "659c3a55",
   "metadata": {},
   "source": [
    "### Drawing Conclusions"
   ]
  },
  {
   "cell_type": "markdown",
   "id": "53d07d23",
   "metadata": {},
   "source": [
    "After exploring the data and making some adjustments, we divided the data, choose some predictors based on the findings found from correlations, the Split-Apply-Combine workflow, the RFE algorthm. The model was fit to the training set, and the predictive ability was evaluated on the test set. We assessed the sensitivity, specificity, overall training and test accuracy of the model. We interpreted the model coefficients on both the log-odds and odds scales. to see if they make sense. The final model evaluation suggested an accuracy of 84%, sensitivity was 76%, and specificity was 90%.Test accuracy was 84%, sensitivity was 76%, and specificity was 90%. Compared to the training set, the accuracy didn't change much. The model might not be enough to replace an actual diagnosis but it could be used to bulk evaluate patient data to prioritise care. Model creation is an iterative process. The first model may not be the best one, but it can help inform how to create a better model in the future by\n",
    "* Using different predictors\n",
    "* Using a different number of predictors\n",
    "* Using different models\n",
    "* Using different training and testing sizes"
   ]
  }
 ],
 "metadata": {
  "kernelspec": {
   "display_name": "Python 3 (ipykernel)",
   "language": "python",
   "name": "python3"
  },
  "language_info": {
   "codemirror_mode": {
    "name": "ipython",
    "version": 3
   },
   "file_extension": ".py",
   "mimetype": "text/x-python",
   "name": "python",
   "nbconvert_exporter": "python",
   "pygments_lexer": "ipython3",
   "version": "3.10.4"
  }
 },
 "nbformat": 4,
 "nbformat_minor": 5
}
