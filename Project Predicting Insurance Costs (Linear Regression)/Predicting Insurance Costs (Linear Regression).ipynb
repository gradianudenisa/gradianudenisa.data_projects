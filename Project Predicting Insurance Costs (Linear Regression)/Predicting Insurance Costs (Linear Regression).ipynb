{
 "cells": [
  {
   "cell_type": "markdown",
   "id": "c6204d97",
   "metadata": {},
   "source": [
    "## Project - Predicting Insurance Costs (Linear Regression)"
   ]
  },
  {
   "cell_type": "markdown",
   "id": "774c312d",
   "metadata": {},
   "source": [
    "The scope of this project is to build the best possible predictive model for the medical insurance cost, given some demographic or personal characteristics of patients. The cost is a continuous, positive number, which makes it a good candidate for a linear regression.\n",
    "\n",
    "We are using the [Medical Cost Data Set](https://www.kaggle.com/datasets/mirichoi0218/insurance?resource=download) from Kaggle that contains information on individual medical insurance bills, each of them being associated with some demographic and personal characteristics of the person who received it."
   ]
  },
  {
   "cell_type": "markdown",
   "id": "23b5d25d",
   "metadata": {},
   "source": [
    "![Image](https://images.unsplash.com/photo-1637763723578-79a4ca9225f7?ixlib=rb-4.0.3&ixid=MnwxMjA3fDB8MHxwaG90by1wYWdlfHx8fGVufDB8fHx8&auto=format&fit=crop&w=2071&q=80)\n",
    "__Photo by Vlad Deep on Unsplash__"
   ]
  },
  {
   "cell_type": "code",
   "execution_count": 1,
   "id": "ac15c60d",
   "metadata": {},
   "outputs": [],
   "source": [
    "import pandas as pd\n",
    "import numpy as np\n",
    "from sklearn.linear_model import LinearRegression\n",
    "from sklearn.metrics import mean_squared_error, r2_score\n",
    "from sklearn.model_selection import train_test_split\n",
    "import matplotlib.pyplot as plt\n",
    "import seaborn as sns"
   ]
  },
  {
   "cell_type": "code",
   "execution_count": 2,
   "id": "7b1f9a5c",
   "metadata": {},
   "outputs": [],
   "source": [
    "insurance=pd.read_csv(\"C:/Users/Denisa/Desktop/Project Apps/project 19/insurance.csv\")"
   ]
  },
  {
   "cell_type": "markdown",
   "id": "b939ded7",
   "metadata": {},
   "source": [
    "### Table of Contents\n",
    "`age`- age of primary beneficiary\n",
    "\n",
    "`sex`-insurance contractor gender, female, male\n",
    "\n",
    "`bmi`- Body mass index, providing an understanding of body, weights that are relatively high or low relative to height,\n",
    "objective index of body weight (kg / m ^ 2) using the ratio of height to weight, ideally 18.5 to 24.9\n",
    "\n",
    "`children`-Number of children covered by health insurance / Number of dependents\n",
    "\n",
    "`smoker`-Smoking\n",
    "\n",
    "`region`-the beneficiary's residential area in the US, northeast, southeast, southwest, northwest.\n",
    "\n",
    "`charges`-Individual medical costs billed by health insurance"
   ]
  },
  {
   "cell_type": "markdown",
   "id": "aaa78c78",
   "metadata": {},
   "source": [
    "### Exploring The Dataset"
   ]
  },
  {
   "cell_type": "markdown",
   "id": "eda5cc53",
   "metadata": {},
   "source": [
    "The first step in building our linear model is to familiarize with the dataset to find potential candidates that are highly correlated with the outcome."
   ]
  },
  {
   "cell_type": "code",
   "execution_count": 3,
   "id": "307f3482",
   "metadata": {},
   "outputs": [
    {
     "data": {
      "text/html": [
       "<div>\n",
       "<style scoped>\n",
       "    .dataframe tbody tr th:only-of-type {\n",
       "        vertical-align: middle;\n",
       "    }\n",
       "\n",
       "    .dataframe tbody tr th {\n",
       "        vertical-align: top;\n",
       "    }\n",
       "\n",
       "    .dataframe thead th {\n",
       "        text-align: right;\n",
       "    }\n",
       "</style>\n",
       "<table border=\"1\" class=\"dataframe\">\n",
       "  <thead>\n",
       "    <tr style=\"text-align: right;\">\n",
       "      <th></th>\n",
       "      <th>age</th>\n",
       "      <th>sex</th>\n",
       "      <th>bmi</th>\n",
       "      <th>children</th>\n",
       "      <th>smoker</th>\n",
       "      <th>region</th>\n",
       "      <th>charges</th>\n",
       "    </tr>\n",
       "  </thead>\n",
       "  <tbody>\n",
       "    <tr>\n",
       "      <th>0</th>\n",
       "      <td>19</td>\n",
       "      <td>female</td>\n",
       "      <td>27.900</td>\n",
       "      <td>0</td>\n",
       "      <td>yes</td>\n",
       "      <td>southwest</td>\n",
       "      <td>16884.92400</td>\n",
       "    </tr>\n",
       "    <tr>\n",
       "      <th>1</th>\n",
       "      <td>18</td>\n",
       "      <td>male</td>\n",
       "      <td>33.770</td>\n",
       "      <td>1</td>\n",
       "      <td>no</td>\n",
       "      <td>southeast</td>\n",
       "      <td>1725.55230</td>\n",
       "    </tr>\n",
       "    <tr>\n",
       "      <th>2</th>\n",
       "      <td>28</td>\n",
       "      <td>male</td>\n",
       "      <td>33.000</td>\n",
       "      <td>3</td>\n",
       "      <td>no</td>\n",
       "      <td>southeast</td>\n",
       "      <td>4449.46200</td>\n",
       "    </tr>\n",
       "    <tr>\n",
       "      <th>3</th>\n",
       "      <td>33</td>\n",
       "      <td>male</td>\n",
       "      <td>22.705</td>\n",
       "      <td>0</td>\n",
       "      <td>no</td>\n",
       "      <td>northwest</td>\n",
       "      <td>21984.47061</td>\n",
       "    </tr>\n",
       "    <tr>\n",
       "      <th>4</th>\n",
       "      <td>32</td>\n",
       "      <td>male</td>\n",
       "      <td>28.880</td>\n",
       "      <td>0</td>\n",
       "      <td>no</td>\n",
       "      <td>northwest</td>\n",
       "      <td>3866.85520</td>\n",
       "    </tr>\n",
       "  </tbody>\n",
       "</table>\n",
       "</div>"
      ],
      "text/plain": [
       "   age     sex     bmi  children smoker     region      charges\n",
       "0   19  female  27.900         0    yes  southwest  16884.92400\n",
       "1   18    male  33.770         1     no  southeast   1725.55230\n",
       "2   28    male  33.000         3     no  southeast   4449.46200\n",
       "3   33    male  22.705         0     no  northwest  21984.47061\n",
       "4   32    male  28.880         0     no  northwest   3866.85520"
      ]
     },
     "execution_count": 3,
     "metadata": {},
     "output_type": "execute_result"
    }
   ],
   "source": [
    "insurance.head()"
   ]
  },
  {
   "cell_type": "code",
   "execution_count": 4,
   "id": "2f93be4c",
   "metadata": {},
   "outputs": [
    {
     "name": "stdout",
     "output_type": "stream",
     "text": [
      "<class 'pandas.core.frame.DataFrame'>\n",
      "RangeIndex: 1338 entries, 0 to 1337\n",
      "Data columns (total 7 columns):\n",
      " #   Column    Non-Null Count  Dtype  \n",
      "---  ------    --------------  -----  \n",
      " 0   age       1338 non-null   int64  \n",
      " 1   sex       1338 non-null   object \n",
      " 2   bmi       1338 non-null   float64\n",
      " 3   children  1338 non-null   int64  \n",
      " 4   smoker    1338 non-null   object \n",
      " 5   region    1338 non-null   object \n",
      " 6   charges   1338 non-null   float64\n",
      "dtypes: float64(2), int64(2), object(3)\n",
      "memory usage: 73.3+ KB\n"
     ]
    }
   ],
   "source": [
    "insurance.info()"
   ]
  },
  {
   "cell_type": "markdown",
   "id": "77939feb",
   "metadata": {},
   "source": [
    "The `charges` column is our outcome. The other columns are potential predictors to use in the model."
   ]
  },
  {
   "cell_type": "code",
   "execution_count": 5,
   "id": "d978be4e",
   "metadata": {},
   "outputs": [
    {
     "data": {
      "text/plain": [
       "array([[<AxesSubplot:title={'center':'charges'}>]], dtype=object)"
      ]
     },
     "execution_count": 5,
     "metadata": {},
     "output_type": "execute_result"
    },
    {
     "data": {
      "image/png": "[encoded data removed]",
      "text/plain": [
       "<Figure size 432x288 with 1 Axes>"
      ]
     },
     "metadata": {
      "needs_background": "light"
     },
     "output_type": "display_data"
    }
   ],
   "source": [
    "insurance.hist(\"charges\")"
   ]
  },
  {
   "cell_type": "markdown",
   "id": "d393808d",
   "metadata": {},
   "source": [
    "The `charges` column is highly skewed to the right. This makes it unlikely that the residuals in the model will have zero as mean when checked against the predicted values. Next we will transform the outcome so that extreme values are less pronounced using log-transformation."
   ]
  },
  {
   "cell_type": "code",
   "execution_count": 6,
   "id": "18806434",
   "metadata": {},
   "outputs": [
    {
     "data": {
      "text/plain": [
       "array([[<AxesSubplot:title={'center':'log_charges'}>]], dtype=object)"
      ]
     },
     "execution_count": 6,
     "metadata": {},
     "output_type": "execute_result"
    },
    {
     "data": {
      "image/png": "[encoded data removed]",
      "text/plain": [
       "<Figure size 432x288 with 1 Axes>"
      ]
     },
     "metadata": {
      "needs_background": "light"
     },
     "output_type": "display_data"
    }
   ],
   "source": [
    "insurance[\"log_charges\"] = np.log2(insurance[\"charges\"])\n",
    "insurance.hist(\"log_charges\")"
   ]
  },
  {
   "cell_type": "markdown",
   "id": "2f42b36e",
   "metadata": {},
   "source": [
    "Now the outcome has a more similar Gaussian distribution  that makes it more likely that the residuals will have constant variance, being unbiased."
   ]
  },
  {
   "cell_type": "code",
   "execution_count": 7,
   "id": "69a6bb80",
   "metadata": {},
   "outputs": [
    {
     "data": {
      "image/png": "[encoded data removed]",
      "text/plain": [
       "<Figure size 1440x1440 with 3 Axes>"
      ]
     },
     "metadata": {
      "needs_background": "light"
     },
     "output_type": "display_data"
    }
   ],
   "source": [
    "plt.figure(figsize=(20,20))\n",
    "\n",
    "num_dist=['age','bmi','children']\n",
    "\n",
    "for i, num in enumerate(num_dist):\n",
    "    plt.subplot(2,2,i+1)\n",
    "    sns.violinplot(data=insurance, x=num)\n",
    "    plt.title(f'{num} distribution', weight='bold', fontsize=25)\n",
    "    plt.xlabel('')\n",
    "plt.show()    "
   ]
  },
  {
   "cell_type": "markdown",
   "id": "eb53cfd5",
   "metadata": {},
   "source": [
    "Checking the relationships between the potential predictor variables that are categorical with the outcome via plots"
   ]
  },
  {
   "cell_type": "code",
   "execution_count": 8,
   "id": "c46f1aaa",
   "metadata": {},
   "outputs": [
    {
     "data": {
      "image/png": "[encoded data removed]",
      "text/plain": [
       "<Figure size 432x288 with 1 Axes>"
      ]
     },
     "metadata": {
      "needs_background": "light"
     },
     "output_type": "display_data"
    }
   ],
   "source": [
    "axes=insurance.boxplot(column = [\"log_charges\"], by = \"sex\")\n",
    "title_boxplot = 'log_charges grouped by gender'\n",
    "plt.title( title_boxplot )\n",
    "plt.suptitle('') \n",
    "plt.show()"
   ]
  },
  {
   "cell_type": "code",
   "execution_count": 9,
   "id": "d2d2ea8e",
   "metadata": {},
   "outputs": [
    {
     "data": {
      "image/png": "[encoded data removed]",
      "text/plain": [
       "<Figure size 432x288 with 1 Axes>"
      ]
     },
     "metadata": {
      "needs_background": "light"
     },
     "output_type": "display_data"
    }
   ],
   "source": [
    "insurance.boxplot(column = [\"log_charges\"], by = \"smoker\")\n",
    "title_boxplot = 'log_charges grouped by smoker status'\n",
    "plt.title( title_boxplot )\n",
    "plt.suptitle('') \n",
    "plt.show()"
   ]
  },
  {
   "cell_type": "code",
   "execution_count": 10,
   "id": "c1866738",
   "metadata": {},
   "outputs": [
    {
     "data": {
      "image/png": "[encoded data removed]",
      "text/plain": [
       "<Figure size 432x288 with 1 Axes>"
      ]
     },
     "metadata": {
      "needs_background": "light"
     },
     "output_type": "display_data"
    }
   ],
   "source": [
    "insurance.boxplot(column = [\"log_charges\"], by = \"region\")\n",
    "title_boxplot = 'log_charges grouped by region'\n",
    "plt.title( title_boxplot )\n",
    "plt.suptitle('') \n",
    "plt.show()"
   ]
  },
  {
   "cell_type": "markdown",
   "id": "53ce004f",
   "metadata": {},
   "source": [
    "Males seem to have a wider distribution of charges compared to women. Smokers have much higher costs than non-smokers. There doesn't seem tobe many appreciable differences between regions. We will convert the gender and smoker categorical columns to numeric."
   ]
  },
  {
   "cell_type": "code",
   "execution_count": 11,
   "id": "c4541c77",
   "metadata": {},
   "outputs": [],
   "source": [
    "insurance_modif=insurance.copy()\n",
    "insurance_modif['sex']=insurance_modif['sex'].apply(lambda x: 1 if x=='male' else 0)\n",
    "\n",
    "insurance_modif['smoker']=insurance_modif['smoker'].apply(lambda x: 1 if x=='yes' else 0)"
   ]
  },
  {
   "cell_type": "markdown",
   "id": "d1d99998",
   "metadata": {},
   "source": [
    "Checking the correlations between each of the predictor variables and the outcome"
   ]
  },
  {
   "cell_type": "code",
   "execution_count": 12,
   "id": "b6db81b1",
   "metadata": {},
   "outputs": [
    {
     "data": {
      "text/html": [
       "<div>\n",
       "<style scoped>\n",
       "    .dataframe tbody tr th:only-of-type {\n",
       "        vertical-align: middle;\n",
       "    }\n",
       "\n",
       "    .dataframe tbody tr th {\n",
       "        vertical-align: top;\n",
       "    }\n",
       "\n",
       "    .dataframe thead th {\n",
       "        text-align: right;\n",
       "    }\n",
       "</style>\n",
       "<table border=\"1\" class=\"dataframe\">\n",
       "  <thead>\n",
       "    <tr style=\"text-align: right;\">\n",
       "      <th></th>\n",
       "      <th>age</th>\n",
       "      <th>sex</th>\n",
       "      <th>bmi</th>\n",
       "      <th>children</th>\n",
       "      <th>smoker</th>\n",
       "      <th>charges</th>\n",
       "      <th>log_charges</th>\n",
       "    </tr>\n",
       "  </thead>\n",
       "  <tbody>\n",
       "    <tr>\n",
       "      <th>age</th>\n",
       "      <td>1.000000</td>\n",
       "      <td>-0.020856</td>\n",
       "      <td>0.109272</td>\n",
       "      <td>0.042469</td>\n",
       "      <td>-0.025019</td>\n",
       "      <td>0.299008</td>\n",
       "      <td>0.527834</td>\n",
       "    </tr>\n",
       "    <tr>\n",
       "      <th>sex</th>\n",
       "      <td>-0.020856</td>\n",
       "      <td>1.000000</td>\n",
       "      <td>0.046371</td>\n",
       "      <td>0.017163</td>\n",
       "      <td>0.076185</td>\n",
       "      <td>0.057292</td>\n",
       "      <td>0.005632</td>\n",
       "    </tr>\n",
       "    <tr>\n",
       "      <th>bmi</th>\n",
       "      <td>0.109272</td>\n",
       "      <td>0.046371</td>\n",
       "      <td>1.000000</td>\n",
       "      <td>0.012759</td>\n",
       "      <td>0.003750</td>\n",
       "      <td>0.198341</td>\n",
       "      <td>0.132669</td>\n",
       "    </tr>\n",
       "    <tr>\n",
       "      <th>children</th>\n",
       "      <td>0.042469</td>\n",
       "      <td>0.017163</td>\n",
       "      <td>0.012759</td>\n",
       "      <td>1.000000</td>\n",
       "      <td>0.007673</td>\n",
       "      <td>0.067998</td>\n",
       "      <td>0.161336</td>\n",
       "    </tr>\n",
       "    <tr>\n",
       "      <th>smoker</th>\n",
       "      <td>-0.025019</td>\n",
       "      <td>0.076185</td>\n",
       "      <td>0.003750</td>\n",
       "      <td>0.007673</td>\n",
       "      <td>1.000000</td>\n",
       "      <td>0.787251</td>\n",
       "      <td>0.665506</td>\n",
       "    </tr>\n",
       "    <tr>\n",
       "      <th>charges</th>\n",
       "      <td>0.299008</td>\n",
       "      <td>0.057292</td>\n",
       "      <td>0.198341</td>\n",
       "      <td>0.067998</td>\n",
       "      <td>0.787251</td>\n",
       "      <td>1.000000</td>\n",
       "      <td>0.892964</td>\n",
       "    </tr>\n",
       "    <tr>\n",
       "      <th>log_charges</th>\n",
       "      <td>0.527834</td>\n",
       "      <td>0.005632</td>\n",
       "      <td>0.132669</td>\n",
       "      <td>0.161336</td>\n",
       "      <td>0.665506</td>\n",
       "      <td>0.892964</td>\n",
       "      <td>1.000000</td>\n",
       "    </tr>\n",
       "  </tbody>\n",
       "</table>\n",
       "</div>"
      ],
      "text/plain": [
       "                  age       sex       bmi  children    smoker   charges  \\\n",
       "age          1.000000 -0.020856  0.109272  0.042469 -0.025019  0.299008   \n",
       "sex         -0.020856  1.000000  0.046371  0.017163  0.076185  0.057292   \n",
       "bmi          0.109272  0.046371  1.000000  0.012759  0.003750  0.198341   \n",
       "children     0.042469  0.017163  0.012759  1.000000  0.007673  0.067998   \n",
       "smoker      -0.025019  0.076185  0.003750  0.007673  1.000000  0.787251   \n",
       "charges      0.299008  0.057292  0.198341  0.067998  0.787251  1.000000   \n",
       "log_charges  0.527834  0.005632  0.132669  0.161336  0.665506  0.892964   \n",
       "\n",
       "             log_charges  \n",
       "age             0.527834  \n",
       "sex             0.005632  \n",
       "bmi             0.132669  \n",
       "children        0.161336  \n",
       "smoker          0.665506  \n",
       "charges         0.892964  \n",
       "log_charges     1.000000  "
      ]
     },
     "execution_count": 12,
     "metadata": {},
     "output_type": "execute_result"
    }
   ],
   "source": [
    "insurance_modif.corr()"
   ]
  },
  {
   "cell_type": "markdown",
   "id": "b1338e53",
   "metadata": {},
   "source": [
    "Some striking relationships that we observe among the correlations:\n",
    "* age has 30% correlation with charges, \n",
    "* bmi has 19.8% correlation, \n",
    "* smoker  has 78.7% correlation\n",
    "* number of children has 6.7% correlation.\n",
    "* sex has 5.7% correlation"
   ]
  },
  {
   "cell_type": "markdown",
   "id": "5d7a1cfd",
   "metadata": {},
   "source": [
    "### Dividing The Data"
   ]
  },
  {
   "cell_type": "markdown",
   "id": "77f42e11",
   "metadata": {},
   "source": [
    "Based on the statistical measure shown above thourgh correlation we will choose age, bmi and smoker are predictors for our model. Next we will divide the dataset into the:\n",
    "\n",
    "* training set that will be used to estimate the regression coefficients\n",
    "* test set that will be used to assess the predictive ability of the model"
   ]
  },
  {
   "cell_type": "code",
   "execution_count": 13,
   "id": "b973c7dc",
   "metadata": {},
   "outputs": [],
   "source": [
    "X = insurance_modif[[\"age\", \"bmi\", \"smoker\"]]\n",
    "y = insurance_modif[\"log_charges\"]\n",
    "\n",
    "X_train, X_test, y_train, y_test = train_test_split(X, y, test_size = 0.25, \n",
    "                                                    random_state = 1)"
   ]
  },
  {
   "cell_type": "markdown",
   "id": "970764b6",
   "metadata": {},
   "source": [
    "### Build The Model"
   ]
  },
  {
   "cell_type": "code",
   "execution_count": 14,
   "id": "88f16ffd",
   "metadata": {},
   "outputs": [
    {
     "data": {
      "text/html": [
       "<style>#sk-container-id-1 {color: black;background-color: white;}#sk-container-id-1 pre{padding: 0;}#sk-container-id-1 div.sk-toggleable {background-color: white;}#sk-container-id-1 label.sk-toggleable__label {cursor: pointer;display: block;width: 100%;margin-bottom: 0;padding: 0.3em;box-sizing: border-box;text-align: center;}#sk-container-id-1 label.sk-toggleable__label-arrow:before {content: \"▸\";float: left;margin-right: 0.25em;color: #696969;}#sk-container-id-1 label.sk-toggleable__label-arrow:hover:before {color: black;}#sk-container-id-1 div.sk-estimator:hover label.sk-toggleable__label-arrow:before {color: black;}#sk-container-id-1 div.sk-toggleable__content {max-height: 0;max-width: 0;overflow: hidden;text-align: left;background-color: #f0f8ff;}#sk-container-id-1 div.sk-toggleable__content pre {margin: 0.2em;color: black;border-radius: 0.25em;background-color: #f0f8ff;}#sk-container-id-1 input.sk-toggleable__control:checked~div.sk-toggleable__content {max-height: 200px;max-width: 100%;overflow: auto;}#sk-container-id-1 input.sk-toggleable__control:checked~label.sk-toggleable__label-arrow:before {content: \"▾\";}#sk-container-id-1 div.sk-estimator input.sk-toggleable__control:checked~label.sk-toggleable__label {background-color: #d4ebff;}#sk-container-id-1 div.sk-label input.sk-toggleable__control:checked~label.sk-toggleable__label {background-color: #d4ebff;}#sk-container-id-1 input.sk-hidden--visually {border: 0;clip: rect(1px 1px 1px 1px);clip: rect(1px, 1px, 1px, 1px);height: 1px;margin: -1px;overflow: hidden;padding: 0;position: absolute;width: 1px;}#sk-container-id-1 div.sk-estimator {font-family: monospace;background-color: #f0f8ff;border: 1px dotted black;border-radius: 0.25em;box-sizing: border-box;margin-bottom: 0.5em;}#sk-container-id-1 div.sk-estimator:hover {background-color: #d4ebff;}#sk-container-id-1 div.sk-parallel-item::after {content: \"\";width: 100%;border-bottom: 1px solid gray;flex-grow: 1;}#sk-container-id-1 div.sk-label:hover label.sk-toggleable__label {background-color: #d4ebff;}#sk-container-id-1 div.sk-serial::before {content: \"\";position: absolute;border-left: 1px solid gray;box-sizing: border-box;top: 0;bottom: 0;left: 50%;z-index: 0;}#sk-container-id-1 div.sk-serial {display: flex;flex-direction: column;align-items: center;background-color: white;padding-right: 0.2em;padding-left: 0.2em;position: relative;}#sk-container-id-1 div.sk-item {position: relative;z-index: 1;}#sk-container-id-1 div.sk-parallel {display: flex;align-items: stretch;justify-content: center;background-color: white;position: relative;}#sk-container-id-1 div.sk-item::before, #sk-container-id-1 div.sk-parallel-item::before {content: \"\";position: absolute;border-left: 1px solid gray;box-sizing: border-box;top: 0;bottom: 0;left: 50%;z-index: -1;}#sk-container-id-1 div.sk-parallel-item {display: flex;flex-direction: column;z-index: 1;position: relative;background-color: white;}#sk-container-id-1 div.sk-parallel-item:first-child::after {align-self: flex-end;width: 50%;}#sk-container-id-1 div.sk-parallel-item:last-child::after {align-self: flex-start;width: 50%;}#sk-container-id-1 div.sk-parallel-item:only-child::after {width: 0;}#sk-container-id-1 div.sk-dashed-wrapped {border: 1px dashed gray;margin: 0 0.4em 0.5em 0.4em;box-sizing: border-box;padding-bottom: 0.4em;background-color: white;}#sk-container-id-1 div.sk-label label {font-family: monospace;font-weight: bold;display: inline-block;line-height: 1.2em;}#sk-container-id-1 div.sk-label-container {text-align: center;}#sk-container-id-1 div.sk-container {/* jupyter's `normalize.less` sets `[hidden] { display: none; }` but bootstrap.min.css set `[hidden] { display: none !important; }` so we also need the `!important` here to be able to override the default hidden behavior on the sphinx rendered scikit-learn.org. See: https://github.com/scikit-learn/scikit-learn/issues/21755 */display: inline-block !important;position: relative;}#sk-container-id-1 div.sk-text-repr-fallback {display: none;}</style><div id=\"sk-container-id-1\" class=\"sk-top-container\"><div class=\"sk-text-repr-fallback\"><pre>LinearRegression()</pre><b>In a Jupyter environment, please rerun this cell to show the HTML representation or trust the notebook. <br />On GitHub, the HTML representation is unable to render, please try loading this page with nbviewer.org.</b></div><div class=\"sk-container\" hidden><div class=\"sk-item\"><div class=\"sk-estimator sk-toggleable\"><input class=\"sk-toggleable__control sk-hidden--visually\" id=\"sk-estimator-id-1\" type=\"checkbox\" checked><label for=\"sk-estimator-id-1\" class=\"sk-toggleable__label sk-toggleable__label-arrow\">LinearRegression</label><div class=\"sk-toggleable__content\"><pre>LinearRegression()</pre></div></div></div></div></div>"
      ],
      "text/plain": [
       "LinearRegression()"
      ]
     },
     "execution_count": 14,
     "metadata": {},
     "output_type": "execute_result"
    }
   ],
   "source": [
    "insurance_model = LinearRegression()\n",
    "insurance_model.fit(X_train, y_train)"
   ]
  },
  {
   "cell_type": "code",
   "execution_count": 15,
   "id": "0c5fd803",
   "metadata": {},
   "outputs": [],
   "source": [
    "# Get predicted values by model\n",
    "y_pred = insurance_model.predict(X_train)"
   ]
  },
  {
   "cell_type": "markdown",
   "id": "c359154a",
   "metadata": {},
   "source": [
    "Checking the zero mean assumption on the residuals to assess the average amount ofsquared error in the data"
   ]
  },
  {
   "cell_type": "code",
   "execution_count": 16,
   "id": "4264a892",
   "metadata": {},
   "outputs": [
    {
     "data": {
      "text/plain": [
       "0.4546665339270644"
      ]
     },
     "execution_count": 16,
     "metadata": {},
     "output_type": "execute_result"
    }
   ],
   "source": [
    "# MSE on the log scale for the insurance charges\n",
    "mean_squared_error(y_train, y_pred)"
   ]
  },
  {
   "cell_type": "code",
   "execution_count": 17,
   "id": "1d64f44a",
   "metadata": {},
   "outputs": [
    {
     "data": {
      "text/plain": [
       "1.575647870310887"
      ]
     },
     "execution_count": 17,
     "metadata": {},
     "output_type": "execute_result"
    }
   ],
   "source": [
    "# MSE on the original scale for the insurance charges\n",
    "np.exp(mean_squared_error(y_train, y_pred))"
   ]
  },
  {
   "cell_type": "markdown",
   "id": "50991a92",
   "metadata": {},
   "source": [
    "Examining the error metric coefficient of determination to see how well the model accounts for the variance in the outcome and how well the model approximates the data."
   ]
  },
  {
   "cell_type": "code",
   "execution_count": 18,
   "id": "ab2b90fe",
   "metadata": {},
   "outputs": [
    {
     "data": {
      "text/plain": [
       "0.7421118855283421"
      ]
     },
     "execution_count": 18,
     "metadata": {},
     "output_type": "execute_result"
    }
   ],
   "source": [
    "r2_score(y_train, y_pred)"
   ]
  },
  {
   "cell_type": "markdown",
   "id": "a5a00028",
   "metadata": {},
   "source": [
    "The coefficient of determinatio nindicates that the model can explain 74% of the variation in the log-insurance charges."
   ]
  },
  {
   "cell_type": "markdown",
   "id": "71ab1029",
   "metadata": {},
   "source": [
    "### Residual Diagnostics"
   ]
  },
  {
   "cell_type": "code",
   "execution_count": 19,
   "id": "2460e707",
   "metadata": {},
   "outputs": [
    {
     "data": {
      "image/png": "[encoded data removed]",
      "text/plain": [
       "<Figure size 432x288 with 1 Axes>"
      ]
     },
     "metadata": {
      "needs_background": "light"
     },
     "output_type": "display_data"
    }
   ],
   "source": [
    "df = pd.DataFrame()\n",
    "df[\"residuals\"] = y_train - y_pred\n",
    "df[\"fitted\"] = y_pred\n",
    "\n",
    "df.plot.scatter(x = \"fitted\", y = \"residuals\")\n",
    "plt.axhline(y=0, color='r', linestyle='--')\n",
    "plt.show()"
   ]
  },
  {
   "cell_type": "markdown",
   "id": "29002d6d",
   "metadata": {},
   "source": [
    "The residuals suggest some violations to the assumptions of linear regression. As fitted values get larger, the residuals trend downward. We expect an even band, centered around zero. This does not necessarily make the model predictions unusable, but it puts into question the linear regression assumptions."
   ]
  },
  {
   "cell_type": "markdown",
   "id": "5f4aa921",
   "metadata": {},
   "source": [
    "### Interpreting The Model"
   ]
  },
  {
   "cell_type": "code",
   "execution_count": 20,
   "id": "54a82347",
   "metadata": {},
   "outputs": [
    {
     "data": {
      "text/plain": [
       "array([0.04892865, 0.01523672, 2.23063344])"
      ]
     },
     "execution_count": 20,
     "metadata": {},
     "output_type": "execute_result"
    }
   ],
   "source": [
    "insurance_model.coef_"
   ]
  },
  {
   "cell_type": "code",
   "execution_count": 21,
   "id": "e0c0958e",
   "metadata": {},
   "outputs": [
    {
     "data": {
      "text/plain": [
       "9.305758852815107"
      ]
     },
     "execution_count": 21,
     "metadata": {},
     "output_type": "execute_result"
    }
   ],
   "source": [
    "np.exp(2.23063344)"
   ]
  },
  {
   "cell_type": "markdown",
   "id": "c2c39a9d",
   "metadata": {},
   "source": [
    "* A year increase for a patient is associated with a 0.04 increase in the log charges, holding smoking status and bmi constant. \n",
    "* A unit increase in the subject BMI is associated with a 0.01 increase in the log charges, holding smoking status and age constant. \n",
    "* A smoker is associated with a 2.23 increase in the log charges, holding age and bmi constant. About a 930% increase in the charges on the regular scale."
   ]
  },
  {
   "cell_type": "markdown",
   "id": "6952b6e7",
   "metadata": {},
   "source": [
    "### Final Model Evaluation"
   ]
  },
  {
   "cell_type": "markdown",
   "id": "2fce0e97",
   "metadata": {},
   "source": [
    "Observing the model's predictive ability on the test data."
   ]
  },
  {
   "cell_type": "code",
   "execution_count": 22,
   "id": "65f4b3ac",
   "metadata": {},
   "outputs": [
    {
     "data": {
      "text/plain": [
       "0.4355350875308211"
      ]
     },
     "execution_count": 22,
     "metadata": {},
     "output_type": "execute_result"
    }
   ],
   "source": [
    "test_pred = insurance_model.predict(X_test)\n",
    "\n",
    "mean_squared_error(y_test, test_pred)"
   ]
  },
  {
   "cell_type": "code",
   "execution_count": 23,
   "id": "fc8d7521",
   "metadata": {},
   "outputs": [
    {
     "data": {
      "text/plain": [
       "1.545789970635098"
      ]
     },
     "execution_count": 23,
     "metadata": {},
     "output_type": "execute_result"
    }
   ],
   "source": [
    "# Putting the outcome (in log-terms) back into the original scale\n",
    "np.exp(mean_squared_error(y_test, test_pred))"
   ]
  },
  {
   "cell_type": "markdown",
   "id": "40275174",
   "metadata": {},
   "source": [
    "### Drawing Conclusions"
   ]
  },
  {
   "cell_type": "markdown",
   "id": "adf034d5",
   "metadata": {},
   "source": [
    "The test MSE was about 0.435, while the training MSE was about 0.454. In this case, the two errors match up pretty well, so we can conclude that the model is not overfit. The residuals suggest that the model is predicting much lower costs for subjects who were actually charged much higher. We can conclude that the model doesn't perform too well when it comes to higher costs.\n",
    "\n",
    "We might improve the model by including more complex terms in the regression, such as interactions or quadratic terms."
   ]
  }
 ],
 "metadata": {
  "kernelspec": {
   "display_name": "Python 3 (ipykernel)",
   "language": "python",
   "name": "python3"
  },
  "language_info": {
   "codemirror_mode": {
    "name": "ipython",
    "version": 3
   },
   "file_extension": ".py",
   "mimetype": "text/x-python",
   "name": "python",
   "nbconvert_exporter": "python",
   "pygments_lexer": "ipython3",
   "version": "3.10.4"
  }
 },
 "nbformat": 4,
 "nbformat_minor": 5
}
