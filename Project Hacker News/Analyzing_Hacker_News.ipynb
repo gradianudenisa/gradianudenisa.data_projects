{
 "cells": [
  {
   "cell_type": "markdown",
   "id": "b212e2f2",
   "metadata": {},
   "source": [
    "## Exploring Hacker News Posts<br>\n",
    "In this project we are analyzing a dataset of submissions to the Hacker News site, which is a site where posts receive votes and comments, similar to reddit. Hacker News is extremely popular in technology and startup circles, and posts that make it to the top of the Hacker News listings can get hundreds of thousands of visitors as a result. In this context we are interested to know the following:<br><br>\n",
    "1) Do Ask HN (meaning users submiting a post to ask the Hacker News community a question) or Show HN (meaning users submiting a post to show the Hacker News community a project, product etc.) receive more comments on average?<br>\n",
    "2) Do posts created at a certain time receive more comments on average<br><br>\n",
    "The dataset can be found here [https://www.kaggle.com/datasets/hacker-news/hacker-news-posts], containing data about posts submitted to Hacker News for a 12 month period and was put together in 2016. However, in this project we are analyzing a sample of approximately 20,000 rows from 300,000 rows."
   ]
  },
  {
   "cell_type": "markdown",
   "id": "da9e76ca",
   "metadata": {},
   "source": [
    "#### Reading the csv file into a list of lists"
   ]
  },
  {
   "cell_type": "code",
   "execution_count": 1,
   "id": "e8270a77",
   "metadata": {},
   "outputs": [],
   "source": [
    "from csv import reader\n",
    "file_1=open(\"C:/Users/Denisa/Desktop/Project Apps/project 2/hacker_news.csv\")\n",
    "file_read=reader(file_1)\n",
    "hacker_list=list(file_read)"
   ]
  },
  {
   "cell_type": "markdown",
   "id": "3fb40b03",
   "metadata": {},
   "source": [
    "#### Displaying the first rows"
   ]
  },
  {
   "cell_type": "code",
   "execution_count": 2,
   "id": "e8bab4c8",
   "metadata": {},
   "outputs": [
    {
     "name": "stdout",
     "output_type": "stream",
     "text": [
      "[['id', 'title', 'url', 'num_points', 'num_comments', 'author', 'created_at'], ['12224879', 'Interactive Dynamic Video', 'http://www.interactivedynamicvideo.com/', '386', '52', 'ne0phyte', '8/4/2016 11:52'], ['10975351', 'How to Use Open Source and Shut the Fuck Up at the Same Time', 'http://hueniverse.com/2016/01/26/how-to-use-open-source-and-shut-the-fuck-up-at-the-same-time/', '39', '10', 'josep2', '1/26/2016 19:30']]\n"
     ]
    }
   ],
   "source": [
    "print(hacker_list[:5])"
   ]
  },
  {
   "cell_type": "markdown",
   "id": "9ccae9dd",
   "metadata": {},
   "source": [
    "### Reformatting and cleaning the data to prepare it for analysis"
   ]
  },
  {
   "cell_type": "markdown",
   "id": "6f7b7c85",
   "metadata": {},
   "source": [
    "#### Removing the header"
   ]
  },
  {
   "cell_type": "code",
   "execution_count": 3,
   "id": "900476a0",
   "metadata": {},
   "outputs": [
    {
     "name": "stdout",
     "output_type": "stream",
     "text": [
      "['id', 'title', 'url', 'num_points', 'num_comments', 'author', 'created_at'] \n",
      "\n",
      "[['12224879', 'Interactive Dynamic Video', 'http://www.interactivedynamicvideo.com/', '386', '52', 'ne0phyte', '8/4/2016 11:52'], ['10975351', 'How to Use Open Source and Shut the Fuck Up at the Same Time', 'http://hueniverse.com/2016/01/26/how-to-use-open-source-and-shut-the-fuck-up-at-the-same-time/', '39', '10', 'josep2', '1/26/2016 19:30'], ['11964716', \"Florida DJs May Face Felony for April Fools' Water Joke\", 'http://www.thewire.com/entertainment/2013/04/florida-djs-april-fools-water-joke/63798/', '2', '1', 'vezycash', '6/23/2016 22:20'], ['11919867', 'Technology ventures: From Idea to Enterprise', 'https://www.amazon.com/Technology-Ventures-Enterprise-Thomas-Byers/dp/0073523429', '3', '1', 'hswarna', '6/17/2016 0:01'], ['10301696', 'Note by Note: The Making of Steinway L1037 (2007)', 'http://www.nytimes.com/2007/11/07/movies/07stein.html?_r=0', '8', '2', 'walterbell', '9/30/2015 4:12']]\n"
     ]
    }
   ],
   "source": [
    "headers=hacker_list[0]\n",
    "hacker_list=hacker_list[1:]\n",
    "print(headers, \"\\n\")\n",
    "print(hacker_list[:5])"
   ]
  },
  {
   "cell_type": "markdown",
   "id": "e7f0443c",
   "metadata": {},
   "source": [
    "#### Separating ASK Hn and SHOW Hn posts"
   ]
  },
  {
   "cell_type": "code",
   "execution_count": 15,
   "id": "9f6f3d78",
   "metadata": {},
   "outputs": [
    {
     "name": "stdout",
     "output_type": "stream",
     "text": [
      "Number of ASK posts: 1744\n",
      "Number of SHOW posts: 1162\n",
      "Number of OTHER posts: 17194\n"
     ]
    }
   ],
   "source": [
    "ask_posts=[]\n",
    "show_posts=[]\n",
    "other_posts=[]\n",
    "for row in hacker_list:\n",
    "    title=row[1]\n",
    "    if title.lower().startswith(\"ask hn\"):\n",
    "        ask_posts.append(row)\n",
    "    elif title.lower().startswith(\"show hn\"):\n",
    "        show_posts.append(row)\n",
    "    else:\n",
    "        other_posts.append(row)\n",
    "        \n",
    "print(\"Number of ASK posts:\",len(ask_posts))\n",
    "print(\"Number of SHOW posts:\",len(show_posts))\n",
    "print(\"Number of OTHER posts:\",len(other_posts))"
   ]
  },
  {
   "cell_type": "markdown",
   "id": "4cab3637",
   "metadata": {},
   "source": [
    "### Analyzing the data"
   ]
  },
  {
   "cell_type": "markdown",
   "id": "eb22377c",
   "metadata": {},
   "source": [
    "#### Determining if ask posts or show posts receive more comments on average"
   ]
  },
  {
   "cell_type": "code",
   "execution_count": 13,
   "id": "e6ba4be1",
   "metadata": {},
   "outputs": [
    {
     "name": "stdout",
     "output_type": "stream",
     "text": [
      "Average comments for Ask posts: 0.04911077857523981\n",
      "Average comments for Show posts: 0.02404689023240513\n"
     ]
    }
   ],
   "source": [
    "total=0\n",
    "for row in hacker_list:\n",
    "    total+=int(row[4])\n",
    "total_ask_comments=0\n",
    "for row in ask_posts:\n",
    "    total_ask_comments+=int(row[4])\n",
    "avg_ask_comments=total_ask_comments/total\n",
    "print(\"Average comments for Ask posts:\",avg_ask_comments)\n",
    "total_show_comments=0\n",
    "for row in show_posts:\n",
    "    total_show_comments+=int(row[4])\n",
    "avg_show_comments=total_show_comments/total\n",
    "print(\"Average comments for Show posts:\",avg_show_comments)"
   ]
  },
  {
   "cell_type": "markdown",
   "id": "6115c874",
   "metadata": {},
   "source": [
    "Our findings show that on average ask posts receive more comments comapred to show posts."
   ]
  },
  {
   "cell_type": "markdown",
   "id": "6d76cc10",
   "metadata": {},
   "source": [
    "#### Calculating the number of ask posts and comments by the hour when they were created"
   ]
  },
  {
   "cell_type": "markdown",
   "id": "ba7bacb4",
   "metadata": {},
   "source": [
    "After we concluded that on average ask posts receive more comments than show posts we will determine if ask posts that were created at a certain time during the day are more likely to receive comments. For this we will calculate the number of ask posts created in each hour of the day, along with the number of comments received and then we will calculate the average number of comments for ask posts by the hour when they were created.\n",
    "The data in the created_at column is of type string, so we will use the datetime.strptime() constructor to parse dates stored as strings and return datetime objects."
   ]
  },
  {
   "cell_type": "code",
   "execution_count": 6,
   "id": "142da574",
   "metadata": {},
   "outputs": [
    {
     "name": "stdout",
     "output_type": "stream",
     "text": [
      "<class 'str'>\n"
     ]
    }
   ],
   "source": [
    "print(type(hacker_list[1][6]))"
   ]
  },
  {
   "cell_type": "code",
   "execution_count": 7,
   "id": "ec3c805e",
   "metadata": {},
   "outputs": [],
   "source": [
    "import datetime as dt\n",
    "result_list=[]\n",
    "for row in ask_posts:\n",
    "    result_list.append([row[6],int(row[4])])\n",
    "\n",
    "counts_by_hour={}\n",
    "comments_by_hour={}\n",
    "                       \n",
    "for row in result_list:\n",
    "    dt_object=dt.datetime.strptime(row[0], \"%m/%d/%Y %H:%M\")\n",
    "    hour_string=dt_object.strftime(\"%H\")\n",
    "    if hour_string not in counts_by_hour:\n",
    "        counts_by_hour[hour_string]=1\n",
    "        comments_by_hour[hour_string]=row[1]\n",
    "    else:\n",
    "        counts_by_hour[hour_string]+=1\n",
    "        comments_by_hour[hour_string]+=row[1]"
   ]
  },
  {
   "cell_type": "code",
   "execution_count": 17,
   "id": "845f24e8",
   "metadata": {},
   "outputs": [
    {
     "name": "stdout",
     "output_type": "stream",
     "text": [
      "Number of posts by hour {'09': 45, '13': 85, '10': 59, '14': 107, '16': 108, '23': 68, '12': 73, '17': 100, '15': 116, '21': 109, '20': 80, '02': 58, '18': 109, '03': 54, '05': 46, '19': 110, '01': 60, '22': 71, '08': 48, '04': 47, '00': 55, '06': 44, '07': 34, '11': 58} \n",
      "\n",
      "Number of comments by hour {'09': 251, '13': 1253, '10': 793, '14': 1416, '16': 1814, '23': 543, '12': 687, '17': 1146, '15': 4477, '21': 1745, '20': 1722, '02': 1381, '18': 1439, '03': 421, '05': 464, '19': 1188, '01': 683, '22': 479, '08': 492, '04': 337, '00': 447, '06': 397, '07': 267, '11': 641}\n"
     ]
    }
   ],
   "source": [
    "print(\"Number of posts by hour\",counts_by_hour,\"\\n\")\n",
    "print(\"Number of comments by hour\",comments_by_hour)"
   ]
  },
  {
   "cell_type": "markdown",
   "id": "f729f260",
   "metadata": {},
   "source": [
    "#### Calculating the average number of comments per posts created during each hour of the day"
   ]
  },
  {
   "cell_type": "code",
   "execution_count": 9,
   "id": "1a9832e8",
   "metadata": {},
   "outputs": [
    {
     "name": "stdout",
     "output_type": "stream",
     "text": [
      "[['09', 5.5777777777777775], ['13', 14.741176470588234], ['10', 13.440677966101696], ['14', 13.233644859813085], ['16', 16.796296296296298], ['23', 7.985294117647059], ['12', 9.41095890410959], ['17', 11.46], ['15', 38.5948275862069], ['21', 16.009174311926607], ['20', 21.525], ['02', 23.810344827586206], ['18', 13.20183486238532], ['03', 7.796296296296297], ['05', 10.08695652173913], ['19', 10.8], ['01', 11.383333333333333], ['22', 6.746478873239437], ['08', 10.25], ['04', 7.170212765957447], ['00', 8.127272727272727], ['06', 9.022727272727273], ['07', 7.852941176470588], ['11', 11.051724137931034]]\n"
     ]
    }
   ],
   "source": [
    "avg_by_hour=[]\n",
    "\n",
    "for hour in counts_by_hour:\n",
    "    avg_by_hour.append([hour,comments_by_hour[hour]/counts_by_hour[hour]])\n",
    "print(avg_by_hour)"
   ]
  },
  {
   "cell_type": "markdown",
   "id": "c3749bbf",
   "metadata": {},
   "source": [
    "For a clearer view we will swap the columns and use the sorted() function to sort the average of comments per post, alongside with the hour in descending order."
   ]
  },
  {
   "cell_type": "code",
   "execution_count": 10,
   "id": "208a3dbc",
   "metadata": {},
   "outputs": [
    {
     "name": "stdout",
     "output_type": "stream",
     "text": [
      "[[38.5948275862069, '15'], [23.810344827586206, '02'], [21.525, '20'], [16.796296296296298, '16'], [16.009174311926607, '21'], [14.741176470588234, '13'], [13.440677966101696, '10'], [13.233644859813085, '14'], [13.20183486238532, '18'], [11.46, '17'], [11.383333333333333, '01'], [11.051724137931034, '11'], [10.8, '19'], [10.25, '08'], [10.08695652173913, '05'], [9.41095890410959, '12'], [9.022727272727273, '06'], [8.127272727272727, '00'], [7.985294117647059, '23'], [7.852941176470588, '07'], [7.796296296296297, '03'], [7.170212765957447, '04'], [6.746478873239437, '22'], [5.5777777777777775, '09']]\n"
     ]
    }
   ],
   "source": [
    "swap_avg_by_hour=[]\n",
    "for row in avg_by_hour:\n",
    "    swap_avg_by_hour.append([row[1],row[0]])\n",
    "    \n",
    "sorted_swap=sorted(swap_avg_by_hour,reverse=True)\n",
    "print(sorted_swap)"
   ]
  },
  {
   "cell_type": "code",
   "execution_count": 11,
   "id": "aebd8c08",
   "metadata": {},
   "outputs": [
    {
     "name": "stdout",
     "output_type": "stream",
     "text": [
      "Top 5 Hours for Ask Posts Comments\n",
      "15:00:  38.59 average comments per post\n",
      "02:00:  23.81 average comments per post\n",
      "20:00:  21.52 average comments per post\n",
      "16:00:  16.80 average comments per post\n",
      "21:00:  16.01 average comments per post\n"
     ]
    }
   ],
   "source": [
    "print(\"Top 5 Hours for Ask Posts Comments\")\n",
    "for row in sorted_swap[:5]:\n",
    "    hour=dt.datetime.strptime(row[1], \"%H\")\n",
    "    h_string=hour.strftime(\"%H:%M: \")\n",
    "    print(h_string, \"{:.2f} average comments per post\".format(row[0]))\n",
    "    "
   ]
  },
  {
   "cell_type": "markdown",
   "id": "25df2b1f",
   "metadata": {},
   "source": [
    "### Conclusion"
   ]
  },
  {
   "cell_type": "markdown",
   "id": "3f395d4d",
   "metadata": {},
   "source": [
    "From our findings we came to the conclusion that:<br>\n",
    "-ASK Hn posts are more likely to attract feedback compared to SHOW Hn posts\n",
    "-users should create a ASK Hn post around 3 pm or around 2 am in order to increase their chance of receiving more comments."
   ]
  },
  {
   "cell_type": "code",
   "execution_count": null,
   "id": "308dcb0d",
   "metadata": {},
   "outputs": [],
   "source": []
  }
 ],
 "metadata": {
  "kernelspec": {
   "display_name": "Python 3",
   "language": "python",
   "name": "python3"
  },
  "language_info": {
   "codemirror_mode": {
    "name": "ipython",
    "version": 3
   },
   "file_extension": ".py",
   "mimetype": "text/x-python",
   "name": "python",
   "nbconvert_exporter": "python",
   "pygments_lexer": "ipython3",
   "version": "3.8.8"
  }
 },
 "nbformat": 4,
 "nbformat_minor": 5
}
