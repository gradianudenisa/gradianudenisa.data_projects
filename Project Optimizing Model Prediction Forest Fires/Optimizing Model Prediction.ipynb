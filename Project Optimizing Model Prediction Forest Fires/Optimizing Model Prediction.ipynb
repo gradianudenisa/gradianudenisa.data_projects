{
 "cells": [
  {
   "cell_type": "markdown",
   "id": "c722cbb1",
   "metadata": {},
   "source": [
    "## Optimizing Model Prediction for Predicting Forest Fires"
   ]
  },
  {
   "cell_type": "markdown",
   "id": "054aed76",
   "metadata": {},
   "source": [
    "In this project we are going to use a standard linear regression model as a reference and the goal is to iterate on it using various tools for optimizing the machine learning workflow such as handling outliers, performing k-fold cross-validation, and using regularization — among others. Our machine learning task will be to predict the extent of fire damage to a forest. \n",
    "\n",
    "The data comes from the [Forest Fires](https://archive.ics.uci.edu/dataset/162/forest+fires) dataset from the UCI Machine Learning Repository. This dataset contains information on fires, along with the resulting damage and associated meteorological data. We want to know how these characteristics might be useful in predicting future fire damage."
   ]
  },
  {
   "cell_type": "markdown",
   "id": "47023678",
   "metadata": {},
   "source": [
    "![Image](https://images.unsplash.com/photo-1628666173519-66351692f747?ixlib=rb-4.0.3&ixid=M3wxMjA3fDB8MHxwaG90by1wYWdlfHx8fGVufDB8fHx8fA%3D%3D&auto=format&fit=crop&w=774&q=80)\n",
    "__Photo by Brett Jordan on Unsplash__"
   ]
  },
  {
   "cell_type": "code",
   "execution_count": 1,
   "id": "6aa2fa6d",
   "metadata": {},
   "outputs": [],
   "source": [
    "import numpy as np\n",
    "import pandas as pd\n",
    "import seaborn as sns\n",
    "import matplotlib.pyplot as plt\n",
    "%matplotlib inline\n",
    "from sklearn.metrics import mean_squared_error\n",
    "from sklearn.linear_model import LinearRegression"
   ]
  },
  {
   "cell_type": "code",
   "execution_count": 2,
   "id": "9608ffa3",
   "metadata": {},
   "outputs": [
    {
     "data": {
      "text/plain": [
       "Index(['Unnamed: 0', 'X', 'Y', 'month', 'day', 'FFMC', 'DMC', 'DC', 'ISI',\n",
       "       'temp', 'RH', 'wind', 'rain', 'area'],\n",
       "      dtype='object')"
      ]
     },
     "execution_count": 2,
     "metadata": {},
     "output_type": "execute_result"
    }
   ],
   "source": [
    "fires=pd.read_csv(\"C:/Users/Denisa/Desktop/Project Apps/project 23/fires.csv\")\n",
    "fires.columns"
   ]
  },
  {
   "cell_type": "markdown",
   "id": "4b9cf5eb",
   "metadata": {},
   "source": [
    "__Attribute Information__\n",
    "*  `X` - x-axis spatial coordinate within the Montesinho park map: 1 to 9\n",
    "*  `Y` - y-axis spatial coordinate within the Montesinho park map: 2 to 9\n",
    "*  `month` - month of the year: 'jan' to 'dec' \n",
    "*  `day` - day of the week: 'mon' to 'sun'\n",
    "*  `FFMC` - FFMC index from the FWI system: 18.7 to 96.20\n",
    "*  `DMC` - DMC index from the FWI system: 1.1 to 291.3 \n",
    "*  `DC` - DC index from the FWI system: 7.9 to 860.6 \n",
    "*  `ISI` - ISI index from the FWI system: 0.0 to 56.10\n",
    "*  `temp` - temperature in Celsius degrees: 2.2 to 33.30\n",
    "*  `RH` - relative humidity in %: 15.0 to 100\n",
    "*  `wind` - wind speed in km/h: 0.40 to 9.40 \n",
    "*  `rain` - outside rain in mm/m2 : 0.0 to 6.4 \n",
    "*  `area` - the burned area of the forest (in ha)"
   ]
  },
  {
   "cell_type": "code",
   "execution_count": 3,
   "id": "bc098e47",
   "metadata": {},
   "outputs": [
    {
     "data": {
      "text/html": [
       "<div>\n",
       "<style scoped>\n",
       "    .dataframe tbody tr th:only-of-type {\n",
       "        vertical-align: middle;\n",
       "    }\n",
       "\n",
       "    .dataframe tbody tr th {\n",
       "        vertical-align: top;\n",
       "    }\n",
       "\n",
       "    .dataframe thead th {\n",
       "        text-align: right;\n",
       "    }\n",
       "</style>\n",
       "<table border=\"1\" class=\"dataframe\">\n",
       "  <thead>\n",
       "    <tr style=\"text-align: right;\">\n",
       "      <th></th>\n",
       "      <th>Unnamed: 0</th>\n",
       "      <th>X</th>\n",
       "      <th>Y</th>\n",
       "      <th>month</th>\n",
       "      <th>day</th>\n",
       "      <th>FFMC</th>\n",
       "      <th>DMC</th>\n",
       "      <th>DC</th>\n",
       "      <th>ISI</th>\n",
       "      <th>temp</th>\n",
       "      <th>RH</th>\n",
       "      <th>wind</th>\n",
       "      <th>rain</th>\n",
       "      <th>area</th>\n",
       "    </tr>\n",
       "  </thead>\n",
       "  <tbody>\n",
       "    <tr>\n",
       "      <th>0</th>\n",
       "      <td>1</td>\n",
       "      <td>7</td>\n",
       "      <td>5</td>\n",
       "      <td>mar</td>\n",
       "      <td>fri</td>\n",
       "      <td>86.2</td>\n",
       "      <td>26.2</td>\n",
       "      <td>94.3</td>\n",
       "      <td>5.1</td>\n",
       "      <td>NaN</td>\n",
       "      <td>51.0</td>\n",
       "      <td>6.7</td>\n",
       "      <td>0.0</td>\n",
       "      <td>0.0</td>\n",
       "    </tr>\n",
       "    <tr>\n",
       "      <th>1</th>\n",
       "      <td>2</td>\n",
       "      <td>7</td>\n",
       "      <td>4</td>\n",
       "      <td>oct</td>\n",
       "      <td>tue</td>\n",
       "      <td>90.6</td>\n",
       "      <td>NaN</td>\n",
       "      <td>669.1</td>\n",
       "      <td>6.7</td>\n",
       "      <td>18.0</td>\n",
       "      <td>33.0</td>\n",
       "      <td>0.9</td>\n",
       "      <td>0.0</td>\n",
       "      <td>0.0</td>\n",
       "    </tr>\n",
       "    <tr>\n",
       "      <th>2</th>\n",
       "      <td>3</td>\n",
       "      <td>7</td>\n",
       "      <td>4</td>\n",
       "      <td>oct</td>\n",
       "      <td>sat</td>\n",
       "      <td>90.6</td>\n",
       "      <td>43.7</td>\n",
       "      <td>NaN</td>\n",
       "      <td>6.7</td>\n",
       "      <td>14.6</td>\n",
       "      <td>33.0</td>\n",
       "      <td>1.3</td>\n",
       "      <td>0.0</td>\n",
       "      <td>0.0</td>\n",
       "    </tr>\n",
       "    <tr>\n",
       "      <th>3</th>\n",
       "      <td>4</td>\n",
       "      <td>8</td>\n",
       "      <td>6</td>\n",
       "      <td>mar</td>\n",
       "      <td>fri</td>\n",
       "      <td>91.7</td>\n",
       "      <td>33.3</td>\n",
       "      <td>77.5</td>\n",
       "      <td>9.0</td>\n",
       "      <td>8.3</td>\n",
       "      <td>97.0</td>\n",
       "      <td>4.0</td>\n",
       "      <td>0.2</td>\n",
       "      <td>0.0</td>\n",
       "    </tr>\n",
       "    <tr>\n",
       "      <th>4</th>\n",
       "      <td>5</td>\n",
       "      <td>8</td>\n",
       "      <td>6</td>\n",
       "      <td>mar</td>\n",
       "      <td>sun</td>\n",
       "      <td>89.3</td>\n",
       "      <td>51.3</td>\n",
       "      <td>102.2</td>\n",
       "      <td>9.6</td>\n",
       "      <td>11.4</td>\n",
       "      <td>99.0</td>\n",
       "      <td>NaN</td>\n",
       "      <td>0.0</td>\n",
       "      <td>0.0</td>\n",
       "    </tr>\n",
       "  </tbody>\n",
       "</table>\n",
       "</div>"
      ],
      "text/plain": [
       "   Unnamed: 0  X  Y month  day  FFMC   DMC     DC  ISI  temp    RH  wind  \\\n",
       "0           1  7  5   mar  fri  86.2  26.2   94.3  5.1   NaN  51.0   6.7   \n",
       "1           2  7  4   oct  tue  90.6   NaN  669.1  6.7  18.0  33.0   0.9   \n",
       "2           3  7  4   oct  sat  90.6  43.7    NaN  6.7  14.6  33.0   1.3   \n",
       "3           4  8  6   mar  fri  91.7  33.3   77.5  9.0   8.3  97.0   4.0   \n",
       "4           5  8  6   mar  sun  89.3  51.3  102.2  9.6  11.4  99.0   NaN   \n",
       "\n",
       "   rain  area  \n",
       "0   0.0   0.0  \n",
       "1   0.0   0.0  \n",
       "2   0.0   0.0  \n",
       "3   0.2   0.0  \n",
       "4   0.0   0.0  "
      ]
     },
     "execution_count": 3,
     "metadata": {},
     "output_type": "execute_result"
    }
   ],
   "source": [
    "fires.head()"
   ]
  },
  {
   "cell_type": "code",
   "execution_count": 4,
   "id": "2e735627",
   "metadata": {},
   "outputs": [
    {
     "name": "stdout",
     "output_type": "stream",
     "text": [
      "<class 'pandas.core.frame.DataFrame'>\n",
      "RangeIndex: 517 entries, 0 to 516\n",
      "Data columns (total 14 columns):\n",
      " #   Column      Non-Null Count  Dtype  \n",
      "---  ------      --------------  -----  \n",
      " 0   Unnamed: 0  517 non-null    int64  \n",
      " 1   X           517 non-null    int64  \n",
      " 2   Y           517 non-null    int64  \n",
      " 3   month       517 non-null    object \n",
      " 4   day         517 non-null    object \n",
      " 5   FFMC        469 non-null    float64\n",
      " 6   DMC         496 non-null    float64\n",
      " 7   DC          474 non-null    float64\n",
      " 8   ISI         515 non-null    float64\n",
      " 9   temp        496 non-null    float64\n",
      " 10  RH          487 non-null    float64\n",
      " 11  wind        482 non-null    float64\n",
      " 12  rain        485 non-null    float64\n",
      " 13  area        517 non-null    float64\n",
      "dtypes: float64(9), int64(3), object(2)\n",
      "memory usage: 56.7+ KB\n"
     ]
    }
   ],
   "source": [
    "fires.info()"
   ]
  },
  {
   "cell_type": "markdown",
   "id": "e0f7adf7",
   "metadata": {},
   "source": [
    "Based on the output above the dataset has 517 entires and 13 columns. Columns `month` and `day` have object data type, the rest of them are float or int. Some columns have missing values. The outcome of interest is the `area` column, which represents the total area damaged by the fire.\n",
    "\n",
    "There is a considerable amount of missing data, so before we proceed with any model building or fitting we should  address this problem.\n",
    "\n",
    "Unnamed:0 column is the same as the index and needs to be dropped. Specific day of the week is unlikely to be of much factor in forest fires and can be removed. "
   ]
  },
  {
   "cell_type": "markdown",
   "id": "92c7c5c9",
   "metadata": {},
   "source": [
    "We will also drop the `X` and `Y` columns as they do not have an ordinal property"
   ]
  },
  {
   "cell_type": "code",
   "execution_count": 5,
   "id": "5f1ef0c3",
   "metadata": {},
   "outputs": [],
   "source": [
    "fires.drop(['Unnamed: 0', 'X', 'Y', 'day'],axis=1, inplace=True)"
   ]
  },
  {
   "cell_type": "markdown",
   "id": "df856147",
   "metadata": {},
   "source": [
    "### Data Visualization"
   ]
  },
  {
   "cell_type": "markdown",
   "id": "90742f41",
   "metadata": {},
   "source": [
    "Visualizations can help us understand how the features are related to the outcome. We will iterate through each of the features, and examine its univariate relationship with area"
   ]
  },
  {
   "cell_type": "code",
   "execution_count": 6,
   "id": "52f10f51",
   "metadata": {},
   "outputs": [
    {
     "data": {
      "image/png": "[encoded data removed]",
      "text/plain": [
       "<Figure size 720x720 with 9 Axes>"
      ]
     },
     "metadata": {
      "needs_background": "light"
     },
     "output_type": "display_data"
    }
   ],
   "source": [
    "# generate list of predictive column \n",
    "column_names=fires.drop(columns=['area'])\n",
    "column_names=column_names.columns\n",
    "\n",
    "# set figsize\n",
    "plt.figure(figsize=(10,10))\n",
    "\n",
    "# loop through predictive column names and create lineplots with x=column name and y=outcome variable (area)\n",
    "for i, col in enumerate(column_names):\n",
    "  plt.subplot(5,2,i+1)\n",
    "  sns.lineplot(data=fires, y='area', x=col) # seaborn lineplot\n",
    "  plt.title(f'{col} vs area')\n",
    "\n",
    "# show figure\n",
    "plt.tight_layout()\n",
    "plt.show() "
   ]
  },
  {
   "cell_type": "markdown",
   "id": "79b14e59",
   "metadata": {},
   "source": [
    "From the above plots we can conclude that:\n",
    "* Fires are typically between May and September\n",
    "* Fires corrospond to higher values of FFMC (fuel moisture of forest litter)\n",
    "* Fires corrospond to about 100 DMC or greater (fuel moisture of decomposed organic material underneath the litter)\n",
    "* Fires typically more severe with a DC (drying deep into the soil) of 400 or greater\n",
    "* When ISI (initial spread index) is below 20 fires are more severe\n",
    "* Higher temps correlate strongly with fire severity and size\n",
    "* RH (relative humidity) has weak corrolation with fire severity\n",
    "* Wind of 4 km/hour or greater typically increase fire area\n",
    "* Times of little to no rain corrospond to larger fires, however increasing rains can also indicate increased risk of forest fire (probably because of lightning strikes)."
   ]
  },
  {
   "cell_type": "markdown",
   "id": "a8ad5aa9",
   "metadata": {},
   "source": [
    "Examining the distribution of the outcome column, area to determine if any transformations are necessary."
   ]
  },
  {
   "cell_type": "code",
   "execution_count": 7,
   "id": "4409ef53",
   "metadata": {
    "scrolled": false
   },
   "outputs": [
    {
     "data": {
      "image/png": "[encoded data removed]",
      "text/plain": [
       "<Figure size 432x288 with 1 Axes>"
      ]
     },
     "metadata": {
      "needs_background": "light"
     },
     "output_type": "display_data"
    }
   ],
   "source": [
    "# Make copy of the dataset\n",
    "fires_clean = fires.copy()\n",
    "\n",
    "# Visualize the distribution of 'area'\n",
    "fires_clean.hist('area', bins=30)\n",
    "plt.show()"
   ]
  },
  {
   "cell_type": "markdown",
   "id": "6cb68d58",
   "metadata": {},
   "source": [
    "The outcome is highly right-skewed with extremely damaging fires. Furthermore, many of the rows have outcome values that are zero or near-zero. We should log-transform the data to reduce the effect of extreme values and make the distribution more symmetric. Some of the outcomes are actually 0, so we can add 1 to prevent any errors."
   ]
  },
  {
   "cell_type": "code",
   "execution_count": 8,
   "id": "c80f867e",
   "metadata": {},
   "outputs": [
    {
     "data": {
      "image/png": "[encoded data removed]",
      "text/plain": [
       "<Figure size 432x288 with 1 Axes>"
      ]
     },
     "metadata": {
      "needs_background": "light"
     },
     "output_type": "display_data"
    }
   ],
   "source": [
    "# Apply log transformation to the 'area'\n",
    "fires_clean['log_area'] = np.log(fires_clean['area'] + 1) # add 1 to avoid taking the log of 0 or negative values\n",
    "\n",
    "# Drop 'area'\n",
    "fires_clean.drop('area', axis=1, inplace=True)\n",
    "\n",
    "# Visualize the distribution of 'area' after log transformation\n",
    "fires_clean.hist('log_area', bins=30)\n",
    "plt.show()"
   ]
  },
  {
   "cell_type": "markdown",
   "id": "9ab4014a",
   "metadata": {},
   "source": [
    "Performing the log-transformation doesn't produce a bell-shaped distribution, but it does spread out the data a bit more than without the transformation."
   ]
  },
  {
   "cell_type": "markdown",
   "id": "b9e83d69",
   "metadata": {},
   "source": [
    "We will derive a new feature called summer from the month column (1 if the fire occurred during summer months (jun, jul, aug), which are more prone to fires)."
   ]
  },
  {
   "cell_type": "code",
   "execution_count": 9,
   "id": "18880b42",
   "metadata": {},
   "outputs": [],
   "source": [
    "# Assign 1 to summer months otherwise assign 0\n",
    "fires_clean['summer'] = fires_clean['month'].apply(lambda x: 1 if x in ['jun', 'jul', 'aug'] else 0)"
   ]
  },
  {
   "cell_type": "code",
   "execution_count": 10,
   "id": "807e66af",
   "metadata": {},
   "outputs": [
    {
     "data": {
      "text/html": [
       "<div>\n",
       "<style scoped>\n",
       "    .dataframe tbody tr th:only-of-type {\n",
       "        vertical-align: middle;\n",
       "    }\n",
       "\n",
       "    .dataframe tbody tr th {\n",
       "        vertical-align: top;\n",
       "    }\n",
       "\n",
       "    .dataframe thead th {\n",
       "        text-align: right;\n",
       "    }\n",
       "</style>\n",
       "<table border=\"1\" class=\"dataframe\">\n",
       "  <thead>\n",
       "    <tr style=\"text-align: right;\">\n",
       "      <th></th>\n",
       "      <th>FFMC</th>\n",
       "      <th>DMC</th>\n",
       "      <th>DC</th>\n",
       "      <th>ISI</th>\n",
       "      <th>temp</th>\n",
       "      <th>RH</th>\n",
       "      <th>wind</th>\n",
       "      <th>rain</th>\n",
       "      <th>log_area</th>\n",
       "      <th>summer</th>\n",
       "    </tr>\n",
       "  </thead>\n",
       "  <tbody>\n",
       "    <tr>\n",
       "      <th>0</th>\n",
       "      <td>86.2</td>\n",
       "      <td>26.2</td>\n",
       "      <td>94.3</td>\n",
       "      <td>5.1</td>\n",
       "      <td>NaN</td>\n",
       "      <td>51.0</td>\n",
       "      <td>6.7</td>\n",
       "      <td>0.0</td>\n",
       "      <td>0.000000</td>\n",
       "      <td>0</td>\n",
       "    </tr>\n",
       "    <tr>\n",
       "      <th>1</th>\n",
       "      <td>90.6</td>\n",
       "      <td>NaN</td>\n",
       "      <td>669.1</td>\n",
       "      <td>6.7</td>\n",
       "      <td>18.0</td>\n",
       "      <td>33.0</td>\n",
       "      <td>0.9</td>\n",
       "      <td>0.0</td>\n",
       "      <td>0.000000</td>\n",
       "      <td>0</td>\n",
       "    </tr>\n",
       "    <tr>\n",
       "      <th>2</th>\n",
       "      <td>90.6</td>\n",
       "      <td>43.7</td>\n",
       "      <td>NaN</td>\n",
       "      <td>6.7</td>\n",
       "      <td>14.6</td>\n",
       "      <td>33.0</td>\n",
       "      <td>1.3</td>\n",
       "      <td>0.0</td>\n",
       "      <td>0.000000</td>\n",
       "      <td>0</td>\n",
       "    </tr>\n",
       "    <tr>\n",
       "      <th>3</th>\n",
       "      <td>91.7</td>\n",
       "      <td>33.3</td>\n",
       "      <td>77.5</td>\n",
       "      <td>9.0</td>\n",
       "      <td>8.3</td>\n",
       "      <td>97.0</td>\n",
       "      <td>4.0</td>\n",
       "      <td>0.2</td>\n",
       "      <td>0.000000</td>\n",
       "      <td>0</td>\n",
       "    </tr>\n",
       "    <tr>\n",
       "      <th>4</th>\n",
       "      <td>89.3</td>\n",
       "      <td>51.3</td>\n",
       "      <td>102.2</td>\n",
       "      <td>9.6</td>\n",
       "      <td>11.4</td>\n",
       "      <td>99.0</td>\n",
       "      <td>NaN</td>\n",
       "      <td>0.0</td>\n",
       "      <td>0.000000</td>\n",
       "      <td>0</td>\n",
       "    </tr>\n",
       "    <tr>\n",
       "      <th>...</th>\n",
       "      <td>...</td>\n",
       "      <td>...</td>\n",
       "      <td>...</td>\n",
       "      <td>...</td>\n",
       "      <td>...</td>\n",
       "      <td>...</td>\n",
       "      <td>...</td>\n",
       "      <td>...</td>\n",
       "      <td>...</td>\n",
       "      <td>...</td>\n",
       "    </tr>\n",
       "    <tr>\n",
       "      <th>512</th>\n",
       "      <td>81.6</td>\n",
       "      <td>56.7</td>\n",
       "      <td>665.6</td>\n",
       "      <td>1.9</td>\n",
       "      <td>27.8</td>\n",
       "      <td>32.0</td>\n",
       "      <td>2.7</td>\n",
       "      <td>0.0</td>\n",
       "      <td>2.006871</td>\n",
       "      <td>1</td>\n",
       "    </tr>\n",
       "    <tr>\n",
       "      <th>513</th>\n",
       "      <td>81.6</td>\n",
       "      <td>56.7</td>\n",
       "      <td>665.6</td>\n",
       "      <td>1.9</td>\n",
       "      <td>21.9</td>\n",
       "      <td>71.0</td>\n",
       "      <td>5.8</td>\n",
       "      <td>0.0</td>\n",
       "      <td>4.012592</td>\n",
       "      <td>1</td>\n",
       "    </tr>\n",
       "    <tr>\n",
       "      <th>514</th>\n",
       "      <td>81.6</td>\n",
       "      <td>56.7</td>\n",
       "      <td>665.6</td>\n",
       "      <td>1.9</td>\n",
       "      <td>21.2</td>\n",
       "      <td>70.0</td>\n",
       "      <td>6.7</td>\n",
       "      <td>0.0</td>\n",
       "      <td>2.498152</td>\n",
       "      <td>1</td>\n",
       "    </tr>\n",
       "    <tr>\n",
       "      <th>515</th>\n",
       "      <td>94.4</td>\n",
       "      <td>146.0</td>\n",
       "      <td>614.7</td>\n",
       "      <td>11.3</td>\n",
       "      <td>25.6</td>\n",
       "      <td>42.0</td>\n",
       "      <td>4.0</td>\n",
       "      <td>0.0</td>\n",
       "      <td>0.000000</td>\n",
       "      <td>1</td>\n",
       "    </tr>\n",
       "    <tr>\n",
       "      <th>516</th>\n",
       "      <td>79.5</td>\n",
       "      <td>3.0</td>\n",
       "      <td>106.7</td>\n",
       "      <td>1.1</td>\n",
       "      <td>11.8</td>\n",
       "      <td>31.0</td>\n",
       "      <td>4.5</td>\n",
       "      <td>0.0</td>\n",
       "      <td>0.000000</td>\n",
       "      <td>0</td>\n",
       "    </tr>\n",
       "  </tbody>\n",
       "</table>\n",
       "<p>517 rows × 10 columns</p>\n",
       "</div>"
      ],
      "text/plain": [
       "     FFMC    DMC     DC   ISI  temp    RH  wind  rain  log_area  summer\n",
       "0    86.2   26.2   94.3   5.1   NaN  51.0   6.7   0.0  0.000000       0\n",
       "1    90.6    NaN  669.1   6.7  18.0  33.0   0.9   0.0  0.000000       0\n",
       "2    90.6   43.7    NaN   6.7  14.6  33.0   1.3   0.0  0.000000       0\n",
       "3    91.7   33.3   77.5   9.0   8.3  97.0   4.0   0.2  0.000000       0\n",
       "4    89.3   51.3  102.2   9.6  11.4  99.0   NaN   0.0  0.000000       0\n",
       "..    ...    ...    ...   ...   ...   ...   ...   ...       ...     ...\n",
       "512  81.6   56.7  665.6   1.9  27.8  32.0   2.7   0.0  2.006871       1\n",
       "513  81.6   56.7  665.6   1.9  21.9  71.0   5.8   0.0  4.012592       1\n",
       "514  81.6   56.7  665.6   1.9  21.2  70.0   6.7   0.0  2.498152       1\n",
       "515  94.4  146.0  614.7  11.3  25.6  42.0   4.0   0.0  0.000000       1\n",
       "516  79.5    3.0  106.7   1.1  11.8  31.0   4.5   0.0  0.000000       0\n",
       "\n",
       "[517 rows x 10 columns]"
      ]
     },
     "execution_count": 10,
     "metadata": {},
     "output_type": "execute_result"
    }
   ],
   "source": [
    "# Drop the original 'month' and 'day' columns\n",
    "fires_clean.drop(columns=['month'], axis=1, inplace=True)\n",
    "fires_clean"
   ]
  },
  {
   "cell_type": "code",
   "execution_count": 11,
   "id": "da500c65",
   "metadata": {
    "scrolled": false
   },
   "outputs": [
    {
     "data": {
      "text/plain": [
       "FFMC        48\n",
       "DMC         21\n",
       "DC          43\n",
       "ISI          2\n",
       "temp        21\n",
       "RH          30\n",
       "wind        35\n",
       "rain        32\n",
       "log_area     0\n",
       "summer       0\n",
       "dtype: int64"
      ]
     },
     "execution_count": 11,
     "metadata": {},
     "output_type": "execute_result"
    }
   ],
   "source": [
    "fires_clean.isnull().sum()"
   ]
  },
  {
   "cell_type": "markdown",
   "id": "a8af4b72",
   "metadata": {},
   "source": [
    "We can see our dataset contains some missing values. We will use he K-Nearest Neighbors Imputation to make an educated prediction and fill in missing values."
   ]
  },
  {
   "cell_type": "code",
   "execution_count": 12,
   "id": "70f8c731",
   "metadata": {},
   "outputs": [
    {
     "data": {
      "text/plain": [
       "FFMC    0\n",
       "DMC     0\n",
       "DC      0\n",
       "ISI     0\n",
       "temp    0\n",
       "RH      0\n",
       "wind    0\n",
       "rain    0\n",
       "dtype: int64"
      ]
     },
     "execution_count": 12,
     "metadata": {},
     "output_type": "execute_result"
    }
   ],
   "source": [
    "from sklearn.impute import KNNImputer\n",
    "\n",
    "# Access column names containing missing values\n",
    "miss_val_cols = fires_clean.columns[fires_clean.isnull().any()].tolist()\n",
    "\n",
    "# Instantiate imputer\n",
    "imputer = KNNImputer(missing_values=np.nan, n_neighbors=3) # n_neighbors=3 since we have small dataset\n",
    "\n",
    "# Apply imputer and create dataframe\n",
    "imputed_df = pd.DataFrame(imputer.fit_transform(fires_clean[miss_val_cols]),\n",
    "                          columns=miss_val_cols)\n",
    "\n",
    "# Check missing values after imputation\n",
    "imputed_df.isnull().sum()"
   ]
  },
  {
   "cell_type": "markdown",
   "id": "6f1c574e",
   "metadata": {},
   "source": [
    "Now we can use the imputed dataset in our machine learning workflow."
   ]
  },
  {
   "cell_type": "markdown",
   "id": "9e0b8a53",
   "metadata": {},
   "source": [
    "Now we can use the imputed dataset in our machine learning workflow."
   ]
  },
  {
   "cell_type": "code",
   "execution_count": 13,
   "id": "5d2eb5f5",
   "metadata": {
    "scrolled": true
   },
   "outputs": [
    {
     "name": "stdout",
     "output_type": "stream",
     "text": [
      "FFMC: 0 outliers\n",
      "DMC: 0 outliers\n",
      "DC: 0 outliers\n",
      "ISI: 0 outliers\n",
      "temp: 0 outliers\n",
      "RH: 0 outliers\n",
      "wind: 0 outliers\n",
      "rain: 0 outliers\n"
     ]
    }
   ],
   "source": [
    "for col in miss_val_cols:\n",
    "    q1 = np.percentile(fires_clean[col], 25)\n",
    "    q3 = np.percentile(fires_clean[col], 75)\n",
    "    iqr = q3 - q1\n",
    "    lower_bound = q1 - 1.5*iqr\n",
    "    upper_bound = q3 + 1.5*iqr\n",
    "    outliers = ((fires_clean[col] < lower_bound) | (fires_clean[col] > upper_bound)).sum()\n",
    "    print(f'{col}: {outliers} outliers')"
   ]
  },
  {
   "cell_type": "markdown",
   "id": "6e934f03",
   "metadata": {},
   "source": [
    " We'll examine the data for potential outliers, as they can be troublesome by influencing the estimation of model parameters, which harms model predictions."
   ]
  },
  {
   "cell_type": "markdown",
   "id": "0e0e1d9f",
   "metadata": {},
   "source": [
    "Now that the dataset has been inspected for missing values and outliers, we can proceed to standardize it  to make sure that the coefficients are penalized similarly."
   ]
  },
  {
   "cell_type": "code",
   "execution_count": 14,
   "id": "12c47fab",
   "metadata": {},
   "outputs": [
    {
     "data": {
      "text/html": [
       "<div>\n",
       "<style scoped>\n",
       "    .dataframe tbody tr th:only-of-type {\n",
       "        vertical-align: middle;\n",
       "    }\n",
       "\n",
       "    .dataframe tbody tr th {\n",
       "        vertical-align: top;\n",
       "    }\n",
       "\n",
       "    .dataframe thead th {\n",
       "        text-align: right;\n",
       "    }\n",
       "</style>\n",
       "<table border=\"1\" class=\"dataframe\">\n",
       "  <thead>\n",
       "    <tr style=\"text-align: right;\">\n",
       "      <th></th>\n",
       "      <th>log_area</th>\n",
       "      <th>summer</th>\n",
       "      <th>FFMC</th>\n",
       "      <th>DMC</th>\n",
       "      <th>DC</th>\n",
       "      <th>ISI</th>\n",
       "      <th>temp</th>\n",
       "      <th>RH</th>\n",
       "      <th>wind</th>\n",
       "      <th>rain</th>\n",
       "    </tr>\n",
       "  </thead>\n",
       "  <tbody>\n",
       "    <tr>\n",
       "      <th>0</th>\n",
       "      <td>0.0</td>\n",
       "      <td>0</td>\n",
       "      <td>-0.812283</td>\n",
       "      <td>-1.335942</td>\n",
       "      <td>-1.846711</td>\n",
       "      <td>-0.860187</td>\n",
       "      <td>-0.398187</td>\n",
       "      <td>0.418726</td>\n",
       "      <td>1.514159</td>\n",
       "      <td>-0.073268</td>\n",
       "    </tr>\n",
       "    <tr>\n",
       "      <th>1</th>\n",
       "      <td>0.0</td>\n",
       "      <td>0</td>\n",
       "      <td>-0.010735</td>\n",
       "      <td>-0.859009</td>\n",
       "      <td>0.509582</td>\n",
       "      <td>-0.508736</td>\n",
       "      <td>-0.155493</td>\n",
       "      <td>-0.715565</td>\n",
       "      <td>-1.761003</td>\n",
       "      <td>-0.073268</td>\n",
       "    </tr>\n",
       "    <tr>\n",
       "      <th>2</th>\n",
       "      <td>0.0</td>\n",
       "      <td>0</td>\n",
       "      <td>-0.010735</td>\n",
       "      <td>-1.059878</td>\n",
       "      <td>-0.303178</td>\n",
       "      <td>-0.508736</td>\n",
       "      <td>-0.744894</td>\n",
       "      <td>-0.715565</td>\n",
       "      <td>-1.535130</td>\n",
       "      <td>-0.073268</td>\n",
       "    </tr>\n",
       "    <tr>\n",
       "      <th>3</th>\n",
       "      <td>0.0</td>\n",
       "      <td>0</td>\n",
       "      <td>0.189652</td>\n",
       "      <td>-1.223939</td>\n",
       "      <td>-1.915580</td>\n",
       "      <td>-0.003526</td>\n",
       "      <td>-1.837021</td>\n",
       "      <td>3.317471</td>\n",
       "      <td>-0.010485</td>\n",
       "      <td>0.603155</td>\n",
       "    </tr>\n",
       "    <tr>\n",
       "      <th>4</th>\n",
       "      <td>0.0</td>\n",
       "      <td>0</td>\n",
       "      <td>-0.247556</td>\n",
       "      <td>-0.939988</td>\n",
       "      <td>-1.814327</td>\n",
       "      <td>0.128267</td>\n",
       "      <td>-1.299625</td>\n",
       "      <td>3.443503</td>\n",
       "      <td>0.177742</td>\n",
       "      <td>-0.073268</td>\n",
       "    </tr>\n",
       "    <tr>\n",
       "      <th>...</th>\n",
       "      <td>...</td>\n",
       "      <td>...</td>\n",
       "      <td>...</td>\n",
       "      <td>...</td>\n",
       "      <td>...</td>\n",
       "      <td>...</td>\n",
       "      <td>...</td>\n",
       "      <td>...</td>\n",
       "      <td>...</td>\n",
       "      <td>...</td>\n",
       "    </tr>\n",
       "    <tr>\n",
       "      <th>100</th>\n",
       "      <td>0.0</td>\n",
       "      <td>1</td>\n",
       "      <td>0.135001</td>\n",
       "      <td>0.497121</td>\n",
       "      <td>0.232058</td>\n",
       "      <td>0.347924</td>\n",
       "      <td>0.156543</td>\n",
       "      <td>-0.337468</td>\n",
       "      <td>0.780071</td>\n",
       "      <td>-0.073268</td>\n",
       "    </tr>\n",
       "    <tr>\n",
       "      <th>101</th>\n",
       "      <td>0.0</td>\n",
       "      <td>1</td>\n",
       "      <td>-0.338641</td>\n",
       "      <td>0.574419</td>\n",
       "      <td>0.285759</td>\n",
       "      <td>-0.003526</td>\n",
       "      <td>-0.779565</td>\n",
       "      <td>1.363969</td>\n",
       "      <td>-0.255181</td>\n",
       "      <td>-0.073268</td>\n",
       "    </tr>\n",
       "    <tr>\n",
       "      <th>102</th>\n",
       "      <td>0.0</td>\n",
       "      <td>1</td>\n",
       "      <td>0.754378</td>\n",
       "      <td>-0.040809</td>\n",
       "      <td>0.363646</td>\n",
       "      <td>1.753725</td>\n",
       "      <td>0.208549</td>\n",
       "      <td>-0.274452</td>\n",
       "      <td>-0.010485</td>\n",
       "      <td>-0.073268</td>\n",
       "    </tr>\n",
       "    <tr>\n",
       "      <th>103</th>\n",
       "      <td>0.0</td>\n",
       "      <td>0</td>\n",
       "      <td>0.335388</td>\n",
       "      <td>0.161112</td>\n",
       "      <td>0.531309</td>\n",
       "      <td>-0.091389</td>\n",
       "      <td>0.901963</td>\n",
       "      <td>-0.967629</td>\n",
       "      <td>0.271856</td>\n",
       "      <td>-0.073268</td>\n",
       "    </tr>\n",
       "    <tr>\n",
       "      <th>104</th>\n",
       "      <td>0.0</td>\n",
       "      <td>0</td>\n",
       "      <td>-1.559180</td>\n",
       "      <td>-1.690881</td>\n",
       "      <td>-2.152658</td>\n",
       "      <td>-1.343431</td>\n",
       "      <td>-2.357081</td>\n",
       "      <td>2.120163</td>\n",
       "      <td>-0.518700</td>\n",
       "      <td>-0.073268</td>\n",
       "    </tr>\n",
       "  </tbody>\n",
       "</table>\n",
       "<p>105 rows × 10 columns</p>\n",
       "</div>"
      ],
      "text/plain": [
       "     log_area  summer      FFMC       DMC        DC       ISI      temp  \\\n",
       "0         0.0       0 -0.812283 -1.335942 -1.846711 -0.860187 -0.398187   \n",
       "1         0.0       0 -0.010735 -0.859009  0.509582 -0.508736 -0.155493   \n",
       "2         0.0       0 -0.010735 -1.059878 -0.303178 -0.508736 -0.744894   \n",
       "3         0.0       0  0.189652 -1.223939 -1.915580 -0.003526 -1.837021   \n",
       "4         0.0       0 -0.247556 -0.939988 -1.814327  0.128267 -1.299625   \n",
       "..        ...     ...       ...       ...       ...       ...       ...   \n",
       "100       0.0       1  0.135001  0.497121  0.232058  0.347924  0.156543   \n",
       "101       0.0       1 -0.338641  0.574419  0.285759 -0.003526 -0.779565   \n",
       "102       0.0       1  0.754378 -0.040809  0.363646  1.753725  0.208549   \n",
       "103       0.0       0  0.335388  0.161112  0.531309 -0.091389  0.901963   \n",
       "104       0.0       0 -1.559180 -1.690881 -2.152658 -1.343431 -2.357081   \n",
       "\n",
       "           RH      wind      rain  \n",
       "0    0.418726  1.514159 -0.073268  \n",
       "1   -0.715565 -1.761003 -0.073268  \n",
       "2   -0.715565 -1.535130 -0.073268  \n",
       "3    3.317471 -0.010485  0.603155  \n",
       "4    3.443503  0.177742 -0.073268  \n",
       "..        ...       ...       ...  \n",
       "100 -0.337468  0.780071 -0.073268  \n",
       "101  1.363969 -0.255181 -0.073268  \n",
       "102 -0.274452 -0.010485 -0.073268  \n",
       "103 -0.967629  0.271856 -0.073268  \n",
       "104  2.120163 -0.518700 -0.073268  \n",
       "\n",
       "[105 rows x 10 columns]"
      ]
     },
     "execution_count": 14,
     "metadata": {},
     "output_type": "execute_result"
    }
   ],
   "source": [
    "from sklearn.preprocessing import StandardScaler\n",
    "\n",
    "# Instantiate scaler\n",
    "scaler = StandardScaler()\n",
    "\n",
    "# Apply scaler\n",
    "scaled_imputed_df = scaler.fit_transform(imputed_df)\n",
    "\n",
    "# Create dataframe from 'scaled_imputed_df'\n",
    "scaled_imputed_df = pd.DataFrame(scaled_imputed_df, columns=miss_val_cols)\n",
    "\n",
    "# Get columns in 'fires_clean' that are not in 'miss_val_cols'\n",
    "non_miss_val_cols = fires_clean.columns[~fires_clean.columns.isin(miss_val_cols)]\n",
    "\n",
    "# Concat 'fires_clean' and 'scaled_imputed_df'\n",
    "fires_final = pd.concat([fires_clean[non_miss_val_cols], scaled_imputed_df], axis=1)\n",
    "fires_final.head(105)"
   ]
  },
  {
   "cell_type": "code",
   "execution_count": 15,
   "id": "199b2166",
   "metadata": {},
   "outputs": [
    {
     "data": {
      "text/plain": [
       "Text(0.5, 1.0, \"Pearson's Correlation heatmap\")"
      ]
     },
     "execution_count": 15,
     "metadata": {},
     "output_type": "execute_result"
    },
    {
     "data": {
      "image/png": "[encoded data removed]",
      "text/plain": [
       "<Figure size 648x648 with 2 Axes>"
      ]
     },
     "metadata": {
      "needs_background": "light"
     },
     "output_type": "display_data"
    }
   ],
   "source": [
    "# calculate correlations in dataset\n",
    "corr=abs(fires_final.corr())\n",
    "\n",
    "# plot correlations using heatmap\n",
    "plt.figure(figsize=(9,9))\n",
    "sns.heatmap(corr[(corr<1)], cmap='PiYG', annot=True)\n",
    "plt.title(\"Pearson's Correlation heatmap\")"
   ]
  },
  {
   "cell_type": "markdown",
   "id": "4dac8e06",
   "metadata": {},
   "source": [
    "We can see that correlations of the predictor variables with the outcome variable area are not significant."
   ]
  },
  {
   "cell_type": "markdown",
   "id": "1cc3e6a9",
   "metadata": {},
   "source": [
    "### Subset Selection"
   ]
  },
  {
   "cell_type": "markdown",
   "id": "3c3a1e7e",
   "metadata": {},
   "source": [
    "Now that we have a cleaned dataset with all numerical features and we've visually explored the feature-outcome relationships, we can start modeling. We will perform sequential feature selection, by choosing (forward) or eliminating (backward) a feature iteratively until a reasonable set is chosen. "
   ]
  },
  {
   "cell_type": "code",
   "execution_count": 16,
   "id": "76822f6a",
   "metadata": {
    "scrolled": true
   },
   "outputs": [],
   "source": [
    "from sklearn.model_selection import train_test_split\n",
    "\n",
    "\n",
    "# Create feature X and outcome y\n",
    "X = fires_final.drop('log_area', axis=1)\n",
    "y = fires_final['log_area']\n",
    "\n",
    "# Split data into train (80%) and test (20%)\n",
    "X_train, X_test, y_train, y_test = train_test_split(X, y,\n",
    "                                                    test_size=0.20,\n",
    "                                                    random_state=42)"
   ]
  },
  {
   "cell_type": "code",
   "execution_count": 17,
   "id": "307adb05",
   "metadata": {},
   "outputs": [
    {
     "name": "stdout",
     "output_type": "stream",
     "text": [
      "Forward selection - 2 feature model selected features: ['summer' 'DMC']\n",
      "Forward selection - 4 feature model selected features: ['summer' 'FFMC' 'DMC' 'DC']\n",
      "Forward selection - 6 feature model selected features: ['summer' 'FFMC' 'DMC' 'DC' 'ISI' 'wind']\n",
      "Forward selection - 8 feature model selected features: ['summer' 'FFMC' 'DMC' 'DC' 'ISI' 'temp' 'RH' 'wind']\n"
     ]
    }
   ],
   "source": [
    "from sklearn.feature_selection import SequentialFeatureSelector\n",
    "\n",
    "\n",
    "# Set up the forward selectors\n",
    "forward_lm2 = SequentialFeatureSelector(estimator=LinearRegression(),\n",
    "                                        n_features_to_select=2,\n",
    "                                        direction='forward')\n",
    "forward_lm4 = SequentialFeatureSelector(estimator=LinearRegression(),\n",
    "                                        n_features_to_select=4,\n",
    "                                        direction='forward')\n",
    "forward_lm6 = SequentialFeatureSelector(estimator=LinearRegression(),\n",
    "                                        n_features_to_select=6,\n",
    "                                        direction='forward')\n",
    "forward_lm8 = SequentialFeatureSelector(estimator=LinearRegression(),\n",
    "                                        n_features_to_select=8,\n",
    "                                        direction='forward')\n",
    "\n",
    "# Fit the forward selectors\n",
    "forward_lm2.fit(X_train, y_train)\n",
    "forward_lm4.fit(X_train, y_train)\n",
    "forward_lm6.fit(X_train, y_train)\n",
    "forward_lm8.fit(X_train, y_train)\n",
    "\n",
    "# Get the selected feature names from forward selectors\n",
    "fwd_features2 = forward_lm2.get_feature_names_out()\n",
    "fwd_features4 = forward_lm4.get_feature_names_out()\n",
    "fwd_features6 = forward_lm6.get_feature_names_out()\n",
    "fwd_features8 = forward_lm8.get_feature_names_out()\n",
    "\n",
    "print(f'Forward selection - 2 feature model selected features: {fwd_features2}')\n",
    "print(f'Forward selection - 4 feature model selected features: {fwd_features4}')\n",
    "print(f'Forward selection - 6 feature model selected features: {fwd_features6}')\n",
    "print(f'Forward selection - 8 feature model selected features: {fwd_features8}')"
   ]
  },
  {
   "cell_type": "code",
   "execution_count": 18,
   "id": "632b01e1",
   "metadata": {},
   "outputs": [
    {
     "name": "stdout",
     "output_type": "stream",
     "text": [
      "Backward selection - 2 feature model selected features: ['DMC' 'ISI']\n",
      "Backward selection - 4 feature model selected features: ['FFMC' 'DMC' 'DC' 'ISI']\n",
      "Backward selection - 6 feature model selected features: ['FFMC' 'DMC' 'DC' 'ISI' 'temp' 'wind']\n",
      "Backward selection - 8 feature model selected features: ['summer' 'FFMC' 'DMC' 'DC' 'ISI' 'temp' 'RH' 'wind']\n"
     ]
    }
   ],
   "source": [
    "# Set up the backward selectors\n",
    "backward_lm2 = SequentialFeatureSelector(estimator=LinearRegression(),\n",
    "                                        n_features_to_select=2,\n",
    "                                        direction='backward')\n",
    "backward_lm4 = SequentialFeatureSelector(estimator=LinearRegression(),\n",
    "                                        n_features_to_select=4,\n",
    "                                        direction='backward')\n",
    "backward_lm6 = SequentialFeatureSelector(estimator=LinearRegression(),\n",
    "                                        n_features_to_select=6,\n",
    "                                        direction='backward')\n",
    "backward_lm8 = SequentialFeatureSelector(estimator=LinearRegression(),\n",
    "                                        n_features_to_select=8,\n",
    "                                        direction='backward')\n",
    "\n",
    "# Fit the backward selectors\n",
    "backward_lm2.fit(X_train, y_train)\n",
    "backward_lm4.fit(X_train, y_train)\n",
    "backward_lm6.fit(X_train, y_train)\n",
    "backward_lm8.fit(X_train, y_train)\n",
    "\n",
    "# Get the selected feature names from backward selectors\n",
    "bwd_features2 = backward_lm2.get_feature_names_out()\n",
    "bwd_features4 = backward_lm4.get_feature_names_out()\n",
    "bwd_features6 = backward_lm6.get_feature_names_out()\n",
    "bwd_features8 = backward_lm8.get_feature_names_out()\n",
    "\n",
    "\n",
    "print(f'Backward selection - 2 feature model selected features: {bwd_features2}')\n",
    "print(f'Backward selection - 4 feature model selected features: {bwd_features4}')\n",
    "print(f'Backward selection - 6 feature model selected features: {bwd_features6}')\n",
    "print(f'Backward selection - 8 feature model selected features: {bwd_features8}')"
   ]
  },
  {
   "cell_type": "code",
   "execution_count": 19,
   "id": "c49057d8",
   "metadata": {},
   "outputs": [
    {
     "name": "stdout",
     "output_type": "stream",
     "text": [
      "Common features in 2-feature model: ['DMC']\n",
      "Common features in 4-feature model: ['FFMC', 'DMC', 'DC']\n",
      "Common features in 6-feature model: ['DC', 'FFMC', 'wind', 'DMC', 'ISI']\n",
      "Common features in 8-feature model: ['DC', 'temp', 'FFMC', 'RH', 'summer', 'wind', 'DMC', 'ISI']\n"
     ]
    }
   ],
   "source": [
    "# Find the common features in both forward and backward selectors\n",
    "common_features2 = list(set(fwd_features2) & set(bwd_features2))\n",
    "common_features4 = list(set(fwd_features4) & set(bwd_features4))\n",
    "common_features6 = list(set(fwd_features6) & set(bwd_features6))\n",
    "common_features8 = list(set(fwd_features8) & set(bwd_features8))\n",
    "\n",
    "print(f'Common features in 2-feature model: {common_features2}')\n",
    "print(f'Common features in 4-feature model: {common_features4}')\n",
    "print(f'Common features in 6-feature model: {common_features6}')\n",
    "print(f'Common features in 8-feature model: {common_features8}')"
   ]
  },
  {
   "cell_type": "markdown",
   "id": "93b9e811",
   "metadata": {},
   "source": [
    "Based on the selected features by both forward and backward selection, we can observe that the `dmc`, `ffmc` and `dc` features are the most common features selected in all models. Additionally, `wind` and `isi` are selected in the 6-feature model, and `summer` and '`rh` are selected in the 8-feature model. These features can be considered the most important predictors of the outcome variable `log_area` in the given dataset. "
   ]
  },
  {
   "cell_type": "code",
   "execution_count": 20,
   "id": "76db6acf",
   "metadata": {},
   "outputs": [],
   "source": [
    "# Fit Linear Regression models with selected features\n",
    "fw2_model = LinearRegression().fit(X_train[fwd_features2], y_train)\n",
    "fw4_model = LinearRegression().fit(X_train[fwd_features4], y_train)\n",
    "fw6_model = LinearRegression().fit(X_train[fwd_features6], y_train)\n",
    "fw8_model = LinearRegression().fit(X_train[fwd_features8], y_train)\n",
    "\n",
    "bw2_model = LinearRegression().fit(X_train[bwd_features2], y_train)\n",
    "bw4_model = LinearRegression().fit(X_train[bwd_features4], y_train)\n",
    "bw6_model = LinearRegression().fit(X_train[bwd_features6], y_train)\n",
    "bw8_model = LinearRegression().fit(X_train[bwd_features8], y_train)"
   ]
  },
  {
   "cell_type": "markdown",
   "id": "d735bd41",
   "metadata": {},
   "source": [
    "### Developing Candidate Models"
   ]
  },
  {
   "cell_type": "markdown",
   "id": "1b6f3043",
   "metadata": {},
   "source": [
    "In the next step, we will consider incorporating regularized models like ridge or LASSO into our list of potential models.  They are powerful techniques that should be used when we are dealing with a large number of features (enhanincg the tendency of a model to overfit or causing computational challenges). Through regularization the models are simplified to generalize better to unseen dataIn standard linear regression, the coefficients are estimated by minimizing the mean squared error (MSE).The loss function for ridge regression is similar, but it adds an extra penalty term to the MSE that regularizes its coefficients. We will optimize the tuning parameter to select one that reduces validation error. \n",
    "\n",
    "We will also use the LASSO model. This regularization comes from an additional penalty term in the loss function that punishes high coefficient values with a different function (using the absolute values of the coefficients instead of their squared values). This gives LASSO a valuable characteristic that ridge regression lacks: feature selection because some of the coefficients might be forced to zero, effectively removing the associated feature from the model, unlike ridge regression where if we feed p features into the model, then we'll still retain all of them after the regularization."
   ]
  },
  {
   "cell_type": "markdown",
   "id": "f3283ba4",
   "metadata": {},
   "source": [
    "Since one of the boundaries was chosen, we will modify the range for alphas."
   ]
  },
  {
   "cell_type": "markdown",
   "id": "25114b91",
   "metadata": {},
   "source": [
    "For Lasso, given that the outcome has many small values, it suggests that having no features at all is better than having any. \n",
    "\n",
    "Linear regression models cannot account for non-linear trends present in some problems. To address this issue, we can consider using more flexible models such as polynomials and splines as candidate models."
   ]
  },
  {
   "cell_type": "code",
   "execution_count": 21,
   "id": "746f60c1",
   "metadata": {},
   "outputs": [
    {
     "name": "stdout",
     "output_type": "stream",
     "text": [
      "Ridge tuning parameter: 1000.0\n",
      "Ridge coefficients: [-0.01586888  0.020451    0.03191785  0.01586458 -0.01002007  0.0064006\n",
      " -0.00606435  0.01080077  0.01244937]\n",
      "\n",
      "Lasso tuning parameter: 1000.0\n",
      "Lasso coefficients: [-0.  0.  0.  0. -0.  0. -0.  0.  0.]\n"
     ]
    }
   ],
   "source": [
    "from sklearn.linear_model import RidgeCV, LassoCV\n",
    "\n",
    "\n",
    "# Define the alphas to search over\n",
    "alphas = np.linspace(100, 1000, num=100)\n",
    "\n",
    "# Create a ridge regression model\n",
    "ridge_model = RidgeCV(alphas=alphas)\n",
    "ridge_model.fit(X_train, y_train)\n",
    "\n",
    "# Create a LASSO regression model\n",
    "lasso_model = LassoCV(alphas=alphas)\n",
    "lasso_model.fit(X_train, y_train)\n",
    "\n",
    "print(f'Ridge tuning parameter: {ridge_model.alpha_}')\n",
    "print(f'Ridge coefficients: {ridge_model.coef_}')\n",
    "print()\n",
    "print(f'Lasso tuning parameter: {lasso_model.alpha_}')\n",
    "print(f'Lasso coefficients: {lasso_model.coef_}')"
   ]
  },
  {
   "cell_type": "code",
   "execution_count": 22,
   "id": "25575296",
   "metadata": {},
   "outputs": [
    {
     "name": "stdout",
     "output_type": "stream",
     "text": [
      "Ridge tuning parameter: 18323.323323323322\n",
      "Ridge coefficients: [-0.00073756  0.00194092  0.00272665  0.00174614 -0.00014937  0.00099919\n",
      " -0.00054882  0.00064182  0.0010472 ]\n",
      "\n",
      "Lasso tuning parameter: 20000.0\n",
      "Lasso coefficients: [-0.  0.  0.  0. -0.  0. -0.  0.  0.]\n"
     ]
    }
   ],
   "source": [
    "# Redefine alphas with wider range and more values\n",
    "alphas = np.linspace(15000, 20000, num=1000)\n",
    "\n",
    "# Create a ridge regression model\n",
    "ridge_model = RidgeCV(alphas=alphas)\n",
    "ridge_model.fit(X_train, y_train)\n",
    "\n",
    "# Create a LASSO regression model\n",
    "lasso_model = LassoCV(alphas=alphas)\n",
    "lasso_model.fit(X_train, y_train)\n",
    "\n",
    "print(f'Ridge tuning parameter: {ridge_model.alpha_}')\n",
    "print(f'Ridge coefficients: {ridge_model.coef_}')\n",
    "print()\n",
    "print(f'Lasso tuning parameter: {lasso_model.alpha_}')\n",
    "print(f'Lasso coefficients: {lasso_model.coef_}')"
   ]
  },
  {
   "cell_type": "markdown",
   "id": "94557c8d",
   "metadata": {},
   "source": [
    "The LASSO tuning parameter seems to be on the extreme. Given that the outcome has many small values, it suggests that having no features at all is better than having any. We won't use a LASSO model here since the regularization results aren't helpful."
   ]
  },
  {
   "cell_type": "code",
   "execution_count": 23,
   "id": "9012c7bc",
   "metadata": {},
   "outputs": [
    {
     "data": {
      "text/plain": [
       "2.210774450494947"
      ]
     },
     "execution_count": 23,
     "metadata": {},
     "output_type": "execute_result"
    }
   ],
   "source": [
    "from sklearn.preprocessing import StandardScaler, SplineTransformer, PolynomialFeatures\n",
    "from sklearn.metrics import mean_squared_error\n",
    "# empty list to contain mse results for different knots/degree values\n",
    "test_mses = []\n",
    "\n",
    "for knots in range(2, 11):\n",
    "    \n",
    "    spline = SplineTransformer(degree=3, n_knots=knots)\n",
    "    \n",
    "    spline_X_train = spline.fit_transform(X_train)\n",
    "    spline_X_test = spline.transform(X_test)\n",
    "    \n",
    "    model = LinearRegression()\n",
    "    model.fit(spline_X_train, y_train)\n",
    "\n",
    "    mse = mean_squared_error(y_test, model.predict(spline_X_test))\n",
    "    test_mses.append(mse)\n",
    "test_mses\n",
    "spline = SplineTransformer(degree=3, n_knots=2)\n",
    "X_spline = spline.fit_transform(X_train)\n",
    "\n",
    "\n",
    "spline_model = LinearRegression()\n",
    "spline_model.fit(X_spline, y_train)\n",
    "\n",
    "spline_X_test = spline.transform(X_test)\n",
    "\n",
    "spline_mse = mean_squared_error(y_test, spline_model.predict(spline_X_test))\n",
    "spline_mse"
   ]
  },
  {
   "cell_type": "markdown",
   "id": "1391b874",
   "metadata": {},
   "source": [
    "### K-Fold Cross-Validation"
   ]
  },
  {
   "cell_type": "markdown",
   "id": "2ff2291f",
   "metadata": {},
   "source": [
    "Now that we have a few candidate models, let's evaluate all of them using k-fold cross-validation. We will incorporate K-fold cross-validation into our machine learning workflow by using multiple training and test sets using the original dataset and separate rounds of training. We know k=5 or k=10 is a good compromise between bias and variance"
   ]
  },
  {
   "cell_type": "code",
   "execution_count": 24,
   "id": "2b64cec7",
   "metadata": {},
   "outputs": [],
   "source": [
    "from sklearn.model_selection import cross_val_score\n",
    "\n",
    "\n",
    "# Model-feature dictionary\n",
    "models = {\n",
    "    \n",
    "    'fw2': (fw2_model, X_train[fwd_features2]),\n",
    "    'fw4': (fw4_model, X_train[fwd_features4]),\n",
    "    'fw6': (fw6_model, X_train[fwd_features6]),\n",
    "    'fw8': (fw8_model, X_train[fwd_features8]),\n",
    "    'bw2': (bw2_model, X_train[bwd_features2]),\n",
    "    'bw4': (bw4_model, X_train[bwd_features4]),\n",
    "    'bw6': (bw6_model, X_train[bwd_features6]),\n",
    "    'bw8': (bw8_model, X_train[bwd_features8]),\n",
    "    'ridge': (ridge_model, X_train),\n",
    "    'spline': (spline_model, X_spline)\n",
    "}\n",
    "\n",
    "# Dictionary to store mse of all models after cross validation\n",
    "results = {}\n",
    "for model_name, (model, X_data) in models.items():\n",
    "    cv_scores = cross_val_score(model, X_data, y_train, cv=5, scoring='neg_mean_squared_error')\n",
    "    results[model_name] = cv_scores"
   ]
  },
  {
   "cell_type": "code",
   "execution_count": 25,
   "id": "5c0ce4b1",
   "metadata": {},
   "outputs": [
    {
     "data": {
      "text/html": [
       "<div>\n",
       "<style scoped>\n",
       "    .dataframe tbody tr th:only-of-type {\n",
       "        vertical-align: middle;\n",
       "    }\n",
       "\n",
       "    .dataframe tbody tr th {\n",
       "        vertical-align: top;\n",
       "    }\n",
       "\n",
       "    .dataframe thead th {\n",
       "        text-align: right;\n",
       "    }\n",
       "</style>\n",
       "<table border=\"1\" class=\"dataframe\">\n",
       "  <thead>\n",
       "    <tr style=\"text-align: right;\">\n",
       "      <th></th>\n",
       "      <th>Model</th>\n",
       "      <th>Avg MSE</th>\n",
       "      <th>STD</th>\n",
       "    </tr>\n",
       "  </thead>\n",
       "  <tbody>\n",
       "    <tr>\n",
       "      <th>0</th>\n",
       "      <td>fw2</td>\n",
       "      <td>-1.883368</td>\n",
       "      <td>0.326589</td>\n",
       "    </tr>\n",
       "    <tr>\n",
       "      <th>1</th>\n",
       "      <td>fw4</td>\n",
       "      <td>-1.894218</td>\n",
       "      <td>0.315927</td>\n",
       "    </tr>\n",
       "    <tr>\n",
       "      <th>2</th>\n",
       "      <td>fw6</td>\n",
       "      <td>-1.918202</td>\n",
       "      <td>0.336405</td>\n",
       "    </tr>\n",
       "    <tr>\n",
       "      <th>3</th>\n",
       "      <td>fw8</td>\n",
       "      <td>-1.943426</td>\n",
       "      <td>0.331074</td>\n",
       "    </tr>\n",
       "    <tr>\n",
       "      <th>4</th>\n",
       "      <td>bw2</td>\n",
       "      <td>-1.891318</td>\n",
       "      <td>0.35132</td>\n",
       "    </tr>\n",
       "    <tr>\n",
       "      <th>5</th>\n",
       "      <td>bw4</td>\n",
       "      <td>-1.895958</td>\n",
       "      <td>0.336804</td>\n",
       "    </tr>\n",
       "    <tr>\n",
       "      <th>6</th>\n",
       "      <td>bw6</td>\n",
       "      <td>-1.914253</td>\n",
       "      <td>0.343819</td>\n",
       "    </tr>\n",
       "    <tr>\n",
       "      <th>7</th>\n",
       "      <td>bw8</td>\n",
       "      <td>-1.943426</td>\n",
       "      <td>0.331074</td>\n",
       "    </tr>\n",
       "    <tr>\n",
       "      <th>8</th>\n",
       "      <td>ridge</td>\n",
       "      <td>-1.893411</td>\n",
       "      <td>0.325133</td>\n",
       "    </tr>\n",
       "    <tr>\n",
       "      <th>9</th>\n",
       "      <td>spline</td>\n",
       "      <td>-6053.805072</td>\n",
       "      <td>12101.755247</td>\n",
       "    </tr>\n",
       "  </tbody>\n",
       "</table>\n",
       "</div>"
      ],
      "text/plain": [
       "    Model      Avg MSE           STD\n",
       "0     fw2    -1.883368      0.326589\n",
       "1     fw4    -1.894218      0.315927\n",
       "2     fw6    -1.918202      0.336405\n",
       "3     fw8    -1.943426      0.331074\n",
       "4     bw2    -1.891318       0.35132\n",
       "5     bw4    -1.895958      0.336804\n",
       "6     bw6    -1.914253      0.343819\n",
       "7     bw8    -1.943426      0.331074\n",
       "8   ridge    -1.893411      0.325133\n",
       "9  spline -6053.805072  12101.755247"
      ]
     },
     "execution_count": 25,
     "metadata": {},
     "output_type": "execute_result"
    }
   ],
   "source": [
    "# Create an empty dataframe to store the results\n",
    "results_df = pd.DataFrame(columns=['Model', 'Avg MSE', 'STD'])\n",
    "\n",
    "# Loop through the models in the 'results' dictionary and add the average MSE and STD to the dataframe\n",
    "for model, mse in results.items():\n",
    "    model_df = pd.DataFrame({'Model': [model], 'Avg MSE': [mse.mean()], 'STD': [mse.std()]})\n",
    "    results_df = pd.concat([results_df, model_df], ignore_index=True)\n",
    "\n",
    "# View results\n",
    "results_df"
   ]
  },
  {
   "cell_type": "markdown",
   "id": "8bd6218e",
   "metadata": {},
   "source": [
    "### Examining Model Weaknesses"
   ]
  },
  {
   "cell_type": "markdown",
   "id": "0997f39c",
   "metadata": {},
   "source": [
    "Now we will iterate through the models and evaluate their test MSE using k-fold cross-validation on the test set."
   ]
  },
  {
   "cell_type": "code",
   "execution_count": 28,
   "id": "fe310a5d",
   "metadata": {},
   "outputs": [
    {
     "data": {
      "text/html": [
       "<div>\n",
       "<style scoped>\n",
       "    .dataframe tbody tr th:only-of-type {\n",
       "        vertical-align: middle;\n",
       "    }\n",
       "\n",
       "    .dataframe tbody tr th {\n",
       "        vertical-align: top;\n",
       "    }\n",
       "\n",
       "    .dataframe thead th {\n",
       "        text-align: right;\n",
       "    }\n",
       "</style>\n",
       "<table border=\"1\" class=\"dataframe\">\n",
       "  <thead>\n",
       "    <tr style=\"text-align: right;\">\n",
       "      <th></th>\n",
       "      <th>Model</th>\n",
       "      <th>Avg MSE</th>\n",
       "      <th>STD</th>\n",
       "    </tr>\n",
       "  </thead>\n",
       "  <tbody>\n",
       "    <tr>\n",
       "      <th>0</th>\n",
       "      <td>fw2</td>\n",
       "      <td>-2.250755</td>\n",
       "      <td>0.77261</td>\n",
       "    </tr>\n",
       "    <tr>\n",
       "      <th>1</th>\n",
       "      <td>fw4</td>\n",
       "      <td>-2.413841</td>\n",
       "      <td>0.759611</td>\n",
       "    </tr>\n",
       "    <tr>\n",
       "      <th>2</th>\n",
       "      <td>fw6</td>\n",
       "      <td>-2.552017</td>\n",
       "      <td>1.062767</td>\n",
       "    </tr>\n",
       "    <tr>\n",
       "      <th>3</th>\n",
       "      <td>fw8</td>\n",
       "      <td>-2.568967</td>\n",
       "      <td>0.897343</td>\n",
       "    </tr>\n",
       "    <tr>\n",
       "      <th>4</th>\n",
       "      <td>bw2</td>\n",
       "      <td>-2.327974</td>\n",
       "      <td>0.882512</td>\n",
       "    </tr>\n",
       "    <tr>\n",
       "      <th>5</th>\n",
       "      <td>bw4</td>\n",
       "      <td>-2.705571</td>\n",
       "      <td>1.117131</td>\n",
       "    </tr>\n",
       "    <tr>\n",
       "      <th>6</th>\n",
       "      <td>bw6</td>\n",
       "      <td>-2.47891</td>\n",
       "      <td>0.889065</td>\n",
       "    </tr>\n",
       "    <tr>\n",
       "      <th>7</th>\n",
       "      <td>bw8</td>\n",
       "      <td>-2.568967</td>\n",
       "      <td>0.897343</td>\n",
       "    </tr>\n",
       "    <tr>\n",
       "      <th>8</th>\n",
       "      <td>ridge</td>\n",
       "      <td>-2.214176</td>\n",
       "      <td>0.768072</td>\n",
       "    </tr>\n",
       "    <tr>\n",
       "      <th>9</th>\n",
       "      <td>spline</td>\n",
       "      <td>-9831474871555784704.0</td>\n",
       "      <td>12338714987166044160.0</td>\n",
       "    </tr>\n",
       "  </tbody>\n",
       "</table>\n",
       "</div>"
      ],
      "text/plain": [
       "    Model                Avg MSE                     STD\n",
       "0     fw2              -2.250755                 0.77261\n",
       "1     fw4              -2.413841                0.759611\n",
       "2     fw6              -2.552017                1.062767\n",
       "3     fw8              -2.568967                0.897343\n",
       "4     bw2              -2.327974                0.882512\n",
       "5     bw4              -2.705571                1.117131\n",
       "6     bw6               -2.47891                0.889065\n",
       "7     bw8              -2.568967                0.897343\n",
       "8   ridge              -2.214176                0.768072\n",
       "9  spline -9831474871555784704.0  12338714987166044160.0"
      ]
     },
     "execution_count": 28,
     "metadata": {},
     "output_type": "execute_result"
    }
   ],
   "source": [
    "from sklearn.model_selection import cross_val_score\n",
    "\n",
    "\n",
    "# Model-feature dictionary\n",
    "models = {\n",
    "    \n",
    "    'fw2': (fw2_model, X_test[fwd_features2]),\n",
    "    'fw4': (fw4_model, X_test[fwd_features4]),\n",
    "    'fw6': (fw6_model, X_test[fwd_features6]),\n",
    "    'fw8': (fw8_model, X_test[fwd_features8]),\n",
    "    'bw2': (bw2_model, X_test[bwd_features2]),\n",
    "    'bw4': (bw4_model, X_test[bwd_features4]),\n",
    "    'bw6': (bw6_model, X_test[bwd_features6]),\n",
    "    'bw8': (bw8_model, X_test[bwd_features8]),\n",
    "    'ridge': (ridge_model, X_test),\n",
    "    \n",
    "    'spline': (spline_model, spline_X_test)\n",
    "}\n",
    "\n",
    "# Dictionary to store mse of all models after cross validation\n",
    "results = {}\n",
    "for model_name, (model, X_data) in models.items():\n",
    "    cv_scores = cross_val_score(model, X_data, y_test, cv=5, scoring='neg_mean_squared_error')\n",
    "    results[model_name] = cv_scores\n",
    "    \n",
    "# Create an empty dataframe to store the results\n",
    "results_df = pd.DataFrame(columns=['Model', 'Avg MSE', 'STD'])\n",
    "\n",
    "# Loop through the models in the 'results' dictionary and add the average MSE and STD to the dataframe\n",
    "for model, mse in results.items():\n",
    "    model_df = pd.DataFrame({'Model': [model], 'Avg MSE': [mse.mean()], 'STD': [mse.std()]})\n",
    "    results_df = pd.concat([results_df, model_df], ignore_index=True)\n",
    "\n",
    "# View results\n",
    "results_df"
   ]
  },
  {
   "cell_type": "markdown",
   "id": "c964b1d5",
   "metadata": {},
   "source": [
    "The value of the MSE for the spline model suggests is is not a good alternative for this dataset. The ridge model has the lowest value for mse, followed by fw2. However, note that this is on the log-scale, so this suggests that the predictions are off by a magnitude of about 2."
   ]
  },
  {
   "cell_type": "markdown",
   "id": "52c182a8",
   "metadata": {},
   "source": [
    "### Conclusion"
   ]
  },
  {
   "cell_type": "markdown",
   "id": "ed63ea21",
   "metadata": {},
   "source": [
    "In this course, we added quite a few tools to our machine learning toolkit: imputation, outlier detection, regularization, k-fold cross-validation, and even non-linear models. The UCI repository notes that this is a \"difficult regression task,\" and that was reflected in the test performance of the models in the solution. "
   ]
  }
 ],
 "metadata": {
  "kernelspec": {
   "display_name": "Python 3 (ipykernel)",
   "language": "python",
   "name": "python3"
  },
  "language_info": {
   "codemirror_mode": {
    "name": "ipython",
    "version": 3
   },
   "file_extension": ".py",
   "mimetype": "text/x-python",
   "name": "python",
   "nbconvert_exporter": "python",
   "pygments_lexer": "ipython3",
   "version": "3.10.4"
  }
 },
 "nbformat": 4,
 "nbformat_minor": 5
}
