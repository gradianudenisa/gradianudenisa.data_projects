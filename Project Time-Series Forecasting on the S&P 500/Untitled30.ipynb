{
 "cells": [
  {
   "cell_type": "markdown",
   "id": "578ed7ec",
   "metadata": {},
   "source": [
    "## Project: Time-Series Forecasting on the S&P 500"
   ]
  },
  {
   "cell_type": "markdown",
   "id": "ffdbbb17",
   "metadata": {},
   "source": [
    "Our goal is to build a successful model to forecast how the S&P 500 index will move based on its past behavior. The dataset we're starting from is raw and hasn't had any preprocessing applied to it yet (it contains S&P 500 Index prices from 2015 through 2020).\n",
    "\n",
    "We'll go through the specifics for preparing this dataset for a __time series forecast with RNNs__.Once the data is prepared, we'll build, train, and evaluate several forecasting models until we have achieved satisfactory performance. Finally, we'll take what we've built and visualize the output so we can see how successful our trading strategy is going to be!"
   ]
  },
  {
   "cell_type": "markdown",
   "id": "3eabec67",
   "metadata": {},
   "source": [
    "### Data Wrangling and Exploration"
   ]
  },
  {
   "cell_type": "markdown",
   "id": "e896211e",
   "metadata": {},
   "source": [
    "First, we will load the dataset into our notebook and inspect the data for any data quality issues. At a minimum, we should check for:\n",
    "\n",
    "* Missing values\n",
    "* Outliers\n",
    "* Whether the data is sorted by the Date column (essential for time series forecasting)"
   ]
  },
  {
   "cell_type": "code",
   "execution_count": 1,
   "id": "71d7a3a4",
   "metadata": {},
   "outputs": [],
   "source": [
    "# Imports\n",
    "import tensorflow as tf\n",
    "import numpy as np\n",
    "import random\n",
    "import pandas as pd\n",
    "import seaborn as sns\n",
    "import matplotlib.pyplot as plt\n",
    "# set random seed values to improve the reproducibility of the models\n",
    "np.random.seed(1)\n",
    "random.seed(1)\n",
    "tf.random.set_seed(1)"
   ]
  },
  {
   "cell_type": "code",
   "execution_count": 2,
   "id": "f45a11cf",
   "metadata": {},
   "outputs": [],
   "source": [
    "stock_data=pd.read_csv(\"C:/Users/Denisa/Desktop/Project Apps/project 26/yahoo_stock.csv\")"
   ]
  },
  {
   "cell_type": "markdown",
   "id": "8d067b3e",
   "metadata": {},
   "source": [
    "Data Dictionary:\n",
    "\n",
    "`Open`: the opening value of the index on that day\n",
    "\n",
    "`High`: the highest value of the index on that day\n",
    "\n",
    "`Low`: the lowest value of the index on that day\n",
    "\n",
    "`Close`: the closing value of the index on that day\n",
    "\n",
    "`Volume`: the total volume of the index traded on that day\n",
    "\n",
    "`Adj Close`: the closing value of the index on that day adjusted for dividends"
   ]
  },
  {
   "cell_type": "code",
   "execution_count": 3,
   "id": "b939ad06",
   "metadata": {},
   "outputs": [
    {
     "data": {
      "text/html": [
       "<div>\n",
       "<style scoped>\n",
       "    .dataframe tbody tr th:only-of-type {\n",
       "        vertical-align: middle;\n",
       "    }\n",
       "\n",
       "    .dataframe tbody tr th {\n",
       "        vertical-align: top;\n",
       "    }\n",
       "\n",
       "    .dataframe thead th {\n",
       "        text-align: right;\n",
       "    }\n",
       "</style>\n",
       "<table border=\"1\" class=\"dataframe\">\n",
       "  <thead>\n",
       "    <tr style=\"text-align: right;\">\n",
       "      <th></th>\n",
       "      <th>Date</th>\n",
       "      <th>High</th>\n",
       "      <th>Low</th>\n",
       "      <th>Open</th>\n",
       "      <th>Close</th>\n",
       "      <th>Volume</th>\n",
       "      <th>Adj Close</th>\n",
       "    </tr>\n",
       "  </thead>\n",
       "  <tbody>\n",
       "    <tr>\n",
       "      <th>0</th>\n",
       "      <td>2015-11-23</td>\n",
       "      <td>2095.610107</td>\n",
       "      <td>2081.389893</td>\n",
       "      <td>2089.409912</td>\n",
       "      <td>2086.590088</td>\n",
       "      <td>3.587980e+09</td>\n",
       "      <td>2086.590088</td>\n",
       "    </tr>\n",
       "    <tr>\n",
       "      <th>1</th>\n",
       "      <td>2015-11-24</td>\n",
       "      <td>2094.120117</td>\n",
       "      <td>2070.290039</td>\n",
       "      <td>2084.419922</td>\n",
       "      <td>2089.139893</td>\n",
       "      <td>3.884930e+09</td>\n",
       "      <td>2089.139893</td>\n",
       "    </tr>\n",
       "    <tr>\n",
       "      <th>2</th>\n",
       "      <td>2015-11-25</td>\n",
       "      <td>2093.000000</td>\n",
       "      <td>2086.300049</td>\n",
       "      <td>2089.300049</td>\n",
       "      <td>2088.870117</td>\n",
       "      <td>2.852940e+09</td>\n",
       "      <td>2088.870117</td>\n",
       "    </tr>\n",
       "    <tr>\n",
       "      <th>3</th>\n",
       "      <td>2015-11-26</td>\n",
       "      <td>2093.000000</td>\n",
       "      <td>2086.300049</td>\n",
       "      <td>2089.300049</td>\n",
       "      <td>2088.870117</td>\n",
       "      <td>2.852940e+09</td>\n",
       "      <td>2088.870117</td>\n",
       "    </tr>\n",
       "    <tr>\n",
       "      <th>4</th>\n",
       "      <td>2015-11-27</td>\n",
       "      <td>2093.290039</td>\n",
       "      <td>2084.129883</td>\n",
       "      <td>2088.820068</td>\n",
       "      <td>2090.110107</td>\n",
       "      <td>1.466840e+09</td>\n",
       "      <td>2090.110107</td>\n",
       "    </tr>\n",
       "  </tbody>\n",
       "</table>\n",
       "</div>"
      ],
      "text/plain": [
       "         Date         High          Low         Open        Close  \\\n",
       "0  2015-11-23  2095.610107  2081.389893  2089.409912  2086.590088   \n",
       "1  2015-11-24  2094.120117  2070.290039  2084.419922  2089.139893   \n",
       "2  2015-11-25  2093.000000  2086.300049  2089.300049  2088.870117   \n",
       "3  2015-11-26  2093.000000  2086.300049  2089.300049  2088.870117   \n",
       "4  2015-11-27  2093.290039  2084.129883  2088.820068  2090.110107   \n",
       "\n",
       "         Volume    Adj Close  \n",
       "0  3.587980e+09  2086.590088  \n",
       "1  3.884930e+09  2089.139893  \n",
       "2  2.852940e+09  2088.870117  \n",
       "3  2.852940e+09  2088.870117  \n",
       "4  1.466840e+09  2090.110107  "
      ]
     },
     "execution_count": 3,
     "metadata": {},
     "output_type": "execute_result"
    }
   ],
   "source": [
    "stock_data.head()"
   ]
  },
  {
   "cell_type": "code",
   "execution_count": 4,
   "id": "c3396111",
   "metadata": {},
   "outputs": [
    {
     "name": "stdout",
     "output_type": "stream",
     "text": [
      "<class 'pandas.core.frame.DataFrame'>\n",
      "RangeIndex: 1825 entries, 0 to 1824\n",
      "Data columns (total 7 columns):\n",
      " #   Column     Non-Null Count  Dtype  \n",
      "---  ------     --------------  -----  \n",
      " 0   Date       1825 non-null   object \n",
      " 1   High       1825 non-null   float64\n",
      " 2   Low        1825 non-null   float64\n",
      " 3   Open       1825 non-null   float64\n",
      " 4   Close      1825 non-null   float64\n",
      " 5   Volume     1825 non-null   float64\n",
      " 6   Adj Close  1825 non-null   float64\n",
      "dtypes: float64(6), object(1)\n",
      "memory usage: 99.9+ KB\n"
     ]
    }
   ],
   "source": [
    "stock_data.info()"
   ]
  },
  {
   "cell_type": "markdown",
   "id": "495c7840",
   "metadata": {},
   "source": [
    "The data contains no missing values."
   ]
  },
  {
   "cell_type": "code",
   "execution_count": 5,
   "id": "92b032eb",
   "metadata": {},
   "outputs": [
    {
     "data": {
      "text/html": [
       "<div>\n",
       "<style scoped>\n",
       "    .dataframe tbody tr th:only-of-type {\n",
       "        vertical-align: middle;\n",
       "    }\n",
       "\n",
       "    .dataframe tbody tr th {\n",
       "        vertical-align: top;\n",
       "    }\n",
       "\n",
       "    .dataframe thead th {\n",
       "        text-align: right;\n",
       "    }\n",
       "</style>\n",
       "<table border=\"1\" class=\"dataframe\">\n",
       "  <thead>\n",
       "    <tr style=\"text-align: right;\">\n",
       "      <th></th>\n",
       "      <th>High</th>\n",
       "      <th>Low</th>\n",
       "      <th>Open</th>\n",
       "      <th>Close</th>\n",
       "      <th>Volume</th>\n",
       "      <th>Adj Close</th>\n",
       "    </tr>\n",
       "  </thead>\n",
       "  <tbody>\n",
       "    <tr>\n",
       "      <th>count</th>\n",
       "      <td>1825.000000</td>\n",
       "      <td>1825.000000</td>\n",
       "      <td>1825.000000</td>\n",
       "      <td>1825.000000</td>\n",
       "      <td>1.825000e+03</td>\n",
       "      <td>1825.000000</td>\n",
       "    </tr>\n",
       "    <tr>\n",
       "      <th>mean</th>\n",
       "      <td>2660.718673</td>\n",
       "      <td>2632.817580</td>\n",
       "      <td>2647.704751</td>\n",
       "      <td>2647.856284</td>\n",
       "      <td>3.869627e+09</td>\n",
       "      <td>2647.856284</td>\n",
       "    </tr>\n",
       "    <tr>\n",
       "      <th>std</th>\n",
       "      <td>409.680853</td>\n",
       "      <td>404.310068</td>\n",
       "      <td>407.169994</td>\n",
       "      <td>407.301177</td>\n",
       "      <td>1.087593e+09</td>\n",
       "      <td>407.301177</td>\n",
       "    </tr>\n",
       "    <tr>\n",
       "      <th>min</th>\n",
       "      <td>1847.000000</td>\n",
       "      <td>1810.099976</td>\n",
       "      <td>1833.400024</td>\n",
       "      <td>1829.079956</td>\n",
       "      <td>1.296540e+09</td>\n",
       "      <td>1829.079956</td>\n",
       "    </tr>\n",
       "    <tr>\n",
       "      <th>25%</th>\n",
       "      <td>2348.350098</td>\n",
       "      <td>2322.250000</td>\n",
       "      <td>2341.979980</td>\n",
       "      <td>2328.949951</td>\n",
       "      <td>3.257950e+09</td>\n",
       "      <td>2328.949951</td>\n",
       "    </tr>\n",
       "    <tr>\n",
       "      <th>50%</th>\n",
       "      <td>2696.250000</td>\n",
       "      <td>2667.840088</td>\n",
       "      <td>2685.489990</td>\n",
       "      <td>2683.340088</td>\n",
       "      <td>3.609740e+09</td>\n",
       "      <td>2683.340088</td>\n",
       "    </tr>\n",
       "    <tr>\n",
       "      <th>75%</th>\n",
       "      <td>2930.790039</td>\n",
       "      <td>2900.709961</td>\n",
       "      <td>2913.860107</td>\n",
       "      <td>2917.520020</td>\n",
       "      <td>4.142850e+09</td>\n",
       "      <td>2917.520020</td>\n",
       "    </tr>\n",
       "    <tr>\n",
       "      <th>max</th>\n",
       "      <td>3645.989990</td>\n",
       "      <td>3600.159912</td>\n",
       "      <td>3612.090088</td>\n",
       "      <td>3626.909912</td>\n",
       "      <td>9.044690e+09</td>\n",
       "      <td>3626.909912</td>\n",
       "    </tr>\n",
       "  </tbody>\n",
       "</table>\n",
       "</div>"
      ],
      "text/plain": [
       "              High          Low         Open        Close        Volume  \\\n",
       "count  1825.000000  1825.000000  1825.000000  1825.000000  1.825000e+03   \n",
       "mean   2660.718673  2632.817580  2647.704751  2647.856284  3.869627e+09   \n",
       "std     409.680853   404.310068   407.169994   407.301177  1.087593e+09   \n",
       "min    1847.000000  1810.099976  1833.400024  1829.079956  1.296540e+09   \n",
       "25%    2348.350098  2322.250000  2341.979980  2328.949951  3.257950e+09   \n",
       "50%    2696.250000  2667.840088  2685.489990  2683.340088  3.609740e+09   \n",
       "75%    2930.790039  2900.709961  2913.860107  2917.520020  4.142850e+09   \n",
       "max    3645.989990  3600.159912  3612.090088  3626.909912  9.044690e+09   \n",
       "\n",
       "         Adj Close  \n",
       "count  1825.000000  \n",
       "mean   2647.856284  \n",
       "std     407.301177  \n",
       "min    1829.079956  \n",
       "25%    2328.949951  \n",
       "50%    2683.340088  \n",
       "75%    2917.520020  \n",
       "max    3626.909912  "
      ]
     },
     "execution_count": 5,
     "metadata": {},
     "output_type": "execute_result"
    }
   ],
   "source": [
    "stock_data.describe()"
   ]
  },
  {
   "cell_type": "code",
   "execution_count": 6,
   "id": "26fd4dfa",
   "metadata": {},
   "outputs": [
    {
     "data": {
      "image/png": "[encoded data removed]",
      "text/plain": [
       "<Figure size 504x504 with 1 Axes>"
      ]
     },
     "metadata": {
      "needs_background": "light"
     },
     "output_type": "display_data"
    }
   ],
   "source": [
    "plt.figure(figsize=(7,7))\n",
    "correlations = stock_data.corr()\n",
    "\n",
    "sns.set(font_scale=1.1)\n",
    "\n",
    "sns.heatmap(correlations,\n",
    "            annot=True,\n",
    "            fmt='.5f',\n",
    "            cmap='Purples',\n",
    "            square=True,\n",
    "            linewidths=1,\n",
    "            cbar=False)\n",
    "\n",
    "plt.show()"
   ]
  },
  {
   "cell_type": "markdown",
   "id": "5a91dd22",
   "metadata": {},
   "source": [
    "We are going to use only the Adj Close column, which is the closing price of the S&P 500 index, adjusted for dividends and decide what other column(s) to use for the forecast itself."
   ]
  },
  {
   "cell_type": "markdown",
   "id": "595f2af2",
   "metadata": {},
   "source": [
    "From the heatmap above we can identify strong relationships between:\n",
    "* High and Low\n",
    "* High and Open\n",
    "* High and Close\n",
    "* Low and Open\n",
    "* Low and Close\n",
    "* Open and CLose"
   ]
  },
  {
   "cell_type": "markdown",
   "id": "b86c763c",
   "metadata": {},
   "source": [
    "To avoid multicolinearity next we will calculate the VIF values of the previously strongly correlated features (we consider a VIF value >=5 too large)."
   ]
  },
  {
   "cell_type": "code",
   "execution_count": 7,
   "id": "0f8a15d3",
   "metadata": {},
   "outputs": [
    {
     "name": "stderr",
     "output_type": "stream",
     "text": [
      "C:\\Users\\Denisa\\AppData\\Local\\Temp/ipykernel_44244/4005217335.py:10: SettingWithCopyWarning: \n",
      "A value is trying to be set on a copy of a slice from a DataFrame.\n",
      "Try using .loc[row_indexer,col_indexer] = value instead\n",
      "\n",
      "See the caveats in the documentation: https://pandas.pydata.org/pandas-docs/stable/user_guide/indexing.html#returning-a-view-versus-a-copy\n",
      "  X['intercept'] = 1\n"
     ]
    },
    {
     "data": {
      "text/html": [
       "<div>\n",
       "<style scoped>\n",
       "    .dataframe tbody tr th:only-of-type {\n",
       "        vertical-align: middle;\n",
       "    }\n",
       "\n",
       "    .dataframe tbody tr th {\n",
       "        vertical-align: top;\n",
       "    }\n",
       "\n",
       "    .dataframe thead th {\n",
       "        text-align: right;\n",
       "    }\n",
       "</style>\n",
       "<table border=\"1\" class=\"dataframe\">\n",
       "  <thead>\n",
       "    <tr style=\"text-align: right;\">\n",
       "      <th></th>\n",
       "      <th>Variable</th>\n",
       "      <th>VIF</th>\n",
       "    </tr>\n",
       "  </thead>\n",
       "  <tbody>\n",
       "    <tr>\n",
       "      <th>0</th>\n",
       "      <td>High</td>\n",
       "      <td>2080.534840</td>\n",
       "    </tr>\n",
       "    <tr>\n",
       "      <th>2</th>\n",
       "      <td>Open</td>\n",
       "      <td>1896.172845</td>\n",
       "    </tr>\n",
       "    <tr>\n",
       "      <th>3</th>\n",
       "      <td>Close</td>\n",
       "      <td>1515.922235</td>\n",
       "    </tr>\n",
       "    <tr>\n",
       "      <th>1</th>\n",
       "      <td>Low</td>\n",
       "      <td>1308.362849</td>\n",
       "    </tr>\n",
       "  </tbody>\n",
       "</table>\n",
       "</div>"
      ],
      "text/plain": [
       "  Variable          VIF\n",
       "0     High  2080.534840\n",
       "2     Open  1896.172845\n",
       "3    Close  1515.922235\n",
       "1      Low  1308.362849"
      ]
     },
     "execution_count": 7,
     "metadata": {},
     "output_type": "execute_result"
    }
   ],
   "source": [
    "# load statmodels functions\n",
    "from statsmodels.stats.outliers_influence import variance_inflation_factor\n",
    "from statsmodels.tools.tools import add_constant\n",
    "\n",
    "# compute the vif for all given features\n",
    "def compute_vif(considered_features):\n",
    "    \n",
    "    X = stock_data[considered_features]\n",
    "    # the calculation of variance inflation requires a constant\n",
    "    X['intercept'] = 1\n",
    "    \n",
    "    # create dataframe to store vif values\n",
    "    vif = pd.DataFrame()\n",
    "    vif[\"Variable\"] = X.columns\n",
    "    vif[\"VIF\"] = [variance_inflation_factor(X.values, i) for i in range(X.shape[1])]\n",
    "    vif = vif[vif['Variable']!='intercept']\n",
    "    return vif\n",
    "\n",
    "# features to consider removing\n",
    "considered_features = ['High', 'Low', 'Open', 'Close']\n",
    "\n",
    "\n",
    "# compute vif \n",
    "compute_vif(considered_features).sort_values('VIF', ascending=False)"
   ]
  },
  {
   "cell_type": "markdown",
   "id": "06a13d10",
   "metadata": {},
   "source": [
    "As shown above, all have VIF values exceeding 5. We won't remove all features at once but we will remove one feature at a time to minimize information that is lost."
   ]
  },
  {
   "cell_type": "code",
   "execution_count": 8,
   "id": "3a810f6c",
   "metadata": {},
   "outputs": [
    {
     "name": "stderr",
     "output_type": "stream",
     "text": [
      "C:\\Users\\Denisa\\AppData\\Local\\Temp/ipykernel_44244/4005217335.py:10: SettingWithCopyWarning: \n",
      "A value is trying to be set on a copy of a slice from a DataFrame.\n",
      "Try using .loc[row_indexer,col_indexer] = value instead\n",
      "\n",
      "See the caveats in the documentation: https://pandas.pydata.org/pandas-docs/stable/user_guide/indexing.html#returning-a-view-versus-a-copy\n",
      "  X['intercept'] = 1\n"
     ]
    },
    {
     "data": {
      "text/html": [
       "<div>\n",
       "<style scoped>\n",
       "    .dataframe tbody tr th:only-of-type {\n",
       "        vertical-align: middle;\n",
       "    }\n",
       "\n",
       "    .dataframe tbody tr th {\n",
       "        vertical-align: top;\n",
       "    }\n",
       "\n",
       "    .dataframe thead th {\n",
       "        text-align: right;\n",
       "    }\n",
       "</style>\n",
       "<table border=\"1\" class=\"dataframe\">\n",
       "  <thead>\n",
       "    <tr style=\"text-align: right;\">\n",
       "      <th></th>\n",
       "      <th>Variable</th>\n",
       "      <th>VIF</th>\n",
       "    </tr>\n",
       "  </thead>\n",
       "  <tbody>\n",
       "    <tr>\n",
       "      <th>0</th>\n",
       "      <td>Low</td>\n",
       "      <td>744.743499</td>\n",
       "    </tr>\n",
       "    <tr>\n",
       "      <th>2</th>\n",
       "      <td>Close</td>\n",
       "      <td>542.563034</td>\n",
       "    </tr>\n",
       "    <tr>\n",
       "      <th>1</th>\n",
       "      <td>Open</td>\n",
       "      <td>440.962072</td>\n",
       "    </tr>\n",
       "  </tbody>\n",
       "</table>\n",
       "</div>"
      ],
      "text/plain": [
       "  Variable         VIF\n",
       "0      Low  744.743499\n",
       "2    Close  542.563034\n",
       "1     Open  440.962072"
      ]
     },
     "execution_count": 8,
     "metadata": {},
     "output_type": "execute_result"
    }
   ],
   "source": [
    "considered_features.remove('High')\n",
    "compute_vif(considered_features).sort_values('VIF', ascending=False)"
   ]
  },
  {
   "cell_type": "code",
   "execution_count": 9,
   "id": "c734cf3e",
   "metadata": {},
   "outputs": [
    {
     "name": "stderr",
     "output_type": "stream",
     "text": [
      "C:\\Users\\Denisa\\AppData\\Local\\Temp/ipykernel_44244/4005217335.py:10: SettingWithCopyWarning: \n",
      "A value is trying to be set on a copy of a slice from a DataFrame.\n",
      "Try using .loc[row_indexer,col_indexer] = value instead\n",
      "\n",
      "See the caveats in the documentation: https://pandas.pydata.org/pandas-docs/stable/user_guide/indexing.html#returning-a-view-versus-a-copy\n",
      "  X['intercept'] = 1\n"
     ]
    },
    {
     "data": {
      "text/html": [
       "<div>\n",
       "<style scoped>\n",
       "    .dataframe tbody tr th:only-of-type {\n",
       "        vertical-align: middle;\n",
       "    }\n",
       "\n",
       "    .dataframe tbody tr th {\n",
       "        vertical-align: top;\n",
       "    }\n",
       "\n",
       "    .dataframe thead th {\n",
       "        text-align: right;\n",
       "    }\n",
       "</style>\n",
       "<table border=\"1\" class=\"dataframe\">\n",
       "  <thead>\n",
       "    <tr style=\"text-align: right;\">\n",
       "      <th></th>\n",
       "      <th>Variable</th>\n",
       "      <th>VIF</th>\n",
       "    </tr>\n",
       "  </thead>\n",
       "  <tbody>\n",
       "    <tr>\n",
       "      <th>0</th>\n",
       "      <td>Open</td>\n",
       "      <td>302.208437</td>\n",
       "    </tr>\n",
       "    <tr>\n",
       "      <th>1</th>\n",
       "      <td>Close</td>\n",
       "      <td>302.208437</td>\n",
       "    </tr>\n",
       "  </tbody>\n",
       "</table>\n",
       "</div>"
      ],
      "text/plain": [
       "  Variable         VIF\n",
       "0     Open  302.208437\n",
       "1    Close  302.208437"
      ]
     },
     "execution_count": 9,
     "metadata": {},
     "output_type": "execute_result"
    }
   ],
   "source": [
    "considered_features.remove('Low')\n",
    "compute_vif(considered_features).sort_values('VIF', ascending=False)"
   ]
  },
  {
   "cell_type": "code",
   "execution_count": 10,
   "id": "36a3f1fc",
   "metadata": {},
   "outputs": [
    {
     "name": "stderr",
     "output_type": "stream",
     "text": [
      "C:\\Users\\Denisa\\AppData\\Local\\Temp/ipykernel_44244/4005217335.py:10: SettingWithCopyWarning: \n",
      "A value is trying to be set on a copy of a slice from a DataFrame.\n",
      "Try using .loc[row_indexer,col_indexer] = value instead\n",
      "\n",
      "See the caveats in the documentation: https://pandas.pydata.org/pandas-docs/stable/user_guide/indexing.html#returning-a-view-versus-a-copy\n",
      "  X['intercept'] = 1\n"
     ]
    },
    {
     "data": {
      "text/html": [
       "<div>\n",
       "<style scoped>\n",
       "    .dataframe tbody tr th:only-of-type {\n",
       "        vertical-align: middle;\n",
       "    }\n",
       "\n",
       "    .dataframe tbody tr th {\n",
       "        vertical-align: top;\n",
       "    }\n",
       "\n",
       "    .dataframe thead th {\n",
       "        text-align: right;\n",
       "    }\n",
       "</style>\n",
       "<table border=\"1\" class=\"dataframe\">\n",
       "  <thead>\n",
       "    <tr style=\"text-align: right;\">\n",
       "      <th></th>\n",
       "      <th>Variable</th>\n",
       "      <th>VIF</th>\n",
       "    </tr>\n",
       "  </thead>\n",
       "  <tbody>\n",
       "    <tr>\n",
       "      <th>0</th>\n",
       "      <td>Open</td>\n",
       "      <td>1.0</td>\n",
       "    </tr>\n",
       "  </tbody>\n",
       "</table>\n",
       "</div>"
      ],
      "text/plain": [
       "  Variable  VIF\n",
       "0     Open  1.0"
      ]
     },
     "execution_count": 10,
     "metadata": {},
     "output_type": "execute_result"
    }
   ],
   "source": [
    "considered_features.remove('Close')\n",
    "compute_vif(considered_features).sort_values('VIF', ascending=False)"
   ]
  },
  {
   "cell_type": "markdown",
   "id": "24c188c4",
   "metadata": {},
   "source": [
    "For Now we will only use the Adj Close column.\n",
    "\n",
    "We will set the index of the DataFrame to the Date column to prepare for time series forecasting. We should also ensure that the data is sorted by its Date column."
   ]
  },
  {
   "cell_type": "code",
   "execution_count": 11,
   "id": "15efd53f",
   "metadata": {},
   "outputs": [],
   "source": [
    "# Select relevant columns, sort data, and set index\n",
    "stock_data = stock_data[[\"Date\", \"Adj Close\"]]\n",
    "stock_data = stock_data.sort_values(\"Date\")\n",
    "# It is recommended to put the column containing the date or time information on the index of the DataFrame for ease of plotting\n",
    "stock_data = stock_data.set_index(\"Date\")"
   ]
  },
  {
   "cell_type": "code",
   "execution_count": 12,
   "id": "344e27e8",
   "metadata": {},
   "outputs": [
    {
     "name": "stdout",
     "output_type": "stream",
     "text": [
      "\n",
      "Skew: \n",
      " Adj Close    0.081869\n",
      "dtype: float64\n"
     ]
    }
   ],
   "source": [
    "#Checking for outliers\n",
    "print(\"\\nSkew: \\n\", stock_data.skew())"
   ]
  },
  {
   "cell_type": "markdown",
   "id": "5308b577",
   "metadata": {},
   "source": [
    "The low skew value for Adj Close indicates we don't have any outliers to be concerned about. \n",
    "\n",
    "Before we begin preparing the data for modeling let's quickly visualize the data."
   ]
  },
  {
   "cell_type": "code",
   "execution_count": 13,
   "id": "0ef946e1",
   "metadata": {},
   "outputs": [
    {
     "data": {
      "text/plain": [
       "Text(0, 0.5, 'Adjusted Close')"
      ]
     },
     "execution_count": 13,
     "metadata": {},
     "output_type": "execute_result"
    },
    {
     "data": {
      "image/png": "[encoded data removed]",
      "text/plain": [
       "<Figure size 432x288 with 1 Axes>"
      ]
     },
     "metadata": {},
     "output_type": "display_data"
    }
   ],
   "source": [
    "# Imports\n",
    "import matplotlib.pyplot as plt\n",
    "import matplotlib.dates as mdates\n",
    "\n",
    "# Plot the data\n",
    "plt.plot(stock_data)\n",
    "\n",
    "# Add title and axis labels\n",
    "plt.title('S&P 500 Index')\n",
    "plt.xlabel('Date')\n",
    "plt.xticks(rotation=45)\n",
    "plt.gca().xaxis.set_major_locator(mdates.YearLocator())\n",
    "plt.gcf().autofmt_xdate()\n",
    "plt.ylabel('Adjusted Close')"
   ]
  },
  {
   "cell_type": "markdown",
   "id": "05f4aab1",
   "metadata": {},
   "source": [
    "We can see that we have data from about five years to work with. There are no gaps, and there are some visible spikes\n",
    "\n",
    "There is a pattern here, and we want to build a model that can predict that pattern."
   ]
  },
  {
   "cell_type": "markdown",
   "id": "5e0e36f1",
   "metadata": {},
   "source": [
    "## Data Preprocessing"
   ]
  },
  {
   "cell_type": "markdown",
   "id": "8c25d6e5",
   "metadata": {},
   "source": [
    "Next up, we need to need to prepare our clean data for modeling. This preparation requires the following four steps:\n",
    "\n",
    "* Split data into training(50%), validation(25%), and testing(25%) sets\n",
    "* Scale data to be between 0 and 1\n",
    "* Create time windows for each dataset\n",
    "* Reshape the data into NumPy arrays to prepare it for TensorFlow models"
   ]
  },
  {
   "cell_type": "markdown",
   "id": "d4749257",
   "metadata": {},
   "source": [
    "Next we are going to prepare your data for modeling by splitting it into three datasets: training, validation, and testing. we are using the validation set to evaluate our predictions and not the test set. This is because we want to have a clean, untouched testing dataset for our final model evaluationas it is best practice to have an untouched testing set kept aside during the model optimization process."
   ]
  },
  {
   "cell_type": "code",
   "execution_count": 15,
   "id": "07aac340",
   "metadata": {},
   "outputs": [],
   "source": [
    "from sklearn.preprocessing import MinMaxScaler\n",
    "\n",
    "# Split into train, validation, and test sets\n",
    "train_size = int(len(stock_data) * 0.5)\n",
    "validation_size = int(len(stock_data) * 0.25)\n",
    "train_df = stock_data.iloc[0:train_size, :]\n",
    "validation_df = stock_data.iloc[train_size:train_size + validation_size, :]\n",
    "test_df = stock_data.iloc[train_size + validation_size:len(stock_data), :]\n",
    "\n"
   ]
  },
  {
   "cell_type": "markdown",
   "id": "e6788ad3",
   "metadata": {},
   "source": [
    "Apply a scaler to the value to be forecasted for each dataset and fit the scaler to the training set(to prevent info about the test distribbution leaking into the model).After we fit the scaler on the training data only, we will use it to transform all three datasets: training, validation, and testing."
   ]
  },
  {
   "cell_type": "code",
   "execution_count": null,
   "id": "a269cda3",
   "metadata": {},
   "outputs": [],
   "source": [
    "scaler = MinMaxScaler()\n",
    "scaler.fit(train_df)\n",
    "\n",
    "# Scale data\n",
    "train = pd.DataFrame(scaler.transform(train_df), columns=[\"Adj Close\"], index=train_df.index)\n",
    "validation = pd.DataFrame(scaler.transform(validation_df), columns=[\"Adj Close\"], index=validation_df.index)\n",
    "test = pd.DataFrame(scaler.transform(test_df), columns=[ \"Adj Close\"], index=test_df.index)"
   ]
  },
  {
   "cell_type": "markdown",
   "id": "9eec60e5",
   "metadata": {},
   "source": [
    "We also need to shape our data into fixed-length time windows and reshape it into NumPy arrays to prepare it for TensorFlow models."
   ]
  },
  {
   "cell_type": "code",
   "execution_count": 16,
   "id": "a7608b8d",
   "metadata": {},
   "outputs": [],
   "source": [
    "# Define a helper function to construct windowed datasets\n",
    "def create_dataset(dataset, window_size=1):\n",
    "    data_x, data_y = [], []\n",
    "    for i in range(len(dataset) - window_size - 1):\n",
    "        window = dataset.iloc[i:(i + window_size), 0]\n",
    "        target = dataset.iloc[i + window_size, 0]\n",
    "        data_x.append(window)\n",
    "        data_y.append(target)\n",
    "    return np.array(data_x), np.array(data_y)\n",
    "\n",
    "# Set the desired window size\n",
    "window_size = 10\n",
    "\n",
    "# Construct train, validation, and test datasets\n",
    "X_train, y_train = create_dataset(train, window_size)\n",
    "X_validation, y_validation = create_dataset(validation, window_size)\n",
    "X_test, y_test = create_dataset(test, window_size)\n",
    "\n",
    "# Reshape into NumPy arrays\n",
    "X_train = np.reshape(X_train, (X_train.shape[0], 1, X_train.shape[1]))\n",
    "X_validation = np.reshape(X_validation, (X_validation.shape[0], 1, X_validation.shape[1]))\n",
    "X_test = np.reshape(X_test, (X_test.shape[0], 1, X_test.shape[1]))"
   ]
  },
  {
   "cell_type": "markdown",
   "id": "18614482",
   "metadata": {},
   "source": [
    "### Build and Train a Basic RNN Model"
   ]
  },
  {
   "cell_type": "markdown",
   "id": "a2e84201",
   "metadata": {},
   "source": [
    "Now that data was prepared for modeling let's build a Tensorflow model. We will start with a SimpleRNN model. We will train the model using the train set, then check our performance on the validation set."
   ]
  },
  {
   "cell_type": "code",
   "execution_count": 18,
   "id": "10e1185e",
   "metadata": {},
   "outputs": [
    {
     "name": "stdout",
     "output_type": "stream",
     "text": [
      "Model: \"sequential\"\n",
      "_________________________________________________________________\n",
      " Layer (type)                Output Shape              Param #   \n",
      "=================================================================\n",
      " simple_rnn (SimpleRNN)      (None, 10)                210       \n",
      "                                                                 \n",
      " dense (Dense)               (None, 10)                110       \n",
      "                                                                 \n",
      " dense_1 (Dense)             (None, 1)                 11        \n",
      "                                                                 \n",
      "=================================================================\n",
      "Total params: 331 (1.29 KB)\n",
      "Trainable params: 331 (1.29 KB)\n",
      "Non-trainable params: 0 (0.00 Byte)\n",
      "_________________________________________________________________\n"
     ]
    }
   ],
   "source": [
    "from tensorflow import keras\n",
    "from tensorflow.keras import layers\n",
    "\n",
    "# Build the model\n",
    "model = tf.keras.Sequential()\n",
    "model.add(tf.keras.layers.SimpleRNN(10, input_shape=(1, window_size), activation='relu'))\n",
    "model.add(tf.keras.layers.Dense(10, activation='relu'))\n",
    "model.add(tf.keras.layers.Dense(1))\n",
    "model.compile(optimizer='adam', loss='mean_squared_error')\n",
    "model.summary()"
   ]
  },
  {
   "cell_type": "markdown",
   "id": "30788fbd",
   "metadata": {},
   "source": [
    "Calculate a performance score using an appropriate metric for a regression task: coefficient of determination"
   ]
  },
  {
   "cell_type": "code",
   "execution_count": 19,
   "id": "da7d3531",
   "metadata": {},
   "outputs": [
    {
     "name": "stdout",
     "output_type": "stream",
     "text": [
      "29/29 [==============================] - 1s 2ms/step - loss: 0.5889\n",
      "14/14 [==============================] - 0s 1ms/step\n",
      "-92.97549395321612\n"
     ]
    }
   ],
   "source": [
    "\n",
    "# Import\n",
    "from sklearn.metrics import r2_score\n",
    "\n",
    "# Train the model\n",
    "model.fit(X_train, y_train)\n",
    "\n",
    "# Make predictions and evaluate\n",
    "y_pred = model.predict(X_validation)\n",
    "print(r2_score(y_validation, y_pred))"
   ]
  },
  {
   "cell_type": "markdown",
   "id": "3a5db131",
   "metadata": {},
   "source": [
    "The R-Squared score indicates a very poor performance."
   ]
  },
  {
   "cell_type": "markdown",
   "id": "be498d54",
   "metadata": {},
   "source": [
    "### Build and Train an LSTM Model"
   ]
  },
  {
   "cell_type": "markdown",
   "id": "8113ac61",
   "metadata": {},
   "source": [
    "Let's explore what might happen if we simply switch the recurrent layer from a SimpleRNN to an LSTM."
   ]
  },
  {
   "cell_type": "code",
   "execution_count": 20,
   "id": "a0139594",
   "metadata": {},
   "outputs": [
    {
     "name": "stdout",
     "output_type": "stream",
     "text": [
      "Model: \"sequential_1\"\n",
      "_________________________________________________________________\n",
      " Layer (type)                Output Shape              Param #   \n",
      "=================================================================\n",
      " lstm (LSTM)                 (None, 10)                840       \n",
      "                                                                 \n",
      " dense_2 (Dense)             (None, 10)                110       \n",
      "                                                                 \n",
      " dense_3 (Dense)             (None, 1)                 11        \n",
      "                                                                 \n",
      "=================================================================\n",
      "Total params: 961 (3.75 KB)\n",
      "Trainable params: 961 (3.75 KB)\n",
      "Non-trainable params: 0 (0.00 Byte)\n",
      "_________________________________________________________________\n",
      "29/29 [==============================] - 1s 2ms/step - loss: 0.3164\n",
      "14/14 [==============================] - 0s 1ms/step\n",
      "-60.02999289943477\n"
     ]
    }
   ],
   "source": [
    "# Build the model\n",
    "model = tf.keras.Sequential()\n",
    "model.add(tf.keras.layers.LSTM(10, input_shape=(1, window_size), activation='relu'))\n",
    "model.add(tf.keras.layers.Dense(10, activation='relu'))\n",
    "model.add(tf.keras.layers.Dense(1))\n",
    "model.compile(optimizer='adam', loss='mean_squared_error')\n",
    "model.summary()\n",
    "\n",
    "# Train the model\n",
    "model.fit(X_train, y_train)\n",
    "\n",
    "# Make predictions and evaluate\n",
    "y_pred = model.predict(X_validation)\n",
    "print(r2_score(y_validation, y_pred))"
   ]
  },
  {
   "cell_type": "markdown",
   "id": "a8964323",
   "metadata": {},
   "source": [
    "Switching to LSTM still didn't improve things as we hoped."
   ]
  },
  {
   "cell_type": "markdown",
   "id": "5985546f",
   "metadata": {},
   "source": [
    "### Add a Convolutional Layer"
   ]
  },
  {
   "cell_type": "markdown",
   "id": "9a821be1",
   "metadata": {},
   "source": [
    " Let's try adding a convolutional layer before the LSTM layer and see if that makes a difference.  We typically include a pooling layer after a convolutional layer, so this means that we'll actually be adding two layers to this model that weren't in the previous one."
   ]
  },
  {
   "cell_type": "code",
   "execution_count": 21,
   "id": "971a2508",
   "metadata": {},
   "outputs": [
    {
     "name": "stdout",
     "output_type": "stream",
     "text": [
      "Model: \"sequential_2\"\n",
      "_________________________________________________________________\n",
      " Layer (type)                Output Shape              Param #   \n",
      "=================================================================\n",
      " conv1d (Conv1D)             (None, 1, 64)             704       \n",
      "                                                                 \n",
      " max_pooling1d (MaxPooling1  (None, 1, 64)             0         \n",
      " D)                                                              \n",
      "                                                                 \n",
      " lstm_1 (LSTM)               (None, 10)                3000      \n",
      "                                                                 \n",
      " dense_4 (Dense)             (None, 10)                110       \n",
      "                                                                 \n",
      " dense_5 (Dense)             (None, 1)                 11        \n",
      "                                                                 \n",
      "=================================================================\n",
      "Total params: 3825 (14.94 KB)\n",
      "Trainable params: 3825 (14.94 KB)\n",
      "Non-trainable params: 0 (0.00 Byte)\n",
      "_________________________________________________________________\n",
      "29/29 [==============================] - 1s 2ms/step - loss: 0.2094\n",
      "14/14 [==============================] - 0s 1ms/step\n",
      "-23.86714366881604\n"
     ]
    }
   ],
   "source": [
    "# Build the model\n",
    "model = tf.keras.Sequential()\n",
    "model.add(tf.keras.layers.Conv1D(64, 1, activation=\"relu\", input_shape=(1, window_size)))\n",
    "model.add(tf.keras.layers.MaxPooling1D(1))\n",
    "model.add(tf.keras.layers.LSTM(10, activation='relu'))\n",
    "model.add(tf.keras.layers.Dense(10, activation='relu'))\n",
    "model.add(tf.keras.layers.Dense(1))\n",
    "model.compile(optimizer='adam', loss='mean_squared_error')\n",
    "model.summary()\n",
    "\n",
    "# Train the model\n",
    "model.fit(X_train, y_train)\n",
    "\n",
    "# Make predictions and evaluate\n",
    "y_pred = model.predict(X_validation)\n",
    "print(r2_score(y_validation, y_pred))"
   ]
  },
  {
   "cell_type": "markdown",
   "id": "0c9b0ced",
   "metadata": {},
   "source": [
    "The results improved but still they are not satisfactory so we will try to modify other model parameters."
   ]
  },
  {
   "cell_type": "markdown",
   "id": "6f27a4aa",
   "metadata": {},
   "source": [
    "### Optimize the Model"
   ]
  },
  {
   "cell_type": "markdown",
   "id": "71751ee7",
   "metadata": {},
   "source": [
    "We have a number of different adjustments we can make to find the sweet spot between model performance and complexity:\n",
    "\n",
    "* Window sizve\n",
    "* Number of hidden layers\n",
    "* Number of nodes per hidden layer\n",
    "* Type of recurrent layer (SimpleRNN, LSTM, GRU)\n",
    "* Inclusion (or not) of a convolutional layer\n",
    "* Activation function used (or not) at each layer\n",
    "* Optimizer\n",
    "* Loss function\n",
    "* Number of epochs"
   ]
  },
  {
   "cell_type": "code",
   "execution_count": 22,
   "id": "e33a989b",
   "metadata": {},
   "outputs": [
    {
     "name": "stdout",
     "output_type": "stream",
     "text": [
      "Model: \"sequential_3\"\n",
      "_________________________________________________________________\n",
      " Layer (type)                Output Shape              Param #   \n",
      "=================================================================\n",
      " conv1d_1 (Conv1D)           (None, 1, 128)            3328      \n",
      "                                                                 \n",
      " max_pooling1d_1 (MaxPoolin  (None, 1, 128)            0         \n",
      " g1D)                                                            \n",
      "                                                                 \n",
      " lstm_2 (LSTM)               (None, 64)                49408     \n",
      "                                                                 \n",
      " dense_6 (Dense)             (None, 32)                2080      \n",
      "                                                                 \n",
      " dense_7 (Dense)             (None, 16)                528       \n",
      "                                                                 \n",
      " dense_8 (Dense)             (None, 1)                 17        \n",
      "                                                                 \n",
      "=================================================================\n",
      "Total params: 55361 (216.25 KB)\n",
      "Trainable params: 55361 (216.25 KB)\n",
      "Non-trainable params: 0 (0.00 Byte)\n",
      "_________________________________________________________________\n",
      "Epoch 1/35\n",
      "28/28 [==============================] - 1s 3ms/step - loss: 0.0612\n",
      "Epoch 2/35\n",
      "28/28 [==============================] - 0s 3ms/step - loss: 0.0034\n",
      "Epoch 3/35\n",
      "28/28 [==============================] - 0s 3ms/step - loss: 0.0017\n",
      "Epoch 4/35\n",
      "28/28 [==============================] - 0s 3ms/step - loss: 0.0015\n",
      "Epoch 5/35\n",
      "28/28 [==============================] - 0s 3ms/step - loss: 0.0014\n",
      "Epoch 6/35\n",
      "28/28 [==============================] - 0s 3ms/step - loss: 0.0012\n",
      "Epoch 7/35\n",
      "28/28 [==============================] - 0s 2ms/step - loss: 9.5635e-04\n",
      "Epoch 8/35\n",
      "28/28 [==============================] - 0s 3ms/step - loss: 7.9142e-04\n",
      "Epoch 9/35\n",
      "28/28 [==============================] - 0s 3ms/step - loss: 6.6951e-04\n",
      "Epoch 10/35\n",
      "28/28 [==============================] - 0s 3ms/step - loss: 6.4106e-04\n",
      "Epoch 11/35\n",
      "28/28 [==============================] - 0s 3ms/step - loss: 5.3615e-04\n",
      "Epoch 12/35\n",
      "28/28 [==============================] - 0s 3ms/step - loss: 4.8200e-04\n",
      "Epoch 13/35\n",
      "28/28 [==============================] - 0s 3ms/step - loss: 4.1122e-04\n",
      "Epoch 14/35\n",
      "28/28 [==============================] - 0s 2ms/step - loss: 3.8065e-04\n",
      "Epoch 15/35\n",
      "28/28 [==============================] - 0s 3ms/step - loss: 3.7033e-04\n",
      "Epoch 16/35\n",
      "28/28 [==============================] - 0s 3ms/step - loss: 3.8822e-04\n",
      "Epoch 17/35\n",
      "28/28 [==============================] - 0s 2ms/step - loss: 3.6025e-04\n",
      "Epoch 18/35\n",
      "28/28 [==============================] - 0s 2ms/step - loss: 3.2716e-04\n",
      "Epoch 19/35\n",
      "28/28 [==============================] - 0s 2ms/step - loss: 3.4214e-04\n",
      "Epoch 20/35\n",
      "28/28 [==============================] - 0s 2ms/step - loss: 4.9653e-04\n",
      "Epoch 21/35\n",
      "28/28 [==============================] - 0s 2ms/step - loss: 3.8275e-04\n",
      "Epoch 22/35\n",
      "28/28 [==============================] - 0s 2ms/step - loss: 4.0230e-04\n",
      "Epoch 23/35\n",
      "28/28 [==============================] - 0s 2ms/step - loss: 2.9043e-04\n",
      "Epoch 24/35\n",
      "28/28 [==============================] - 0s 3ms/step - loss: 4.2905e-04\n",
      "Epoch 25/35\n",
      "28/28 [==============================] - 0s 2ms/step - loss: 3.6350e-04\n",
      "Epoch 26/35\n",
      "28/28 [==============================] - 0s 2ms/step - loss: 3.2698e-04\n",
      "Epoch 27/35\n",
      "28/28 [==============================] - 0s 2ms/step - loss: 2.6212e-04\n",
      "Epoch 28/35\n",
      "28/28 [==============================] - 0s 2ms/step - loss: 2.8240e-04\n",
      "Epoch 29/35\n",
      "28/28 [==============================] - 0s 2ms/step - loss: 3.0767e-04\n",
      "Epoch 30/35\n",
      "28/28 [==============================] - 0s 2ms/step - loss: 3.0365e-04\n",
      "Epoch 31/35\n",
      "28/28 [==============================] - 0s 3ms/step - loss: 2.6077e-04\n",
      "Epoch 32/35\n",
      "28/28 [==============================] - 0s 2ms/step - loss: 2.4851e-04\n",
      "Epoch 33/35\n",
      "28/28 [==============================] - 0s 2ms/step - loss: 3.0939e-04\n",
      "Epoch 34/35\n",
      "28/28 [==============================] - 0s 2ms/step - loss: 2.7302e-04\n",
      "Epoch 35/35\n",
      "28/28 [==============================] - 0s 2ms/step - loss: 3.2615e-04\n",
      "14/14 [==============================] - 0s 2ms/step\n",
      "\n",
      "R-Squared value on validation set: 0.9448037185881578\n"
     ]
    }
   ],
   "source": [
    "# Set the desired window size\n",
    "window_size = 25\n",
    "\n",
    "# Construct train, validation, and test datasets\n",
    "X_train, y_train = create_dataset(train, window_size)\n",
    "X_validation, y_validation = create_dataset(validation, window_size)\n",
    "X_test, y_test = create_dataset(test, window_size)\n",
    "\n",
    "# Reshape into NumPy arrays\n",
    "X_train = np.reshape(X_train, (X_train.shape[0], 1, X_train.shape[1]))\n",
    "X_validation = np.reshape(X_validation, (X_validation.shape[0], 1, X_validation.shape[1]))\n",
    "X_test = np.reshape(X_test, (X_test.shape[0], 1, X_test.shape[1]))\n",
    "\n",
    "# Build the model\n",
    "model = tf.keras.Sequential()\n",
    "model.add(tf.keras.layers.Conv1D(128, 1, activation=\"relu\", input_shape=(1, window_size)))\n",
    "model.add(tf.keras.layers.MaxPooling1D(1))\n",
    "model.add(tf.keras.layers.LSTM(64, activation='relu'))\n",
    "model.add(tf.keras.layers.Dense(32, activation='relu'))\n",
    "model.add(tf.keras.layers.Dense(16, activation='relu'))\n",
    "model.add(tf.keras.layers.Dense(1))\n",
    "model.compile(optimizer='adam', loss='mean_squared_error')\n",
    "model.summary()\n",
    "\n",
    "# Train the model\n",
    "model.fit(X_train, y_train, epochs=35)\n",
    "\n",
    "# Make predictions and evaluate\n",
    "y_pred = model.predict(X_validation)\n",
    "print(f\"\\nR-Squared value on validation set: {r2_score(y_validation, y_pred)}\")"
   ]
  },
  {
   "cell_type": "markdown",
   "id": "59be2cb0",
   "metadata": {},
   "source": [
    "We got an R-Squared value of 94.4% on the validation set."
   ]
  },
  {
   "cell_type": "markdown",
   "id": "e1ebd9e0",
   "metadata": {},
   "source": [
    "### Evaluate Model Performance"
   ]
  },
  {
   "cell_type": "markdown",
   "id": "23b022bb",
   "metadata": {},
   "source": [
    " Now that we've created a model that we're happy with in terms of performance on the validation set, it's time to bring back the testing set and check our model performance on this completely unseen data."
   ]
  },
  {
   "cell_type": "code",
   "execution_count": 23,
   "id": "c678c1cd",
   "metadata": {},
   "outputs": [
    {
     "name": "stdout",
     "output_type": "stream",
     "text": [
      "28/28 [==============================] - 0s 1ms/step\n",
      "14/14 [==============================] - 0s 2ms/step\n",
      "14/14 [==============================] - 0s 2ms/step\n",
      "0.9959827832583081  --> Training Set\n",
      "0.9448037185881578  --> Validation Set\n",
      "0.9372842241528271  --> Test Set\n"
     ]
    }
   ],
   "source": [
    "# Make predictions on all three sets\n",
    "train_pred = model.predict(X_train)\n",
    "validation_pred = model.predict(X_validation)\n",
    "test_pred = model.predict(X_test)\n",
    "\n",
    "print(r2_score(y_train, train_pred), \" --> Training Set\")\n",
    "print(r2_score(y_validation, validation_pred), \" --> Validation Set\")\n",
    "print(r2_score(y_test, test_pred), \" --> Test Set\")"
   ]
  },
  {
   "cell_type": "markdown",
   "id": "f49ce70b",
   "metadata": {},
   "source": [
    "The R-Squared value from validation seems to have held up in testing."
   ]
  },
  {
   "cell_type": "markdown",
   "id": "75d1aa06",
   "metadata": {},
   "source": [
    "After assessing the performance metric, we should also visualize our predictions compared to the original data, as we did in the previous lesson. To do this, we need to unscale the data and adjust the indices to undo the windowing. Then, we can plot the original data and our predictions on the same axes and compare."
   ]
  },
  {
   "cell_type": "code",
   "execution_count": 24,
   "id": "ff67da7c",
   "metadata": {},
   "outputs": [],
   "source": [
    "# Un-scale the predictions\n",
    "train_pred = scaler.inverse_transform(train_pred)\n",
    "validation_pred = scaler.inverse_transform(validation_pred)\n",
    "test_pred = scaler.inverse_transform(test_pred)\n",
    "\n",
    "# Un-window the training predictions\n",
    "plot_train_pred = np.empty((len(stock_data), 1))\n",
    "plot_train_pred[:] = np.nan\n",
    "plot_train_pred[window_size:len(train_pred) + window_size, :] = train_pred\n",
    "\n",
    "# Un-window the validation predictions\n",
    "plot_validation_pred = np.empty((len(stock_data), 1))\n",
    "plot_validation_pred[:] = np.nan\n",
    "plot_validation_pred[len(train_pred) + (window_size * 2) + 1:len(train_pred) + len(validation_pred) + (window_size * 2) + 1, :] = validation_pred\n",
    "\n",
    "# Un-window the test predictions\n",
    "plot_test_pred = np.empty((len(stock_data), 1))\n",
    "plot_test_pred[:] = np.nan\n",
    "plot_test_pred[len(train_pred) + len(validation_pred) + (window_size * 3) + 2:len(stock_data) - 1, :] = test_pred"
   ]
  },
  {
   "cell_type": "code",
   "execution_count": 25,
   "id": "d22dcba2",
   "metadata": {},
   "outputs": [
    {
     "data": {
      "image/png": "[encoded data removed]",
      "text/plain": [
       "<Figure size 432x288 with 1 Axes>"
      ]
     },
     "metadata": {},
     "output_type": "display_data"
    }
   ],
   "source": [
    "# Plot the original data\n",
    "plt.plot(stock_data, label=\"Original Data\")\n",
    "\n",
    "# Plot the predictions\n",
    "plt.plot(plot_train_pred, label=\"Training Set Predictions\")\n",
    "plt.plot(plot_validation_pred, label=\"Validation Set Predictions\")\n",
    "plt.plot(plot_test_pred, label=\"Test Set Predictions\")\n",
    "\n",
    "# Add title, axis labels, and a legend\n",
    "plt.title('S&P 500 Index Forecast')\n",
    "plt.xlabel('Date')\n",
    "plt.xticks(rotation=45)\n",
    "plt.gca().xaxis.set_major_locator(mdates.YearLocator())\n",
    "plt.gcf().autofmt_xdate()\n",
    "plt.ylabel('Adjusted Close')\n",
    "plt.legend()\n",
    "plt.show()"
   ]
  },
  {
   "cell_type": "markdown",
   "id": "c2a30d6c",
   "metadata": {},
   "source": [
    "We've successfully produced a time series forecast with RNN's for the S&P 500 index and the performance metric indicated 93.7% on the test set."
   ]
  }
 ],
 "metadata": {
  "kernelspec": {
   "display_name": "Python 3 (ipykernel)",
   "language": "python",
   "name": "python3"
  },
  "language_info": {
   "codemirror_mode": {
    "name": "ipython",
    "version": 3
   },
   "file_extension": ".py",
   "mimetype": "text/x-python",
   "name": "python",
   "nbconvert_exporter": "python",
   "pygments_lexer": "ipython3",
   "version": "3.10.4"
  }
 },
 "nbformat": 4,
 "nbformat_minor": 5
}
