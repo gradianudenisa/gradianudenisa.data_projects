{
 "cells": [
  {
   "cell_type": "markdown",
   "id": "431dd123",
   "metadata": {},
   "source": [
    "## Project: Mobile App for Lottery Addiction"
   ]
  },
  {
   "cell_type": "markdown",
   "id": "bf0ceb6f",
   "metadata": {},
   "source": [
    "In this project we are going to use our knowledge in probability and combinatorics to simulate our contribution to the development of a mobile app that helps people beat lottery addiction by calculating their actual chances of winning. We will focus on the 6/49 lottery and build functions that can answer the following questions:\n",
    "\n",
    "* What is the probability of winning the big prize with a single ticket?\n",
    "* What is the probability of winning the big prize if we play 40 different tickets (or any other number)?\n",
    "* What is the probability of having at least five (or four, or three) winning numbers on a single ticket?\n",
    "\n",
    "Throughout the project we will use the historical data coming from the Canada 6/49 lottery. The data set can be downloaded from [Kaggle](https://www.kaggle.com/datasets/datascienceai/lottery-dataset)."
   ]
  },
  {
   "cell_type": "markdown",
   "id": "570e603b",
   "metadata": {},
   "source": [
    "![Image](https://images.unsplash.com/photo-1609017909889-d7b582c072f7?ixlib=rb-4.0.3&ixid=MnwxMjA3fDB8MHxwaG90by1wYWdlfHx8fGVufDB8fHx8&auto=format&fit=crop&w=2069&q=80)\n",
    "_Photo by Naser Tamimi on Unsplash_"
   ]
  },
  {
   "cell_type": "markdown",
   "id": "843420e5",
   "metadata": {},
   "source": [
    "### Core Functions"
   ]
  },
  {
   "cell_type": "code",
   "execution_count": 1,
   "id": "eeb70a74",
   "metadata": {},
   "outputs": [],
   "source": [
    "import pandas as pd"
   ]
  },
  {
   "cell_type": "code",
   "execution_count": 2,
   "id": "7377a243",
   "metadata": {},
   "outputs": [],
   "source": [
    "lottery=pd.read_csv(\"C:/Users/Denisa/Desktop/Project Apps/project 14/649.csv\")"
   ]
  },
  {
   "cell_type": "markdown",
   "id": "73096d36",
   "metadata": {},
   "source": [
    "Throughout the project, we'll need to calculate repeatedly probabilities and combinations. As a consequence, we'll start by writing two functions that we'll use often:\n",
    "\n",
    "* A function that calculates factorials;\n",
    "* A function that calculates combinations."
   ]
  },
  {
   "cell_type": "code",
   "execution_count": 3,
   "id": "c58eb07f",
   "metadata": {},
   "outputs": [],
   "source": [
    "#a function that calculates factorials \n",
    "def factorial(n):\n",
    "    result=1\n",
    "    for i in range(1,n+1):\n",
    "        result*=i\n",
    "    return result\n"
   ]
  },
  {
   "cell_type": "code",
   "execution_count": 4,
   "id": "1346678b",
   "metadata": {},
   "outputs": [],
   "source": [
    "#a function that calculates combinations\n",
    "def combinations(n,k):\n",
    "    result= factorial(n)/(factorial(k)*factorial(n-k))\n",
    "    return result"
   ]
  },
  {
   "cell_type": "markdown",
   "id": "45afc52f",
   "metadata": {},
   "source": [
    "### One-ticket Probability"
   ]
  },
  {
   "cell_type": "markdown",
   "id": "c362f245",
   "metadata": {},
   "source": [
    "We will write a function that calculates the probability of winning the big prize  for any given ticket. In the 6/49 lottery, six numbers are drawn from a set of 49 numbers that range from 1 to 49. A player wins the big prize if the six numbers on their tickets match all the six numbers drawn."
   ]
  },
  {
   "cell_type": "code",
   "execution_count": 5,
   "id": "0e955968",
   "metadata": {},
   "outputs": [],
   "source": [
    "# takes in a list of six unique numbers and prints the probability of winning\n",
    "def one_ticket_probability(ticket):\n",
    "    number_combinations=combinations(49,6)\n",
    "    one_ticket_probability=1/number_combinations\n",
    "    percentage=one_ticket_probability*100\n",
    "    print('Chances of winnng with the numbers {} are {:.7f}%, which means your chances to win are 1 in {:,}'.\n",
    "          format(ticket,percentage,int(number_combinations)))"
   ]
  },
  {
   "cell_type": "code",
   "execution_count": 6,
   "id": "9150c668",
   "metadata": {},
   "outputs": [
    {
     "name": "stdout",
     "output_type": "stream",
     "text": [
      "Chances of winnng with the numbers [2, 43, 22, 23, 11, 5] are 0.0000072%, which means your chances to win are 1 in 13,983,816\n"
     ]
    }
   ],
   "source": [
    "#test input 1\n",
    "one_ticket_probability([2, 43, 22, 23, 11, 5])"
   ]
  },
  {
   "cell_type": "code",
   "execution_count": 7,
   "id": "ab3d8cad",
   "metadata": {},
   "outputs": [
    {
     "name": "stdout",
     "output_type": "stream",
     "text": [
      "Chances of winnng with the numbers [9, 26, 41, 7, 15, 6] are 0.0000072%, which means your chances to win are 1 in 13,983,816\n"
     ]
    }
   ],
   "source": [
    "#test input 2\n",
    "one_ticket_probability([9, 26, 41, 7, 15, 6])"
   ]
  },
  {
   "cell_type": "markdown",
   "id": "abd929ee",
   "metadata": {},
   "source": [
    "### Historical Data Check for Canada Lottery"
   ]
  },
  {
   "cell_type": "markdown",
   "id": "15808af1",
   "metadata": {},
   "source": [
    "We want to give the users the chance to be able to compare their ticket against the historical lottery data in Canada and determine whether they would have ever won by now."
   ]
  },
  {
   "cell_type": "code",
   "execution_count": 8,
   "id": "6860a7f6",
   "metadata": {},
   "outputs": [
    {
     "data": {
      "text/plain": [
       "(3665, 11)"
      ]
     },
     "execution_count": 8,
     "metadata": {},
     "output_type": "execute_result"
    }
   ],
   "source": [
    "lottery.shape"
   ]
  },
  {
   "cell_type": "code",
   "execution_count": 9,
   "id": "49ae679b",
   "metadata": {},
   "outputs": [
    {
     "data": {
      "text/plain": [
       "<bound method NDFrame.head of       PRODUCT  DRAW NUMBER  SEQUENCE NUMBER  DRAW DATE  NUMBER DRAWN 1  \\\n",
       "0         649            1                0  6/12/1982               3   \n",
       "1         649            2                0  6/19/1982               8   \n",
       "2         649            3                0  6/26/1982               1   \n",
       "3         649            4                0   7/3/1982               3   \n",
       "4         649            5                0  7/10/1982               5   \n",
       "...       ...          ...              ...        ...             ...   \n",
       "3660      649         3587                0   6/6/2018              10   \n",
       "3661      649         3588                0   6/9/2018              19   \n",
       "3662      649         3589                0  6/13/2018               6   \n",
       "3663      649         3590                0  6/16/2018               2   \n",
       "3664      649         3591                0  6/20/2018              14   \n",
       "\n",
       "      NUMBER DRAWN 2  NUMBER DRAWN 3  NUMBER DRAWN 4  NUMBER DRAWN 5  \\\n",
       "0                 11              12              14              41   \n",
       "1                 33              36              37              39   \n",
       "2                  6              23              24              27   \n",
       "3                  9              10              13              20   \n",
       "4                 14              21              31              34   \n",
       "...              ...             ...             ...             ...   \n",
       "3660              15              23              38              40   \n",
       "3661              25              31              36              46   \n",
       "3662              22              24              31              32   \n",
       "3663              15              21              31              38   \n",
       "3664              24              31              35              37   \n",
       "\n",
       "      NUMBER DRAWN 6  BONUS NUMBER  \n",
       "0                 43            13  \n",
       "1                 41             9  \n",
       "2                 39            34  \n",
       "3                 43            34  \n",
       "4                 47            45  \n",
       "...              ...           ...  \n",
       "3660              41            35  \n",
       "3661              47            26  \n",
       "3662              34            16  \n",
       "3663              49             8  \n",
       "3664              48            17  \n",
       "\n",
       "[3665 rows x 11 columns]>"
      ]
     },
     "execution_count": 9,
     "metadata": {},
     "output_type": "execute_result"
    }
   ],
   "source": [
    "lottery.head"
   ]
  },
  {
   "cell_type": "markdown",
   "id": "5e6522b2",
   "metadata": {},
   "source": [
    " The data set contains historical data for 3,665 drawings (each row shows data for a single drawing), dating from 1982 to 2018. For each drawing, we can find the six numbers drawn in the following six columns:\n",
    "* `NUMBER DRAWN 1`\n",
    "* `NUMBER DRAWN 2`\n",
    "* `NUMBER DRAWN 3`\n",
    "* `NUMBER DRAWN 4`\n",
    "* `NUMBER DRAWN 5`\n",
    "* `NUMBER DRAWN 6`"
   ]
  },
  {
   "cell_type": "markdown",
   "id": "3e8f15aa",
   "metadata": {},
   "source": [
    "### Function for Historical Data Check"
   ]
  },
  {
   "cell_type": "code",
   "execution_count": 10,
   "id": "ae3f46e2",
   "metadata": {},
   "outputs": [],
   "source": [
    "#Extract all the winning six numbers from the historical data set\n",
    "def extract_numbers(df):\n",
    "    list1=[]\n",
    "    for data in df[4:10]:\n",
    "        list1.append(data)\n",
    "    return list1\n",
    "winning=lottery.apply(extract_numbers,axis=1)"
   ]
  },
  {
   "cell_type": "code",
   "execution_count": 11,
   "id": "b790742c",
   "metadata": {},
   "outputs": [
    {
     "data": {
      "text/plain": [
       "0        [3, 11, 12, 14, 41, 43]\n",
       "1        [8, 33, 36, 37, 39, 41]\n",
       "2         [1, 6, 23, 24, 27, 39]\n",
       "3         [3, 9, 10, 13, 20, 43]\n",
       "4        [5, 14, 21, 31, 34, 47]\n",
       "                  ...           \n",
       "3660    [10, 15, 23, 38, 40, 41]\n",
       "3661    [19, 25, 31, 36, 46, 47]\n",
       "3662     [6, 22, 24, 31, 32, 34]\n",
       "3663     [2, 15, 21, 31, 38, 49]\n",
       "3664    [14, 24, 31, 35, 37, 48]\n",
       "Length: 3665, dtype: object"
      ]
     },
     "execution_count": 11,
     "metadata": {},
     "output_type": "execute_result"
    }
   ],
   "source": [
    "winning"
   ]
  },
  {
   "cell_type": "code",
   "execution_count": 12,
   "id": "b3e3416a",
   "metadata": {},
   "outputs": [],
   "source": [
    "#checks whether a certain combination has occurred in the Canada lottery data set\n",
    "def check_historical_occurrence(user_numbers, historical_numbers):   \n",
    "\n",
    "    sum=0\n",
    "    for comb in historical_numbers:\n",
    "        if comb == user_numbers:\n",
    "            sum+=1\n",
    "    \n",
    "    if sum == 0:\n",
    "        print('''The combination {} has never occured.\n",
    "This doesn't mean it's more likely to occur now. Your chances to win the big prize in the next drawing using the combination {} are 0.0000072%.\n",
    "In other words, you have a 1 in 13,983,816 chances to win.'''.format(user_numbers, user_numbers))\n",
    "        \n",
    "    else:\n",
    "        print('''The number of times combination {} has occured in the past is {}.\n",
    "Your chances to win the big prize in the next drawing using the combination {} are 0.0000072%.\n",
    "In other words, you have a 1 in 13,983,816 chances to win.'''.format(user_numbers,sum,\n",
    "                                                                            user_numbers))"
   ]
  },
  {
   "cell_type": "code",
   "execution_count": 13,
   "id": "37dad33d",
   "metadata": {},
   "outputs": [
    {
     "name": "stdout",
     "output_type": "stream",
     "text": [
      "The combination [33, 36, 37, 39, 8, 41] has never occured.\n",
      "This doesn't mean it's more likely to occur now. Your chances to win the big prize in the next drawing using the combination [33, 36, 37, 39, 8, 41] are 0.0000072%.\n",
      "In other words, you have a 1 in 13,983,816 chances to win.\n"
     ]
    }
   ],
   "source": [
    "#Testing the function with a few inputs\n",
    "test_input_1 = [33, 36, 37, 39, 8, 41]\n",
    "check_historical_occurrence(test_input_1, winning)"
   ]
  },
  {
   "cell_type": "code",
   "execution_count": 14,
   "id": "7ce09924",
   "metadata": {},
   "outputs": [
    {
     "name": "stdout",
     "output_type": "stream",
     "text": [
      "The combination [3, 2, 44, 22, 1, 44] has never occured.\n",
      "This doesn't mean it's more likely to occur now. Your chances to win the big prize in the next drawing using the combination [3, 2, 44, 22, 1, 44] are 0.0000072%.\n",
      "In other words, you have a 1 in 13,983,816 chances to win.\n"
     ]
    }
   ],
   "source": [
    "test_input_2 = [3, 2, 44, 22, 1, 44]\n",
    "check_historical_occurrence(test_input_2, winning)"
   ]
  },
  {
   "cell_type": "markdown",
   "id": "85829873",
   "metadata": {},
   "source": [
    "### Multi-ticket Probability"
   ]
  },
  {
   "cell_type": "markdown",
   "id": "eba66976",
   "metadata": {},
   "source": [
    "Lottery addicts usually play more than one ticket on a single drawing, thinking that this might increase their chances of winning significantly. Our purpose is to help them better estimate their chances of winning for any number of different tickets. The user will input the number of different tickets they want to play and the _multi_ticket_probability_ function will calculate the total number of possible ourcomes and then print information about the probability of winning the big prize depending on the number of different tickets played."
   ]
  },
  {
   "cell_type": "code",
   "execution_count": 15,
   "id": "6fe48c1a",
   "metadata": {},
   "outputs": [],
   "source": [
    "#function that calculates the probability of winning the big prize depending on the number of different tickets played\n",
    "def multi_ticket_probability(n_tickets):\n",
    "    \n",
    "    n_combinations = combinations(49, 6)\n",
    "    \n",
    "    probability = n_tickets / n_combinations\n",
    "    percentage_form = probability * 100\n",
    "    \n",
    "    if n_tickets == 1:\n",
    "        print('''Your chances to win the big prize with one ticket are {:.6f}%.\n",
    "In other words, you have a 1 in {:,} chances to win.'''.format(percentage_form, int(n_combinations)))\n",
    "    \n",
    "    else:\n",
    "        combinations_simplified = round(n_combinations / n_tickets)   \n",
    "        print('''Your chances to win the big prize with {:,} different tickets are {:.6f}%.\n",
    "In other words, you have a 1 in {:,} chances to win.'''.format(n_tickets, percentage_form,\n",
    "                                                               combinations_simplified))"
   ]
  },
  {
   "cell_type": "code",
   "execution_count": 16,
   "id": "0c9e9ff3",
   "metadata": {},
   "outputs": [
    {
     "name": "stdout",
     "output_type": "stream",
     "text": [
      "Your chances to win the big prize with one ticket are 0.000007%.\n",
      "In other words, you have a 1 in 13,983,816 chances to win.\n",
      "------------------------\n",
      "Your chances to win the big prize with 10 different tickets are 0.000072%.\n",
      "In other words, you have a 1 in 1,398,382 chances to win.\n",
      "------------------------\n",
      "Your chances to win the big prize with 100 different tickets are 0.000715%.\n",
      "In other words, you have a 1 in 139,838 chances to win.\n",
      "------------------------\n",
      "Your chances to win the big prize with 10,000 different tickets are 0.071511%.\n",
      "In other words, you have a 1 in 1,398 chances to win.\n",
      "------------------------\n",
      "Your chances to win the big prize with 1,000,000 different tickets are 7.151124%.\n",
      "In other words, you have a 1 in 14 chances to win.\n",
      "------------------------\n",
      "Your chances to win the big prize with 6,991,908 different tickets are 50.000000%.\n",
      "In other words, you have a 1 in 2 chances to win.\n",
      "------------------------\n",
      "Your chances to win the big prize with 13,983,816 different tickets are 100.000000%.\n",
      "In other words, you have a 1 in 1 chances to win.\n",
      "------------------------\n"
     ]
    }
   ],
   "source": [
    "#Testing the function using the following inputs\n",
    "test_inputs = [1, 10, 100, 10000, 1000000, 6991908, 13983816]\n",
    "\n",
    "for test_input in test_inputs:\n",
    "    multi_ticket_probability(test_input)\n",
    "    print('------------------------') # output delimiter"
   ]
  },
  {
   "cell_type": "markdown",
   "id": "83fb030d",
   "metadata": {},
   "source": [
    "### Less Winning Numbers — Function"
   ]
  },
  {
   "cell_type": "markdown",
   "id": "d5b7356f",
   "metadata": {},
   "source": [
    "Next we're going to write one more function to allow the users to calculate probabilities for two, three, four, or five winning numbers because in most 6/49 lotteries there are smaller prizes if a player's ticket match two, three, four, or five of the six numbers drawn. The function takes in an integer between 2 and 5 and prints information about the chances of winning depending on the value of that integer"
   ]
  },
  {
   "cell_type": "code",
   "execution_count": 17,
   "id": "0c400f3d",
   "metadata": {},
   "outputs": [],
   "source": [
    "\n",
    "def probability_less_6(n_winning_numbers):\n",
    "    \n",
    "    n_combinations_ticket = combinations(6, n_winning_numbers)\n",
    "    n_combinations_remaining = combinations(43, 6 - n_winning_numbers)\n",
    "    successful_outcomes = n_combinations_ticket * n_combinations_remaining\n",
    "    \n",
    "    n_combinations_total = combinations(49, 6)    \n",
    "    probability = successful_outcomes / n_combinations_total\n",
    "    \n",
    "    probability_percentage = probability * 100    \n",
    "    combinations_simplified = round(n_combinations_total/successful_outcomes)    \n",
    "    print('''Your chances of having {} winning numbers with this ticket are {:.6f}%.\n",
    "In other words, you have a 1 in {:,} chances to win.'''.format(n_winning_numbers, probability_percentage,\n",
    "                                                               int(combinations_simplified)))"
   ]
  },
  {
   "cell_type": "code",
   "execution_count": 18,
   "id": "98ab6355",
   "metadata": {},
   "outputs": [
    {
     "name": "stdout",
     "output_type": "stream",
     "text": [
      "Your chances of having 2 winning numbers with this ticket are 13.237803%.\n",
      "In other words, you have a 1 in 8 chances to win.\n",
      "--------------------------\n",
      "Your chances of having 3 winning numbers with this ticket are 1.765040%.\n",
      "In other words, you have a 1 in 57 chances to win.\n",
      "--------------------------\n",
      "Your chances of having 4 winning numbers with this ticket are 0.096862%.\n",
      "In other words, you have a 1 in 1,032 chances to win.\n",
      "--------------------------\n",
      "Your chances of having 5 winning numbers with this ticket are 0.001845%.\n",
      "In other words, you have a 1 in 54,201 chances to win.\n",
      "--------------------------\n"
     ]
    }
   ],
   "source": [
    "#Testing the function on all possible inputs\n",
    "for test_input in [2, 3, 4, 5]:\n",
    "    probability_less_6(test_input)\n",
    "    print('--------------------------') # output delimiter"
   ]
  },
  {
   "cell_type": "markdown",
   "id": "b2313a0a",
   "metadata": {},
   "source": [
    "### Conclusion"
   ]
  },
  {
   "cell_type": "markdown",
   "id": "c2f32ffa",
   "metadata": {},
   "source": [
    "For the first version of the app, we coded four main functions that answer the questions from the beginning:\n",
    "\n",
    "* one_ticket_probability() — calculates the probability of winning the big prize with a single ticket\n",
    "* check_historical_occurrence() — checks whether a certain combination has occurred in the Canada lottery data set\n",
    "* multi_ticket_probability() — calculates the probability for any number of of tickets between 1 and 13,983,816\n",
    "* probability_less_6() — calculates the probability of having two, three, four or five winning numbers exactly"
   ]
  }
 ],
 "metadata": {
  "kernelspec": {
   "display_name": "Python 3 (ipykernel)",
   "language": "python",
   "name": "python3"
  },
  "language_info": {
   "codemirror_mode": {
    "name": "ipython",
    "version": 3
   },
   "file_extension": ".py",
   "mimetype": "text/x-python",
   "name": "python",
   "nbconvert_exporter": "python",
   "pygments_lexer": "ipython3",
   "version": "3.10.4"
  }
 },
 "nbformat": 4,
 "nbformat_minor": 5
}
