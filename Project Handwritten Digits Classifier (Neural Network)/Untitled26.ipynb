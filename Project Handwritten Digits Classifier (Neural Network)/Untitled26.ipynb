{
 "cells": [
  {
   "cell_type": "markdown",
   "id": "8fa71644",
   "metadata": {},
   "source": [
    "### Project: Building A Handwritten Digits Classifier"
   ]
  },
  {
   "cell_type": "markdown",
   "id": "27fcae60",
   "metadata": {},
   "source": [
    "In this project the goal is to train, test and improve a few different deep neural networks for image classification. More specifically, we will build models that can classify handwritten digits, exploring the effectiveness of deep, neural networks at classifying images."
   ]
  },
  {
   "cell_type": "markdown",
   "id": "e82c4df0",
   "metadata": {},
   "source": [
    "![Image](https://images.unsplash.com/photo-1624117987059-f1b8c83edfaa?ixlib=rb-4.0.3&ixid=M3wxMjA3fDB8MHxwaG90by1wYWdlfHx8fGVufDB8fHx8fA%3D%3D&auto=format&fit=crop&w=1746&q=80)\n",
    "__Photo by Markus Krisetya on Unsplash__"
   ]
  },
  {
   "cell_type": "markdown",
   "id": "c3959e63",
   "metadata": {},
   "source": [
    "### Working With Image Data"
   ]
  },
  {
   "cell_type": "markdown",
   "id": "d375846d",
   "metadata": {},
   "source": [
    "Scikit-learn contains a number of datasets pre-loaded with the library, within the namespace of sklearn.datasets. We will use __load_digits()__ from the sklearn.datasets package, that returns a copy of the [hand-written digits dataset from UCI](http://archive.ics.uci.edu/dataset/80/optical+recognition+of+handwritten+digits)."
   ]
  },
  {
   "cell_type": "code",
   "execution_count": 1,
   "id": "5c2a4b4f",
   "metadata": {},
   "outputs": [],
   "source": [
    "from sklearn.datasets import load_digits\n",
    "import pandas as pd\n",
    "import numpy as np\n",
    "import matplotlib.pyplot as plt\n",
    "%matplotlib inline\n",
    "import random\n",
    "\n",
    "random.seed(10)\n",
    "digits_data = load_digits()"
   ]
  },
  {
   "cell_type": "code",
   "execution_count": 2,
   "id": "ad55d8a3",
   "metadata": {},
   "outputs": [
    {
     "data": {
      "text/plain": [
       "dict_keys(['data', 'target', 'frame', 'feature_names', 'target_names', 'images', 'DESCR'])"
      ]
     },
     "execution_count": 2,
     "metadata": {},
     "output_type": "execute_result"
    }
   ],
   "source": [
    "digits_data.keys()"
   ]
  },
  {
   "cell_type": "code",
   "execution_count": 3,
   "id": "abfb179b",
   "metadata": {
    "scrolled": true
   },
   "outputs": [
    {
     "data": {
      "text/html": [
       "<div>\n",
       "<style scoped>\n",
       "    .dataframe tbody tr th:only-of-type {\n",
       "        vertical-align: middle;\n",
       "    }\n",
       "\n",
       "    .dataframe tbody tr th {\n",
       "        vertical-align: top;\n",
       "    }\n",
       "\n",
       "    .dataframe thead th {\n",
       "        text-align: right;\n",
       "    }\n",
       "</style>\n",
       "<table border=\"1\" class=\"dataframe\">\n",
       "  <thead>\n",
       "    <tr style=\"text-align: right;\">\n",
       "      <th></th>\n",
       "      <th>pixel_0_0</th>\n",
       "      <th>pixel_0_1</th>\n",
       "      <th>pixel_0_2</th>\n",
       "      <th>pixel_0_3</th>\n",
       "      <th>pixel_0_4</th>\n",
       "      <th>pixel_0_5</th>\n",
       "      <th>pixel_0_6</th>\n",
       "      <th>pixel_0_7</th>\n",
       "      <th>pixel_1_0</th>\n",
       "      <th>pixel_1_1</th>\n",
       "      <th>...</th>\n",
       "      <th>pixel_6_7</th>\n",
       "      <th>pixel_7_0</th>\n",
       "      <th>pixel_7_1</th>\n",
       "      <th>pixel_7_2</th>\n",
       "      <th>pixel_7_3</th>\n",
       "      <th>pixel_7_4</th>\n",
       "      <th>pixel_7_5</th>\n",
       "      <th>pixel_7_6</th>\n",
       "      <th>pixel_7_7</th>\n",
       "      <th>target</th>\n",
       "    </tr>\n",
       "  </thead>\n",
       "  <tbody>\n",
       "    <tr>\n",
       "      <th>0</th>\n",
       "      <td>0.0</td>\n",
       "      <td>0.0</td>\n",
       "      <td>5.0</td>\n",
       "      <td>13.0</td>\n",
       "      <td>9.0</td>\n",
       "      <td>1.0</td>\n",
       "      <td>0.0</td>\n",
       "      <td>0.0</td>\n",
       "      <td>0.0</td>\n",
       "      <td>0.0</td>\n",
       "      <td>...</td>\n",
       "      <td>0.0</td>\n",
       "      <td>0.0</td>\n",
       "      <td>0.0</td>\n",
       "      <td>6.0</td>\n",
       "      <td>13.0</td>\n",
       "      <td>10.0</td>\n",
       "      <td>0.0</td>\n",
       "      <td>0.0</td>\n",
       "      <td>0.0</td>\n",
       "      <td>0.0</td>\n",
       "    </tr>\n",
       "    <tr>\n",
       "      <th>1</th>\n",
       "      <td>0.0</td>\n",
       "      <td>0.0</td>\n",
       "      <td>0.0</td>\n",
       "      <td>12.0</td>\n",
       "      <td>13.0</td>\n",
       "      <td>5.0</td>\n",
       "      <td>0.0</td>\n",
       "      <td>0.0</td>\n",
       "      <td>0.0</td>\n",
       "      <td>0.0</td>\n",
       "      <td>...</td>\n",
       "      <td>0.0</td>\n",
       "      <td>0.0</td>\n",
       "      <td>0.0</td>\n",
       "      <td>0.0</td>\n",
       "      <td>11.0</td>\n",
       "      <td>16.0</td>\n",
       "      <td>10.0</td>\n",
       "      <td>0.0</td>\n",
       "      <td>0.0</td>\n",
       "      <td>1.0</td>\n",
       "    </tr>\n",
       "    <tr>\n",
       "      <th>2</th>\n",
       "      <td>0.0</td>\n",
       "      <td>0.0</td>\n",
       "      <td>0.0</td>\n",
       "      <td>4.0</td>\n",
       "      <td>15.0</td>\n",
       "      <td>12.0</td>\n",
       "      <td>0.0</td>\n",
       "      <td>0.0</td>\n",
       "      <td>0.0</td>\n",
       "      <td>0.0</td>\n",
       "      <td>...</td>\n",
       "      <td>0.0</td>\n",
       "      <td>0.0</td>\n",
       "      <td>0.0</td>\n",
       "      <td>0.0</td>\n",
       "      <td>3.0</td>\n",
       "      <td>11.0</td>\n",
       "      <td>16.0</td>\n",
       "      <td>9.0</td>\n",
       "      <td>0.0</td>\n",
       "      <td>2.0</td>\n",
       "    </tr>\n",
       "    <tr>\n",
       "      <th>3</th>\n",
       "      <td>0.0</td>\n",
       "      <td>0.0</td>\n",
       "      <td>7.0</td>\n",
       "      <td>15.0</td>\n",
       "      <td>13.0</td>\n",
       "      <td>1.0</td>\n",
       "      <td>0.0</td>\n",
       "      <td>0.0</td>\n",
       "      <td>0.0</td>\n",
       "      <td>8.0</td>\n",
       "      <td>...</td>\n",
       "      <td>0.0</td>\n",
       "      <td>0.0</td>\n",
       "      <td>0.0</td>\n",
       "      <td>7.0</td>\n",
       "      <td>13.0</td>\n",
       "      <td>13.0</td>\n",
       "      <td>9.0</td>\n",
       "      <td>0.0</td>\n",
       "      <td>0.0</td>\n",
       "      <td>3.0</td>\n",
       "    </tr>\n",
       "    <tr>\n",
       "      <th>4</th>\n",
       "      <td>0.0</td>\n",
       "      <td>0.0</td>\n",
       "      <td>0.0</td>\n",
       "      <td>1.0</td>\n",
       "      <td>11.0</td>\n",
       "      <td>0.0</td>\n",
       "      <td>0.0</td>\n",
       "      <td>0.0</td>\n",
       "      <td>0.0</td>\n",
       "      <td>0.0</td>\n",
       "      <td>...</td>\n",
       "      <td>0.0</td>\n",
       "      <td>0.0</td>\n",
       "      <td>0.0</td>\n",
       "      <td>0.0</td>\n",
       "      <td>2.0</td>\n",
       "      <td>16.0</td>\n",
       "      <td>4.0</td>\n",
       "      <td>0.0</td>\n",
       "      <td>0.0</td>\n",
       "      <td>4.0</td>\n",
       "    </tr>\n",
       "  </tbody>\n",
       "</table>\n",
       "<p>5 rows × 65 columns</p>\n",
       "</div>"
      ],
      "text/plain": [
       "   pixel_0_0  pixel_0_1  pixel_0_2  pixel_0_3  pixel_0_4  pixel_0_5  \\\n",
       "0        0.0        0.0        5.0       13.0        9.0        1.0   \n",
       "1        0.0        0.0        0.0       12.0       13.0        5.0   \n",
       "2        0.0        0.0        0.0        4.0       15.0       12.0   \n",
       "3        0.0        0.0        7.0       15.0       13.0        1.0   \n",
       "4        0.0        0.0        0.0        1.0       11.0        0.0   \n",
       "\n",
       "   pixel_0_6  pixel_0_7  pixel_1_0  pixel_1_1  ...  pixel_6_7  pixel_7_0  \\\n",
       "0        0.0        0.0        0.0        0.0  ...        0.0        0.0   \n",
       "1        0.0        0.0        0.0        0.0  ...        0.0        0.0   \n",
       "2        0.0        0.0        0.0        0.0  ...        0.0        0.0   \n",
       "3        0.0        0.0        0.0        8.0  ...        0.0        0.0   \n",
       "4        0.0        0.0        0.0        0.0  ...        0.0        0.0   \n",
       "\n",
       "   pixel_7_1  pixel_7_2  pixel_7_3  pixel_7_4  pixel_7_5  pixel_7_6  \\\n",
       "0        0.0        6.0       13.0       10.0        0.0        0.0   \n",
       "1        0.0        0.0       11.0       16.0       10.0        0.0   \n",
       "2        0.0        0.0        3.0       11.0       16.0        9.0   \n",
       "3        0.0        7.0       13.0       13.0        9.0        0.0   \n",
       "4        0.0        0.0        2.0       16.0        4.0        0.0   \n",
       "\n",
       "   pixel_7_7  target  \n",
       "0        0.0     0.0  \n",
       "1        0.0     1.0  \n",
       "2        0.0     2.0  \n",
       "3        0.0     3.0  \n",
       "4        0.0     4.0  \n",
       "\n",
       "[5 rows x 65 columns]"
      ]
     },
     "execution_count": 3,
     "metadata": {},
     "output_type": "execute_result"
    }
   ],
   "source": [
    "data1 = pd.DataFrame(data= np.c_[digits_data['data'], digits_data['target']],\n",
    "                     columns= digits_data['feature_names'] + ['target'])\n",
    "data1.head()"
   ]
  },
  {
   "cell_type": "code",
   "execution_count": 4,
   "id": "fa74c763",
   "metadata": {},
   "outputs": [
    {
     "data": {
      "text/plain": [
       "0       0\n",
       "1       1\n",
       "2       2\n",
       "3       3\n",
       "4       4\n",
       "       ..\n",
       "1792    9\n",
       "1793    0\n",
       "1794    8\n",
       "1795    9\n",
       "1796    8\n",
       "Length: 1797, dtype: int32"
      ]
     },
     "execution_count": 4,
     "metadata": {},
     "output_type": "execute_result"
    }
   ],
   "source": [
    "labels = pd.Series(digits_data['target'])\n",
    "labels"
   ]
  },
  {
   "cell_type": "markdown",
   "id": "8abb8030",
   "metadata": {},
   "source": [
    "### Working With Image Data"
   ]
  },
  {
   "cell_type": "markdown",
   "id": "a3562444",
   "metadata": {},
   "source": [
    "Because dataframes are a tabular representation of data, each image is represented as a row of pixel values. To visualize an image from the dataframe, we need to reshape the image back to its original dimensions (28 x 28 pixels). To visualize the image, we need to reshape these pixel values back into the 28 by 28 and plot them on a coordinate grid."
   ]
  },
  {
   "cell_type": "code",
   "execution_count": 5,
   "id": "886d5dd2",
   "metadata": {},
   "outputs": [
    {
     "data": {
      "text/html": [
       "<div>\n",
       "<style scoped>\n",
       "    .dataframe tbody tr th:only-of-type {\n",
       "        vertical-align: middle;\n",
       "    }\n",
       "\n",
       "    .dataframe tbody tr th {\n",
       "        vertical-align: top;\n",
       "    }\n",
       "\n",
       "    .dataframe thead th {\n",
       "        text-align: right;\n",
       "    }\n",
       "</style>\n",
       "<table border=\"1\" class=\"dataframe\">\n",
       "  <thead>\n",
       "    <tr style=\"text-align: right;\">\n",
       "      <th></th>\n",
       "      <th>0</th>\n",
       "      <th>1</th>\n",
       "      <th>2</th>\n",
       "      <th>3</th>\n",
       "      <th>4</th>\n",
       "      <th>5</th>\n",
       "      <th>6</th>\n",
       "      <th>7</th>\n",
       "      <th>8</th>\n",
       "      <th>9</th>\n",
       "      <th>...</th>\n",
       "      <th>54</th>\n",
       "      <th>55</th>\n",
       "      <th>56</th>\n",
       "      <th>57</th>\n",
       "      <th>58</th>\n",
       "      <th>59</th>\n",
       "      <th>60</th>\n",
       "      <th>61</th>\n",
       "      <th>62</th>\n",
       "      <th>63</th>\n",
       "    </tr>\n",
       "  </thead>\n",
       "  <tbody>\n",
       "    <tr>\n",
       "      <th>0</th>\n",
       "      <td>0.0</td>\n",
       "      <td>0.0</td>\n",
       "      <td>5.0</td>\n",
       "      <td>13.0</td>\n",
       "      <td>9.0</td>\n",
       "      <td>1.0</td>\n",
       "      <td>0.0</td>\n",
       "      <td>0.0</td>\n",
       "      <td>0.0</td>\n",
       "      <td>0.0</td>\n",
       "      <td>...</td>\n",
       "      <td>0.0</td>\n",
       "      <td>0.0</td>\n",
       "      <td>0.0</td>\n",
       "      <td>0.0</td>\n",
       "      <td>6.0</td>\n",
       "      <td>13.0</td>\n",
       "      <td>10.0</td>\n",
       "      <td>0.0</td>\n",
       "      <td>0.0</td>\n",
       "      <td>0.0</td>\n",
       "    </tr>\n",
       "  </tbody>\n",
       "</table>\n",
       "<p>1 rows × 64 columns</p>\n",
       "</div>"
      ],
      "text/plain": [
       "    0    1    2     3    4    5    6    7    8    9   ...   54   55   56   57  \\\n",
       "0  0.0  0.0  5.0  13.0  9.0  1.0  0.0  0.0  0.0  0.0  ...  0.0  0.0  0.0  0.0   \n",
       "\n",
       "    58    59    60   61   62   63  \n",
       "0  6.0  13.0  10.0  0.0  0.0  0.0  \n",
       "\n",
       "[1 rows x 64 columns]"
      ]
     },
     "execution_count": 5,
     "metadata": {},
     "output_type": "execute_result"
    }
   ],
   "source": [
    "data = pd.DataFrame(digits_data['data'])\n",
    "data.head(1)"
   ]
  },
  {
   "cell_type": "markdown",
   "id": "d98d0d82",
   "metadata": {},
   "source": [
    "To reshape the image, we need to convert a training example to a numpy array \n",
    "(excluding the label column) and pass the result into that into the numpy.reshape() function:"
   ]
  },
  {
   "cell_type": "code",
   "execution_count": 6,
   "id": "284ce9e6",
   "metadata": {},
   "outputs": [
    {
     "data": {
      "text/plain": [
       "<matplotlib.image.AxesImage at 0x1f70fcceb00>"
      ]
     },
     "execution_count": 6,
     "metadata": {},
     "output_type": "execute_result"
    },
    {
     "data": {
      "image/png": "[encoded data removed]",
      "text/plain": [
       "<Figure size 432x288 with 1 Axes>"
      ]
     },
     "metadata": {
      "needs_background": "light"
     },
     "output_type": "display_data"
    }
   ],
   "source": [
    "first_image = data.iloc[0]\n",
    "np_image = first_image.values\n",
    "np_image = np_image.reshape(8,8)\n",
    "# Now that the data is in the right shape, we can visualize it using pyplot.imshow() function:\n",
    "plt.imshow(np_image, cmap='gray_r')"
   ]
  },
  {
   "cell_type": "markdown",
   "id": "7afd03c4",
   "metadata": {},
   "source": [
    "We will use matplotlib to visualize some of the images in the dataset:"
   ]
  },
  {
   "cell_type": "code",
   "execution_count": 7,
   "id": "629a5ea9",
   "metadata": {},
   "outputs": [
    {
     "data": {
      "text/plain": [
       "<matplotlib.image.AxesImage at 0x1f7100b5cc0>"
      ]
     },
     "execution_count": 7,
     "metadata": {},
     "output_type": "execute_result"
    },
    {
     "data": {
      "image/png": "[encoded data removed]",
      "text/plain": [
       "<Figure size 432x288 with 8 Axes>"
      ]
     },
     "metadata": {
      "needs_background": "light"
     },
     "output_type": "display_data"
    }
   ],
   "source": [
    "f, axarr = plt.subplots(2, 4)\n",
    "\n",
    "axarr[0, 0].imshow(data.iloc[0].values.reshape(8,8), cmap='gray_r')\n",
    "axarr[0, 1].imshow(data.iloc[99].values.reshape(8,8), cmap='gray_r')\n",
    "axarr[0, 2].imshow(data.iloc[199].values.reshape(8,8), cmap='gray_r')\n",
    "axarr[0, 3].imshow(data.iloc[299].values.reshape(8,8), cmap='gray_r')\n",
    "\n",
    "axarr[1, 0].imshow(data.iloc[999].values.reshape(8,8), cmap='gray_r')\n",
    "axarr[1, 1].imshow(data.iloc[1099].values.reshape(8,8), cmap='gray_r')\n",
    "axarr[1, 2].imshow(data.iloc[1199].values.reshape(8,8), cmap='gray_r')\n",
    "axarr[1, 3].imshow(data.iloc[1299].values.reshape(8,8), cmap='gray_r')"
   ]
  },
  {
   "cell_type": "markdown",
   "id": "2b2d1bc4",
   "metadata": {},
   "source": [
    "### K-Nearest Neighbors Model"
   ]
  },
  {
   "cell_type": "markdown",
   "id": "90c79360",
   "metadata": {},
   "source": [
    "While linear and logistic regression models make assumptions about the linearity between the features and the output labels, the k-nearest neighbors algorithm make no such assumption. This allows them to capture nonlinearity in the data. The k-nearest neighbors algorithm compares every unseen observation in the test set to all (or many, as some implementations constrain the search space) training observations to look for similar (or the \"nearest\") observations. Then, the algorithm finds the label with the most nearby observations and assigns that as the prediction for the unseen observation."
   ]
  },
  {
   "cell_type": "code",
   "execution_count": 8,
   "id": "de29128c",
   "metadata": {},
   "outputs": [],
   "source": [
    "from sklearn.neighbors import KNeighborsClassifier\n",
    "from sklearn.model_selection import KFold\n",
    "from sklearn.metrics import accuracy_score\n",
    "\n",
    "# 50% Train / test validation\n",
    "def train_knn(nneighbors, train_features, train_labels):\n",
    "    knn = KNeighborsClassifier(n_neighbors = nneighbors)\n",
    "    knn.fit(train_features, train_labels)\n",
    "    return knn\n",
    "\n",
    "def test(model, test_features, test_labels):\n",
    "    predictions = model.predict(test_features)\n",
    "    train_test_df = pd.DataFrame()\n",
    "    train_test_df['correct_label'] = test_labels\n",
    "    train_test_df['predicted_label'] = predictions\n",
    "    overall_accuracy = accuracy_score(test_labels, predictions)\n",
    "    return overall_accuracy\n",
    "\n",
    "def cross_validate(k, df, target):\n",
    "    kf = KFold(n_splits=4)\n",
    "    train_accuracies = []\n",
    "    test_accuracies = []\n",
    "    for train_index, test_index in kf.split(df):\n",
    "        train_features, test_features = df.loc[train_index], df.loc[test_index]\n",
    "        train_target, test_target = target.loc[train_index], target.loc[test_index]\n",
    "\n",
    "        knc = train_knn(k, train_features, train_target)\n",
    "        train_accuracy = test(knc, train_features, train_target)\n",
    "        test_accuracy = test(knc, test_features, test_target)\n",
    "        train_accuracies.append(train_accuracy)\n",
    "        test_accuracies.append(test_accuracy)\n",
    "    \n",
    "    return train_accuracies, test_accuracies\n",
    "        "
   ]
  },
  {
   "cell_type": "code",
   "execution_count": 9,
   "id": "c04e1952",
   "metadata": {},
   "outputs": [
    {
     "data": {
      "text/plain": [
       "<matplotlib.legend.Legend at 0x1f7134971c0>"
      ]
     },
     "execution_count": 9,
     "metadata": {},
     "output_type": "execute_result"
    },
    {
     "data": {
      "image/png": "[encoded data removed]",
      "text/plain": [
       "<Figure size 432x288 with 1 Axes>"
      ]
     },
     "metadata": {
      "needs_background": "light"
     },
     "output_type": "display_data"
    }
   ],
   "source": [
    "k_values = list(range(1,10))\n",
    "train_mean_accuracies = []\n",
    "test_mean_accuracies = []\n",
    "for k in k_values:\n",
    "    train_accuracies, test_accuracies = cross_validate(k, data, labels)\n",
    "    train_mean_accuracies.append(np.mean(train_accuracies))\n",
    "    test_mean_accuracies.append(np.mean(test_accuracies))\n",
    "x = range(1, 10)\n",
    "y = train_mean_accuracies\n",
    "plt.plot(x, y, color = 'orange', label = 'train')\n",
    "y = test_mean_accuracies\n",
    "plt.plot(x, y, color = 'green', label = 'test')\n",
    "\n",
    "plt.xlabel('Number of neighbors')\n",
    "plt.ylabel('Mean of accuracy')\n",
    "plt.title('K-nearest neighbors accuracy')\n",
    "plt.legend(bbox_to_anchor=(1.2,1), borderaxespad=0)"
   ]
  },
  {
   "cell_type": "code",
   "execution_count": 10,
   "id": "e1bc27f2",
   "metadata": {},
   "outputs": [
    {
     "data": {
      "text/plain": [
       "[0.9677233358079684,\n",
       " 0.9616010888393962,\n",
       " 0.9627183865379857,\n",
       " 0.9649480326651819,\n",
       " 0.9627233358079683,\n",
       " 0.9588270230141054,\n",
       " 0.9571591190299431,\n",
       " 0.9571578817124474,\n",
       " 0.9543801039346697]"
      ]
     },
     "execution_count": 10,
     "metadata": {},
     "output_type": "execute_result"
    }
   ],
   "source": [
    "test_mean_accuracies"
   ]
  },
  {
   "cell_type": "markdown",
   "id": "5f70a8b5",
   "metadata": {},
   "source": [
    "Using k-nearest neighbors we got an accuracy of 96.7%. However there are a few downsides to using this algorithm:\n",
    "* high memory usage (for each new unseen observation, many comparisons need to be made to seen observations)\n",
    "* no model representation to debug and explore"
   ]
  },
  {
   "cell_type": "markdown",
   "id": "a1651f8c",
   "metadata": {},
   "source": [
    "### Neural Network With One Hidden Layer"
   ]
  },
  {
   "cell_type": "markdown",
   "id": "1e6938b1",
   "metadata": {},
   "source": [
    "Let's now try a neural network with a single hidden layer. We will use th MLPClassifier"
   ]
  },
  {
   "cell_type": "code",
   "execution_count": 11,
   "id": "f923b9b0",
   "metadata": {},
   "outputs": [],
   "source": [
    "from sklearn.neural_network import MLPClassifier\n",
    "def train_nn(neuron_arch, train_features, train_target):\n",
    "    mlp = MLPClassifier(hidden_layer_sizes=neuron_arch, max_iter=1300)\n",
    "    mlp.fit(train_features, train_target)\n",
    "    return mlp\n",
    "    \n",
    "def test(model, test_features, test_target):\n",
    "    predictions = model.predict(test_features)\n",
    "    train_result = pd.DataFrame()\n",
    "    train_result['true_result'] = test_target\n",
    "    train_result['prediction'] = predictions\n",
    "    accuracy = sum(train_result[\"prediction\"] == train_result[\"true_result\"])/len(train_result)    \n",
    "    return accuracy\n",
    " \n",
    "def cross_validate(n_neurons, df, target):\n",
    "    kf = KFold(n_splits=4)\n",
    "    accuracies = []\n",
    "    for train_index, test_index in kf.split(df):\n",
    "        train_features, test_features = df.loc[train_index], df.loc[test_index]\n",
    "        train_target, test_target = target.loc[train_index], target.loc[test_index]\n",
    "\n",
    "        model = train_nn(n_neurons, train_features, train_target)\n",
    "        accuracy = test(model, test_features, test_target)\n",
    "        accuracies.append(accuracy)    \n",
    "    return accuracies\n",
    "\n",
    "\n"
   ]
  },
  {
   "cell_type": "markdown",
   "id": "5cc7a21c",
   "metadata": {},
   "source": [
    "Using 4-fold cross validation we will:\n",
    "\n",
    "* Train and test a neural network model using a single hidden layer of 8 neurons.\n",
    "* Train and test a neural network model using a single hidden layer of 16 neurons.\n",
    "* Train and test a neural network model using a single hidden layer of 32 neurons.\n",
    "* Train and test a neural network model using a single hidden layer of 64 neurons.\n",
    "* Train and test a neural network model using a single hidden layer of 128 neurons.\n",
    "* Train and test a neural network model using a single hidden layer of 256 neurons.\n",
    "\n",
    "After this, we will rank the performance of the models by the overall test accuracies."
   ]
  },
  {
   "cell_type": "code",
   "execution_count": 12,
   "id": "df574c40",
   "metadata": {},
   "outputs": [
    {
     "data": {
      "text/plain": [
       "Text(0.5, 1.0, 'Neural Network with single hidden layer (test set)')"
      ]
     },
     "execution_count": 12,
     "metadata": {},
     "output_type": "execute_result"
    },
    {
     "data": {
      "image/png": "[encoded data removed]",
      "text/plain": [
       "<Figure size 432x288 with 1 Axes>"
      ]
     },
     "metadata": {
      "needs_background": "light"
     },
     "output_type": "display_data"
    }
   ],
   "source": [
    "neurons = [(8,),\n",
    "          (16,),\n",
    "          (32,),\n",
    "          (64,),\n",
    "          (128,),\n",
    "          (256,)]\n",
    "mean_accuracies = []\n",
    "for n in neurons:\n",
    "    accuracies = cross_validate(n, data, labels)\n",
    "    mean_accuracies.append(np.mean(accuracies))\n",
    "x = [i[0] for i in neurons]\n",
    "y = mean_accuracies\n",
    "plt.plot(x, y)\n",
    "plt.xlabel('Number of neorons')\n",
    "plt.ylabel('Mean of accuracy')\n",
    "plt.title('Neural Network with single hidden layer (test set)')"
   ]
  },
  {
   "cell_type": "markdown",
   "id": "f25b7a86",
   "metadata": {},
   "source": [
    "We can see that by increasing the number of neurons in a single layer neural network, accuracy also increased. Next, for each model, we will compute and visualize the performance for both the train and test sets to understand how they diverged. Models that overfit tend to perform well on the train set but poorly on the test set."
   ]
  },
  {
   "cell_type": "code",
   "execution_count": 13,
   "id": "b5cac6c0",
   "metadata": {},
   "outputs": [
    {
     "name": "stdout",
     "output_type": "stream",
     "text": [
      "mean_train_accuracies =  0.9996289424349968\n",
      "mean_test_accuracies =  0.8914922048997772\n"
     ]
    }
   ],
   "source": [
    "def cross_validate(n_neurons, df, target, nsplits = 4):\n",
    "    kf = KFold(n_splits=nsplits)\n",
    "    train_accuracies = []\n",
    "    test_accuracies = []\n",
    "    for train_index, test_index in kf.split(df):\n",
    "        train_features, test_features = df.loc[train_index], df.loc[test_index]\n",
    "        train_target, test_target = target.loc[train_index], target.loc[test_index]\n",
    "\n",
    "        model = train_nn(n_neurons, train_features, train_target)\n",
    "        train_accuracy = test(model, train_features, train_target)\n",
    "        test_accuracy = test(model, test_features, test_target)\n",
    "        train_accuracies.append(train_accuracy) \n",
    "        test_accuracies.append(test_accuracy) \n",
    "    return train_accuracies, test_accuracies\n",
    "train_accuracies, test_accuracies = cross_validate((8,), data, labels)\n",
    "mean_train_accuracies = np.mean(train_accuracies)\n",
    "mean_test_accuracies = np.mean(test_accuracies)\n",
    "print(\"mean_train_accuracies = \", mean_train_accuracies)\n",
    "print(\"mean_test_accuracies = \", mean_test_accuracies)"
   ]
  },
  {
   "cell_type": "code",
   "execution_count": 14,
   "id": "e2e8caba",
   "metadata": {},
   "outputs": [],
   "source": [
    "def run_draw_nn(neurons, plt_title, nsplits = 4):\n",
    "    train_mean_accuracies = []\n",
    "    test_mean_accuracies = []\n",
    "    for n in neurons:\n",
    "        train_accuracies, test_accuracies = cross_validate(n, data, labels, nsplits)\n",
    "        train_mean_accuracies.append(np.mean(train_accuracies))\n",
    "        test_mean_accuracies.append(np.mean(test_accuracies))\n",
    "    x = [i[0] for i in neurons]\n",
    "    y = train_mean_accuracies\n",
    "    plt.plot(x, y, color = 'orange', label = 'train')\n",
    "    y = test_mean_accuracies\n",
    "    plt.plot(x, y, color = 'green', label = 'test')\n",
    "    plt.xlabel('Number of neorons')\n",
    "    plt.ylabel('Mean of accuracy')\n",
    "    plt.title(plt_title)\n",
    "    plt.legend(bbox_to_anchor=(1.2,1), borderaxespad=0)\n",
    "    return train_mean_accuracies, test_mean_accuracies"
   ]
  },
  {
   "cell_type": "code",
   "execution_count": 15,
   "id": "4007f5df",
   "metadata": {},
   "outputs": [
    {
     "data": {
      "image/png": "[encoded data removed]",
      "text/plain": [
       "<Figure size 432x288 with 1 Axes>"
      ]
     },
     "metadata": {
      "needs_background": "light"
     },
     "output_type": "display_data"
    }
   ],
   "source": [
    "train_mean_accuracies, test_mean_accuracies = run_draw_nn(neurons, 'Neural Network with single hidden layer')"
   ]
  },
  {
   "cell_type": "code",
   "execution_count": 16,
   "id": "bb159e8c",
   "metadata": {},
   "outputs": [
    {
     "data": {
      "text/plain": [
       "[0.9020477604553329,\n",
       " 0.9187465973768869,\n",
       " 0.9410121257114575,\n",
       " 0.9248725562979461,\n",
       " 0.9499170997277901,\n",
       " 0.9549282355852512]"
      ]
     },
     "execution_count": 16,
     "metadata": {},
     "output_type": "execute_result"
    }
   ],
   "source": [
    "test_mean_accuracies"
   ]
  },
  {
   "cell_type": "markdown",
   "id": "bd5e3d9e",
   "metadata": {},
   "source": [
    "It looks like adding more neurons to the single hidden layer improved simple accuracy to approximately 95.4%"
   ]
  },
  {
   "cell_type": "markdown",
   "id": "333e551a",
   "metadata": {},
   "source": [
    "### Neural Network with Two Hidden Layers"
   ]
  },
  {
   "cell_type": "markdown",
   "id": "ac2b4ad5",
   "metadata": {},
   "source": [
    "Let's try using two hidden layers and continue to increase the number of neurons in each layer. We know that adding more layers to a network and adding more neurons in the hidden layers can improve the model's ability to learn more complex relationships. We will modify the neural network training pipeline to use 2 hidden layers instead in the network."
   ]
  },
  {
   "cell_type": "code",
   "execution_count": 17,
   "id": "b2d88d03",
   "metadata": {},
   "outputs": [
    {
     "data": {
      "image/png": "[encoded data removed]",
      "text/plain": [
       "<Figure size 432x288 with 1 Axes>"
      ]
     },
     "metadata": {
      "needs_background": "light"
     },
     "output_type": "display_data"
    }
   ],
   "source": [
    "nn_two_neurons = [\n",
    "    (64,64),\n",
    "    (128, 128),\n",
    "    (256, 256)]\n",
    "train_mean_accuracies, test_mean_accuracies = run_draw_nn(nn_two_neurons, 'Neural Network with two hidden layers')"
   ]
  },
  {
   "cell_type": "code",
   "execution_count": 18,
   "id": "b6f7cc17",
   "metadata": {},
   "outputs": [
    {
     "data": {
      "text/plain": [
       "[0.9404479089334323, 0.9504689433308586, 0.9643763919821826]"
      ]
     },
     "execution_count": 18,
     "metadata": {},
     "output_type": "execute_result"
    }
   ],
   "source": [
    "test_mean_accuracies"
   ]
  },
  {
   "cell_type": "markdown",
   "id": "d67c5809",
   "metadata": {},
   "source": [
    "Using two hidden layers improved our simple accuracy to 96.4%"
   ]
  },
  {
   "cell_type": "markdown",
   "id": "9adb5ec6",
   "metadata": {},
   "source": [
    "### Neural Network with Three Hidden Layers"
   ]
  },
  {
   "cell_type": "markdown",
   "id": "3eb5b0fe",
   "metadata": {},
   "source": [
    "Using more hidden layers is known to increase the amount of overfitting that happens. To help us prevent overfitting, let's increase the number of folds we use for k-fold cross validation to 6 while testing networks with 3 hidden layers."
   ]
  },
  {
   "cell_type": "markdown",
   "id": "af0bf65c",
   "metadata": {},
   "source": [
    "Next we will:\n",
    "\n",
    "Train a neural network model using 3 hidden layers:\n",
    "* 10 neurons in the first hidden layer.\n",
    "* 10 neurons in the second hidden layer.\n",
    "* 10 neurons in the third hidden layer.\n",
    "\n",
    "\n",
    "Train a neural network model using 3 hidden layers:\n",
    "* 64 neurons in the first hidden layer.\n",
    "* 64 neurons in the second hidden layer.\n",
    "* 64 neurons in the third hidden layer.\n",
    "\n",
    "\n",
    "Train a neural network model using 3 hidden layers:\n",
    "* 128 neurons in the first hidden layer.\n",
    "* 128 neurons in the second hidden layer.\n",
    "* 128 neurons in the third hidden layer."
   ]
  },
  {
   "cell_type": "code",
   "execution_count": 19,
   "id": "d47e9ab8",
   "metadata": {},
   "outputs": [
    {
     "data": {
      "image/png": "[encoded data removed]",
      "text/plain": [
       "<Figure size 432x288 with 1 Axes>"
      ]
     },
     "metadata": {
      "needs_background": "light"
     },
     "output_type": "display_data"
    }
   ],
   "source": [
    "nn_three_neurons = [\n",
    "    (10, 10, 10),\n",
    "    (64, 64, 64),\n",
    "    (128, 128, 128)\n",
    "]\n",
    "\n",
    "train_mean_accuracies, test_mean_accuracies = run_draw_nn(nn_three_neurons, 'Neural Network with two hidden layers', 6)"
   ]
  },
  {
   "cell_type": "code",
   "execution_count": 20,
   "id": "b6206e39",
   "metadata": {},
   "outputs": [
    {
     "data": {
      "text/plain": [
       "[0.8970382757339279, 0.9482552954292084, 0.953270159791899]"
      ]
     },
     "execution_count": 20,
     "metadata": {},
     "output_type": "execute_result"
    }
   ],
   "source": [
    "test_mean_accuracies"
   ]
  },
  {
   "cell_type": "markdown",
   "id": "8564242c",
   "metadata": {},
   "source": [
    "Using three hidden layers returned a simple accuracy of nearly 95.3%, even with six-fold cross validation."
   ]
  },
  {
   "cell_type": "markdown",
   "id": "32b92176",
   "metadata": {},
   "source": [
    "### Conclusion"
   ]
  },
  {
   "cell_type": "markdown",
   "id": "06ac39ce",
   "metadata": {},
   "source": [
    "In this project we used different models to classify handwritten digits. We got the best accuracy with a neural network model that uses two hidden layers with 256 neurons in the first hidden layer and 256 neurons in the second hidden layer."
   ]
  }
 ],
 "metadata": {
  "kernelspec": {
   "display_name": "Python 3 (ipykernel)",
   "language": "python",
   "name": "python3"
  },
  "language_info": {
   "codemirror_mode": {
    "name": "ipython",
    "version": 3
   },
   "file_extension": ".py",
   "mimetype": "text/x-python",
   "name": "python",
   "nbconvert_exporter": "python",
   "pygments_lexer": "ipython3",
   "version": "3.10.4"
  }
 },
 "nbformat": 4,
 "nbformat_minor": 5
}
